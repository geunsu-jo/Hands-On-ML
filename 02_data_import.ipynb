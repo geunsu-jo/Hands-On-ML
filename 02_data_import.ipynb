{
  "nbformat": 4,
  "nbformat_minor": 0,
  "metadata": {
    "colab": {
      "name": "02-data_import",
      "provenance": [],
      "authorship_tag": "ABX9TyOcAzuiu/3ugYmrRFsl8C1S",
      "include_colab_link": true
    },
    "kernelspec": {
      "name": "python3",
      "display_name": "Python 3"
    }
  },
  "cells": [
    {
      "cell_type": "markdown",
      "metadata": {
        "id": "view-in-github",
        "colab_type": "text"
      },
      "source": [
        "<a href=\"https://colab.research.google.com/github/geunsu-jo/Hands-On-ML/blob/main/02_data_import.ipynb\" target=\"_parent\"><img src=\"https://colab.research.google.com/assets/colab-badge.svg\" alt=\"Open In Colab\"/></a>"
      ]
    },
    {
      "cell_type": "code",
      "metadata": {
        "id": "LpkRHYwqfOY3"
      },
      "source": [
        "import os\r\n",
        "import tarfile\r\n",
        "import urllib\r\n",
        "\r\n",
        "DOWNLOAD_ROOT = \"https//raw.githubusercontent.com/ageron/handson-ml2/master/\"\r\n",
        "HOUSING_PATH = os.path.join(\"datasets\", \"housing\")\r\n",
        "HOUSING_URL = DOWNLOAD_ROOT + \"dataset/housing/housing.tgz\""
      ],
      "execution_count": 2,
      "outputs": []
    },
    {
      "cell_type": "code",
      "metadata": {
        "colab": {
          "base_uri": "https://localhost:8080/",
          "height": 35
        },
        "id": "cmiGGWcuuJus",
        "outputId": "7c058f30-54c5-4af3-f8fc-cd4c0dcb5980"
      },
      "source": [
        "def fetch_housing_Data(housing_url)"
      ],
      "execution_count": 6,
      "outputs": [
        {
          "output_type": "execute_result",
          "data": {
            "application/vnd.google.colaboratory.intrinsic+json": {
              "type": "string"
            },
            "text/plain": [
              "'datasets/housing'"
            ]
          },
          "metadata": {
            "tags": []
          },
          "execution_count": 6
        }
      ]
    },
    {
      "cell_type": "code",
      "metadata": {
        "id": "p4Vkz8yCujj8"
      },
      "source": [
        ""
      ],
      "execution_count": null,
      "outputs": []
    }
  ]
}