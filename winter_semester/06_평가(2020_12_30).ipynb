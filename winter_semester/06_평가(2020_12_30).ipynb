{
  "nbformat": 4,
  "nbformat_minor": 0,
  "metadata": {
    "colab": {
      "name": "06_평가(2020.12.30).ipynb",
      "provenance": [],
      "collapsed_sections": [],
      "include_colab_link": true
    },
    "kernelspec": {
      "name": "python3",
      "display_name": "Python 3"
    }
  },
  "cells": [
    {
      "cell_type": "markdown",
      "metadata": {
        "id": "view-in-github",
        "colab_type": "text"
      },
      "source": [
        "<a href=\"https://colab.research.google.com/github/geunsu-jo/Hands-On-ML/blob/main/winter_semester/06_%ED%8F%89%EA%B0%80(2020_12_30).ipynb\" target=\"_parent\"><img src=\"https://colab.research.google.com/assets/colab-badge.svg\" alt=\"Open In Colab\"/></a>"
      ]
    },
    {
      "cell_type": "markdown",
      "metadata": {
        "id": "RERI3lNrXj6s"
      },
      "source": [
        "# 평가"
      ]
    },
    {
      "cell_type": "code",
      "metadata": {
        "id": "r7AT7zzHXouY"
      },
      "source": [
        "import numpy as np"
      ],
      "execution_count": null,
      "outputs": []
    },
    {
      "cell_type": "code",
      "metadata": {
        "id": "2gQMMwpnXrq-"
      },
      "source": [
        "from sklearn.datasets import load_boston, load_breast_cancer\r\n",
        "from sklearn.model_selection import train_test_split\r\n",
        "from sklearn.svm import SVC, SVR"
      ],
      "execution_count": null,
      "outputs": []
    },
    {
      "cell_type": "markdown",
      "metadata": {
        "id": "K1WSsQLhXkBj"
      },
      "source": [
        "## 회귀"
      ]
    },
    {
      "cell_type": "code",
      "metadata": {
        "id": "623cmpmYX81P"
      },
      "source": [
        "X, y = load_boston(return_X_y=True)\r\n",
        "X_train, X_test, y_train, y_test = train_test_split(X, y)"
      ],
      "execution_count": null,
      "outputs": []
    },
    {
      "cell_type": "code",
      "metadata": {
        "colab": {
          "base_uri": "https://localhost:8080/"
        },
        "id": "cKxZFo85YFKF",
        "outputId": "85f9e45b-d912-4d11-8c0d-84d46fc1e3dd"
      },
      "source": [
        "model = SVR(kernel='linear')\r\n",
        "model.fit(X_train, y_train)"
      ],
      "execution_count": null,
      "outputs": [
        {
          "output_type": "execute_result",
          "data": {
            "text/plain": [
              "SVR(C=1.0, cache_size=200, coef0=0.0, degree=3, epsilon=0.1, gamma='scale',\n",
              "    kernel='linear', max_iter=-1, shrinking=True, tol=0.001, verbose=False)"
            ]
          },
          "metadata": {
            "tags": []
          },
          "execution_count": 5
        }
      ]
    },
    {
      "cell_type": "code",
      "metadata": {
        "colab": {
          "base_uri": "https://localhost:8080/"
        },
        "id": "QoqaZqVgYWpW",
        "outputId": "7cd15575-3bfd-406c-d079-c6a7589bc25c"
      },
      "source": [
        "print(f\"학습 : {model.score(X_train, y_train)}\")\r\n",
        "print(f\"예측 : {model.score(X_test, y_test)}\")"
      ],
      "execution_count": null,
      "outputs": [
        {
          "output_type": "stream",
          "text": [
            "학습 : 0.7047992142321096\n",
            "예측 : 0.6632127479839143\n"
          ],
          "name": "stdout"
        }
      ]
    },
    {
      "cell_type": "code",
      "metadata": {
        "id": "0mWAQ9U5YNvJ"
      },
      "source": [
        "# 예측\r\n",
        "predict = model.predict(X_test)"
      ],
      "execution_count": null,
      "outputs": []
    },
    {
      "cell_type": "code",
      "metadata": {
        "colab": {
          "base_uri": "https://localhost:8080/"
        },
        "id": "hZqCuWPjYkBd",
        "outputId": "233521ae-bd69-48f7-f2c0-7ef7a838a839"
      },
      "source": [
        "from sklearn.metrics import mean_absolute_error, mean_squared_error\r\n",
        "\r\n",
        "print(f\"mean_absolute_error : {mean_absolute_error(y_test, predict)}\")\r\n",
        "print(f\"mean_squared_error : {mean_squared_error(y_test, predict)}\")\r\n",
        "# RMSE\r\n",
        "print(f\"root_mean_squared_error : {np.sqrt(mean_squared_error(y_test, predict))}\")"
      ],
      "execution_count": null,
      "outputs": [
        {
          "output_type": "stream",
          "text": [
            "mean_absolute_error : 3.3540477429148856\n",
            "mean_squared_error : 28.741186462963977\n",
            "root_mean_squared_error : 5.361080717818375\n"
          ],
          "name": "stdout"
        }
      ]
    },
    {
      "cell_type": "markdown",
      "metadata": {
        "id": "FeS2eM3IXkDr"
      },
      "source": [
        "## 분류"
      ]
    },
    {
      "cell_type": "code",
      "metadata": {
        "id": "UN_TQ_URXneR"
      },
      "source": [
        "X, y = load_breast_cancer(return_X_y=True)\r\n",
        "X_train, X_test, y_train, y_test = train_test_split(X, y)\r\n",
        "\r\n",
        "# ROC/AUC 곡선을 그리기 위해서 확률계산이 필요하므로 probability=True를 지정해주세욤 :D\r\n",
        "model = SVC(kernel='linear', probability=True)\r\n",
        "model.fit(X_train, y_train)\r\n",
        "\r\n",
        "predict = model.predict(X_test)"
      ],
      "execution_count": null,
      "outputs": []
    },
    {
      "cell_type": "code",
      "metadata": {
        "colab": {
          "base_uri": "https://localhost:8080/",
          "height": 425
        },
        "id": "COgk5lTpZdko",
        "outputId": "65e0057f-476b-4192-d9ef-da063b7cc94a"
      },
      "source": [
        "from sklearn.metrics import accuracy_score, confusion_matrix\r\n",
        "from sklearn.metrics import precision_score, recall_score, f1_score\r\n",
        "from sklearn.metrics import roc_curve, roc_auc_score\r\n",
        "# 1. 정확도\r\n",
        "print(f\"accuracy_score : {accuracy_score(y_test, predict)}\")\r\n",
        "\r\n",
        "# 2. 오차행렬\r\n",
        "conf_matrix = confusion_matrix(y_true=y_test, y_pred=predict)\r\n",
        "print(conf_matrix)\r\n",
        "\r\n",
        "# 3. 정밀도와 재현율\r\n",
        "print(f\"precision_score : {precision_score(y_test, predict)}\")\r\n",
        "print(f\"recall_score : {recall_score(y_test, predict)}\")\r\n",
        "\r\n",
        "# 4. F1-score\r\n",
        "print(f\"f1_score : {f1_score(y_test, predict)}\")\r\n",
        "\r\n",
        "# 5. ROC/AUC\r\n",
        "print(f\"roc_auc_score : {roc_auc_score(y_test, predict)}\")\r\n",
        "\r\n",
        "import matplotlib.pyplot as plt\r\n",
        "\r\n",
        "# 분류가 1인 친구들 모음\r\n",
        "pred_proba_class1 = model.predict_proba(X_test)[:, 1]\r\n",
        "fprs, tprs, thresholds = roc_curve(y_test, pred_proba_class1)\r\n",
        "\r\n",
        "# 시각화 시작\r\n",
        "plt.plot(fprs, tprs, label='ROC')\r\n",
        "plt.plot([0,1], [0,1], label='random')\r\n",
        "plt.xlim(0,1)\r\n",
        "plt.ylim(0,1)\r\n",
        "plt.xlabel('FPR')\r\n",
        "plt.ylabel('TPR')\r\n",
        "plt.legend()"
      ],
      "execution_count": null,
      "outputs": [
        {
          "output_type": "stream",
          "text": [
            "accuracy_score : 0.951048951048951\n",
            "[[49  2]\n",
            " [ 5 87]]\n",
            "precision_score : 0.9775280898876404\n",
            "recall_score : 0.9456521739130435\n",
            "f1_score : 0.9613259668508287\n",
            "roc_auc_score : 0.9532182438192668\n"
          ],
          "name": "stdout"
        },
        {
          "output_type": "execute_result",
          "data": {
            "text/plain": [
              "<matplotlib.legend.Legend at 0x7f2d3fd15358>"
            ]
          },
          "metadata": {
            "tags": []
          },
          "execution_count": 23
        },
        {
          "output_type": "display_data",
          "data": {
            "image/png": "[encoded data removed]",
            "text/plain": [
              "<Figure size 432x288 with 1 Axes>"
            ]
          },
          "metadata": {
            "tags": [],
            "needs_background": "light"
          }
        }
      ]
    },
    {
      "cell_type": "code",
      "metadata": {
        "id": "OSRD8EWqaNSE"
      },
      "source": [
        ""
      ],
      "execution_count": null,
      "outputs": []
    }
  ]
}