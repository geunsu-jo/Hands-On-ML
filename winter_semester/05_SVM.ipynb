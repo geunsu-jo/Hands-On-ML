{
  "nbformat": 4,
  "nbformat_minor": 0,
  "metadata": {
    "colab": {
      "name": "05_SVM.ipynb",
      "provenance": [],
      "collapsed_sections": [],
      "toc_visible": true,
      "authorship_tag": "ABX9TyPrPO1DyzbGxGTuZUR6BYre",
      "include_colab_link": true
    },
    "kernelspec": {
      "name": "python3",
      "display_name": "Python 3"
    }
  },
  "cells": [
    {
      "cell_type": "markdown",
      "metadata": {
        "id": "view-in-github",
        "colab_type": "text"
      },
      "source": [
        "<a href=\"https://colab.research.google.com/github/geunsu-jo/Hands-On-ML/blob/main/winter_semester/05_SVM.ipynb\" target=\"_parent\"><img src=\"https://colab.research.google.com/assets/colab-badge.svg\" alt=\"Open In Colab\"/></a>"
      ]
    },
    {
      "cell_type": "markdown",
      "metadata": {
        "id": "CKyQgoskF0DB"
      },
      "source": [
        "#SVM"
      ]
    },
    {
      "cell_type": "code",
      "metadata": {
        "id": "Gr4Hs9ULG0cR"
      },
      "source": [
        "# 사용할 데이터(정제가 된 데이터)\r\n",
        "from sklearn.datasets import load_boston, load_breast_cancer\r\n",
        "\r\n",
        "# 머신러닝용 데이터 (train, test)\r\n",
        "from sklearn.model_selection import train_test_split\r\n",
        "\r\n",
        "# 사용할 모델\r\n",
        "from sklearn.svm import SVC, SVR"
      ],
      "execution_count": 2,
      "outputs": []
    },
    {
      "cell_type": "markdown",
      "metadata": {
        "id": "B-j5EgNvF9OK"
      },
      "source": [
        "## 분류 (SVC)"
      ]
    },
    {
      "cell_type": "code",
      "metadata": {
        "colab": {
          "base_uri": "https://localhost:8080/"
        },
        "id": "bzdF__Q4HhTD",
        "outputId": "5967ccd1-19ce-4198-9ed5-b013ba5a579f"
      },
      "source": [
        "# 1. 데이터셋을 불러와야 함\r\n",
        "# breast_cancer = load_breast_cancer() 이방법이 귀찮으니 다음과 같이 할 수도 있다.\r\n",
        "X, y = load_breast_cancer(return_X_y= True)\r\n",
        "X.shape, y.shape"
      ],
      "execution_count": 36,
      "outputs": [
        {
          "output_type": "execute_result",
          "data": {
            "text/plain": [
              "((569, 30), (569,))"
            ]
          },
          "metadata": {
            "tags": []
          },
          "execution_count": 36
        }
      ]
    },
    {
      "cell_type": "code",
      "metadata": {
        "colab": {
          "base_uri": "https://localhost:8080/"
        },
        "id": "mqkdxzr5IdLo",
        "outputId": "43c4ea84-d117-4270-c236-dbc7a0585d26"
      },
      "source": [
        "# 2. train/ test 나눠야함\r\n",
        "X_train, X_test, y_train, y_test = train_test_split(X, y)\r\n",
        "X_train.shape, X_test.shape, y_train.shape, y_test.shape"
      ],
      "execution_count": 37,
      "outputs": [
        {
          "output_type": "execute_result",
          "data": {
            "text/plain": [
              "((426, 30), (143, 30), (426,), (143,))"
            ]
          },
          "metadata": {
            "tags": []
          },
          "execution_count": 37
        }
      ]
    },
    {
      "cell_type": "code",
      "metadata": {
        "colab": {
          "base_uri": "https://localhost:8080/"
        },
        "id": "BnGDabCzI6ad",
        "outputId": "a924d75a-8c66-49a5-b452-22cd7a442b05"
      },
      "source": [
        "# 3. 학습\r\n",
        "svc_model = SVC(kernel=\"linear\")\r\n",
        "svc_model.fit(X_train, y_train)"
      ],
      "execution_count": 38,
      "outputs": [
        {
          "output_type": "execute_result",
          "data": {
            "text/plain": [
              "SVC(C=1.0, break_ties=False, cache_size=200, class_weight=None, coef0=0.0,\n",
              "    decision_function_shape='ovr', degree=3, gamma='scale', kernel='linear',\n",
              "    max_iter=-1, probability=False, random_state=None, shrinking=True,\n",
              "    tol=0.001, verbose=False)"
            ]
          },
          "metadata": {
            "tags": []
          },
          "execution_count": 38
        }
      ]
    },
    {
      "cell_type": "code",
      "metadata": {
        "colab": {
          "base_uri": "https://localhost:8080/"
        },
        "id": "NKa4OHSaI8A5",
        "outputId": "af224e4a-99fc-4a08-a356-dffa043e43ff"
      },
      "source": [
        "# 4. 평가\r\n",
        "print(f\"학습 : {svc_model.score(X_train, y_train)}\") # score는 accuracy\r\n",
        "print(f\"예측 : {svc_model.score(X_test, y_test)}\")"
      ],
      "execution_count": 39,
      "outputs": [
        {
          "output_type": "stream",
          "text": [
            "학습 : 0.9647887323943662\n",
            "예측 : 0.951048951048951\n"
          ],
          "name": "stdout"
        }
      ]
    },
    {
      "cell_type": "markdown",
      "metadata": {
        "id": "w1dsv3AfF-VB"
      },
      "source": [
        "## 회귀"
      ]
    },
    {
      "cell_type": "code",
      "metadata": {
        "id": "jceSb_0yKfiM"
      },
      "source": [
        "# 1. 데이터 불러오기\r\n",
        "X, y = load_boston(return_X_y=True)"
      ],
      "execution_count": 40,
      "outputs": []
    },
    {
      "cell_type": "code",
      "metadata": {
        "id": "er5rV1NYKkxn"
      },
      "source": [
        "# 2.train/test\r\n",
        "X_train, X_test, y_train, y_test = train_test_split(X, y)"
      ],
      "execution_count": 41,
      "outputs": []
    },
    {
      "cell_type": "code",
      "metadata": {
        "colab": {
          "base_uri": "https://localhost:8080/"
        },
        "id": "rSt5aMYuKxZZ",
        "outputId": "bb388eeb-3a9d-49f9-bc61-7825fc63f188"
      },
      "source": [
        "# 3. 학습\r\n",
        "svr_model = SVR(kernel=\"linear\")\r\n",
        "svr_model.fit(X_train, y_train)"
      ],
      "execution_count": 42,
      "outputs": [
        {
          "output_type": "execute_result",
          "data": {
            "text/plain": [
              "SVR(C=1.0, cache_size=200, coef0=0.0, degree=3, epsilon=0.1, gamma='scale',\n",
              "    kernel='linear', max_iter=-1, shrinking=True, tol=0.001, verbose=False)"
            ]
          },
          "metadata": {
            "tags": []
          },
          "execution_count": 42
        }
      ]
    },
    {
      "cell_type": "code",
      "metadata": {
        "colab": {
          "base_uri": "https://localhost:8080/"
        },
        "id": "uS6hFi3pK7qX",
        "outputId": "3e45f13a-40fe-4a65-ee03-00bcc1817713"
      },
      "source": [
        "# 4. 평가\r\n",
        "print(f\"학습 : {svr_model.score(X_train, y_train)}\") # score는 accuracy\r\n",
        "print(f\"예측 : {svr_model.score(X_test, y_test)}\")"
      ],
      "execution_count": 43,
      "outputs": [
        {
          "output_type": "stream",
          "text": [
            "학습 : 0.6959161484520943\n",
            "예측 : 0.7026631020384548\n"
          ],
          "name": "stdout"
        }
      ]
    },
    {
      "cell_type": "markdown",
      "metadata": {
        "id": "Arc0yb65GAx5"
      },
      "source": [
        "## 비선형 SVM\r\n"
      ]
    },
    {
      "cell_type": "markdown",
      "metadata": {
        "id": "M-F4XJIsM3gM"
      },
      "source": [
        "분류"
      ]
    },
    {
      "cell_type": "code",
      "metadata": {
        "colab": {
          "base_uri": "https://localhost:8080/"
        },
        "id": "fkagiq8_M4jU",
        "outputId": "ef4e37dc-3326-4f11-e3d5-fed7e299961d"
      },
      "source": [
        "# 1. 데이터셋을 불러와야 함\r\n",
        "# breast_cancer = load_breast_cancer() 이방법이 귀찮으니 다음과 같이 할 수도 있다.\r\n",
        "X, y = load_breast_cancer(return_X_y= True)\r\n",
        "\r\n",
        "# 2. train/ test 나눠야함\r\n",
        "X_train, X_test, y_train, y_test = train_test_split(X, y)\r\n",
        "\r\n",
        "# 3-1. 다항식 특성 추가\r\n",
        "svc_model_poly = SVC(kernel=\"poly\")\r\n",
        "svc_model_poly.fit(X_train, y_train)\r\n",
        "\r\n",
        "# 3-2. 다항식 특성 추가 평가(학습/예측)\r\n",
        "print(f\"poly 학습 : {svc_model_poly.score(X_train, y_train)}\") # score는 accuracy\r\n",
        "print(f\"poly 예측 : {svc_model_poly.score(X_test, y_test)}\")\r\n",
        "\r\n",
        "# 4-1. RBF 특성 추가\r\n",
        "svc_model_rbf = SVC(kernel=\"rbf\")\r\n",
        "svc_model_rbf.fit(X_train, y_train)\r\n",
        "\r\n",
        "# 4-2. RBF 특성 추가 평가(학습/예측)\r\n",
        "print(f\"rbf 학습 : {svc_model_rbf.score(X_train, y_train)}\") # score는 accuracy\r\n",
        "print(f\"rbf 예측 : {svc_model_rbf.score(X_test, y_test)}\")"
      ],
      "execution_count": 45,
      "outputs": [
        {
          "output_type": "stream",
          "text": [
            "poly 학습 : 0.9107981220657277\n",
            "poly 예측 : 0.916083916083916\n",
            "rbf 학습 : 0.92018779342723\n",
            "rbf 예측 : 0.9230769230769231\n"
          ],
          "name": "stdout"
        }
      ]
    },
    {
      "cell_type": "markdown",
      "metadata": {
        "id": "ppqBh22lNnzV"
      },
      "source": [
        "회귀"
      ]
    },
    {
      "cell_type": "code",
      "metadata": {
        "colab": {
          "base_uri": "https://localhost:8080/"
        },
        "id": "a1XF26cANpDv",
        "outputId": "88c49b40-95c3-435e-e807-caa8c06ce8d9"
      },
      "source": [
        "# 1. 데이터셋을 불러와야 함\r\n",
        "# breast_cancer = load_breast_cancer() 이방법이 귀찮으니 다음과 같이 할 수도 있다.\r\n",
        "X, y = load_boston(return_X_y= True)\r\n",
        "\r\n",
        "# 2. train/ test 나눠야함\r\n",
        "X_train, X_test, y_train, y_test = train_test_split(X, y)\r\n",
        "\r\n",
        "# 3-1. 다항식 특성 추가\r\n",
        "svr_model_poly = SVR(kernel=\"poly\")\r\n",
        "svr_model_poly.fit(X_train, y_train)\r\n",
        "\r\n",
        "# 3-2. 다항식 특성 추가 평가(학습/예측)\r\n",
        "print(f\"poly 학습 : {svr_model_poly.score(X_train, y_train)}\") # score는 accuracy\r\n",
        "print(f\"poly 예측 : {svr_model_poly.score(X_test, y_test)}\")\r\n",
        "\r\n",
        "# 4-1. RBF 특성 추가\r\n",
        "svr_model_rbf = SVR(kernel=\"rbf\")\r\n",
        "svr_model_rbf.fit(X_train, y_train)\r\n",
        "\r\n",
        "# 4-2. RBF 특성 추가 평가(학습/예측)\r\n",
        "print(f\"rbf 학습 : {svr_model_rbf.score(X_train, y_train)}\") # score는 accuracy\r\n",
        "print(f\"rbf 예측 : {svr_model_rbf.score(X_test, y_test)}\")"
      ],
      "execution_count": 46,
      "outputs": [
        {
          "output_type": "stream",
          "text": [
            "poly 학습 : 0.18376973804634844\n",
            "poly 예측 : 0.19352642004481546\n",
            "rbf 학습 : 0.17845786552042972\n",
            "rbf 예측 : 0.19393012055806969\n"
          ],
          "name": "stdout"
        }
      ]
    },
    {
      "cell_type": "markdown",
      "metadata": {
        "id": "2RPQtXvHGL-V"
      },
      "source": [
        "### 매개변수 설정"
      ]
    },
    {
      "cell_type": "markdown",
      "metadata": {
        "id": "DHecakKtPaaD"
      },
      "source": [
        "* kernel\r\n",
        "    * poly(degree)\r\n",
        "    * rbf(gamma)\r\n",
        "        * gamma가 클수록 분포가 꼬리가 낮음\r\n",
        "        * gamma가 작으면 분포가 꼬리가 높음\r\n",
        "* hard vs soft\r\n",
        "    * C\r\n",
        "        * C를 낮게(규제 높게) > 이상치가 존재(소프트 마진) > 과소적합\r\n",
        "        * C를 높게(규제 낮게) > 이상치 없음(하드마진) > 과대적합"
      ]
    },
    {
      "cell_type": "code",
      "metadata": {
        "id": "kxmaZxrDGNh7"
      },
      "source": [
        ""
      ],
      "execution_count": null,
      "outputs": []
    },
    {
      "cell_type": "code",
      "metadata": {
        "id": "93l2ZZAxKesa"
      },
      "source": [
        ""
      ],
      "execution_count": null,
      "outputs": []
    }
  ]
}