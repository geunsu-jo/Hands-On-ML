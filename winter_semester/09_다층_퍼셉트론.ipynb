{
  "nbformat": 4,
  "nbformat_minor": 0,
  "metadata": {
    "colab": {
      "name": "09_다층 퍼셉트론.ipynb",
      "provenance": [],
      "collapsed_sections": [
        "LackBGoJ_VIe",
        "kIqVoDZt_X-I",
        "PBU398lKDZGJ",
        "9TIjzaDCEMzs",
        "ABJZrCUKEbvg"
      ],
      "include_colab_link": true
    },
    "kernelspec": {
      "name": "python3",
      "display_name": "Python 3"
    }
  },
  "cells": [
    {
      "cell_type": "markdown",
      "metadata": {
        "id": "view-in-github",
        "colab_type": "text"
      },
      "source": [
        "<a href=\"https://colab.research.google.com/github/geunsu-jo/Hands-On-ML/blob/main/winter_semester/09_%EB%8B%A4%EC%B8%B5_%ED%8D%BC%EC%85%89%ED%8A%B8%EB%A1%A0.ipynb\" target=\"_parent\"><img src=\"https://colab.research.google.com/assets/colab-badge.svg\" alt=\"Open In Colab\"/></a>"
      ]
    },
    {
      "cell_type": "markdown",
      "metadata": {
        "id": "LackBGoJ_VIe"
      },
      "source": [
        "# 퍼셉트론"
      ]
    },
    {
      "cell_type": "markdown",
      "metadata": {
        "id": "kIqVoDZt_X-I"
      },
      "source": [
        "## AND"
      ]
    },
    {
      "cell_type": "code",
      "metadata": {
        "id": "GChJjqFvC0Qe"
      },
      "source": [
        "import numpy as np"
      ],
      "execution_count": null,
      "outputs": []
    },
    {
      "cell_type": "code",
      "metadata": {
        "id": "jdu2TEN3_UhR"
      },
      "source": [
        "def AND(x1, x2):\r\n",
        "  x = np.array([x1, x2])\r\n",
        "  w = np.array([0.5, 0.5])\r\n",
        "  b = -0.7\r\n",
        "  y = np.sum(x*w) + b\r\n",
        "  if y <= 0:\r\n",
        "    return 0\r\n",
        "  else:\r\n",
        "    return 1"
      ],
      "execution_count": null,
      "outputs": []
    },
    {
      "cell_type": "code",
      "metadata": {
        "colab": {
          "base_uri": "https://localhost:8080/"
        },
        "id": "D5uj3CGxCTmZ",
        "outputId": "188c24b0-1747-4e87-9826-572176c1d446"
      },
      "source": [
        "print(AND(0,0))\r\n",
        "print(AND(1,0))\r\n",
        "print(AND(0,1))\r\n",
        "print(AND(1,1))"
      ],
      "execution_count": null,
      "outputs": [
        {
          "output_type": "stream",
          "text": [
            "0\n",
            "0\n",
            "0\n",
            "1\n"
          ],
          "name": "stdout"
        }
      ]
    },
    {
      "cell_type": "markdown",
      "metadata": {
        "id": "PBU398lKDZGJ"
      },
      "source": [
        "## NAND\r\n"
      ]
    },
    {
      "cell_type": "code",
      "metadata": {
        "id": "bDLBnDU5Dbm2"
      },
      "source": [
        "def NAND(x1, x2):\r\n",
        "  x = np.array([x1, x2])\r\n",
        "  w = np.array([-0.5, -0.5])\r\n",
        "  b = 0.7\r\n",
        "  y = np.sum(x*w) + b\r\n",
        "  if y <= 0:\r\n",
        "    return 0\r\n",
        "  else:\r\n",
        "    return 1"
      ],
      "execution_count": null,
      "outputs": []
    },
    {
      "cell_type": "code",
      "metadata": {
        "colab": {
          "base_uri": "https://localhost:8080/"
        },
        "id": "A3rNqiyyDu3d",
        "outputId": "cb1ac70c-214c-424c-8fef-9124fb86c564"
      },
      "source": [
        "print(NAND(0,0))\r\n",
        "print(NAND(1,0))\r\n",
        "print(NAND(0,1))\r\n",
        "print(NAND(1,1))"
      ],
      "execution_count": null,
      "outputs": [
        {
          "output_type": "stream",
          "text": [
            "1\n",
            "1\n",
            "1\n",
            "0\n"
          ],
          "name": "stdout"
        }
      ]
    },
    {
      "cell_type": "code",
      "metadata": {
        "id": "G-24PFGTDwxz"
      },
      "source": [
        ""
      ],
      "execution_count": null,
      "outputs": []
    },
    {
      "cell_type": "markdown",
      "metadata": {
        "id": "9TIjzaDCEMzs"
      },
      "source": [
        "## OR"
      ]
    },
    {
      "cell_type": "code",
      "metadata": {
        "id": "hNiwKpJbENj5"
      },
      "source": [
        "def OR(x1, x2):\r\n",
        "  x = np.array([x1, x2])\r\n",
        "  w = np.array([0.5, 0.5])\r\n",
        "  b = -0.2\r\n",
        "  y = np.sum(x*w) + b\r\n",
        "  if y <= 0:\r\n",
        "    return 0\r\n",
        "  else:\r\n",
        "    return 1"
      ],
      "execution_count": null,
      "outputs": []
    },
    {
      "cell_type": "code",
      "metadata": {
        "colab": {
          "base_uri": "https://localhost:8080/"
        },
        "id": "Xd48V9J8ETwh",
        "outputId": "ba19a087-26d1-46e0-d715-fd5bce4d71e5"
      },
      "source": [
        "print(OR(0,0))\r\n",
        "print(OR(1,0))\r\n",
        "print(OR(0,1))\r\n",
        "print(OR(1,1))"
      ],
      "execution_count": null,
      "outputs": [
        {
          "output_type": "stream",
          "text": [
            "0\n",
            "1\n",
            "1\n",
            "1\n"
          ],
          "name": "stdout"
        }
      ]
    },
    {
      "cell_type": "markdown",
      "metadata": {
        "id": "ABJZrCUKEbvg"
      },
      "source": [
        "# 다층 퍼셉트론"
      ]
    },
    {
      "cell_type": "code",
      "metadata": {
        "id": "SNF9_N9YEWUC"
      },
      "source": [
        "def XOR(x1, x2):\r\n",
        "  s1 = NAND(x1, x2)\r\n",
        "  s2 = OR(x1, x2)\r\n",
        "  y = AND(s1, s2)\r\n",
        "  return y"
      ],
      "execution_count": null,
      "outputs": []
    },
    {
      "cell_type": "code",
      "metadata": {
        "colab": {
          "base_uri": "https://localhost:8080/"
        },
        "id": "_OGWAv8vFwLC",
        "outputId": "f2f79aa4-94c1-42f9-a22f-118dc92fafa6"
      },
      "source": [
        "print(XOR(0,0))\r\n",
        "print(XOR(1,0))\r\n",
        "print(XOR(0,1))\r\n",
        "print(XOR(1,1))"
      ],
      "execution_count": null,
      "outputs": [
        {
          "output_type": "stream",
          "text": [
            "0\n",
            "1\n",
            "1\n",
            "0\n"
          ],
          "name": "stdout"
        }
      ]
    },
    {
      "cell_type": "code",
      "metadata": {
        "id": "agvxenG1FyOv"
      },
      "source": [
        ""
      ],
      "execution_count": null,
      "outputs": []
    }
  ]
}