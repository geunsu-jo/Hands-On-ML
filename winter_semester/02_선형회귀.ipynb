{
  "nbformat": 4,
  "nbformat_minor": 0,
  "metadata": {
    "colab": {
      "name": "02-선형회귀",
      "provenance": [],
      "collapsed_sections": [],
      "toc_visible": true,
      "authorship_tag": "ABX9TyNv2ffMV8+RqDe6JWzGNDp2",
      "include_colab_link": true
    },
    "kernelspec": {
      "name": "python3",
      "display_name": "Python 3"
    }
  },
  "cells": [
    {
      "cell_type": "markdown",
      "metadata": {
        "id": "view-in-github",
        "colab_type": "text"
      },
      "source": [
        "<a href=\"https://colab.research.google.com/github/geunsu-jo/Hands-On-ML/blob/main/winter_semester/02_%EC%84%A0%ED%98%95%ED%9A%8C%EA%B7%80.ipynb\" target=\"_parent\"><img src=\"https://colab.research.google.com/assets/colab-badge.svg\" alt=\"Open In Colab\"/></a>"
      ]
    },
    {
      "cell_type": "markdown",
      "metadata": {
        "id": "-ZVew28mG8yR"
      },
      "source": [
        "# 선형회귀"
      ]
    },
    {
      "cell_type": "markdown",
      "metadata": {
        "id": "S6WiRJmgIMh2"
      },
      "source": [
        "## 데이터 준비"
      ]
    },
    {
      "cell_type": "code",
      "metadata": {
        "id": "FV1aVMzTILsu"
      },
      "source": [
        "# ctrl + spacebar : function preview\r\n",
        "from sklearn.datasets import load_diabetes"
      ],
      "execution_count": null,
      "outputs": []
    },
    {
      "cell_type": "code",
      "metadata": {
        "id": "06MdXbwoIwpn"
      },
      "source": [
        "diabets = load_diabetes()"
      ],
      "execution_count": null,
      "outputs": []
    },
    {
      "cell_type": "code",
      "metadata": {
        "id": "DJVxck7EJIs4",
        "colab": {
          "base_uri": "https://localhost:8080/"
        },
        "outputId": "3816d00e-89d7-4a9b-f4da-ceac932ad5c4"
      },
      "source": [
        "#diabets은 dictionary 형태\r\n",
        "print(diabets)"
      ],
      "execution_count": null,
      "outputs": [
        {
          "output_type": "stream",
          "text": [
            "{'data': array([[ 0.03807591,  0.05068012,  0.06169621, ..., -0.00259226,\n",
            "         0.01990842, -0.01764613],\n",
            "       [-0.00188202, -0.04464164, -0.05147406, ..., -0.03949338,\n",
            "        -0.06832974, -0.09220405],\n",
            "       [ 0.08529891,  0.05068012,  0.04445121, ..., -0.00259226,\n",
            "         0.00286377, -0.02593034],\n",
            "       ...,\n",
            "       [ 0.04170844,  0.05068012, -0.01590626, ..., -0.01107952,\n",
            "        -0.04687948,  0.01549073],\n",
            "       [-0.04547248, -0.04464164,  0.03906215, ...,  0.02655962,\n",
            "         0.04452837, -0.02593034],\n",
            "       [-0.04547248, -0.04464164, -0.0730303 , ..., -0.03949338,\n",
            "        -0.00421986,  0.00306441]]), 'target': array([151.,  75., 141., 206., 135.,  97., 138.,  63., 110., 310., 101.,\n",
            "        69., 179., 185., 118., 171., 166., 144.,  97., 168.,  68.,  49.,\n",
            "        68., 245., 184., 202., 137.,  85., 131., 283., 129.,  59., 341.,\n",
            "        87.,  65., 102., 265., 276., 252.,  90., 100.,  55.,  61.,  92.,\n",
            "       259.,  53., 190., 142.,  75., 142., 155., 225.,  59., 104., 182.,\n",
            "       128.,  52.,  37., 170., 170.,  61., 144.,  52., 128.,  71., 163.,\n",
            "       150.,  97., 160., 178.,  48., 270., 202., 111.,  85.,  42., 170.,\n",
            "       200., 252., 113., 143.,  51.,  52., 210.,  65., 141.,  55., 134.,\n",
            "        42., 111.,  98., 164.,  48.,  96.,  90., 162., 150., 279.,  92.,\n",
            "        83., 128., 102., 302., 198.,  95.,  53., 134., 144., 232.,  81.,\n",
            "       104.,  59., 246., 297., 258., 229., 275., 281., 179., 200., 200.,\n",
            "       173., 180.,  84., 121., 161.,  99., 109., 115., 268., 274., 158.,\n",
            "       107.,  83., 103., 272.,  85., 280., 336., 281., 118., 317., 235.,\n",
            "        60., 174., 259., 178., 128.,  96., 126., 288.,  88., 292.,  71.,\n",
            "       197., 186.,  25.,  84.,  96., 195.,  53., 217., 172., 131., 214.,\n",
            "        59.,  70., 220., 268., 152.,  47.,  74., 295., 101., 151., 127.,\n",
            "       237., 225.,  81., 151., 107.,  64., 138., 185., 265., 101., 137.,\n",
            "       143., 141.,  79., 292., 178.,  91., 116.,  86., 122.,  72., 129.,\n",
            "       142.,  90., 158.,  39., 196., 222., 277.,  99., 196., 202., 155.,\n",
            "        77., 191.,  70.,  73.,  49.,  65., 263., 248., 296., 214., 185.,\n",
            "        78.,  93., 252., 150.,  77., 208.,  77., 108., 160.,  53., 220.,\n",
            "       154., 259.,  90., 246., 124.,  67.,  72., 257., 262., 275., 177.,\n",
            "        71.,  47., 187., 125.,  78.,  51., 258., 215., 303., 243.,  91.,\n",
            "       150., 310., 153., 346.,  63.,  89.,  50.,  39., 103., 308., 116.,\n",
            "       145.,  74.,  45., 115., 264.,  87., 202., 127., 182., 241.,  66.,\n",
            "        94., 283.,  64., 102., 200., 265.,  94., 230., 181., 156., 233.,\n",
            "        60., 219.,  80.,  68., 332., 248.,  84., 200.,  55.,  85.,  89.,\n",
            "        31., 129.,  83., 275.,  65., 198., 236., 253., 124.,  44., 172.,\n",
            "       114., 142., 109., 180., 144., 163., 147.,  97., 220., 190., 109.,\n",
            "       191., 122., 230., 242., 248., 249., 192., 131., 237.,  78., 135.,\n",
            "       244., 199., 270., 164.,  72.,  96., 306.,  91., 214.,  95., 216.,\n",
            "       263., 178., 113., 200., 139., 139.,  88., 148.,  88., 243.,  71.,\n",
            "        77., 109., 272.,  60.,  54., 221.,  90., 311., 281., 182., 321.,\n",
            "        58., 262., 206., 233., 242., 123., 167.,  63., 197.,  71., 168.,\n",
            "       140., 217., 121., 235., 245.,  40.,  52., 104., 132.,  88.,  69.,\n",
            "       219.,  72., 201., 110.,  51., 277.,  63., 118.,  69., 273., 258.,\n",
            "        43., 198., 242., 232., 175.,  93., 168., 275., 293., 281.,  72.,\n",
            "       140., 189., 181., 209., 136., 261., 113., 131., 174., 257.,  55.,\n",
            "        84.,  42., 146., 212., 233.,  91., 111., 152., 120.,  67., 310.,\n",
            "        94., 183.,  66., 173.,  72.,  49.,  64.,  48., 178., 104., 132.,\n",
            "       220.,  57.]), 'DESCR': '.. _diabetes_dataset:\\n\\nDiabetes dataset\\n----------------\\n\\nTen baseline variables, age, sex, body mass index, average blood\\npressure, and six blood serum measurements were obtained for each of n =\\n442 diabetes patients, as well as the response of interest, a\\nquantitative measure of disease progression one year after baseline.\\n\\n**Data Set Characteristics:**\\n\\n  :Number of Instances: 442\\n\\n  :Number of Attributes: First 10 columns are numeric predictive values\\n\\n  :Target: Column 11 is a quantitative measure of disease progression one year after baseline\\n\\n  :Attribute Information:\\n      - Age\\n      - Sex\\n      - Body mass index\\n      - Average blood pressure\\n      - S1\\n      - S2\\n      - S3\\n      - S4\\n      - S5\\n      - S6\\n\\nNote: Each of these 10 feature variables have been mean centered and scaled by the standard deviation times `n_samples` (i.e. the sum of squares of each column totals 1).\\n\\nSource URL:\\nhttps://www4.stat.ncsu.edu/~boos/var.select/diabetes.html\\n\\nFor more information see:\\nBradley Efron, Trevor Hastie, Iain Johnstone and Robert Tibshirani (2004) \"Least Angle Regression,\" Annals of Statistics (with discussion), 407-499.\\n(https://web.stanford.edu/~hastie/Papers/LARS/LeastAngle_2002.pdf)', 'feature_names': ['age', 'sex', 'bmi', 'bp', 's1', 's2', 's3', 's4', 's5', 's6'], 'data_filename': '/usr/local/lib/python3.6/dist-packages/sklearn/datasets/data/diabetes_data.csv.gz', 'target_filename': '/usr/local/lib/python3.6/dist-packages/sklearn/datasets/data/diabetes_target.csv.gz'}\n"
          ],
          "name": "stdout"
        }
      ]
    },
    {
      "cell_type": "code",
      "metadata": {
        "colab": {
          "base_uri": "https://localhost:8080/"
        },
        "id": "FMxGAtcqKFDZ",
        "outputId": "82a1630a-7273-440b-aeae-b8f2cb5be81e"
      },
      "source": [
        "# diabets는 key value(data, target)으로 이루어져있음. shape는 R에서 dim() 역할\r\n",
        "print(diabets.data.shape, diabets.target.shape)"
      ],
      "execution_count": null,
      "outputs": [
        {
          "output_type": "stream",
          "text": [
            "(442, 10) (442,)\n"
          ],
          "name": "stdout"
        }
      ]
    },
    {
      "cell_type": "code",
      "metadata": {
        "id": "FwAn_nQQKeEO"
      },
      "source": [
        "import matplotlib.pyplot as plt"
      ],
      "execution_count": null,
      "outputs": []
    },
    {
      "cell_type": "code",
      "metadata": {
        "colab": {
          "base_uri": "https://localhost:8080/",
          "height": 283
        },
        "id": "T-N-ZWkwLGTI",
        "outputId": "5d6e8b4a-cc71-4bcb-b221-e201177910e9"
      },
      "source": [
        "plt.scatter(diabets.data[:,8], diabets.target)"
      ],
      "execution_count": null,
      "outputs": [
        {
          "output_type": "execute_result",
          "data": {
            "text/plain": [
              "<matplotlib.collections.PathCollection at 0x7fa7abc65fd0>"
            ]
          },
          "metadata": {
            "tags": []
          },
          "execution_count": 30
        },
        {
          "output_type": "display_data",
          "data": {
            "image/png": "[encoded data removed]",
            "text/plain": [
              "<Figure size 432x288 with 1 Axes>"
            ]
          },
          "metadata": {
            "tags": [],
            "needs_background": "light"
          }
        }
      ]
    },
    {
      "cell_type": "code",
      "metadata": {
        "colab": {
          "base_uri": "https://localhost:8080/"
        },
        "id": "nI8vRvXhLFuL",
        "outputId": "b0925cc0-2a17-40e0-9615-0a286356171d"
      },
      "source": [
        "l1 = ['gd', 'iu', '나얼']\r\n",
        "print(l1)"
      ],
      "execution_count": null,
      "outputs": [
        {
          "output_type": "stream",
          "text": [
            "['gd', 'iu', '나얼']\n"
          ],
          "name": "stdout"
        }
      ]
    },
    {
      "cell_type": "code",
      "metadata": {
        "colab": {
          "base_uri": "https://localhost:8080/"
        },
        "id": "3m4MB3awPgzJ",
        "outputId": "a9bb9836-a21c-499f-fc79-bfc3adcd7666"
      },
      "source": [
        "l1[-3:-1]"
      ],
      "execution_count": null,
      "outputs": [
        {
          "output_type": "execute_result",
          "data": {
            "text/plain": [
              "['gd', 'iu']"
            ]
          },
          "metadata": {
            "tags": []
          },
          "execution_count": 32
        }
      ]
    },
    {
      "cell_type": "code",
      "metadata": {
        "id": "p90hpVlCP_bN"
      },
      "source": [
        "X = diabets.data[:,2]\r\n",
        "y = diabets.target"
      ],
      "execution_count": null,
      "outputs": []
    },
    {
      "cell_type": "code",
      "metadata": {
        "id": "BwAtBGFDQS9r",
        "colab": {
          "base_uri": "https://localhost:8080/"
        },
        "outputId": "4070bb89-142f-4adc-d92d-d952d46084db"
      },
      "source": [
        "print(X)"
      ],
      "execution_count": null,
      "outputs": [
        {
          "output_type": "stream",
          "text": [
            "[ 0.06169621 -0.05147406  0.04445121 -0.01159501 -0.03638469 -0.04069594\n",
            " -0.04716281 -0.00189471  0.06169621  0.03906215 -0.08380842  0.01750591\n",
            " -0.02884001 -0.00189471 -0.02560657 -0.01806189  0.04229559  0.01211685\n",
            " -0.0105172  -0.01806189 -0.05686312 -0.02237314 -0.00405033  0.06061839\n",
            "  0.03582872 -0.01267283 -0.07734155  0.05954058 -0.02129532 -0.00620595\n",
            "  0.04445121 -0.06548562  0.12528712 -0.05039625 -0.06332999 -0.03099563\n",
            "  0.02289497  0.01103904  0.07139652  0.01427248 -0.00836158 -0.06764124\n",
            " -0.0105172  -0.02345095  0.06816308 -0.03530688 -0.01159501 -0.0730303\n",
            " -0.04177375  0.01427248 -0.00728377  0.0164281  -0.00943939 -0.01590626\n",
            "  0.0250506  -0.04931844  0.04121778 -0.06332999 -0.06440781 -0.02560657\n",
            " -0.00405033  0.00457217 -0.00728377 -0.0374625  -0.02560657 -0.02452876\n",
            " -0.01806189 -0.01482845 -0.02991782 -0.046085   -0.06979687  0.03367309\n",
            " -0.00405033 -0.02021751  0.00241654 -0.03099563  0.02828403 -0.03638469\n",
            " -0.05794093 -0.0374625   0.01211685 -0.02237314 -0.03530688  0.00996123\n",
            " -0.03961813  0.07139652 -0.07518593 -0.00620595 -0.04069594 -0.04824063\n",
            " -0.02560657  0.0519959   0.00457217 -0.06440781 -0.01698407 -0.05794093\n",
            "  0.00996123  0.08864151 -0.00512814 -0.06440781  0.01750591 -0.04500719\n",
            "  0.02828403  0.04121778  0.06492964 -0.03207344 -0.07626374  0.04984027\n",
            "  0.04552903 -0.00943939 -0.03207344  0.00457217  0.02073935  0.01427248\n",
            "  0.11019775  0.00133873  0.05846277 -0.02129532 -0.0105172  -0.04716281\n",
            "  0.00457217  0.01750591  0.08109682  0.0347509   0.02397278 -0.00836158\n",
            " -0.06117437 -0.00189471 -0.06225218  0.0164281   0.09618619 -0.06979687\n",
            " -0.02129532 -0.05362969  0.0433734   0.05630715 -0.0816528   0.04984027\n",
            "  0.11127556  0.06169621  0.01427248  0.04768465  0.01211685  0.00564998\n",
            "  0.04660684  0.12852056  0.05954058  0.09295276  0.01535029 -0.00512814\n",
            "  0.0703187  -0.00405033 -0.00081689 -0.04392938  0.02073935  0.06061839\n",
            " -0.0105172  -0.03315126 -0.06548562  0.0433734  -0.06225218  0.06385183\n",
            "  0.03043966  0.07247433 -0.0191397  -0.06656343 -0.06009656  0.06924089\n",
            "  0.05954058 -0.02668438 -0.02021751 -0.046085    0.07139652 -0.07949718\n",
            "  0.00996123 -0.03854032  0.01966154  0.02720622 -0.00836158 -0.01590626\n",
            "  0.00457217 -0.04285156  0.00564998 -0.03530688  0.02397278 -0.01806189\n",
            "  0.04229559 -0.0547075  -0.00297252 -0.06656343 -0.01267283 -0.04177375\n",
            " -0.03099563 -0.00512814 -0.05901875  0.0250506  -0.046085    0.00349435\n",
            "  0.05415152 -0.04500719 -0.05794093 -0.05578531  0.00133873  0.03043966\n",
            "  0.00672779  0.04660684  0.02612841  0.04552903  0.04013997 -0.01806189\n",
            "  0.01427248  0.03690653  0.00349435 -0.07087468 -0.03315126  0.09403057\n",
            "  0.03582872  0.03151747 -0.06548562 -0.04177375 -0.03961813 -0.03854032\n",
            " -0.02560657 -0.02345095 -0.06656343  0.03259528 -0.046085   -0.02991782\n",
            " -0.01267283 -0.01590626  0.07139652 -0.03099563  0.00026092  0.03690653\n",
            "  0.03906215 -0.01482845  0.00672779 -0.06871905 -0.00943939  0.01966154\n",
            "  0.07462995 -0.00836158 -0.02345095 -0.046085    0.05415152 -0.03530688\n",
            " -0.03207344 -0.0816528   0.04768465  0.06061839  0.05630715  0.09834182\n",
            "  0.05954058  0.03367309  0.05630715 -0.06548562  0.16085492 -0.05578531\n",
            " -0.02452876 -0.03638469 -0.00836158 -0.04177375  0.12744274 -0.07734155\n",
            "  0.02828403 -0.02560657 -0.06225218 -0.00081689  0.08864151 -0.03207344\n",
            "  0.03043966  0.00888341  0.00672779 -0.02021751 -0.02452876 -0.01159501\n",
            "  0.02612841 -0.05901875 -0.03638469 -0.02452876  0.01858372 -0.0902753\n",
            " -0.00512814 -0.05255187 -0.02237314 -0.02021751 -0.0547075  -0.00620595\n",
            " -0.01698407  0.05522933  0.07678558  0.01858372 -0.02237314  0.09295276\n",
            " -0.03099563  0.03906215 -0.06117437 -0.00836158 -0.0374625  -0.01375064\n",
            "  0.07355214 -0.02452876  0.03367309  0.0347509  -0.03854032 -0.03961813\n",
            " -0.00189471 -0.03099563 -0.046085    0.00133873  0.06492964  0.04013997\n",
            " -0.02345095  0.05307371  0.04013997 -0.02021751  0.01427248 -0.03422907\n",
            "  0.00672779  0.00457217  0.03043966  0.0519959   0.06169621 -0.00728377\n",
            "  0.00564998  0.05415152 -0.00836158  0.114509    0.06708527 -0.05578531\n",
            "  0.03043966 -0.02560657  0.10480869 -0.00620595 -0.04716281 -0.04824063\n",
            "  0.08540807 -0.01267283 -0.03315126 -0.00728377 -0.01375064  0.05954058\n",
            "  0.02181716  0.01858372 -0.01159501 -0.00297252  0.01750591 -0.02991782\n",
            " -0.02021751 -0.05794093  0.06061839 -0.04069594 -0.07195249 -0.05578531\n",
            "  0.04552903 -0.00943939 -0.03315126  0.04984027 -0.08488624  0.00564998\n",
            "  0.02073935 -0.00728377  0.10480869 -0.02452876 -0.00620595 -0.03854032\n",
            "  0.13714305  0.17055523  0.00241654  0.03798434 -0.05794093 -0.00943939\n",
            " -0.02345095 -0.0105172  -0.03422907 -0.00297252  0.06816308  0.00996123\n",
            "  0.00241654 -0.03854032  0.02612841 -0.08919748  0.06061839 -0.02884001\n",
            " -0.02991782 -0.0191397  -0.04069594  0.01535029 -0.02452876  0.00133873\n",
            "  0.06924089 -0.06979687 -0.02991782 -0.046085    0.01858372  0.00133873\n",
            " -0.03099563 -0.00405033  0.01535029  0.02289497  0.04552903 -0.04500719\n",
            " -0.03315126  0.097264    0.05415152  0.12313149 -0.08057499  0.09295276\n",
            " -0.05039625 -0.01159501 -0.0277622   0.05846277  0.08540807 -0.00081689\n",
            "  0.00672779  0.00888341  0.08001901  0.07139652 -0.02452876 -0.0547075\n",
            " -0.03638469  0.0164281   0.07786339 -0.03961813  0.01103904 -0.04069594\n",
            " -0.03422907  0.00564998  0.08864151 -0.03315126 -0.05686312 -0.03099563\n",
            "  0.05522933 -0.06009656  0.00133873 -0.02345095 -0.07410811  0.01966154\n",
            " -0.01590626 -0.01590626  0.03906215 -0.0730303 ]\n"
          ],
          "name": "stdout"
        }
      ]
    },
    {
      "cell_type": "markdown",
      "metadata": {
        "id": "915Kv-RbRx_5"
      },
      "source": [
        "## 경사하강법"
      ]
    },
    {
      "cell_type": "code",
      "metadata": {
        "id": "c4hAIuhJT0lK"
      },
      "source": [
        "# 1. 무작위로 {w, b}\r\n",
        "w = 1.0\r\n",
        "b = 1.0"
      ],
      "execution_count": null,
      "outputs": []
    },
    {
      "cell_type": "code",
      "metadata": {
        "colab": {
          "base_uri": "https://localhost:8080/"
        },
        "id": "ij6wsDjcUMq6",
        "outputId": "5eb51818-3721-4ebd-e49d-c3e97e81e78f"
      },
      "source": [
        "# 2. X에서 sample을 가져와 y_hat 계산\r\n",
        "y_hat = X[0] * w + b\r\n",
        "print(y_hat)"
      ],
      "execution_count": null,
      "outputs": [
        {
          "output_type": "stream",
          "text": [
            "1.0616962065186886\n"
          ],
          "name": "stdout"
        }
      ]
    },
    {
      "cell_type": "code",
      "metadata": {
        "colab": {
          "base_uri": "https://localhost:8080/"
        },
        "id": "KEH_YVXXUc1u",
        "outputId": "fc6f5fce-282a-4f78-efbd-cacbcf82c10c"
      },
      "source": [
        "# 3. y와 y_hat 비교\r\n",
        "print(y[0] - y_hat)"
      ],
      "execution_count": null,
      "outputs": [
        {
          "output_type": "stream",
          "text": [
            "149.9383037934813\n"
          ],
          "name": "stdout"
        }
      ]
    },
    {
      "cell_type": "code",
      "metadata": {
        "colab": {
          "base_uri": "https://localhost:8080/"
        },
        "id": "5vEIQPIMUmW3",
        "outputId": "de30737a-8bd1-4c29-cffa-362aef6ff8f0"
      },
      "source": [
        "# 4. y와 y_hat의 결과가 가까워지도록 w,b를 조절\r\n",
        "w_inc = w + 0.1 # 연산기호(+인지 - 인지)는 신경쓸 필요 없다!\r\n",
        "y_hat_inc = w_inc * X[0] + b\r\n",
        "print(y_hat_inc)"
      ],
      "execution_count": null,
      "outputs": [
        {
          "output_type": "stream",
          "text": [
            "1.0678658271705574\n"
          ],
          "name": "stdout"
        }
      ]
    },
    {
      "cell_type": "code",
      "metadata": {
        "id": "4HNbPWTYUya3"
      },
      "source": [
        "w_rate = (y_hat_inc - y_hat)/(w_inc - w)\r\n",
        "w_new = w + w_rate"
      ],
      "execution_count": null,
      "outputs": []
    },
    {
      "cell_type": "code",
      "metadata": {
        "id": "yLCEeFQVVTfr",
        "colab": {
          "base_uri": "https://localhost:8080/"
        },
        "outputId": "2b29d665-7313-4f57-b548-9d099bbdd903"
      },
      "source": [
        "b_inc = b + 0.1 \r\n",
        "y_hat_inc = w * X[0] + b_inc\r\n",
        "print(y_hat_inc)"
      ],
      "execution_count": null,
      "outputs": [
        {
          "output_type": "stream",
          "text": [
            "1.1616962065186887\n"
          ],
          "name": "stdout"
        }
      ]
    },
    {
      "cell_type": "code",
      "metadata": {
        "id": "n4vMpuibJhL6",
        "colab": {
          "base_uri": "https://localhost:8080/"
        },
        "outputId": "66bc8f02-c592-4340-ef65-393dbc3a3291"
      },
      "source": [
        "b_rate = (y_hat_inc - y_hat) / (b_inc-b)\r\n",
        "b_new = b + b_rate\r\n",
        "b_new"
      ],
      "execution_count": null,
      "outputs": [
        {
          "output_type": "execute_result",
          "data": {
            "text/plain": [
              "2.0"
            ]
          },
          "metadata": {
            "tags": []
          },
          "execution_count": 40
        }
      ]
    },
    {
      "cell_type": "markdown",
      "metadata": {
        "id": "s72BwRmgJkBu"
      },
      "source": [
        "## 오차역전파 사용"
      ]
    },
    {
      "cell_type": "code",
      "metadata": {
        "id": "cTnoS_bTJpsK",
        "colab": {
          "base_uri": "https://localhost:8080/"
        },
        "outputId": "313343a0-d715-4616-e2de-b1b157420432"
      },
      "source": [
        "err = y[0] - y_hat\r\n",
        "w_new = w + w_rate * err\r\n",
        "b_new = w + 1 * err\r\n",
        "print(w_new, b_new)"
      ],
      "execution_count": null,
      "outputs": [
        {
          "output_type": "stream",
          "text": [
            "10.250624555904514 150.9383037934813\n"
          ],
          "name": "stdout"
        }
      ]
    },
    {
      "cell_type": "code",
      "metadata": {
        "id": "qeMuUFuLJvb_",
        "colab": {
          "base_uri": "https://localhost:8080/"
        },
        "outputId": "9993369d-7678-4cf0-9795-c0400434ef3d"
      },
      "source": [
        "y_hat = X[1] * w_new + b_new\r\n",
        "err = y[1] - y_hat\r\n",
        "w_rate = X[1]\r\n",
        "w_new = w + w_rate * err\r\n",
        "b_new = b + 1 * err\r\n",
        "print(w_new, b_new)"
      ],
      "execution_count": null,
      "outputs": [
        {
          "output_type": "stream",
          "text": [
            "4.881693060477254 -74.41066251735467\n"
          ],
          "name": "stdout"
        }
      ]
    },
    {
      "cell_type": "code",
      "metadata": {
        "id": "jGP2mCRIJwvG",
        "colab": {
          "base_uri": "https://localhost:8080/"
        },
        "outputId": "5ab77e09-2e02-4e6a-f20a-949f84d21d26"
      },
      "source": [
        "itr = 0\r\n",
        "for x_i, y_i in zip(X,y): # zip은 동일한 자료형을 묶어주는 역할\r\n",
        "  y_hat = x_i * w + b\r\n",
        "  err = y_i - y_hat\r\n",
        "  w_rate = x_i\r\n",
        "  w = w + w_rate * err\r\n",
        "  b = b + 1 * err\r\n",
        "  itr += 1\r\n",
        "\r\n",
        "print(w,b,itr)"
      ],
      "execution_count": null,
      "outputs": [
        {
          "output_type": "stream",
          "text": [
            "871.7846906736421 120.31533114511797 442\n"
          ],
          "name": "stdout"
        }
      ]
    },
    {
      "cell_type": "code",
      "metadata": {
        "id": "f2-vvRbYNGkT",
        "colab": {
          "base_uri": "https://localhost:8080/"
        },
        "outputId": "1ff2fb84-f2c8-4e2e-ef93-77d48558e26e"
      },
      "source": [
        "# zip example\r\n",
        "ex1 = list(zip([1,2,3], [4,5,6], [7,8,9]))\r\n",
        "ex2 = list(zip(\"abc\", \"def\"))\r\n",
        "print(ex1)\r\n",
        "print(ex2)"
      ],
      "execution_count": null,
      "outputs": [
        {
          "output_type": "stream",
          "text": [
            "[(1, 4, 7), (2, 5, 8), (3, 6, 9)]\n",
            "[('a', 'd'), ('b', 'e'), ('c', 'f')]\n"
          ],
          "name": "stdout"
        }
      ]
    },
    {
      "cell_type": "code",
      "metadata": {
        "id": "g_sD6q_hJx6p",
        "colab": {
          "base_uri": "https://localhost:8080/",
          "height": 265
        },
        "outputId": "74f4798a-be3c-47b1-97b7-2da836906810"
      },
      "source": [
        "plt.scatter(X,y)\r\n",
        "pt1 = (-0.1, -0.1 * w + b) # Min axis of x, y\r\n",
        "pt2 = (0.2, 0.15 * w + b) # Max axis of x, y\r\n",
        "plt.plot([pt1[0], pt2[0]], [pt1[1], pt2[1]])\r\n",
        "plt.show()"
      ],
      "execution_count": null,
      "outputs": [
        {
          "output_type": "display_data",
          "data": {
            "image/png": "[encoded data removed]",
            "text/plain": [
              "<Figure size 432x288 with 1 Axes>"
            ]
          },
          "metadata": {
            "tags": [],
            "needs_background": "light"
          }
        }
      ]
    },
    {
      "cell_type": "markdown",
      "metadata": {
        "id": "9-5sAbhtJzpH"
      },
      "source": [
        "## 경사하강법을 파이썬으로 구현"
      ]
    },
    {
      "cell_type": "code",
      "metadata": {
        "id": "FQIazduMJ2Nk"
      },
      "source": [
        "# 경사하강법을 만들자!\r\n",
        "class GradientDescent:\r\n",
        "  # 1. w,b 설정\r\n",
        "  def __init__(self):\r\n",
        "    self.w = 1.0\r\n",
        "    self.b = 1.0\r\n",
        "\r\n",
        "  # 2. y_hat 계산\r\n",
        "  def forpass(self, x):\r\n",
        "    y_hat = x * self.w + self.b\r\n",
        "    return y_hat\r\n",
        "\r\n",
        "  # 3. 오차 계산\r\n",
        "  def backprop(self, x, err):\r\n",
        "    w_grad = x * err\r\n",
        "    b_grad = 1 * err\r\n",
        "    return w_grad, b_grad\r\n",
        "\r\n",
        "  # 4. 이걸 반복하면 됨!\r\n",
        "  def fit(self, x, y, epochs=100):\r\n",
        "    for i in range(epochs):\r\n",
        "      for x_i, y_i in zip(x,y):\r\n",
        "        y_hat = self.forpass(x_i)\r\n",
        "        err = -(y_i-y_hat) \r\n",
        "        w_grad, b_grad = self.backprop(x_i, err)\r\n",
        "        self.w -= w_grad\r\n",
        "        self.b -= b_grad\r\n",
        "  # 결론은 w, b를 외부에 제공해야 됨!\r\n"
      ],
      "execution_count": null,
      "outputs": []
    },
    {
      "cell_type": "code",
      "metadata": {
        "id": "quvMxDO7J5XL",
        "colab": {
          "base_uri": "https://localhost:8080/"
        },
        "outputId": "7a8b9d94-f763-4709-b5fc-d06432b687b7"
      },
      "source": [
        "gd = GradientDescent()\r\n",
        "gd.fit(X,y)\r\n",
        "print(gd.w, gd.b)"
      ],
      "execution_count": null,
      "outputs": [
        {
          "output_type": "stream",
          "text": [
            "913.5973364345905 123.39414383177204\n"
          ],
          "name": "stdout"
        }
      ]
    },
    {
      "cell_type": "code",
      "metadata": {
        "id": "UWWd_aCVJ7er",
        "colab": {
          "base_uri": "https://localhost:8080/",
          "height": 265
        },
        "outputId": "79783a43-3986-4194-f235-e97136a247d9"
      },
      "source": [
        "plt.scatter(X,y)\r\n",
        "pt1 = (-0.1, -0.1 * gd.w + gd.b)\r\n",
        "pt2 = (0.15, 0.15 * gd.w + gd.b)\r\n",
        "plt.plot([pt1[0], pt2[0]], [pt1[1], pt2[1]])\r\n",
        "plt.show()"
      ],
      "execution_count": null,
      "outputs": [
        {
          "output_type": "display_data",
          "data": {
            "image/png": "[encoded data removed]",
            "text/plain": [
              "<Figure size 432x288 with 1 Axes>"
            ]
          },
          "metadata": {
            "tags": [],
            "needs_background": "light"
          }
        }
      ]
    },
    {
      "cell_type": "markdown",
      "metadata": {
        "id": "Sktt1STUJ-Oi"
      },
      "source": [
        "- test"
      ]
    },
    {
      "cell_type": "code",
      "metadata": {
        "id": "cx0H7hyhUNkR"
      },
      "source": [
        ""
      ],
      "execution_count": null,
      "outputs": []
    }
  ]
}