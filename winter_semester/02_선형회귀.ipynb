{
  "nbformat": 4,
  "nbformat_minor": 0,
  "metadata": {
    "colab": {
      "name": "02-선형회귀.ipynb",
      "provenance": [],
      "toc_visible": true,
      "authorship_tag": "ABX9TyMgoWIKheVJbg98WqxV85CN",
      "include_colab_link": true
    },
    "kernelspec": {
      "name": "python3",
      "display_name": "Python 3"
    }
  },
  "cells": [
    {
      "cell_type": "markdown",
      "metadata": {
        "id": "view-in-github",
        "colab_type": "text"
      },
      "source": [
        "<a href=\"https://colab.research.google.com/github/geunsu-jo/Hands-On-ML/blob/main/winter_semester/02_%EC%84%A0%ED%98%95%ED%9A%8C%EA%B7%80.ipynb\" target=\"_parent\"><img src=\"https://colab.research.google.com/assets/colab-badge.svg\" alt=\"Open In Colab\"/></a>"
      ]
    },
    {
      "cell_type": "markdown",
      "metadata": {
        "id": "-ZVew28mG8yR"
      },
      "source": [
        "# 선형회귀"
      ]
    },
    {
      "cell_type": "markdown",
      "metadata": {
        "id": "S6WiRJmgIMh2"
      },
      "source": [
        "## 데이터 준비"
      ]
    },
    {
      "cell_type": "code",
      "metadata": {
        "id": "FV1aVMzTILsu"
      },
      "source": [
        "# ctrl + spacebar : function preview\r\n",
        "from sklearn.datasets import load_diabetes"
      ],
      "execution_count": 9,
      "outputs": []
    },
    {
      "cell_type": "code",
      "metadata": {
        "id": "06MdXbwoIwpn"
      },
      "source": [
        "diabets = load_diabetes()"
      ],
      "execution_count": 11,
      "outputs": []
    },
    {
      "cell_type": "code",
      "metadata": {
        "id": "DJVxck7EJIs4"
      },
      "source": [
        "#diabets은 dictionary 형태\r\n",
        "print(diabets)\r\n"
      ],
      "execution_count": null,
      "outputs": []
    },
    {
      "cell_type": "code",
      "metadata": {
        "colab": {
          "base_uri": "https://localhost:8080/"
        },
        "id": "FMxGAtcqKFDZ",
        "outputId": "b9e2d318-6a24-4633-b825-8b550242c092"
      },
      "source": [
        "# diabets는 key value(data, target)으로 이루어져있음. shape는 R에서 dim() 역할\r\n",
        "print(diabets.data.shape, diabets.target.shape)"
      ],
      "execution_count": 34,
      "outputs": [
        {
          "output_type": "stream",
          "text": [
            "(442, 10) (442,)\n"
          ],
          "name": "stdout"
        }
      ]
    },
    {
      "cell_type": "code",
      "metadata": {
        "id": "FwAn_nQQKeEO"
      },
      "source": [
        "import matplotlib.pyplot as plt"
      ],
      "execution_count": 21,
      "outputs": []
    },
    {
      "cell_type": "code",
      "metadata": {
        "colab": {
          "base_uri": "https://localhost:8080/",
          "height": 282
        },
        "id": "T-N-ZWkwLGTI",
        "outputId": "aab977c4-4569-4db0-fb17-5094f4f9b432"
      },
      "source": [
        "plt.scatter(diabets.data[:,1], diabets.target)"
      ],
      "execution_count": 55,
      "outputs": [
        {
          "output_type": "execute_result",
          "data": {
            "text/plain": [
              "<matplotlib.collections.PathCollection at 0x7fad7bc5c160>"
            ]
          },
          "metadata": {
            "tags": []
          },
          "execution_count": 55
        },
        {
          "output_type": "display_data",
          "data": {
            "image/png": "[encoded data removed]",
            "text/plain": [
              "<Figure size 432x288 with 1 Axes>"
            ]
          },
          "metadata": {
            "tags": [],
            "needs_background": "light"
          }
        }
      ]
    },
    {
      "cell_type": "code",
      "metadata": {
        "colab": {
          "base_uri": "https://localhost:8080/"
        },
        "id": "nI8vRvXhLFuL",
        "outputId": "69d29e8b-dfb0-43e1-e54d-071574ffa1e9"
      },
      "source": [
        "l1 = ['gd', 'iu', '나얼']\r\n",
        "print(l1)"
      ],
      "execution_count": 37,
      "outputs": [
        {
          "output_type": "stream",
          "text": [
            "['gd', 'iu', '나얼']\n"
          ],
          "name": "stdout"
        }
      ]
    },
    {
      "cell_type": "code",
      "metadata": {
        "colab": {
          "base_uri": "https://localhost:8080/"
        },
        "id": "3m4MB3awPgzJ",
        "outputId": "a8bb341d-456a-48d8-c741-feaf139d05aa"
      },
      "source": [
        "l1[-3:-1]"
      ],
      "execution_count": 54,
      "outputs": [
        {
          "output_type": "execute_result",
          "data": {
            "text/plain": [
              "['gd', 'iu']"
            ]
          },
          "metadata": {
            "tags": []
          },
          "execution_count": 54
        }
      ]
    },
    {
      "cell_type": "code",
      "metadata": {
        "id": "p90hpVlCP_bN"
      },
      "source": [
        "X = diabets.data[:,2]\r\n",
        "y = diabets.target"
      ],
      "execution_count": 56,
      "outputs": []
    },
    {
      "cell_type": "code",
      "metadata": {
        "id": "BwAtBGFDQS9r"
      },
      "source": [
        "print(X)"
      ],
      "execution_count": null,
      "outputs": []
    },
    {
      "cell_type": "markdown",
      "metadata": {
        "id": "915Kv-RbRx_5"
      },
      "source": [
        "## 경사하강법"
      ]
    },
    {
      "cell_type": "code",
      "metadata": {
        "id": "c4hAIuhJT0lK"
      },
      "source": [
        "# 1. 무작위로 {w, b}\r\n",
        "w = 1.0\r\n",
        "b = 1.0"
      ],
      "execution_count": 66,
      "outputs": []
    },
    {
      "cell_type": "code",
      "metadata": {
        "colab": {
          "base_uri": "https://localhost:8080/"
        },
        "id": "ij6wsDjcUMq6",
        "outputId": "09c6f107-01c7-443e-ece3-83862f164338"
      },
      "source": [
        "# 2. X에서 sample을 가져와 y_hat 계산\r\n",
        "y_hat = X[0] * w + b\r\n",
        "print(y_hat)"
      ],
      "execution_count": 67,
      "outputs": [
        {
          "output_type": "stream",
          "text": [
            "1.0616962065186886\n"
          ],
          "name": "stdout"
        }
      ]
    },
    {
      "cell_type": "code",
      "metadata": {
        "colab": {
          "base_uri": "https://localhost:8080/"
        },
        "id": "KEH_YVXXUc1u",
        "outputId": "b36e4c2d-f49b-40b7-8c16-7f5950ed987d"
      },
      "source": [
        "# 3. y와 y_hat 비교\r\n",
        "print(y[0] - y_hat)"
      ],
      "execution_count": 71,
      "outputs": [
        {
          "output_type": "stream",
          "text": [
            "149.9383037934813\n"
          ],
          "name": "stdout"
        }
      ]
    },
    {
      "cell_type": "code",
      "metadata": {
        "colab": {
          "base_uri": "https://localhost:8080/"
        },
        "id": "5vEIQPIMUmW3",
        "outputId": "ee8c646c-5c7e-4927-a8f5-55a536752d54"
      },
      "source": [
        "# 4. y와 y_hat의 결과가 가까워지도록 w,b를 조절\r\n",
        "\r\n",
        "w_inc = w + 0.1 # 연산기호(+인지 - 인지)는 신경쓸 필요 없다!\r\n",
        "y_hat_inc = w_inc * X[0] + b\r\n",
        "print(y_hat_inc)"
      ],
      "execution_count": 75,
      "outputs": [
        {
          "output_type": "stream",
          "text": [
            "1.0678658271705574\n"
          ],
          "name": "stdout"
        }
      ]
    },
    {
      "cell_type": "code",
      "metadata": {
        "id": "4HNbPWTYUya3"
      },
      "source": [
        "w_rate = (y_hat_inc - y_hat)/(w_inc - w)\r\n",
        "w_new = w + w_rate "
      ],
      "execution_count": 79,
      "outputs": []
    },
    {
      "cell_type": "code",
      "metadata": {
        "id": "yLCEeFQVVTfr"
      },
      "source": [
        "b_inc = b + 0.1 # 연산기호(+인지 - 인지)는 신경쓸 필요 없다!\r\n",
        "y_hat_inc = w * X[0] + b_inc\r\n",
        "print(y_hat_inc)\r\n"
      ],
      "execution_count": null,
      "outputs": []
    }
  ]
}