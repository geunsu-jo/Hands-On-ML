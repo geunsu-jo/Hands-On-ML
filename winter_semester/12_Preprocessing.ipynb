{
  "nbformat": 4,
  "nbformat_minor": 0,
  "metadata": {
    "colab": {
      "name": "12_Preprocessing.ipynb",
      "provenance": [],
      "collapsed_sections": [
        "JRaME32dtdyd",
        "n51jd9TbwHwB",
        "MPSW2YSiwHyp"
      ],
      "toc_visible": true,
      "include_colab_link": true
    },
    "kernelspec": {
      "name": "python3",
      "display_name": "Python 3"
    }
  },
  "cells": [
    {
      "cell_type": "markdown",
      "metadata": {
        "id": "view-in-github",
        "colab_type": "text"
      },
      "source": [
        "<a href=\"https://colab.research.google.com/github/geunsu-jo/Hands-On-ML/blob/main/winter_semester/12_Preprocessing.ipynb\" target=\"_parent\"><img src=\"https://colab.research.google.com/assets/colab-badge.svg\" alt=\"Open In Colab\"/></a>"
      ]
    },
    {
      "cell_type": "markdown",
      "metadata": {
        "id": "-_B0JqnKtW5i"
      },
      "source": [
        "# Spotify Popularity Prediction"
      ]
    },
    {
      "cell_type": "markdown",
      "metadata": {
        "id": "Ecu4PJEqtdrN"
      },
      "source": [
        "## 1. 목표(T)\r\n",
        "* 노래의 인기를 예측해보자!"
      ]
    },
    {
      "cell_type": "markdown",
      "metadata": {
        "id": "Swkt1NOctdtm"
      },
      "source": [
        "## 2. 관련 데이터 수집"
      ]
    },
    {
      "cell_type": "code",
      "metadata": {
        "id": "WxuXF-cqtkPF"
      },
      "source": [
        "import numpy as np\r\n",
        "import pandas as pd\r\n",
        "import matplotlib.pyplot as plt\r\n",
        "import seaborn as sns"
      ],
      "execution_count": null,
      "outputs": []
    },
    {
      "cell_type": "code",
      "metadata": {
        "colab": {
          "base_uri": "https://localhost:8080/"
        },
        "id": "6gqEjTf5uaN-",
        "outputId": "5a6bf1b1-4da5-4c4d-c3da-f638e4846189"
      },
      "source": [
        "# 데이터 다운로드(song_data.csv / song_info.csv)\r\n",
        "!gdown --id \"1tFSeDdJYrOcVzQnxHQdJmV2Bp60rJ9O-\"\r\n",
        "!gdown --id \"1NMpQ2nanbUUGOUo1PLBWgbxy59O69SZs\""
      ],
      "execution_count": null,
      "outputs": [
        {
          "output_type": "stream",
          "text": [
            "Downloading...\n",
            "From: https://drive.google.com/uc?id=1tFSeDdJYrOcVzQnxHQdJmV2Bp60rJ9O-\n",
            "To: /content/song_data.csv\n",
            "2.22MB [00:00, 139MB/s]\n",
            "Downloading...\n",
            "From: https://drive.google.com/uc?id=1NMpQ2nanbUUGOUo1PLBWgbxy59O69SZs\n",
            "To: /content/song_info.csv\n",
            "100% 1.24M/1.24M [00:00<00:00, 82.5MB/s]\n"
          ],
          "name": "stdout"
        }
      ]
    },
    {
      "cell_type": "code",
      "metadata": {
        "id": "JvqN2q5uubuI"
      },
      "source": [
        "# Pandas를 사용해서 CSV 파일 불러오기\r\n",
        "spotify_song_data = pd.read_csv(\"song_data.csv\")\r\n",
        "spotify_song_info = pd.read_csv(\"song_info.csv\") \r\n",
        "song_info=spotify_song_info.copy()\r\n",
        "song_data=spotify_song_data.copy()"
      ],
      "execution_count": null,
      "outputs": []
    },
    {
      "cell_type": "code",
      "metadata": {
        "colab": {
          "base_uri": "https://localhost:8080/",
          "height": 306
        },
        "id": "pyUgJvM6uh_8",
        "outputId": "3f1320d4-afde-4e32-f13f-e6aa69a34e2b"
      },
      "source": [
        "song_data.head(5)"
      ],
      "execution_count": null,
      "outputs": [
        {
          "output_type": "execute_result",
          "data": {
            "text/html": [
              "<div>\n",
              "<style scoped>\n",
              "    .dataframe tbody tr th:only-of-type {\n",
              "        vertical-align: middle;\n",
              "    }\n",
              "\n",
              "    .dataframe tbody tr th {\n",
              "        vertical-align: top;\n",
              "    }\n",
              "\n",
              "    .dataframe thead th {\n",
              "        text-align: right;\n",
              "    }\n",
              "</style>\n",
              "<table border=\"1\" class=\"dataframe\">\n",
              "  <thead>\n",
              "    <tr style=\"text-align: right;\">\n",
              "      <th></th>\n",
              "      <th>song_name</th>\n",
              "      <th>song_popularity</th>\n",
              "      <th>song_duration_ms</th>\n",
              "      <th>acousticness</th>\n",
              "      <th>danceability</th>\n",
              "      <th>energy</th>\n",
              "      <th>instrumentalness</th>\n",
              "      <th>key</th>\n",
              "      <th>liveness</th>\n",
              "      <th>loudness</th>\n",
              "      <th>audio_mode</th>\n",
              "      <th>speechiness</th>\n",
              "      <th>tempo</th>\n",
              "      <th>time_signature</th>\n",
              "      <th>audio_valence</th>\n",
              "    </tr>\n",
              "  </thead>\n",
              "  <tbody>\n",
              "    <tr>\n",
              "      <th>0</th>\n",
              "      <td>Boulevard of Broken Dreams</td>\n",
              "      <td>73</td>\n",
              "      <td>262333</td>\n",
              "      <td>0.005520</td>\n",
              "      <td>0.496</td>\n",
              "      <td>0.682</td>\n",
              "      <td>0.000029</td>\n",
              "      <td>8</td>\n",
              "      <td>0.0589</td>\n",
              "      <td>-4.095</td>\n",
              "      <td>1</td>\n",
              "      <td>0.0294</td>\n",
              "      <td>167.060</td>\n",
              "      <td>4</td>\n",
              "      <td>0.474</td>\n",
              "    </tr>\n",
              "    <tr>\n",
              "      <th>1</th>\n",
              "      <td>In The End</td>\n",
              "      <td>66</td>\n",
              "      <td>216933</td>\n",
              "      <td>0.010300</td>\n",
              "      <td>0.542</td>\n",
              "      <td>0.853</td>\n",
              "      <td>0.000000</td>\n",
              "      <td>3</td>\n",
              "      <td>0.1080</td>\n",
              "      <td>-6.407</td>\n",
              "      <td>0</td>\n",
              "      <td>0.0498</td>\n",
              "      <td>105.256</td>\n",
              "      <td>4</td>\n",
              "      <td>0.370</td>\n",
              "    </tr>\n",
              "    <tr>\n",
              "      <th>2</th>\n",
              "      <td>Seven Nation Army</td>\n",
              "      <td>76</td>\n",
              "      <td>231733</td>\n",
              "      <td>0.008170</td>\n",
              "      <td>0.737</td>\n",
              "      <td>0.463</td>\n",
              "      <td>0.447000</td>\n",
              "      <td>0</td>\n",
              "      <td>0.2550</td>\n",
              "      <td>-7.828</td>\n",
              "      <td>1</td>\n",
              "      <td>0.0792</td>\n",
              "      <td>123.881</td>\n",
              "      <td>4</td>\n",
              "      <td>0.324</td>\n",
              "    </tr>\n",
              "    <tr>\n",
              "      <th>3</th>\n",
              "      <td>By The Way</td>\n",
              "      <td>74</td>\n",
              "      <td>216933</td>\n",
              "      <td>0.026400</td>\n",
              "      <td>0.451</td>\n",
              "      <td>0.970</td>\n",
              "      <td>0.003550</td>\n",
              "      <td>0</td>\n",
              "      <td>0.1020</td>\n",
              "      <td>-4.938</td>\n",
              "      <td>1</td>\n",
              "      <td>0.1070</td>\n",
              "      <td>122.444</td>\n",
              "      <td>4</td>\n",
              "      <td>0.198</td>\n",
              "    </tr>\n",
              "    <tr>\n",
              "      <th>4</th>\n",
              "      <td>How You Remind Me</td>\n",
              "      <td>56</td>\n",
              "      <td>223826</td>\n",
              "      <td>0.000954</td>\n",
              "      <td>0.447</td>\n",
              "      <td>0.766</td>\n",
              "      <td>0.000000</td>\n",
              "      <td>10</td>\n",
              "      <td>0.1130</td>\n",
              "      <td>-5.065</td>\n",
              "      <td>1</td>\n",
              "      <td>0.0313</td>\n",
              "      <td>172.011</td>\n",
              "      <td>4</td>\n",
              "      <td>0.574</td>\n",
              "    </tr>\n",
              "  </tbody>\n",
              "</table>\n",
              "</div>"
            ],
            "text/plain": [
              "                    song_name  song_popularity  ...  time_signature  audio_valence\n",
              "0  Boulevard of Broken Dreams               73  ...               4          0.474\n",
              "1                  In The End               66  ...               4          0.370\n",
              "2           Seven Nation Army               76  ...               4          0.324\n",
              "3                  By The Way               74  ...               4          0.198\n",
              "4           How You Remind Me               56  ...               4          0.574\n",
              "\n",
              "[5 rows x 15 columns]"
            ]
          },
          "metadata": {
            "tags": []
          },
          "execution_count": 4
        }
      ]
    },
    {
      "cell_type": "code",
      "metadata": {
        "colab": {
          "base_uri": "https://localhost:8080/"
        },
        "id": "AhTALqz4uj0B",
        "outputId": "ac35b92b-bea7-44ec-f1e0-e200e66eeced"
      },
      "source": [
        "song_data.shape"
      ],
      "execution_count": null,
      "outputs": [
        {
          "output_type": "execute_result",
          "data": {
            "text/plain": [
              "(18835, 15)"
            ]
          },
          "metadata": {
            "tags": []
          },
          "execution_count": 6
        }
      ]
    },
    {
      "cell_type": "code",
      "metadata": {
        "colab": {
          "base_uri": "https://localhost:8080/",
          "height": 201
        },
        "id": "m51ZiDUZvBag",
        "outputId": "25c64da9-de15-48b2-e099-aea1b78a0b6d"
      },
      "source": [
        "spotify_song_info.head(5)"
      ],
      "execution_count": null,
      "outputs": [
        {
          "output_type": "execute_result",
          "data": {
            "text/html": [
              "<div>\n",
              "<style scoped>\n",
              "    .dataframe tbody tr th:only-of-type {\n",
              "        vertical-align: middle;\n",
              "    }\n",
              "\n",
              "    .dataframe tbody tr th {\n",
              "        vertical-align: top;\n",
              "    }\n",
              "\n",
              "    .dataframe thead th {\n",
              "        text-align: right;\n",
              "    }\n",
              "</style>\n",
              "<table border=\"1\" class=\"dataframe\">\n",
              "  <thead>\n",
              "    <tr style=\"text-align: right;\">\n",
              "      <th></th>\n",
              "      <th>song_name</th>\n",
              "      <th>artist_name</th>\n",
              "      <th>album_names</th>\n",
              "      <th>playlist</th>\n",
              "    </tr>\n",
              "  </thead>\n",
              "  <tbody>\n",
              "    <tr>\n",
              "      <th>0</th>\n",
              "      <td>Boulevard of Broken Dreams</td>\n",
              "      <td>Green Day</td>\n",
              "      <td>Greatest Hits: God's Favorite Band</td>\n",
              "      <td>00s Rock Anthems</td>\n",
              "    </tr>\n",
              "    <tr>\n",
              "      <th>1</th>\n",
              "      <td>In The End</td>\n",
              "      <td>Linkin Park</td>\n",
              "      <td>Hybrid Theory</td>\n",
              "      <td>00s Rock Anthems</td>\n",
              "    </tr>\n",
              "    <tr>\n",
              "      <th>2</th>\n",
              "      <td>Seven Nation Army</td>\n",
              "      <td>The White Stripes</td>\n",
              "      <td>Elephant</td>\n",
              "      <td>00s Rock Anthems</td>\n",
              "    </tr>\n",
              "    <tr>\n",
              "      <th>3</th>\n",
              "      <td>By The Way</td>\n",
              "      <td>Red Hot Chili Peppers</td>\n",
              "      <td>By The Way (Deluxe Version)</td>\n",
              "      <td>00s Rock Anthems</td>\n",
              "    </tr>\n",
              "    <tr>\n",
              "      <th>4</th>\n",
              "      <td>How You Remind Me</td>\n",
              "      <td>Nickelback</td>\n",
              "      <td>Silver Side Up</td>\n",
              "      <td>00s Rock Anthems</td>\n",
              "    </tr>\n",
              "  </tbody>\n",
              "</table>\n",
              "</div>"
            ],
            "text/plain": [
              "                    song_name  ...          playlist\n",
              "0  Boulevard of Broken Dreams  ...  00s Rock Anthems\n",
              "1                  In The End  ...  00s Rock Anthems\n",
              "2           Seven Nation Army  ...  00s Rock Anthems\n",
              "3                  By The Way  ...  00s Rock Anthems\n",
              "4           How You Remind Me  ...  00s Rock Anthems\n",
              "\n",
              "[5 rows x 4 columns]"
            ]
          },
          "metadata": {
            "tags": []
          },
          "execution_count": 7
        }
      ]
    },
    {
      "cell_type": "code",
      "metadata": {
        "colab": {
          "base_uri": "https://localhost:8080/"
        },
        "id": "nBiu08IivCoQ",
        "outputId": "5d7b1ba3-4b41-4754-f774-72722cf5a51c"
      },
      "source": [
        "spotify_song_info.shape"
      ],
      "execution_count": null,
      "outputs": [
        {
          "output_type": "execute_result",
          "data": {
            "text/plain": [
              "(18835, 4)"
            ]
          },
          "metadata": {
            "tags": []
          },
          "execution_count": 8
        }
      ]
    },
    {
      "cell_type": "markdown",
      "metadata": {
        "id": "wDYaIjtNtdwm"
      },
      "source": [
        "## 3. 데이터 확인 통찰, 가설"
      ]
    },
    {
      "cell_type": "markdown",
      "metadata": {
        "id": "JRaME32dtdyd"
      },
      "source": [
        "### 3-1. 데이터가 빠진부분이 없는가?\r\n"
      ]
    },
    {
      "cell_type": "code",
      "metadata": {
        "colab": {
          "base_uri": "https://localhost:8080/"
        },
        "id": "JeXsIGwbtcm5",
        "outputId": "dbe48aba-af0b-436d-943e-b68e8d12c124"
      },
      "source": [
        "song_data.isnull().sum()"
      ],
      "execution_count": null,
      "outputs": [
        {
          "output_type": "execute_result",
          "data": {
            "text/plain": [
              "song_name           0\n",
              "song_popularity     0\n",
              "song_duration_ms    0\n",
              "acousticness        0\n",
              "danceability        0\n",
              "energy              0\n",
              "instrumentalness    0\n",
              "key                 0\n",
              "liveness            0\n",
              "loudness            0\n",
              "audio_mode          0\n",
              "speechiness         0\n",
              "tempo               0\n",
              "time_signature      0\n",
              "audio_valence       0\n",
              "dtype: int64"
            ]
          },
          "metadata": {
            "tags": []
          },
          "execution_count": 10
        }
      ]
    },
    {
      "cell_type": "markdown",
      "metadata": {
        "id": "n51jd9TbwHwB"
      },
      "source": [
        "### 3-2 데이터를 확인"
      ]
    },
    {
      "cell_type": "code",
      "metadata": {
        "colab": {
          "base_uri": "https://localhost:8080/"
        },
        "id": "Ah9JmgMvwS_P",
        "outputId": "5294dbe5-2cd2-4a67-b185-136821b0140b"
      },
      "source": [
        "song_data.info()"
      ],
      "execution_count": null,
      "outputs": [
        {
          "output_type": "stream",
          "text": [
            "<class 'pandas.core.frame.DataFrame'>\n",
            "RangeIndex: 18835 entries, 0 to 18834\n",
            "Data columns (total 15 columns):\n",
            " #   Column            Non-Null Count  Dtype  \n",
            "---  ------            --------------  -----  \n",
            " 0   song_name         18835 non-null  object \n",
            " 1   song_popularity   18835 non-null  int64  \n",
            " 2   song_duration_ms  18835 non-null  float64\n",
            " 3   acousticness      18835 non-null  float64\n",
            " 4   danceability      18835 non-null  float64\n",
            " 5   energy            18835 non-null  float64\n",
            " 6   instrumentalness  18835 non-null  float64\n",
            " 7   key               18835 non-null  int64  \n",
            " 8   liveness          18835 non-null  float64\n",
            " 9   loudness          18835 non-null  float64\n",
            " 10  audio_mode        18835 non-null  int64  \n",
            " 11  speechiness       18835 non-null  float64\n",
            " 12  tempo             18835 non-null  float64\n",
            " 13  time_signature    18835 non-null  int64  \n",
            " 14  audio_valence     18835 non-null  float64\n",
            "dtypes: float64(10), int64(4), object(1)\n",
            "memory usage: 2.2+ MB\n"
          ],
          "name": "stdout"
        }
      ]
    },
    {
      "cell_type": "code",
      "metadata": {
        "id": "bnYXTeekwTXv"
      },
      "source": [
        "song_data.key = song_data.key.astype(float)\r\n",
        "song_data.song_duration_ms = song_data.song_duration_ms.astype(float)\r\n",
        "song_data.time_signature = song_data.time_signature.astype(float)\r\n",
        "song_data.audio_mode = song_data.audio_mode.astype(float)"
      ],
      "execution_count": null,
      "outputs": []
    },
    {
      "cell_type": "code",
      "metadata": {
        "colab": {
          "base_uri": "https://localhost:8080/"
        },
        "id": "FQPFgSPSwlwB",
        "outputId": "4ab7dc31-65f7-4b35-a339-24813395e9cb"
      },
      "source": [
        "song_data.info()"
      ],
      "execution_count": null,
      "outputs": [
        {
          "output_type": "stream",
          "text": [
            "<class 'pandas.core.frame.DataFrame'>\n",
            "RangeIndex: 18835 entries, 0 to 18834\n",
            "Data columns (total 15 columns):\n",
            " #   Column            Non-Null Count  Dtype  \n",
            "---  ------            --------------  -----  \n",
            " 0   song_name         18835 non-null  object \n",
            " 1   song_popularity   18835 non-null  int64  \n",
            " 2   song_duration_ms  18835 non-null  float64\n",
            " 3   acousticness      18835 non-null  float64\n",
            " 4   danceability      18835 non-null  float64\n",
            " 5   energy            18835 non-null  float64\n",
            " 6   instrumentalness  18835 non-null  float64\n",
            " 7   key               18835 non-null  float64\n",
            " 8   liveness          18835 non-null  float64\n",
            " 9   loudness          18835 non-null  float64\n",
            " 10  audio_mode        18835 non-null  float64\n",
            " 11  speechiness       18835 non-null  float64\n",
            " 12  tempo             18835 non-null  float64\n",
            " 13  time_signature    18835 non-null  float64\n",
            " 14  audio_valence     18835 non-null  float64\n",
            "dtypes: float64(13), int64(1), object(1)\n",
            "memory usage: 2.2+ MB\n"
          ],
          "name": "stdout"
        }
      ]
    },
    {
      "cell_type": "code",
      "metadata": {
        "colab": {
          "base_uri": "https://localhost:8080/",
          "height": 313
        },
        "id": "qMeNwEL0w3Pg",
        "outputId": "24cdad7d-2f8c-4806-deb0-c6deb8e329f7"
      },
      "source": [
        "song_data.describe()"
      ],
      "execution_count": null,
      "outputs": [
        {
          "output_type": "execute_result",
          "data": {
            "text/html": [
              "<div>\n",
              "<style scoped>\n",
              "    .dataframe tbody tr th:only-of-type {\n",
              "        vertical-align: middle;\n",
              "    }\n",
              "\n",
              "    .dataframe tbody tr th {\n",
              "        vertical-align: top;\n",
              "    }\n",
              "\n",
              "    .dataframe thead th {\n",
              "        text-align: right;\n",
              "    }\n",
              "</style>\n",
              "<table border=\"1\" class=\"dataframe\">\n",
              "  <thead>\n",
              "    <tr style=\"text-align: right;\">\n",
              "      <th></th>\n",
              "      <th>song_popularity</th>\n",
              "      <th>song_duration_ms</th>\n",
              "      <th>acousticness</th>\n",
              "      <th>danceability</th>\n",
              "      <th>energy</th>\n",
              "      <th>instrumentalness</th>\n",
              "      <th>key</th>\n",
              "      <th>liveness</th>\n",
              "      <th>loudness</th>\n",
              "      <th>audio_mode</th>\n",
              "      <th>speechiness</th>\n",
              "      <th>tempo</th>\n",
              "      <th>time_signature</th>\n",
              "      <th>audio_valence</th>\n",
              "    </tr>\n",
              "  </thead>\n",
              "  <tbody>\n",
              "    <tr>\n",
              "      <th>count</th>\n",
              "      <td>18835.000000</td>\n",
              "      <td>1.883500e+04</td>\n",
              "      <td>18835.000000</td>\n",
              "      <td>18835.000000</td>\n",
              "      <td>18835.000000</td>\n",
              "      <td>18835.000000</td>\n",
              "      <td>18835.000000</td>\n",
              "      <td>18835.000000</td>\n",
              "      <td>18835.000000</td>\n",
              "      <td>18835.000000</td>\n",
              "      <td>18835.000000</td>\n",
              "      <td>18835.000000</td>\n",
              "      <td>18835.000000</td>\n",
              "      <td>18835.000000</td>\n",
              "    </tr>\n",
              "    <tr>\n",
              "      <th>mean</th>\n",
              "      <td>52.991877</td>\n",
              "      <td>2.182116e+05</td>\n",
              "      <td>0.258539</td>\n",
              "      <td>0.633348</td>\n",
              "      <td>0.644995</td>\n",
              "      <td>0.078008</td>\n",
              "      <td>5.289196</td>\n",
              "      <td>0.179650</td>\n",
              "      <td>-7.447435</td>\n",
              "      <td>0.628139</td>\n",
              "      <td>0.102099</td>\n",
              "      <td>121.073154</td>\n",
              "      <td>3.959119</td>\n",
              "      <td>0.527967</td>\n",
              "    </tr>\n",
              "    <tr>\n",
              "      <th>std</th>\n",
              "      <td>21.905654</td>\n",
              "      <td>5.988754e+04</td>\n",
              "      <td>0.288719</td>\n",
              "      <td>0.156723</td>\n",
              "      <td>0.214101</td>\n",
              "      <td>0.221591</td>\n",
              "      <td>3.614595</td>\n",
              "      <td>0.143984</td>\n",
              "      <td>3.827831</td>\n",
              "      <td>0.483314</td>\n",
              "      <td>0.104378</td>\n",
              "      <td>28.714456</td>\n",
              "      <td>0.298533</td>\n",
              "      <td>0.244632</td>\n",
              "    </tr>\n",
              "    <tr>\n",
              "      <th>min</th>\n",
              "      <td>0.000000</td>\n",
              "      <td>1.200000e+04</td>\n",
              "      <td>0.000001</td>\n",
              "      <td>0.000000</td>\n",
              "      <td>0.001070</td>\n",
              "      <td>0.000000</td>\n",
              "      <td>0.000000</td>\n",
              "      <td>0.010900</td>\n",
              "      <td>-38.768000</td>\n",
              "      <td>0.000000</td>\n",
              "      <td>0.000000</td>\n",
              "      <td>0.000000</td>\n",
              "      <td>0.000000</td>\n",
              "      <td>0.000000</td>\n",
              "    </tr>\n",
              "    <tr>\n",
              "      <th>25%</th>\n",
              "      <td>40.000000</td>\n",
              "      <td>1.843395e+05</td>\n",
              "      <td>0.024100</td>\n",
              "      <td>0.533000</td>\n",
              "      <td>0.510000</td>\n",
              "      <td>0.000000</td>\n",
              "      <td>2.000000</td>\n",
              "      <td>0.092900</td>\n",
              "      <td>-9.044000</td>\n",
              "      <td>0.000000</td>\n",
              "      <td>0.037800</td>\n",
              "      <td>98.368000</td>\n",
              "      <td>4.000000</td>\n",
              "      <td>0.335000</td>\n",
              "    </tr>\n",
              "    <tr>\n",
              "      <th>50%</th>\n",
              "      <td>56.000000</td>\n",
              "      <td>2.113060e+05</td>\n",
              "      <td>0.132000</td>\n",
              "      <td>0.645000</td>\n",
              "      <td>0.674000</td>\n",
              "      <td>0.000011</td>\n",
              "      <td>5.000000</td>\n",
              "      <td>0.122000</td>\n",
              "      <td>-6.555000</td>\n",
              "      <td>1.000000</td>\n",
              "      <td>0.055500</td>\n",
              "      <td>120.013000</td>\n",
              "      <td>4.000000</td>\n",
              "      <td>0.527000</td>\n",
              "    </tr>\n",
              "    <tr>\n",
              "      <th>75%</th>\n",
              "      <td>69.000000</td>\n",
              "      <td>2.428440e+05</td>\n",
              "      <td>0.424000</td>\n",
              "      <td>0.748000</td>\n",
              "      <td>0.815000</td>\n",
              "      <td>0.002570</td>\n",
              "      <td>8.000000</td>\n",
              "      <td>0.221000</td>\n",
              "      <td>-4.908000</td>\n",
              "      <td>1.000000</td>\n",
              "      <td>0.119000</td>\n",
              "      <td>139.931000</td>\n",
              "      <td>4.000000</td>\n",
              "      <td>0.725000</td>\n",
              "    </tr>\n",
              "    <tr>\n",
              "      <th>max</th>\n",
              "      <td>100.000000</td>\n",
              "      <td>1.799346e+06</td>\n",
              "      <td>0.996000</td>\n",
              "      <td>0.987000</td>\n",
              "      <td>0.999000</td>\n",
              "      <td>0.997000</td>\n",
              "      <td>11.000000</td>\n",
              "      <td>0.986000</td>\n",
              "      <td>1.585000</td>\n",
              "      <td>1.000000</td>\n",
              "      <td>0.941000</td>\n",
              "      <td>242.318000</td>\n",
              "      <td>5.000000</td>\n",
              "      <td>0.984000</td>\n",
              "    </tr>\n",
              "  </tbody>\n",
              "</table>\n",
              "</div>"
            ],
            "text/plain": [
              "       song_popularity  song_duration_ms  ...  time_signature  audio_valence\n",
              "count     18835.000000      1.883500e+04  ...    18835.000000   18835.000000\n",
              "mean         52.991877      2.182116e+05  ...        3.959119       0.527967\n",
              "std          21.905654      5.988754e+04  ...        0.298533       0.244632\n",
              "min           0.000000      1.200000e+04  ...        0.000000       0.000000\n",
              "25%          40.000000      1.843395e+05  ...        4.000000       0.335000\n",
              "50%          56.000000      2.113060e+05  ...        4.000000       0.527000\n",
              "75%          69.000000      2.428440e+05  ...        4.000000       0.725000\n",
              "max         100.000000      1.799346e+06  ...        5.000000       0.984000\n",
              "\n",
              "[8 rows x 14 columns]"
            ]
          },
          "metadata": {
            "tags": []
          },
          "execution_count": 16
        }
      ]
    },
    {
      "cell_type": "code",
      "metadata": {
        "colab": {
          "base_uri": "https://localhost:8080/"
        },
        "id": "XL62VFE6xEmY",
        "outputId": "47d56487-11a9-4c9d-f8ff-7b77ebf74dac"
      },
      "source": [
        "song_data['popularity'] = [ 1 if i >= 69.0 else 0 for i in song_data.song_popularity ]\r\n",
        "song_data['popularity'].value_counts()"
      ],
      "execution_count": null,
      "outputs": [
        {
          "output_type": "execute_result",
          "data": {
            "text/plain": [
              "0    14025\n",
              "1     4810\n",
              "Name: popularity, dtype: int64"
            ]
          },
          "metadata": {
            "tags": []
          },
          "execution_count": 17
        }
      ]
    },
    {
      "cell_type": "code",
      "metadata": {
        "colab": {
          "base_uri": "https://localhost:8080/",
          "height": 313
        },
        "id": "A2rGSp83yOm0",
        "outputId": "bfc4c6dd-6d77-41ba-8ffb-11597a45be71"
      },
      "source": [
        "popularity=song_data[song_data['popularity']==1]\r\n",
        "popularity.describe()"
      ],
      "execution_count": null,
      "outputs": [
        {
          "output_type": "execute_result",
          "data": {
            "text/html": [
              "<div>\n",
              "<style scoped>\n",
              "    .dataframe tbody tr th:only-of-type {\n",
              "        vertical-align: middle;\n",
              "    }\n",
              "\n",
              "    .dataframe tbody tr th {\n",
              "        vertical-align: top;\n",
              "    }\n",
              "\n",
              "    .dataframe thead th {\n",
              "        text-align: right;\n",
              "    }\n",
              "</style>\n",
              "<table border=\"1\" class=\"dataframe\">\n",
              "  <thead>\n",
              "    <tr style=\"text-align: right;\">\n",
              "      <th></th>\n",
              "      <th>song_popularity</th>\n",
              "      <th>song_duration_ms</th>\n",
              "      <th>acousticness</th>\n",
              "      <th>danceability</th>\n",
              "      <th>energy</th>\n",
              "      <th>instrumentalness</th>\n",
              "      <th>key</th>\n",
              "      <th>liveness</th>\n",
              "      <th>loudness</th>\n",
              "      <th>audio_mode</th>\n",
              "      <th>speechiness</th>\n",
              "      <th>tempo</th>\n",
              "      <th>time_signature</th>\n",
              "      <th>audio_valence</th>\n",
              "      <th>popularity</th>\n",
              "    </tr>\n",
              "  </thead>\n",
              "  <tbody>\n",
              "    <tr>\n",
              "      <th>count</th>\n",
              "      <td>4810.00000</td>\n",
              "      <td>4810.000000</td>\n",
              "      <td>4810.000000</td>\n",
              "      <td>4810.000000</td>\n",
              "      <td>4810.000000</td>\n",
              "      <td>4810.000000</td>\n",
              "      <td>4810.000000</td>\n",
              "      <td>4810.000000</td>\n",
              "      <td>4810.000000</td>\n",
              "      <td>4810.000000</td>\n",
              "      <td>4810.000000</td>\n",
              "      <td>4810.000000</td>\n",
              "      <td>4810.000000</td>\n",
              "      <td>4810.000000</td>\n",
              "      <td>4810.0</td>\n",
              "    </tr>\n",
              "    <tr>\n",
              "      <th>mean</th>\n",
              "      <td>78.25052</td>\n",
              "      <td>218996.596050</td>\n",
              "      <td>0.207509</td>\n",
              "      <td>0.663877</td>\n",
              "      <td>0.659254</td>\n",
              "      <td>0.018166</td>\n",
              "      <td>5.123285</td>\n",
              "      <td>0.173475</td>\n",
              "      <td>-6.511325</td>\n",
              "      <td>0.613514</td>\n",
              "      <td>0.107150</td>\n",
              "      <td>120.856579</td>\n",
              "      <td>3.972557</td>\n",
              "      <td>0.517530</td>\n",
              "      <td>1.0</td>\n",
              "    </tr>\n",
              "    <tr>\n",
              "      <th>std</th>\n",
              "      <td>7.76009</td>\n",
              "      <td>48028.885557</td>\n",
              "      <td>0.240750</td>\n",
              "      <td>0.147162</td>\n",
              "      <td>0.182687</td>\n",
              "      <td>0.100254</td>\n",
              "      <td>3.656602</td>\n",
              "      <td>0.136750</td>\n",
              "      <td>2.959701</td>\n",
              "      <td>0.486995</td>\n",
              "      <td>0.101772</td>\n",
              "      <td>27.472955</td>\n",
              "      <td>0.256493</td>\n",
              "      <td>0.229166</td>\n",
              "      <td>0.0</td>\n",
              "    </tr>\n",
              "    <tr>\n",
              "      <th>min</th>\n",
              "      <td>69.00000</td>\n",
              "      <td>67000.000000</td>\n",
              "      <td>0.000018</td>\n",
              "      <td>0.072200</td>\n",
              "      <td>0.002890</td>\n",
              "      <td>0.000000</td>\n",
              "      <td>0.000000</td>\n",
              "      <td>0.021500</td>\n",
              "      <td>-34.255000</td>\n",
              "      <td>0.000000</td>\n",
              "      <td>0.022400</td>\n",
              "      <td>60.048000</td>\n",
              "      <td>1.000000</td>\n",
              "      <td>0.035200</td>\n",
              "      <td>1.0</td>\n",
              "    </tr>\n",
              "    <tr>\n",
              "      <th>25%</th>\n",
              "      <td>72.00000</td>\n",
              "      <td>190417.500000</td>\n",
              "      <td>0.027525</td>\n",
              "      <td>0.568000</td>\n",
              "      <td>0.544000</td>\n",
              "      <td>0.000000</td>\n",
              "      <td>1.000000</td>\n",
              "      <td>0.091925</td>\n",
              "      <td>-7.719000</td>\n",
              "      <td>0.000000</td>\n",
              "      <td>0.039400</td>\n",
              "      <td>98.970000</td>\n",
              "      <td>4.000000</td>\n",
              "      <td>0.333000</td>\n",
              "      <td>1.0</td>\n",
              "    </tr>\n",
              "    <tr>\n",
              "      <th>50%</th>\n",
              "      <td>76.00000</td>\n",
              "      <td>212696.000000</td>\n",
              "      <td>0.107000</td>\n",
              "      <td>0.673000</td>\n",
              "      <td>0.678000</td>\n",
              "      <td>0.000000</td>\n",
              "      <td>5.000000</td>\n",
              "      <td>0.121000</td>\n",
              "      <td>-5.931000</td>\n",
              "      <td>1.000000</td>\n",
              "      <td>0.060000</td>\n",
              "      <td>119.945000</td>\n",
              "      <td>4.000000</td>\n",
              "      <td>0.508000</td>\n",
              "      <td>1.0</td>\n",
              "    </tr>\n",
              "    <tr>\n",
              "      <th>75%</th>\n",
              "      <td>83.00000</td>\n",
              "      <td>240706.000000</td>\n",
              "      <td>0.297000</td>\n",
              "      <td>0.767000</td>\n",
              "      <td>0.799000</td>\n",
              "      <td>0.000092</td>\n",
              "      <td>8.000000</td>\n",
              "      <td>0.203000</td>\n",
              "      <td>-4.599250</td>\n",
              "      <td>1.000000</td>\n",
              "      <td>0.134000</td>\n",
              "      <td>139.755000</td>\n",
              "      <td>4.000000</td>\n",
              "      <td>0.690000</td>\n",
              "      <td>1.0</td>\n",
              "    </tr>\n",
              "    <tr>\n",
              "      <th>max</th>\n",
              "      <td>100.00000</td>\n",
              "      <td>547733.000000</td>\n",
              "      <td>0.996000</td>\n",
              "      <td>0.978000</td>\n",
              "      <td>0.997000</td>\n",
              "      <td>0.968000</td>\n",
              "      <td>11.000000</td>\n",
              "      <td>0.978000</td>\n",
              "      <td>-0.739000</td>\n",
              "      <td>1.000000</td>\n",
              "      <td>0.733000</td>\n",
              "      <td>205.999000</td>\n",
              "      <td>5.000000</td>\n",
              "      <td>0.980000</td>\n",
              "      <td>1.0</td>\n",
              "    </tr>\n",
              "  </tbody>\n",
              "</table>\n",
              "</div>"
            ],
            "text/plain": [
              "       song_popularity  song_duration_ms  ...  audio_valence  popularity\n",
              "count       4810.00000       4810.000000  ...    4810.000000      4810.0\n",
              "mean          78.25052     218996.596050  ...       0.517530         1.0\n",
              "std            7.76009      48028.885557  ...       0.229166         0.0\n",
              "min           69.00000      67000.000000  ...       0.035200         1.0\n",
              "25%           72.00000     190417.500000  ...       0.333000         1.0\n",
              "50%           76.00000     212696.000000  ...       0.508000         1.0\n",
              "75%           83.00000     240706.000000  ...       0.690000         1.0\n",
              "max          100.00000     547733.000000  ...       0.980000         1.0\n",
              "\n",
              "[8 rows x 15 columns]"
            ]
          },
          "metadata": {
            "tags": []
          },
          "execution_count": 22
        }
      ]
    },
    {
      "cell_type": "code",
      "metadata": {
        "colab": {
          "base_uri": "https://localhost:8080/",
          "height": 528
        },
        "id": "0C5UqHlqylEo",
        "outputId": "033f20fa-8f62-4ebc-ff78-9667eee44ca9"
      },
      "source": [
        "song_data.corr()"
      ],
      "execution_count": null,
      "outputs": [
        {
          "output_type": "execute_result",
          "data": {
            "text/html": [
              "<div>\n",
              "<style scoped>\n",
              "    .dataframe tbody tr th:only-of-type {\n",
              "        vertical-align: middle;\n",
              "    }\n",
              "\n",
              "    .dataframe tbody tr th {\n",
              "        vertical-align: top;\n",
              "    }\n",
              "\n",
              "    .dataframe thead th {\n",
              "        text-align: right;\n",
              "    }\n",
              "</style>\n",
              "<table border=\"1\" class=\"dataframe\">\n",
              "  <thead>\n",
              "    <tr style=\"text-align: right;\">\n",
              "      <th></th>\n",
              "      <th>song_popularity</th>\n",
              "      <th>song_duration_ms</th>\n",
              "      <th>acousticness</th>\n",
              "      <th>danceability</th>\n",
              "      <th>energy</th>\n",
              "      <th>instrumentalness</th>\n",
              "      <th>key</th>\n",
              "      <th>liveness</th>\n",
              "      <th>loudness</th>\n",
              "      <th>audio_mode</th>\n",
              "      <th>speechiness</th>\n",
              "      <th>tempo</th>\n",
              "      <th>time_signature</th>\n",
              "      <th>audio_valence</th>\n",
              "      <th>popularity</th>\n",
              "    </tr>\n",
              "  </thead>\n",
              "  <tbody>\n",
              "    <tr>\n",
              "      <th>song_popularity</th>\n",
              "      <td>1.000000</td>\n",
              "      <td>-0.018899</td>\n",
              "      <td>-0.065181</td>\n",
              "      <td>0.104290</td>\n",
              "      <td>0.001365</td>\n",
              "      <td>-0.130907</td>\n",
              "      <td>-0.013160</td>\n",
              "      <td>-0.038937</td>\n",
              "      <td>0.099442</td>\n",
              "      <td>-0.004969</td>\n",
              "      <td>0.021479</td>\n",
              "      <td>-0.022672</td>\n",
              "      <td>0.034983</td>\n",
              "      <td>-0.052895</td>\n",
              "      <td>0.675284</td>\n",
              "    </tr>\n",
              "    <tr>\n",
              "      <th>song_duration_ms</th>\n",
              "      <td>-0.018899</td>\n",
              "      <td>1.000000</td>\n",
              "      <td>-0.097882</td>\n",
              "      <td>-0.104985</td>\n",
              "      <td>0.092688</td>\n",
              "      <td>-0.015188</td>\n",
              "      <td>-0.004615</td>\n",
              "      <td>0.016086</td>\n",
              "      <td>0.016469</td>\n",
              "      <td>-0.026328</td>\n",
              "      <td>-0.083447</td>\n",
              "      <td>0.012791</td>\n",
              "      <td>0.000264</td>\n",
              "      <td>-0.063421</td>\n",
              "      <td>0.007677</td>\n",
              "    </tr>\n",
              "    <tr>\n",
              "      <th>acousticness</th>\n",
              "      <td>-0.065181</td>\n",
              "      <td>-0.097882</td>\n",
              "      <td>1.000000</td>\n",
              "      <td>-0.182500</td>\n",
              "      <td>-0.662639</td>\n",
              "      <td>0.173098</td>\n",
              "      <td>-0.002025</td>\n",
              "      <td>-0.082537</td>\n",
              "      <td>-0.557744</td>\n",
              "      <td>0.064100</td>\n",
              "      <td>-0.093574</td>\n",
              "      <td>-0.136421</td>\n",
              "      <td>-0.157177</td>\n",
              "      <td>-0.121670</td>\n",
              "      <td>-0.103510</td>\n",
              "    </tr>\n",
              "    <tr>\n",
              "      <th>danceability</th>\n",
              "      <td>0.104290</td>\n",
              "      <td>-0.104985</td>\n",
              "      <td>-0.182500</td>\n",
              "      <td>1.000000</td>\n",
              "      <td>0.044373</td>\n",
              "      <td>-0.130483</td>\n",
              "      <td>0.007723</td>\n",
              "      <td>-0.090694</td>\n",
              "      <td>0.177639</td>\n",
              "      <td>-0.106539</td>\n",
              "      <td>0.213728</td>\n",
              "      <td>-0.121286</td>\n",
              "      <td>0.136391</td>\n",
              "      <td>0.332014</td>\n",
              "      <td>0.114080</td>\n",
              "    </tr>\n",
              "    <tr>\n",
              "      <th>energy</th>\n",
              "      <td>0.001365</td>\n",
              "      <td>0.092688</td>\n",
              "      <td>-0.662639</td>\n",
              "      <td>0.044373</td>\n",
              "      <td>1.000000</td>\n",
              "      <td>-0.205914</td>\n",
              "      <td>0.020416</td>\n",
              "      <td>0.167143</td>\n",
              "      <td>0.755516</td>\n",
              "      <td>-0.051605</td>\n",
              "      <td>0.062053</td>\n",
              "      <td>0.162448</td>\n",
              "      <td>0.146265</td>\n",
              "      <td>0.316742</td>\n",
              "      <td>0.039004</td>\n",
              "    </tr>\n",
              "    <tr>\n",
              "      <th>instrumentalness</th>\n",
              "      <td>-0.130907</td>\n",
              "      <td>-0.015188</td>\n",
              "      <td>0.173098</td>\n",
              "      <td>-0.130483</td>\n",
              "      <td>-0.205914</td>\n",
              "      <td>1.000000</td>\n",
              "      <td>-0.009463</td>\n",
              "      <td>-0.032887</td>\n",
              "      <td>-0.390248</td>\n",
              "      <td>-0.014983</td>\n",
              "      <td>-0.081138</td>\n",
              "      <td>-0.036934</td>\n",
              "      <td>-0.069181</td>\n",
              "      <td>-0.178570</td>\n",
              "      <td>-0.158157</td>\n",
              "    </tr>\n",
              "    <tr>\n",
              "      <th>key</th>\n",
              "      <td>-0.013160</td>\n",
              "      <td>-0.004615</td>\n",
              "      <td>-0.002025</td>\n",
              "      <td>0.007723</td>\n",
              "      <td>0.020416</td>\n",
              "      <td>-0.009463</td>\n",
              "      <td>1.000000</td>\n",
              "      <td>-0.008193</td>\n",
              "      <td>0.010452</td>\n",
              "      <td>-0.169848</td>\n",
              "      <td>0.033639</td>\n",
              "      <td>0.003239</td>\n",
              "      <td>-0.008282</td>\n",
              "      <td>0.025356</td>\n",
              "      <td>-0.026881</td>\n",
              "    </tr>\n",
              "    <tr>\n",
              "      <th>liveness</th>\n",
              "      <td>-0.038937</td>\n",
              "      <td>0.016086</td>\n",
              "      <td>-0.082537</td>\n",
              "      <td>-0.090694</td>\n",
              "      <td>0.167143</td>\n",
              "      <td>-0.032887</td>\n",
              "      <td>-0.008193</td>\n",
              "      <td>1.000000</td>\n",
              "      <td>0.102450</td>\n",
              "      <td>-0.001035</td>\n",
              "      <td>0.090845</td>\n",
              "      <td>0.031876</td>\n",
              "      <td>0.013289</td>\n",
              "      <td>0.013789</td>\n",
              "      <td>-0.025119</td>\n",
              "    </tr>\n",
              "    <tr>\n",
              "      <th>loudness</th>\n",
              "      <td>0.099442</td>\n",
              "      <td>0.016469</td>\n",
              "      <td>-0.557744</td>\n",
              "      <td>0.177639</td>\n",
              "      <td>0.755516</td>\n",
              "      <td>-0.390248</td>\n",
              "      <td>0.010452</td>\n",
              "      <td>0.102450</td>\n",
              "      <td>1.000000</td>\n",
              "      <td>-0.058506</td>\n",
              "      <td>0.078164</td>\n",
              "      <td>0.129938</td>\n",
              "      <td>0.119241</td>\n",
              "      <td>0.199696</td>\n",
              "      <td>0.143221</td>\n",
              "    </tr>\n",
              "    <tr>\n",
              "      <th>audio_mode</th>\n",
              "      <td>-0.004969</td>\n",
              "      <td>-0.026328</td>\n",
              "      <td>0.064100</td>\n",
              "      <td>-0.106539</td>\n",
              "      <td>-0.051605</td>\n",
              "      <td>-0.014983</td>\n",
              "      <td>-0.169848</td>\n",
              "      <td>-0.001035</td>\n",
              "      <td>-0.058506</td>\n",
              "      <td>1.000000</td>\n",
              "      <td>-0.111627</td>\n",
              "      <td>0.020448</td>\n",
              "      <td>-0.024042</td>\n",
              "      <td>-0.004558</td>\n",
              "      <td>-0.017722</td>\n",
              "    </tr>\n",
              "    <tr>\n",
              "      <th>speechiness</th>\n",
              "      <td>0.021479</td>\n",
              "      <td>-0.083447</td>\n",
              "      <td>-0.093574</td>\n",
              "      <td>0.213728</td>\n",
              "      <td>0.062053</td>\n",
              "      <td>-0.081138</td>\n",
              "      <td>0.033639</td>\n",
              "      <td>0.090845</td>\n",
              "      <td>0.078164</td>\n",
              "      <td>-0.111627</td>\n",
              "      <td>1.000000</td>\n",
              "      <td>0.071685</td>\n",
              "      <td>0.057162</td>\n",
              "      <td>0.011046</td>\n",
              "      <td>0.028339</td>\n",
              "    </tr>\n",
              "    <tr>\n",
              "      <th>tempo</th>\n",
              "      <td>-0.022672</td>\n",
              "      <td>0.012791</td>\n",
              "      <td>-0.136421</td>\n",
              "      <td>-0.121286</td>\n",
              "      <td>0.162448</td>\n",
              "      <td>-0.036934</td>\n",
              "      <td>0.003239</td>\n",
              "      <td>0.031876</td>\n",
              "      <td>0.129938</td>\n",
              "      <td>0.020448</td>\n",
              "      <td>0.071685</td>\n",
              "      <td>1.000000</td>\n",
              "      <td>0.003978</td>\n",
              "      <td>0.037667</td>\n",
              "      <td>-0.004417</td>\n",
              "    </tr>\n",
              "    <tr>\n",
              "      <th>time_signature</th>\n",
              "      <td>0.034983</td>\n",
              "      <td>0.000264</td>\n",
              "      <td>-0.157177</td>\n",
              "      <td>0.136391</td>\n",
              "      <td>0.146265</td>\n",
              "      <td>-0.069181</td>\n",
              "      <td>-0.008282</td>\n",
              "      <td>0.013289</td>\n",
              "      <td>0.119241</td>\n",
              "      <td>-0.024042</td>\n",
              "      <td>0.057162</td>\n",
              "      <td>0.003978</td>\n",
              "      <td>1.000000</td>\n",
              "      <td>0.094670</td>\n",
              "      <td>0.026363</td>\n",
              "    </tr>\n",
              "    <tr>\n",
              "      <th>audio_valence</th>\n",
              "      <td>-0.052895</td>\n",
              "      <td>-0.063421</td>\n",
              "      <td>-0.121670</td>\n",
              "      <td>0.332014</td>\n",
              "      <td>0.316742</td>\n",
              "      <td>-0.178570</td>\n",
              "      <td>0.025356</td>\n",
              "      <td>0.013789</td>\n",
              "      <td>0.199696</td>\n",
              "      <td>-0.004558</td>\n",
              "      <td>0.011046</td>\n",
              "      <td>0.037667</td>\n",
              "      <td>0.094670</td>\n",
              "      <td>1.000000</td>\n",
              "      <td>-0.024985</td>\n",
              "    </tr>\n",
              "    <tr>\n",
              "      <th>popularity</th>\n",
              "      <td>0.675284</td>\n",
              "      <td>0.007677</td>\n",
              "      <td>-0.103510</td>\n",
              "      <td>0.114080</td>\n",
              "      <td>0.039004</td>\n",
              "      <td>-0.158157</td>\n",
              "      <td>-0.026881</td>\n",
              "      <td>-0.025119</td>\n",
              "      <td>0.143221</td>\n",
              "      <td>-0.017722</td>\n",
              "      <td>0.028339</td>\n",
              "      <td>-0.004417</td>\n",
              "      <td>0.026363</td>\n",
              "      <td>-0.024985</td>\n",
              "      <td>1.000000</td>\n",
              "    </tr>\n",
              "  </tbody>\n",
              "</table>\n",
              "</div>"
            ],
            "text/plain": [
              "                  song_popularity  song_duration_ms  ...  audio_valence  popularity\n",
              "song_popularity          1.000000         -0.018899  ...      -0.052895    0.675284\n",
              "song_duration_ms        -0.018899          1.000000  ...      -0.063421    0.007677\n",
              "acousticness            -0.065181         -0.097882  ...      -0.121670   -0.103510\n",
              "danceability             0.104290         -0.104985  ...       0.332014    0.114080\n",
              "energy                   0.001365          0.092688  ...       0.316742    0.039004\n",
              "instrumentalness        -0.130907         -0.015188  ...      -0.178570   -0.158157\n",
              "key                     -0.013160         -0.004615  ...       0.025356   -0.026881\n",
              "liveness                -0.038937          0.016086  ...       0.013789   -0.025119\n",
              "loudness                 0.099442          0.016469  ...       0.199696    0.143221\n",
              "audio_mode              -0.004969         -0.026328  ...      -0.004558   -0.017722\n",
              "speechiness              0.021479         -0.083447  ...       0.011046    0.028339\n",
              "tempo                   -0.022672          0.012791  ...       0.037667   -0.004417\n",
              "time_signature           0.034983          0.000264  ...       0.094670    0.026363\n",
              "audio_valence           -0.052895         -0.063421  ...       1.000000   -0.024985\n",
              "popularity               0.675284          0.007677  ...      -0.024985    1.000000\n",
              "\n",
              "[15 rows x 15 columns]"
            ]
          },
          "metadata": {
            "tags": []
          },
          "execution_count": 23
        }
      ]
    },
    {
      "cell_type": "code",
      "metadata": {
        "colab": {
          "base_uri": "https://localhost:8080/",
          "height": 781
        },
        "id": "kdsR8j8pzX2Q",
        "outputId": "e172b261-e4b3-4b3e-c443-c456d649d910"
      },
      "source": [
        "f, ax = plt.subplots(figsize=(12,12))\r\n",
        "mask = np.zeros_like(song_data.corr())\r\n",
        "mask[np.triu_indices_from(mask)] = True\r\n",
        "sns.heatmap(song_data.corr(), annot=True, linewidths=0.4, linecolor='white', fmt='.1f', ax=ax, cmap='Blues', mask=mask)\r\n",
        "plt.show()"
      ],
      "execution_count": null,
      "outputs": [
        {
          "output_type": "display_data",
          "data": {
            "image/png": "[encoded data removed]",
            "text/plain": [
              "<Figure size 864x864 with 2 Axes>"
            ]
          },
          "metadata": {
            "tags": [],
            "needs_background": "light"
          }
        }
      ]
    },
    {
      "cell_type": "code",
      "metadata": {
        "id": "A7TQ1p-PztFr"
      },
      "source": [
        ""
      ],
      "execution_count": null,
      "outputs": []
    },
    {
      "cell_type": "markdown",
      "metadata": {
        "id": "MPSW2YSiwHyp"
      },
      "source": [
        "### 3-3 (그래프를 사용)범주형 변수 분석"
      ]
    },
    {
      "cell_type": "code",
      "metadata": {
        "id": "m0B7pVPnwRAn"
      },
      "source": [
        "def bar_plot(x):\r\n",
        "  var = song_data[x]\r\n",
        "  var_value = var.value_counts()\r\n",
        "  plt.figure(figsize=(9,3))\r\n",
        "  plt.bar(var_value.index, var_value)\r\n",
        "  plt.xticks(var_value.index, var_value.index.values)\r\n",
        "  plt.ylabel(\"Frq\")\r\n",
        "  plt.title(x)\r\n",
        "  plt.show()"
      ],
      "execution_count": null,
      "outputs": []
    },
    {
      "cell_type": "code",
      "metadata": {
        "colab": {
          "base_uri": "https://localhost:8080/",
          "height": 857
        },
        "id": "o-3si0JG0Zl-",
        "outputId": "ee5be87a-4837-4ede-b138-f1c96fb8b627"
      },
      "source": [
        "category1 = [\"popularity\", \"key\", \"audio_mode\", \"time_signature\"]\r\n",
        "\r\n",
        "for c in category1:\r\n",
        "  bar_plot(c)"
      ],
      "execution_count": null,
      "outputs": [
        {
          "output_type": "display_data",
          "data": {
            "image/png": "[encoded data removed]",
            "text/plain": [
              "<Figure size 648x216 with 1 Axes>"
            ]
          },
          "metadata": {
            "tags": [],
            "needs_background": "light"
          }
        },
        {
          "output_type": "display_data",
          "data": {
            "image/png": "[encoded data removed]",
            "text/plain": [
              "<Figure size 648x216 with 1 Axes>"
            ]
          },
          "metadata": {
            "tags": [],
            "needs_background": "light"
          }
        },
        {
          "output_type": "display_data",
          "data": {
            "image/png": "[encoded data removed]",
            "text/plain": [
              "<Figure size 648x216 with 1 Axes>"
            ]
          },
          "metadata": {
            "tags": [],
            "needs_background": "light"
          }
        },
        {
          "output_type": "display_data",
          "data": {
            "image/png": "[encoded data removed]",
            "text/plain": [
              "<Figure size 648x216 with 1 Axes>"
            ]
          },
          "metadata": {
            "tags": [],
            "needs_background": "light"
          }
        }
      ]
    },
    {
      "cell_type": "code",
      "metadata": {
        "id": "I8KfcBTf0l2_"
      },
      "source": [
        ""
      ],
      "execution_count": null,
      "outputs": []
    },
    {
      "cell_type": "markdown",
      "metadata": {
        "id": "wHnWiQ7mwH4J"
      },
      "source": [
        "### 3-4 이상치 탐색을 위한 단순 데이터 분석"
      ]
    },
    {
      "cell_type": "code",
      "metadata": {
        "colab": {
          "base_uri": "https://localhost:8080/",
          "height": 416
        },
        "id": "iv6bgo1Y06DX",
        "outputId": "3cbc9bc3-be1a-4d82-bb42-245ead861a1f"
      },
      "source": [
        "song_data[['key', 'popularity']].groupby(['key'], as_index = False).mean().sort_values(by='popularity', ascending = False)"
      ],
      "execution_count": null,
      "outputs": [
        {
          "output_type": "execute_result",
          "data": {
            "text/html": [
              "<div>\n",
              "<style scoped>\n",
              "    .dataframe tbody tr th:only-of-type {\n",
              "        vertical-align: middle;\n",
              "    }\n",
              "\n",
              "    .dataframe tbody tr th {\n",
              "        vertical-align: top;\n",
              "    }\n",
              "\n",
              "    .dataframe thead th {\n",
              "        text-align: right;\n",
              "    }\n",
              "</style>\n",
              "<table border=\"1\" class=\"dataframe\">\n",
              "  <thead>\n",
              "    <tr style=\"text-align: right;\">\n",
              "      <th></th>\n",
              "      <th>key</th>\n",
              "      <th>popularity</th>\n",
              "    </tr>\n",
              "  </thead>\n",
              "  <tbody>\n",
              "    <tr>\n",
              "      <th>1</th>\n",
              "      <td>1.0</td>\n",
              "      <td>0.324861</td>\n",
              "    </tr>\n",
              "    <tr>\n",
              "      <th>6</th>\n",
              "      <td>6.0</td>\n",
              "      <td>0.282754</td>\n",
              "    </tr>\n",
              "    <tr>\n",
              "      <th>8</th>\n",
              "      <td>8.0</td>\n",
              "      <td>0.260934</td>\n",
              "    </tr>\n",
              "    <tr>\n",
              "      <th>0</th>\n",
              "      <td>0.0</td>\n",
              "      <td>0.260770</td>\n",
              "    </tr>\n",
              "    <tr>\n",
              "      <th>5</th>\n",
              "      <td>5.0</td>\n",
              "      <td>0.259848</td>\n",
              "    </tr>\n",
              "    <tr>\n",
              "      <th>11</th>\n",
              "      <td>11.0</td>\n",
              "      <td>0.259375</td>\n",
              "    </tr>\n",
              "    <tr>\n",
              "      <th>4</th>\n",
              "      <td>4.0</td>\n",
              "      <td>0.251696</td>\n",
              "    </tr>\n",
              "    <tr>\n",
              "      <th>10</th>\n",
              "      <td>10.0</td>\n",
              "      <td>0.250939</td>\n",
              "    </tr>\n",
              "    <tr>\n",
              "      <th>2</th>\n",
              "      <td>2.0</td>\n",
              "      <td>0.232070</td>\n",
              "    </tr>\n",
              "    <tr>\n",
              "      <th>9</th>\n",
              "      <td>9.0</td>\n",
              "      <td>0.220259</td>\n",
              "    </tr>\n",
              "    <tr>\n",
              "      <th>7</th>\n",
              "      <td>7.0</td>\n",
              "      <td>0.217028</td>\n",
              "    </tr>\n",
              "    <tr>\n",
              "      <th>3</th>\n",
              "      <td>3.0</td>\n",
              "      <td>0.193359</td>\n",
              "    </tr>\n",
              "  </tbody>\n",
              "</table>\n",
              "</div>"
            ],
            "text/plain": [
              "     key  popularity\n",
              "1    1.0    0.324861\n",
              "6    6.0    0.282754\n",
              "8    8.0    0.260934\n",
              "0    0.0    0.260770\n",
              "5    5.0    0.259848\n",
              "11  11.0    0.259375\n",
              "4    4.0    0.251696\n",
              "10  10.0    0.250939\n",
              "2    2.0    0.232070\n",
              "9    9.0    0.220259\n",
              "7    7.0    0.217028\n",
              "3    3.0    0.193359"
            ]
          },
          "metadata": {
            "tags": []
          },
          "execution_count": 31
        }
      ]
    },
    {
      "cell_type": "code",
      "metadata": {
        "id": "iCBjGjOJ1UpE"
      },
      "source": [
        "from collections import Counter\r\n",
        "def detect_outliers(df,features):\r\n",
        "  outlier_indices = []\r\n",
        "  for c in features:\r\n",
        "    Q1 = np.percentile(df[c],25)\r\n",
        "    Q3 = np.percentile(df[c],75)\r\n",
        "    IQR = Q3 - Q1\r\n",
        "    outlier_step = IQR * 1.5\r\n",
        "    outlier_list_col = df[(df[c] < Q1 - outlier_step) | (df[c] > Q3 + outlier_step)].index #filtre\r\n",
        "    outlier_indices.extend(outlier_list_col)\r\n",
        "  outlier_indices = Counter(outlier_indices)\r\n",
        "  multiple_outliers = list(i for i, v in outlier_indices.items() if v > 2) \r\n",
        "  return multiple_outliers"
      ],
      "execution_count": null,
      "outputs": []
    },
    {
      "cell_type": "code",
      "metadata": {
        "colab": {
          "base_uri": "https://localhost:8080/",
          "height": 620
        },
        "id": "KIfy-q7C16d7",
        "outputId": "6a4c4ceb-21f7-4ace-a24f-c90a9968b562"
      },
      "source": [
        "song_data.loc[detect_outliers(song_data,[\"song_popularity\",\"song_duration_ms\",\"danceability\",\"energy\",\"instrumentalness\",\"liveness\",\"loudness\",\"speechiness\",\"audio_valence\"])]"
      ],
      "execution_count": null,
      "outputs": [
        {
          "output_type": "execute_result",
          "data": {
            "text/html": [
              "<div>\n",
              "<style scoped>\n",
              "    .dataframe tbody tr th:only-of-type {\n",
              "        vertical-align: middle;\n",
              "    }\n",
              "\n",
              "    .dataframe tbody tr th {\n",
              "        vertical-align: top;\n",
              "    }\n",
              "\n",
              "    .dataframe thead th {\n",
              "        text-align: right;\n",
              "    }\n",
              "</style>\n",
              "<table border=\"1\" class=\"dataframe\">\n",
              "  <thead>\n",
              "    <tr style=\"text-align: right;\">\n",
              "      <th></th>\n",
              "      <th>song_name</th>\n",
              "      <th>song_popularity</th>\n",
              "      <th>song_duration_ms</th>\n",
              "      <th>acousticness</th>\n",
              "      <th>danceability</th>\n",
              "      <th>energy</th>\n",
              "      <th>instrumentalness</th>\n",
              "      <th>key</th>\n",
              "      <th>liveness</th>\n",
              "      <th>loudness</th>\n",
              "      <th>audio_mode</th>\n",
              "      <th>speechiness</th>\n",
              "      <th>tempo</th>\n",
              "      <th>time_signature</th>\n",
              "      <th>audio_valence</th>\n",
              "      <th>popularity</th>\n",
              "    </tr>\n",
              "  </thead>\n",
              "  <tbody>\n",
              "    <tr>\n",
              "      <th>232</th>\n",
              "      <td>La Maza</td>\n",
              "      <td>58</td>\n",
              "      <td>351400.0</td>\n",
              "      <td>0.6520</td>\n",
              "      <td>0.555</td>\n",
              "      <td>0.331</td>\n",
              "      <td>0.000012</td>\n",
              "      <td>9.0</td>\n",
              "      <td>0.235</td>\n",
              "      <td>-17.718</td>\n",
              "      <td>0.0</td>\n",
              "      <td>0.2700</td>\n",
              "      <td>170.603</td>\n",
              "      <td>3.0</td>\n",
              "      <td>0.437</td>\n",
              "      <td>0</td>\n",
              "    </tr>\n",
              "    <tr>\n",
              "      <th>253</th>\n",
              "      <td>Whole Lotta Love</td>\n",
              "      <td>77</td>\n",
              "      <td>333893.0</td>\n",
              "      <td>0.0484</td>\n",
              "      <td>0.412</td>\n",
              "      <td>0.902</td>\n",
              "      <td>0.131000</td>\n",
              "      <td>9.0</td>\n",
              "      <td>0.405</td>\n",
              "      <td>-11.600</td>\n",
              "      <td>1.0</td>\n",
              "      <td>0.4050</td>\n",
              "      <td>89.740</td>\n",
              "      <td>4.0</td>\n",
              "      <td>0.422</td>\n",
              "      <td>1</td>\n",
              "    </tr>\n",
              "    <tr>\n",
              "      <th>501</th>\n",
              "      <td>Do You Feel Like We Do</td>\n",
              "      <td>48</td>\n",
              "      <td>836666.0</td>\n",
              "      <td>0.0439</td>\n",
              "      <td>0.295</td>\n",
              "      <td>0.568</td>\n",
              "      <td>0.011700</td>\n",
              "      <td>0.0</td>\n",
              "      <td>0.977</td>\n",
              "      <td>-8.232</td>\n",
              "      <td>1.0</td>\n",
              "      <td>0.0284</td>\n",
              "      <td>98.284</td>\n",
              "      <td>4.0</td>\n",
              "      <td>0.384</td>\n",
              "      <td>0</td>\n",
              "    </tr>\n",
              "    <tr>\n",
              "      <th>981</th>\n",
              "      <td>The Times They Are A-Changin' - Live at Sony M...</td>\n",
              "      <td>49</td>\n",
              "      <td>348560.0</td>\n",
              "      <td>0.6300</td>\n",
              "      <td>0.393</td>\n",
              "      <td>0.416</td>\n",
              "      <td>0.007910</td>\n",
              "      <td>9.0</td>\n",
              "      <td>0.986</td>\n",
              "      <td>-13.243</td>\n",
              "      <td>1.0</td>\n",
              "      <td>0.0401</td>\n",
              "      <td>163.604</td>\n",
              "      <td>3.0</td>\n",
              "      <td>0.512</td>\n",
              "      <td>0</td>\n",
              "    </tr>\n",
              "    <tr>\n",
              "      <th>1113</th>\n",
              "      <td>November Rain</td>\n",
              "      <td>38</td>\n",
              "      <td>537506.0</td>\n",
              "      <td>0.0165</td>\n",
              "      <td>0.197</td>\n",
              "      <td>0.629</td>\n",
              "      <td>0.279000</td>\n",
              "      <td>11.0</td>\n",
              "      <td>0.125</td>\n",
              "      <td>-9.291</td>\n",
              "      <td>1.0</td>\n",
              "      <td>0.0300</td>\n",
              "      <td>79.495</td>\n",
              "      <td>4.0</td>\n",
              "      <td>0.221</td>\n",
              "      <td>0</td>\n",
              "    </tr>\n",
              "    <tr>\n",
              "      <th>...</th>\n",
              "      <td>...</td>\n",
              "      <td>...</td>\n",
              "      <td>...</td>\n",
              "      <td>...</td>\n",
              "      <td>...</td>\n",
              "      <td>...</td>\n",
              "      <td>...</td>\n",
              "      <td>...</td>\n",
              "      <td>...</td>\n",
              "      <td>...</td>\n",
              "      <td>...</td>\n",
              "      <td>...</td>\n",
              "      <td>...</td>\n",
              "      <td>...</td>\n",
              "      <td>...</td>\n",
              "      <td>...</td>\n",
              "    </tr>\n",
              "    <tr>\n",
              "      <th>15247</th>\n",
              "      <td>I Know You So Well</td>\n",
              "      <td>8</td>\n",
              "      <td>102661.0</td>\n",
              "      <td>0.9230</td>\n",
              "      <td>0.679</td>\n",
              "      <td>0.311</td>\n",
              "      <td>0.721000</td>\n",
              "      <td>0.0</td>\n",
              "      <td>0.813</td>\n",
              "      <td>-16.557</td>\n",
              "      <td>0.0</td>\n",
              "      <td>0.1050</td>\n",
              "      <td>60.724</td>\n",
              "      <td>4.0</td>\n",
              "      <td>0.304</td>\n",
              "      <td>0</td>\n",
              "    </tr>\n",
              "    <tr>\n",
              "      <th>16642</th>\n",
              "      <td>same stars</td>\n",
              "      <td>46</td>\n",
              "      <td>116918.0</td>\n",
              "      <td>0.2510</td>\n",
              "      <td>0.687</td>\n",
              "      <td>0.284</td>\n",
              "      <td>0.862000</td>\n",
              "      <td>0.0</td>\n",
              "      <td>0.496</td>\n",
              "      <td>-19.504</td>\n",
              "      <td>1.0</td>\n",
              "      <td>0.0378</td>\n",
              "      <td>115.996</td>\n",
              "      <td>4.0</td>\n",
              "      <td>0.159</td>\n",
              "      <td>0</td>\n",
              "    </tr>\n",
              "    <tr>\n",
              "      <th>17723</th>\n",
              "      <td>Dutch Spring</td>\n",
              "      <td>0</td>\n",
              "      <td>205623.0</td>\n",
              "      <td>0.1960</td>\n",
              "      <td>0.510</td>\n",
              "      <td>0.843</td>\n",
              "      <td>0.135000</td>\n",
              "      <td>6.0</td>\n",
              "      <td>0.569</td>\n",
              "      <td>-4.958</td>\n",
              "      <td>0.0</td>\n",
              "      <td>0.3910</td>\n",
              "      <td>83.355</td>\n",
              "      <td>4.0</td>\n",
              "      <td>0.832</td>\n",
              "      <td>0</td>\n",
              "    </tr>\n",
              "    <tr>\n",
              "      <th>3720</th>\n",
              "      <td>Racism And Injustice</td>\n",
              "      <td>21</td>\n",
              "      <td>260160.0</td>\n",
              "      <td>0.9220</td>\n",
              "      <td>0.650</td>\n",
              "      <td>0.316</td>\n",
              "      <td>0.000000</td>\n",
              "      <td>9.0</td>\n",
              "      <td>0.739</td>\n",
              "      <td>-18.244</td>\n",
              "      <td>0.0</td>\n",
              "      <td>0.9400</td>\n",
              "      <td>117.198</td>\n",
              "      <td>4.0</td>\n",
              "      <td>0.306</td>\n",
              "      <td>0</td>\n",
              "    </tr>\n",
              "    <tr>\n",
              "      <th>3752</th>\n",
              "      <td>Space Program</td>\n",
              "      <td>0</td>\n",
              "      <td>156480.0</td>\n",
              "      <td>0.8690</td>\n",
              "      <td>0.589</td>\n",
              "      <td>0.604</td>\n",
              "      <td>0.000002</td>\n",
              "      <td>4.0</td>\n",
              "      <td>0.684</td>\n",
              "      <td>-18.562</td>\n",
              "      <td>0.0</td>\n",
              "      <td>0.9410</td>\n",
              "      <td>111.968</td>\n",
              "      <td>4.0</td>\n",
              "      <td>0.197</td>\n",
              "      <td>0</td>\n",
              "    </tr>\n",
              "  </tbody>\n",
              "</table>\n",
              "<p>325 rows × 16 columns</p>\n",
              "</div>"
            ],
            "text/plain": [
              "                                               song_name  ...  popularity\n",
              "232                                              La Maza  ...           0\n",
              "253                                     Whole Lotta Love  ...           1\n",
              "501                               Do You Feel Like We Do  ...           0\n",
              "981    The Times They Are A-Changin' - Live at Sony M...  ...           0\n",
              "1113                                       November Rain  ...           0\n",
              "...                                                  ...  ...         ...\n",
              "15247                                 I Know You So Well  ...           0\n",
              "16642                                         same stars  ...           0\n",
              "17723                                       Dutch Spring  ...           0\n",
              "3720                                Racism And Injustice  ...           0\n",
              "3752                                       Space Program  ...           0\n",
              "\n",
              "[325 rows x 16 columns]"
            ]
          },
          "metadata": {
            "tags": []
          },
          "execution_count": 34
        }
      ]
    },
    {
      "cell_type": "code",
      "metadata": {
        "id": "5L3gSiA219Vn"
      },
      "source": [
        "song_data = song_data.drop(detect_outliers(song_data,[\"song_popularity\",\"song_duration_ms\",\"danceability\",\"energy\",\"instrumentalness\",\"liveness\",\"loudness\",\"speechiness\",\"audio_valence\"]))"
      ],
      "execution_count": null,
      "outputs": []
    },
    {
      "cell_type": "code",
      "metadata": {
        "colab": {
          "base_uri": "https://localhost:8080/",
          "height": 586
        },
        "id": "sB1l4oGG3J6a",
        "outputId": "8d531b32-59bd-49f7-8f96-3c833ff23e1c"
      },
      "source": [
        "song_data"
      ],
      "execution_count": null,
      "outputs": [
        {
          "output_type": "execute_result",
          "data": {
            "text/html": [
              "<div>\n",
              "<style scoped>\n",
              "    .dataframe tbody tr th:only-of-type {\n",
              "        vertical-align: middle;\n",
              "    }\n",
              "\n",
              "    .dataframe tbody tr th {\n",
              "        vertical-align: top;\n",
              "    }\n",
              "\n",
              "    .dataframe thead th {\n",
              "        text-align: right;\n",
              "    }\n",
              "</style>\n",
              "<table border=\"1\" class=\"dataframe\">\n",
              "  <thead>\n",
              "    <tr style=\"text-align: right;\">\n",
              "      <th></th>\n",
              "      <th>song_name</th>\n",
              "      <th>song_popularity</th>\n",
              "      <th>song_duration_ms</th>\n",
              "      <th>acousticness</th>\n",
              "      <th>danceability</th>\n",
              "      <th>energy</th>\n",
              "      <th>instrumentalness</th>\n",
              "      <th>key</th>\n",
              "      <th>liveness</th>\n",
              "      <th>loudness</th>\n",
              "      <th>audio_mode</th>\n",
              "      <th>speechiness</th>\n",
              "      <th>tempo</th>\n",
              "      <th>time_signature</th>\n",
              "      <th>audio_valence</th>\n",
              "      <th>popularity</th>\n",
              "    </tr>\n",
              "  </thead>\n",
              "  <tbody>\n",
              "    <tr>\n",
              "      <th>0</th>\n",
              "      <td>Boulevard of Broken Dreams</td>\n",
              "      <td>73</td>\n",
              "      <td>262333.0</td>\n",
              "      <td>0.005520</td>\n",
              "      <td>0.496</td>\n",
              "      <td>0.682</td>\n",
              "      <td>0.000029</td>\n",
              "      <td>8.0</td>\n",
              "      <td>0.0589</td>\n",
              "      <td>-4.095</td>\n",
              "      <td>1.0</td>\n",
              "      <td>0.0294</td>\n",
              "      <td>167.060</td>\n",
              "      <td>4.0</td>\n",
              "      <td>0.474</td>\n",
              "      <td>1</td>\n",
              "    </tr>\n",
              "    <tr>\n",
              "      <th>1</th>\n",
              "      <td>In The End</td>\n",
              "      <td>66</td>\n",
              "      <td>216933.0</td>\n",
              "      <td>0.010300</td>\n",
              "      <td>0.542</td>\n",
              "      <td>0.853</td>\n",
              "      <td>0.000000</td>\n",
              "      <td>3.0</td>\n",
              "      <td>0.1080</td>\n",
              "      <td>-6.407</td>\n",
              "      <td>0.0</td>\n",
              "      <td>0.0498</td>\n",
              "      <td>105.256</td>\n",
              "      <td>4.0</td>\n",
              "      <td>0.370</td>\n",
              "      <td>0</td>\n",
              "    </tr>\n",
              "    <tr>\n",
              "      <th>2</th>\n",
              "      <td>Seven Nation Army</td>\n",
              "      <td>76</td>\n",
              "      <td>231733.0</td>\n",
              "      <td>0.008170</td>\n",
              "      <td>0.737</td>\n",
              "      <td>0.463</td>\n",
              "      <td>0.447000</td>\n",
              "      <td>0.0</td>\n",
              "      <td>0.2550</td>\n",
              "      <td>-7.828</td>\n",
              "      <td>1.0</td>\n",
              "      <td>0.0792</td>\n",
              "      <td>123.881</td>\n",
              "      <td>4.0</td>\n",
              "      <td>0.324</td>\n",
              "      <td>1</td>\n",
              "    </tr>\n",
              "    <tr>\n",
              "      <th>3</th>\n",
              "      <td>By The Way</td>\n",
              "      <td>74</td>\n",
              "      <td>216933.0</td>\n",
              "      <td>0.026400</td>\n",
              "      <td>0.451</td>\n",
              "      <td>0.970</td>\n",
              "      <td>0.003550</td>\n",
              "      <td>0.0</td>\n",
              "      <td>0.1020</td>\n",
              "      <td>-4.938</td>\n",
              "      <td>1.0</td>\n",
              "      <td>0.1070</td>\n",
              "      <td>122.444</td>\n",
              "      <td>4.0</td>\n",
              "      <td>0.198</td>\n",
              "      <td>1</td>\n",
              "    </tr>\n",
              "    <tr>\n",
              "      <th>4</th>\n",
              "      <td>How You Remind Me</td>\n",
              "      <td>56</td>\n",
              "      <td>223826.0</td>\n",
              "      <td>0.000954</td>\n",
              "      <td>0.447</td>\n",
              "      <td>0.766</td>\n",
              "      <td>0.000000</td>\n",
              "      <td>10.0</td>\n",
              "      <td>0.1130</td>\n",
              "      <td>-5.065</td>\n",
              "      <td>1.0</td>\n",
              "      <td>0.0313</td>\n",
              "      <td>172.011</td>\n",
              "      <td>4.0</td>\n",
              "      <td>0.574</td>\n",
              "      <td>0</td>\n",
              "    </tr>\n",
              "    <tr>\n",
              "      <th>...</th>\n",
              "      <td>...</td>\n",
              "      <td>...</td>\n",
              "      <td>...</td>\n",
              "      <td>...</td>\n",
              "      <td>...</td>\n",
              "      <td>...</td>\n",
              "      <td>...</td>\n",
              "      <td>...</td>\n",
              "      <td>...</td>\n",
              "      <td>...</td>\n",
              "      <td>...</td>\n",
              "      <td>...</td>\n",
              "      <td>...</td>\n",
              "      <td>...</td>\n",
              "      <td>...</td>\n",
              "      <td>...</td>\n",
              "    </tr>\n",
              "    <tr>\n",
              "      <th>18830</th>\n",
              "      <td>Let It Breathe</td>\n",
              "      <td>60</td>\n",
              "      <td>159645.0</td>\n",
              "      <td>0.893000</td>\n",
              "      <td>0.500</td>\n",
              "      <td>0.151</td>\n",
              "      <td>0.000065</td>\n",
              "      <td>11.0</td>\n",
              "      <td>0.1110</td>\n",
              "      <td>-16.107</td>\n",
              "      <td>1.0</td>\n",
              "      <td>0.0348</td>\n",
              "      <td>113.969</td>\n",
              "      <td>4.0</td>\n",
              "      <td>0.300</td>\n",
              "      <td>0</td>\n",
              "    </tr>\n",
              "    <tr>\n",
              "      <th>18831</th>\n",
              "      <td>Answers</td>\n",
              "      <td>60</td>\n",
              "      <td>205666.0</td>\n",
              "      <td>0.765000</td>\n",
              "      <td>0.495</td>\n",
              "      <td>0.161</td>\n",
              "      <td>0.000001</td>\n",
              "      <td>11.0</td>\n",
              "      <td>0.1050</td>\n",
              "      <td>-14.078</td>\n",
              "      <td>0.0</td>\n",
              "      <td>0.0301</td>\n",
              "      <td>94.286</td>\n",
              "      <td>4.0</td>\n",
              "      <td>0.265</td>\n",
              "      <td>0</td>\n",
              "    </tr>\n",
              "    <tr>\n",
              "      <th>18832</th>\n",
              "      <td>Sudden Love (Acoustic)</td>\n",
              "      <td>23</td>\n",
              "      <td>182211.0</td>\n",
              "      <td>0.847000</td>\n",
              "      <td>0.719</td>\n",
              "      <td>0.325</td>\n",
              "      <td>0.000000</td>\n",
              "      <td>0.0</td>\n",
              "      <td>0.1250</td>\n",
              "      <td>-12.222</td>\n",
              "      <td>1.0</td>\n",
              "      <td>0.0355</td>\n",
              "      <td>130.534</td>\n",
              "      <td>4.0</td>\n",
              "      <td>0.286</td>\n",
              "      <td>0</td>\n",
              "    </tr>\n",
              "    <tr>\n",
              "      <th>18833</th>\n",
              "      <td>Gentle on My Mind</td>\n",
              "      <td>55</td>\n",
              "      <td>352280.0</td>\n",
              "      <td>0.945000</td>\n",
              "      <td>0.488</td>\n",
              "      <td>0.326</td>\n",
              "      <td>0.015700</td>\n",
              "      <td>3.0</td>\n",
              "      <td>0.1190</td>\n",
              "      <td>-12.020</td>\n",
              "      <td>1.0</td>\n",
              "      <td>0.0328</td>\n",
              "      <td>106.063</td>\n",
              "      <td>4.0</td>\n",
              "      <td>0.323</td>\n",
              "      <td>0</td>\n",
              "    </tr>\n",
              "    <tr>\n",
              "      <th>18834</th>\n",
              "      <td>Up to Me</td>\n",
              "      <td>60</td>\n",
              "      <td>193533.0</td>\n",
              "      <td>0.911000</td>\n",
              "      <td>0.640</td>\n",
              "      <td>0.381</td>\n",
              "      <td>0.000254</td>\n",
              "      <td>4.0</td>\n",
              "      <td>0.1040</td>\n",
              "      <td>-11.790</td>\n",
              "      <td>1.0</td>\n",
              "      <td>0.0302</td>\n",
              "      <td>91.490</td>\n",
              "      <td>4.0</td>\n",
              "      <td>0.581</td>\n",
              "      <td>0</td>\n",
              "    </tr>\n",
              "  </tbody>\n",
              "</table>\n",
              "<p>18510 rows × 16 columns</p>\n",
              "</div>"
            ],
            "text/plain": [
              "                        song_name  song_popularity  ...  audio_valence  popularity\n",
              "0      Boulevard of Broken Dreams               73  ...          0.474           1\n",
              "1                      In The End               66  ...          0.370           0\n",
              "2               Seven Nation Army               76  ...          0.324           1\n",
              "3                      By The Way               74  ...          0.198           1\n",
              "4               How You Remind Me               56  ...          0.574           0\n",
              "...                           ...              ...  ...            ...         ...\n",
              "18830              Let It Breathe               60  ...          0.300           0\n",
              "18831                     Answers               60  ...          0.265           0\n",
              "18832      Sudden Love (Acoustic)               23  ...          0.286           0\n",
              "18833           Gentle on My Mind               55  ...          0.323           0\n",
              "18834                    Up to Me               60  ...          0.581           0\n",
              "\n",
              "[18510 rows x 16 columns]"
            ]
          },
          "metadata": {
            "tags": []
          },
          "execution_count": 37
        }
      ]
    },
    {
      "cell_type": "code",
      "metadata": {
        "colab": {
          "base_uri": "https://localhost:8080/",
          "height": 546
        },
        "id": "y37xFj9e3lhx",
        "outputId": "2d7e8797-8dcb-49a4-d3fc-bad5d43ef41f"
      },
      "source": [
        "g = sns.factorplot(x = \"key\", y = \"popularity\", data = song_data, kind = \"bar\", size = 6)\r\n",
        "g.set_ylabels(\"Popularity Probability\")\r\n",
        "plt.show()"
      ],
      "execution_count": null,
      "outputs": [
        {
          "output_type": "stream",
          "text": [
            "/usr/local/lib/python3.6/dist-packages/seaborn/categorical.py:3704: UserWarning: The `factorplot` function has been renamed to `catplot`. The original name will be removed in a future release. Please update your code. Note that the default `kind` in `factorplot` (`'point'`) has changed `'strip'` in `catplot`.\n",
            "  warnings.warn(msg)\n",
            "/usr/local/lib/python3.6/dist-packages/seaborn/categorical.py:3710: UserWarning: The `size` parameter has been renamed to `height`; please update your code.\n",
            "  warnings.warn(msg, UserWarning)\n"
          ],
          "name": "stderr"
        },
        {
          "output_type": "display_data",
          "data": {
            "image/png": "[encoded data removed]",
            "text/plain": [
              "<Figure size 432x432 with 1 Axes>"
            ]
          },
          "metadata": {
            "tags": [],
            "needs_background": "light"
          }
        }
      ]
    },
    {
      "cell_type": "code",
      "metadata": {
        "colab": {
          "base_uri": "https://localhost:8080/",
          "height": 547
        },
        "id": "kzm9UukG3s2F",
        "outputId": "9d60a7f8-d7cb-4258-f00b-e680b9d0e783"
      },
      "source": [
        "g = sns.factorplot(x = \"audio_mode\", y = \"popularity\", data = song_data, kind = \"bar\", size = 6)\r\n",
        "g.set_ylabels(\"Popularity Probability\")\r\n",
        "plt.show()"
      ],
      "execution_count": null,
      "outputs": [
        {
          "output_type": "stream",
          "text": [
            "/usr/local/lib/python3.6/dist-packages/seaborn/categorical.py:3704: UserWarning: The `factorplot` function has been renamed to `catplot`. The original name will be removed in a future release. Please update your code. Note that the default `kind` in `factorplot` (`'point'`) has changed `'strip'` in `catplot`.\n",
            "  warnings.warn(msg)\n",
            "/usr/local/lib/python3.6/dist-packages/seaborn/categorical.py:3710: UserWarning: The `size` parameter has been renamed to `height`; please update your code.\n",
            "  warnings.warn(msg, UserWarning)\n"
          ],
          "name": "stderr"
        },
        {
          "output_type": "display_data",
          "data": {
            "image/png": "[encoded data removed]",
            "text/plain": [
              "<Figure size 432x432 with 1 Axes>"
            ]
          },
          "metadata": {
            "tags": [],
            "needs_background": "light"
          }
        }
      ]
    },
    {
      "cell_type": "code",
      "metadata": {
        "colab": {
          "base_uri": "https://localhost:8080/",
          "height": 676
        },
        "id": "4G3s0Yxn3ygw",
        "outputId": "3da61d94-8ca3-4041-c062-36301932c55c"
      },
      "source": [
        "g = sns.FacetGrid(song_data, row = \"audio_mode\", col = \"popularity\", size = 4)\r\n",
        "g.map(sns.barplot, \"key\", \"loudness\",color=\"orange\")\r\n",
        "g.add_legend()\r\n",
        "plt.show()"
      ],
      "execution_count": null,
      "outputs": [
        {
          "output_type": "stream",
          "text": [
            "/usr/local/lib/python3.6/dist-packages/seaborn/axisgrid.py:316: UserWarning: The `size` parameter has been renamed to `height`; please update your code.\n",
            "  warnings.warn(msg, UserWarning)\n",
            "/usr/local/lib/python3.6/dist-packages/seaborn/axisgrid.py:645: UserWarning: Using the barplot function without specifying `order` is likely to produce an incorrect plot.\n",
            "  warnings.warn(warning)\n"
          ],
          "name": "stderr"
        },
        {
          "output_type": "display_data",
          "data": {
            "image/png": "[encoded data removed]",
            "text/plain": [
              "<Figure size 584x576 with 4 Axes>"
            ]
          },
          "metadata": {
            "tags": [],
            "needs_background": "light"
          }
        }
      ]
    },
    {
      "cell_type": "markdown",
      "metadata": {
        "id": "nIbTbI2qwH6q"
      },
      "source": [
        "### 3.5 특징공학(다른 데이터를 병합해서 새로운 데이터를 만들어보자!)"
      ]
    },
    {
      "cell_type": "code",
      "metadata": {
        "colab": {
          "base_uri": "https://localhost:8080/",
          "height": 201
        },
        "id": "HA_JLRe94RAa",
        "outputId": "1d6558b7-d012-4875-811c-70b648759d3e"
      },
      "source": [
        "popularity_song_name = pd.concat([song_data.popularity, song_data.song_name], axis=1)\r\n",
        "popularity_song_name.head(5)"
      ],
      "execution_count": null,
      "outputs": [
        {
          "output_type": "execute_result",
          "data": {
            "text/html": [
              "<div>\n",
              "<style scoped>\n",
              "    .dataframe tbody tr th:only-of-type {\n",
              "        vertical-align: middle;\n",
              "    }\n",
              "\n",
              "    .dataframe tbody tr th {\n",
              "        vertical-align: top;\n",
              "    }\n",
              "\n",
              "    .dataframe thead th {\n",
              "        text-align: right;\n",
              "    }\n",
              "</style>\n",
              "<table border=\"1\" class=\"dataframe\">\n",
              "  <thead>\n",
              "    <tr style=\"text-align: right;\">\n",
              "      <th></th>\n",
              "      <th>popularity</th>\n",
              "      <th>song_name</th>\n",
              "    </tr>\n",
              "  </thead>\n",
              "  <tbody>\n",
              "    <tr>\n",
              "      <th>0</th>\n",
              "      <td>1</td>\n",
              "      <td>Boulevard of Broken Dreams</td>\n",
              "    </tr>\n",
              "    <tr>\n",
              "      <th>1</th>\n",
              "      <td>0</td>\n",
              "      <td>In The End</td>\n",
              "    </tr>\n",
              "    <tr>\n",
              "      <th>2</th>\n",
              "      <td>1</td>\n",
              "      <td>Seven Nation Army</td>\n",
              "    </tr>\n",
              "    <tr>\n",
              "      <th>3</th>\n",
              "      <td>1</td>\n",
              "      <td>By The Way</td>\n",
              "    </tr>\n",
              "    <tr>\n",
              "      <th>4</th>\n",
              "      <td>0</td>\n",
              "      <td>How You Remind Me</td>\n",
              "    </tr>\n",
              "  </tbody>\n",
              "</table>\n",
              "</div>"
            ],
            "text/plain": [
              "   popularity                   song_name\n",
              "0           1  Boulevard of Broken Dreams\n",
              "1           0                  In The End\n",
              "2           1           Seven Nation Army\n",
              "3           1                  By The Way\n",
              "4           0           How You Remind Me"
            ]
          },
          "metadata": {
            "tags": []
          },
          "execution_count": 128
        }
      ]
    },
    {
      "cell_type": "code",
      "metadata": {
        "colab": {
          "base_uri": "https://localhost:8080/"
        },
        "id": "ofLKq3xE4_LM",
        "outputId": "0e9b00ce-2e20-47dc-a83c-fce9de15144b"
      },
      "source": [
        "import re\r\n",
        "import nltk as nlp\r\n",
        "from nltk.corpus import stopwords\r\n",
        "\r\n",
        "nlp.download('wordnet')\r\n",
        "nlp.download('punkt')\r\n",
        "nlp.download('stopwords')"
      ],
      "execution_count": null,
      "outputs": [
        {
          "output_type": "stream",
          "text": [
            "[nltk_data] Downloading package wordnet to /root/nltk_data...\n",
            "[nltk_data]   Package wordnet is already up-to-date!\n",
            "[nltk_data] Downloading package punkt to /root/nltk_data...\n",
            "[nltk_data]   Package punkt is already up-to-date!\n",
            "[nltk_data] Downloading package stopwords to /root/nltk_data...\n",
            "[nltk_data]   Package stopwords is already up-to-date!\n"
          ],
          "name": "stdout"
        },
        {
          "output_type": "execute_result",
          "data": {
            "text/plain": [
              "True"
            ]
          },
          "metadata": {
            "tags": []
          },
          "execution_count": 102
        }
      ]
    },
    {
      "cell_type": "code",
      "metadata": {
        "id": "1HbY9OV38yWK"
      },
      "source": [
        "song_name = [ word for word in popularity_song_info.song_name if not word in set(stopwords.words('english'))]"
      ],
      "execution_count": null,
      "outputs": []
    },
    {
      "cell_type": "code",
      "metadata": {
        "id": "DwfE21UH87Sd"
      },
      "source": [
        "lemma = nlp.WordNetLemmatizer()"
      ],
      "execution_count": null,
      "outputs": []
    },
    {
      "cell_type": "code",
      "metadata": {
        "id": "XtIjlMmWAW8C"
      },
      "source": [
        "song_name = [ lemma.lemmatize(word) for word in song_name ]"
      ],
      "execution_count": null,
      "outputs": []
    },
    {
      "cell_type": "code",
      "metadata": {
        "id": "GBut0OkpAdiu"
      },
      "source": [
        "song_name"
      ],
      "execution_count": null,
      "outputs": []
    },
    {
      "cell_type": "code",
      "metadata": {
        "id": "iPSEfs8xBI9f"
      },
      "source": [
        "song_name_list = []\r\n",
        "for song_name in popularity_song_name.song_name:\r\n",
        "  song_name = re.sub(\"[^a-zA-Z]\", \" \", song_name)\r\n",
        "  song_name = song_name.lower()\r\n",
        "  song_name = nlp.word_tokenize(song_name)\r\n",
        "  lemma = nlp.WordNetLemmatizer()\r\n",
        "  song_name = [ lemma.lemmatize(word) for word in song_name ]\r\n",
        "  song_name = \" \".join(song_name)\r\n",
        "  song_name_list.append(song_name)"
      ],
      "execution_count": null,
      "outputs": []
    },
    {
      "cell_type": "code",
      "metadata": {
        "colab": {
          "base_uri": "https://localhost:8080/"
        },
        "id": "E6wB2xH_CfKn",
        "outputId": "a30d5b6b-04a1-4429-dad3-2a05319be83c"
      },
      "source": [
        "from sklearn.feature_extraction.text import CountVectorizer\r\n",
        "max_features = 10\r\n",
        "count_vectorizer = CountVectorizer(max_features=max_features, stop_words = \"english\")\r\n",
        "sparce_matrix = count_vectorizer.fit_transform(song_name_list).toarray()\r\n",
        "print(count_vectorizer.get_feature_names())"
      ],
      "execution_count": null,
      "outputs": [
        {
          "output_type": "stream",
          "text": [
            "['don', 'edit', 'feat', 'la', 'like', 'love', 'radio', 'remastered', 'remix', 'version']\n"
          ],
          "name": "stdout"
        }
      ]
    },
    {
      "cell_type": "code",
      "metadata": {
        "colab": {
          "base_uri": "https://localhost:8080/",
          "height": 414
        },
        "id": "YSvFUfRpDRLK",
        "outputId": "e2461f7e-fdd1-430a-b043-ce874a7fb586"
      },
      "source": [
        "song_name_list_df = pd.DataFrame(song_name_list, columns=['names'])\r\n",
        "song_name_list_df"
      ],
      "execution_count": null,
      "outputs": [
        {
          "output_type": "execute_result",
          "data": {
            "text/html": [
              "<div>\n",
              "<style scoped>\n",
              "    .dataframe tbody tr th:only-of-type {\n",
              "        vertical-align: middle;\n",
              "    }\n",
              "\n",
              "    .dataframe tbody tr th {\n",
              "        vertical-align: top;\n",
              "    }\n",
              "\n",
              "    .dataframe thead th {\n",
              "        text-align: right;\n",
              "    }\n",
              "</style>\n",
              "<table border=\"1\" class=\"dataframe\">\n",
              "  <thead>\n",
              "    <tr style=\"text-align: right;\">\n",
              "      <th></th>\n",
              "      <th>names</th>\n",
              "    </tr>\n",
              "  </thead>\n",
              "  <tbody>\n",
              "    <tr>\n",
              "      <th>0</th>\n",
              "      <td>boulevard of broken dream</td>\n",
              "    </tr>\n",
              "    <tr>\n",
              "      <th>1</th>\n",
              "      <td>in the end</td>\n",
              "    </tr>\n",
              "    <tr>\n",
              "      <th>2</th>\n",
              "      <td>seven nation army</td>\n",
              "    </tr>\n",
              "    <tr>\n",
              "      <th>3</th>\n",
              "      <td>by the way</td>\n",
              "    </tr>\n",
              "    <tr>\n",
              "      <th>4</th>\n",
              "      <td>how you remind me</td>\n",
              "    </tr>\n",
              "    <tr>\n",
              "      <th>...</th>\n",
              "      <td>...</td>\n",
              "    </tr>\n",
              "    <tr>\n",
              "      <th>18505</th>\n",
              "      <td>let it breathe</td>\n",
              "    </tr>\n",
              "    <tr>\n",
              "      <th>18506</th>\n",
              "      <td>answer</td>\n",
              "    </tr>\n",
              "    <tr>\n",
              "      <th>18507</th>\n",
              "      <td>sudden love acoustic</td>\n",
              "    </tr>\n",
              "    <tr>\n",
              "      <th>18508</th>\n",
              "      <td>gentle on my mind</td>\n",
              "    </tr>\n",
              "    <tr>\n",
              "      <th>18509</th>\n",
              "      <td>up to me</td>\n",
              "    </tr>\n",
              "  </tbody>\n",
              "</table>\n",
              "<p>18510 rows × 1 columns</p>\n",
              "</div>"
            ],
            "text/plain": [
              "                           names\n",
              "0      boulevard of broken dream\n",
              "1                     in the end\n",
              "2              seven nation army\n",
              "3                     by the way\n",
              "4              how you remind me\n",
              "...                          ...\n",
              "18505             let it breathe\n",
              "18506                     answer\n",
              "18507       sudden love acoustic\n",
              "18508          gentle on my mind\n",
              "18509                   up to me\n",
              "\n",
              "[18510 rows x 1 columns]"
            ]
          },
          "metadata": {
            "tags": []
          },
          "execution_count": 123
        }
      ]
    },
    {
      "cell_type": "code",
      "metadata": {
        "colab": {
          "base_uri": "https://localhost:8080/"
        },
        "id": "lVh0GYjdDe5Q",
        "outputId": "787cf255-ff20-404b-9d0d-c75c69501f46"
      },
      "source": [
        "artist = song_info.artist_name.tolist()\r\n",
        "name_count = Counter(artist)\r\n",
        "most_common_name = name_count.most_common(50)\r\n",
        "most_common_name"
      ],
      "execution_count": null,
      "outputs": [
        {
          "output_type": "execute_result",
          "data": {
            "text/plain": [
              "[('Kanye West', 82),\n",
              " ('Lady Gaga', 78),\n",
              " ('Drake', 68),\n",
              " ('Khalid', 61),\n",
              " ('Eminem', 47),\n",
              " ('6ix9ine', 45),\n",
              " ('David Guetta', 45),\n",
              " ('Calvin Harris', 40),\n",
              " ('The Chainsmokers', 40),\n",
              " ('Lil Wayne', 39),\n",
              " ('Future', 39),\n",
              " ('Lil Baby', 38),\n",
              " ('Gucci Mane', 37),\n",
              " ('Post Malone', 36),\n",
              " ('DJ Snake', 35),\n",
              " ('Travis Scott', 35),\n",
              " ('Ariana Grande', 33),\n",
              " ('Logic', 33),\n",
              " ('Ed Sheeran', 32),\n",
              " ('Sia', 32),\n",
              " ('Celia Cruz', 31),\n",
              " ('Imagine Dragons', 30),\n",
              " ('Kendrick Lamar', 30),\n",
              " ('Shakira', 29),\n",
              " ('Quavo', 29),\n",
              " ('6LACK', 29),\n",
              " ('Martin Garrix', 29),\n",
              " ('Dua Lipa', 28),\n",
              " ('Shawn Mendes', 28),\n",
              " ('Camila Cabello', 26),\n",
              " ('Cardi B', 26),\n",
              " ('Beyoncé', 26),\n",
              " ('OutKast', 26),\n",
              " ('Maroon 5', 26),\n",
              " ('Lil Mosey', 26),\n",
              " ('Rihanna', 26),\n",
              " ('Ella Mai', 26),\n",
              " ('Sigala', 26),\n",
              " ('Sheck Wes', 25),\n",
              " ('Young Thug', 25),\n",
              " ('Billie Eilish', 25),\n",
              " ('Zedd', 25),\n",
              " ('The Beatles', 24),\n",
              " ('French Montana', 24),\n",
              " ('R3HAB', 24),\n",
              " ('Nicki Minaj', 23),\n",
              " ('G-Eazy', 23),\n",
              " ('Marshmello', 23),\n",
              " ('Tiësto', 23),\n",
              " ('Bad Bunny', 22)]"
            ]
          },
          "metadata": {
            "tags": []
          },
          "execution_count": 132
        }
      ]
    },
    {
      "cell_type": "code",
      "metadata": {
        "id": "KxuTpVdyDznD"
      },
      "source": [
        "from textblob import TextBlob\r\n",
        "popularity_song_name['sentiment'] = popularity_song_name['song_name'].map(lambda text: TextBlob(text).sentiment.polarity)"
      ],
      "execution_count": null,
      "outputs": []
    },
    {
      "cell_type": "code",
      "metadata": {
        "colab": {
          "base_uri": "https://localhost:8080/",
          "height": 201
        },
        "id": "SI1vvO_BEENL",
        "outputId": "a715cdf9-8f9f-4d50-adbb-03c78fa17708"
      },
      "source": [
        "popularity_song_name.head()"
      ],
      "execution_count": null,
      "outputs": [
        {
          "output_type": "execute_result",
          "data": {
            "text/html": [
              "<div>\n",
              "<style scoped>\n",
              "    .dataframe tbody tr th:only-of-type {\n",
              "        vertical-align: middle;\n",
              "    }\n",
              "\n",
              "    .dataframe tbody tr th {\n",
              "        vertical-align: top;\n",
              "    }\n",
              "\n",
              "    .dataframe thead th {\n",
              "        text-align: right;\n",
              "    }\n",
              "</style>\n",
              "<table border=\"1\" class=\"dataframe\">\n",
              "  <thead>\n",
              "    <tr style=\"text-align: right;\">\n",
              "      <th></th>\n",
              "      <th>popularity</th>\n",
              "      <th>song_name</th>\n",
              "      <th>sentiment</th>\n",
              "    </tr>\n",
              "  </thead>\n",
              "  <tbody>\n",
              "    <tr>\n",
              "      <th>0</th>\n",
              "      <td>1</td>\n",
              "      <td>Boulevard of Broken Dreams</td>\n",
              "      <td>-0.4</td>\n",
              "    </tr>\n",
              "    <tr>\n",
              "      <th>1</th>\n",
              "      <td>0</td>\n",
              "      <td>In The End</td>\n",
              "      <td>0.0</td>\n",
              "    </tr>\n",
              "    <tr>\n",
              "      <th>2</th>\n",
              "      <td>1</td>\n",
              "      <td>Seven Nation Army</td>\n",
              "      <td>0.0</td>\n",
              "    </tr>\n",
              "    <tr>\n",
              "      <th>3</th>\n",
              "      <td>1</td>\n",
              "      <td>By The Way</td>\n",
              "      <td>0.0</td>\n",
              "    </tr>\n",
              "    <tr>\n",
              "      <th>4</th>\n",
              "      <td>0</td>\n",
              "      <td>How You Remind Me</td>\n",
              "      <td>0.0</td>\n",
              "    </tr>\n",
              "  </tbody>\n",
              "</table>\n",
              "</div>"
            ],
            "text/plain": [
              "   popularity                   song_name  sentiment\n",
              "0           1  Boulevard of Broken Dreams       -0.4\n",
              "1           0                  In The End        0.0\n",
              "2           1           Seven Nation Army        0.0\n",
              "3           1                  By The Way        0.0\n",
              "4           0           How You Remind Me        0.0"
            ]
          },
          "metadata": {
            "tags": []
          },
          "execution_count": 130
        }
      ]
    },
    {
      "cell_type": "code",
      "metadata": {
        "colab": {
          "base_uri": "https://localhost:8080/",
          "height": 306
        },
        "id": "GbFFF0SDEdXh",
        "outputId": "50f92fba-b36a-4d98-f066-38a04ddda22f"
      },
      "source": [
        "song_data = pd.concat([song_data, popularity_song_name.sentiment], axis=1)\r\n",
        "song_data.head()"
      ],
      "execution_count": null,
      "outputs": [
        {
          "output_type": "execute_result",
          "data": {
            "text/html": [
              "<div>\n",
              "<style scoped>\n",
              "    .dataframe tbody tr th:only-of-type {\n",
              "        vertical-align: middle;\n",
              "    }\n",
              "\n",
              "    .dataframe tbody tr th {\n",
              "        vertical-align: top;\n",
              "    }\n",
              "\n",
              "    .dataframe thead th {\n",
              "        text-align: right;\n",
              "    }\n",
              "</style>\n",
              "<table border=\"1\" class=\"dataframe\">\n",
              "  <thead>\n",
              "    <tr style=\"text-align: right;\">\n",
              "      <th></th>\n",
              "      <th>song_name</th>\n",
              "      <th>song_popularity</th>\n",
              "      <th>song_duration_ms</th>\n",
              "      <th>acousticness</th>\n",
              "      <th>danceability</th>\n",
              "      <th>energy</th>\n",
              "      <th>instrumentalness</th>\n",
              "      <th>key</th>\n",
              "      <th>liveness</th>\n",
              "      <th>loudness</th>\n",
              "      <th>audio_mode</th>\n",
              "      <th>speechiness</th>\n",
              "      <th>tempo</th>\n",
              "      <th>time_signature</th>\n",
              "      <th>audio_valence</th>\n",
              "      <th>popularity</th>\n",
              "      <th>sentiment</th>\n",
              "    </tr>\n",
              "  </thead>\n",
              "  <tbody>\n",
              "    <tr>\n",
              "      <th>0</th>\n",
              "      <td>Boulevard of Broken Dreams</td>\n",
              "      <td>73</td>\n",
              "      <td>262333.0</td>\n",
              "      <td>0.005520</td>\n",
              "      <td>0.496</td>\n",
              "      <td>0.682</td>\n",
              "      <td>0.000029</td>\n",
              "      <td>8.0</td>\n",
              "      <td>0.0589</td>\n",
              "      <td>-4.095</td>\n",
              "      <td>1.0</td>\n",
              "      <td>0.0294</td>\n",
              "      <td>167.060</td>\n",
              "      <td>4.0</td>\n",
              "      <td>0.474</td>\n",
              "      <td>1</td>\n",
              "      <td>-0.4</td>\n",
              "    </tr>\n",
              "    <tr>\n",
              "      <th>1</th>\n",
              "      <td>In The End</td>\n",
              "      <td>66</td>\n",
              "      <td>216933.0</td>\n",
              "      <td>0.010300</td>\n",
              "      <td>0.542</td>\n",
              "      <td>0.853</td>\n",
              "      <td>0.000000</td>\n",
              "      <td>3.0</td>\n",
              "      <td>0.1080</td>\n",
              "      <td>-6.407</td>\n",
              "      <td>0.0</td>\n",
              "      <td>0.0498</td>\n",
              "      <td>105.256</td>\n",
              "      <td>4.0</td>\n",
              "      <td>0.370</td>\n",
              "      <td>0</td>\n",
              "      <td>0.0</td>\n",
              "    </tr>\n",
              "    <tr>\n",
              "      <th>2</th>\n",
              "      <td>Seven Nation Army</td>\n",
              "      <td>76</td>\n",
              "      <td>231733.0</td>\n",
              "      <td>0.008170</td>\n",
              "      <td>0.737</td>\n",
              "      <td>0.463</td>\n",
              "      <td>0.447000</td>\n",
              "      <td>0.0</td>\n",
              "      <td>0.2550</td>\n",
              "      <td>-7.828</td>\n",
              "      <td>1.0</td>\n",
              "      <td>0.0792</td>\n",
              "      <td>123.881</td>\n",
              "      <td>4.0</td>\n",
              "      <td>0.324</td>\n",
              "      <td>1</td>\n",
              "      <td>0.0</td>\n",
              "    </tr>\n",
              "    <tr>\n",
              "      <th>3</th>\n",
              "      <td>By The Way</td>\n",
              "      <td>74</td>\n",
              "      <td>216933.0</td>\n",
              "      <td>0.026400</td>\n",
              "      <td>0.451</td>\n",
              "      <td>0.970</td>\n",
              "      <td>0.003550</td>\n",
              "      <td>0.0</td>\n",
              "      <td>0.1020</td>\n",
              "      <td>-4.938</td>\n",
              "      <td>1.0</td>\n",
              "      <td>0.1070</td>\n",
              "      <td>122.444</td>\n",
              "      <td>4.0</td>\n",
              "      <td>0.198</td>\n",
              "      <td>1</td>\n",
              "      <td>0.0</td>\n",
              "    </tr>\n",
              "    <tr>\n",
              "      <th>4</th>\n",
              "      <td>How You Remind Me</td>\n",
              "      <td>56</td>\n",
              "      <td>223826.0</td>\n",
              "      <td>0.000954</td>\n",
              "      <td>0.447</td>\n",
              "      <td>0.766</td>\n",
              "      <td>0.000000</td>\n",
              "      <td>10.0</td>\n",
              "      <td>0.1130</td>\n",
              "      <td>-5.065</td>\n",
              "      <td>1.0</td>\n",
              "      <td>0.0313</td>\n",
              "      <td>172.011</td>\n",
              "      <td>4.0</td>\n",
              "      <td>0.574</td>\n",
              "      <td>0</td>\n",
              "      <td>0.0</td>\n",
              "    </tr>\n",
              "  </tbody>\n",
              "</table>\n",
              "</div>"
            ],
            "text/plain": [
              "                    song_name  song_popularity  ...  popularity  sentiment\n",
              "0  Boulevard of Broken Dreams               73  ...           1       -0.4\n",
              "1                  In The End               66  ...           0        0.0\n",
              "2           Seven Nation Army               76  ...           1        0.0\n",
              "3                  By The Way               74  ...           1        0.0\n",
              "4           How You Remind Me               56  ...           0        0.0\n",
              "\n",
              "[5 rows x 17 columns]"
            ]
          },
          "metadata": {
            "tags": []
          },
          "execution_count": 131
        }
      ]
    },
    {
      "cell_type": "markdown",
      "metadata": {
        "id": "4c9Js6I-4Hrh"
      },
      "source": [
        ""
      ]
    },
    {
      "cell_type": "code",
      "metadata": {
        "id": "T-97TyzAEc46"
      },
      "source": [
        ""
      ],
      "execution_count": null,
      "outputs": []
    },
    {
      "cell_type": "markdown",
      "metadata": {
        "id": "PXYv-TJeGc9n"
      },
      "source": [
        "## 머신러닝(예제)"
      ]
    },
    {
      "cell_type": "code",
      "metadata": {
        "id": "3xpA5_x5GkMD"
      },
      "source": [
        "y = song_data['popularity'].values"
      ],
      "execution_count": null,
      "outputs": []
    },
    {
      "cell_type": "code",
      "metadata": {
        "id": "W5AxMVcxGkd6"
      },
      "source": [
        "x = song_data.drop(['popularity', 'song_name'], axis=1)"
      ],
      "execution_count": null,
      "outputs": []
    },
    {
      "cell_type": "code",
      "metadata": {
        "id": "r7yJpKzAGsbF"
      },
      "source": [
        "from sklearn.model_selection import train_test_split\r\n",
        "X_train, X_test, y_train, y_test = train_test_split(x,y)"
      ],
      "execution_count": null,
      "outputs": []
    },
    {
      "cell_type": "code",
      "metadata": {
        "colab": {
          "base_uri": "https://localhost:8080/"
        },
        "id": "_YAQT13hGt04",
        "outputId": "4a6eda2a-34c1-423a-a1cd-2ffd2b50a701"
      },
      "source": [
        "X_test.shape"
      ],
      "execution_count": null,
      "outputs": [
        {
          "output_type": "execute_result",
          "data": {
            "text/plain": [
              "(4628, 15)"
            ]
          },
          "metadata": {
            "tags": []
          },
          "execution_count": 145
        }
      ]
    },
    {
      "cell_type": "code",
      "metadata": {
        "colab": {
          "base_uri": "https://localhost:8080/"
        },
        "id": "4ox32cC8G55r",
        "outputId": "b4bc2740-30a6-4ce0-ee0e-4a1ab45e5762"
      },
      "source": [
        "y_test.shape"
      ],
      "execution_count": null,
      "outputs": [
        {
          "output_type": "execute_result",
          "data": {
            "text/plain": [
              "(4628,)"
            ]
          },
          "metadata": {
            "tags": []
          },
          "execution_count": 146
        }
      ]
    },
    {
      "cell_type": "code",
      "metadata": {
        "colab": {
          "base_uri": "https://localhost:8080/"
        },
        "id": "r56J64c4G7Vp",
        "outputId": "90cf013e-c288-45f9-fa48-6412951a0f91"
      },
      "source": [
        "from sklearn.svm import SVC\r\n",
        "svm = SVC()\r\n",
        "svm.fit(X_train, y_train)"
      ],
      "execution_count": null,
      "outputs": [
        {
          "output_type": "execute_result",
          "data": {
            "text/plain": [
              "SVC(C=1.0, break_ties=False, cache_size=200, class_weight=None, coef0=0.0,\n",
              "    decision_function_shape='ovr', degree=3, gamma='scale', kernel='rbf',\n",
              "    max_iter=-1, probability=False, random_state=None, shrinking=True,\n",
              "    tol=0.001, verbose=False)"
            ]
          },
          "metadata": {
            "tags": []
          },
          "execution_count": 147
        }
      ]
    },
    {
      "cell_type": "code",
      "metadata": {
        "colab": {
          "base_uri": "https://localhost:8080/"
        },
        "id": "sOE_gHE0HJ0Z",
        "outputId": "62dddf91-7858-42ae-a68a-f82c1de87a00"
      },
      "source": [
        "print(svm.score(X_train, y_train))\r\n",
        "print(svm.score(X_test, y_test))"
      ],
      "execution_count": null,
      "outputs": [
        {
          "output_type": "stream",
          "text": [
            "0.7417519089468376\n",
            "0.7394122731201382\n"
          ],
          "name": "stdout"
        }
      ]
    },
    {
      "cell_type": "markdown",
      "metadata": {
        "id": "kcYWyLLaHpwB"
      },
      "source": [
        "# Pandas 정도만 사용하시면 전처리는 크게 문제없음\r\n",
        "* concat, drop\r\n",
        "* axis=1, 컬럼단위로 작업을 진행\r\n"
      ]
    },
    {
      "cell_type": "code",
      "metadata": {
        "id": "yfAfKZLGHqru"
      },
      "source": [
        ""
      ],
      "execution_count": null,
      "outputs": []
    }
  ]
}