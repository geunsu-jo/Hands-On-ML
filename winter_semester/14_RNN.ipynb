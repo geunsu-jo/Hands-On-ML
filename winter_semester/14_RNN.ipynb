{
  "nbformat": 4,
  "nbformat_minor": 0,
  "metadata": {
    "colab": {
      "name": "14_RNN.ipynb",
      "provenance": [],
      "collapsed_sections": [],
      "toc_visible": true,
      "include_colab_link": true
    },
    "kernelspec": {
      "name": "python3",
      "display_name": "Python 3"
    }
  },
  "cells": [
    {
      "cell_type": "markdown",
      "metadata": {
        "id": "view-in-github",
        "colab_type": "text"
      },
      "source": [
        "<a href=\"https://colab.research.google.com/github/geunsu-jo/Hands-On-ML/blob/main/winter_semester/14_RNN.ipynb\" target=\"_parent\"><img src=\"https://colab.research.google.com/assets/colab-badge.svg\" alt=\"Open In Colab\"/></a>"
      ]
    },
    {
      "cell_type": "markdown",
      "metadata": {
        "id": "8Z4DyjUBmjyL"
      },
      "source": [
        "# RNN"
      ]
    },
    {
      "cell_type": "code",
      "metadata": {
        "id": "RnemVOksnWe0"
      },
      "source": [
        "import tensorflow as tf\r\n",
        "import numpy as np\r\n",
        "import matplotlib.pyplot as plt"
      ],
      "execution_count": null,
      "outputs": []
    },
    {
      "cell_type": "code",
      "metadata": {
        "colab": {
          "base_uri": "https://localhost:8080/"
        },
        "id": "VlQEtQ92nc1o",
        "outputId": "9e78cc45-cb44-4731-cdb4-76286972b17c"
      },
      "source": [
        "print(tf.__version__)"
      ],
      "execution_count": null,
      "outputs": [
        {
          "output_type": "stream",
          "text": [
            "2.4.0\n"
          ],
          "name": "stdout"
        }
      ]
    },
    {
      "cell_type": "markdown",
      "metadata": {
        "id": "rNcgmEAHmj07"
      },
      "source": [
        "## SimpleRNN\r\n",
        "* 연속된 숫자 4개를 입력으로 다음에 올 수를 예측하는 모델"
      ]
    },
    {
      "cell_type": "code",
      "metadata": {
        "id": "5kSFbrgcn09v"
      },
      "source": [
        "# 데이터 생성\r\n",
        "X = []\r\n",
        "y = []\r\n",
        "for i in range(6):\r\n",
        "  _list = list(range(i, i+4))\r\n",
        "  X.append(list(map(lambda c: [c/10], _list)))\r\n",
        "  y.append((i+4)/10)"
      ],
      "execution_count": null,
      "outputs": []
    },
    {
      "cell_type": "code",
      "metadata": {
        "colab": {
          "base_uri": "https://localhost:8080/"
        },
        "id": "tV4gi-IWoEkz",
        "outputId": "90b283ef-d4a2-4b91-81da-0ad9afeae692"
      },
      "source": [
        "# 데이터 변환(numpy)\r\n",
        "X = np.array(X)\r\n",
        "y = np.array(y)\r\n",
        "for i in range(len(X)):\r\n",
        "  print(X[i], y[i])"
      ],
      "execution_count": null,
      "outputs": [
        {
          "output_type": "stream",
          "text": [
            "[[0. ]\n",
            " [0.1]\n",
            " [0.2]\n",
            " [0.3]] 0.4\n",
            "[[0.1]\n",
            " [0.2]\n",
            " [0.3]\n",
            " [0.4]] 0.5\n",
            "[[0.2]\n",
            " [0.3]\n",
            " [0.4]\n",
            " [0.5]] 0.6\n",
            "[[0.3]\n",
            " [0.4]\n",
            " [0.5]\n",
            " [0.6]] 0.7\n",
            "[[0.4]\n",
            " [0.5]\n",
            " [0.6]\n",
            " [0.7]] 0.8\n",
            "[[0.5]\n",
            " [0.6]\n",
            " [0.7]\n",
            " [0.8]] 0.9\n"
          ],
          "name": "stdout"
        }
      ]
    },
    {
      "cell_type": "code",
      "metadata": {
        "id": "PJwx-liVooMA"
      },
      "source": [
        "# 예측 모델\r\n",
        "model = tf.keras.Sequential([\r\n",
        "  tf.keras.layers.SimpleRNN(units=10, activation='tanh', return_sequences=False, input_shape=[4,1]),\r\n",
        "  tf.keras.layers.Dense(1)\r\n",
        "])"
      ],
      "execution_count": null,
      "outputs": []
    },
    {
      "cell_type": "code",
      "metadata": {
        "colab": {
          "base_uri": "https://localhost:8080/"
        },
        "id": "nGnlwYcQo0KO",
        "outputId": "a9dec1b7-b6e0-44a8-813a-c6ce725a0863"
      },
      "source": [
        "model.compile(loss='mse')\r\n",
        "model.summary()"
      ],
      "execution_count": null,
      "outputs": [
        {
          "output_type": "stream",
          "text": [
            "Model: \"sequential\"\n",
            "_________________________________________________________________\n",
            "Layer (type)                 Output Shape              Param #   \n",
            "=================================================================\n",
            "simple_rnn (SimpleRNN)       (None, 10)                120       \n",
            "_________________________________________________________________\n",
            "dense (Dense)                (None, 1)                 11        \n",
            "=================================================================\n",
            "Total params: 131\n",
            "Trainable params: 131\n",
            "Non-trainable params: 0\n",
            "_________________________________________________________________\n"
          ],
          "name": "stdout"
        }
      ]
    },
    {
      "cell_type": "code",
      "metadata": {
        "colab": {
          "base_uri": "https://localhost:8080/"
        },
        "id": "o-IllYk9o70b",
        "outputId": "e0c09d61-7df1-4efd-c5cf-e28908190cc2"
      },
      "source": [
        "model.fit(X,y, epochs=100)"
      ],
      "execution_count": null,
      "outputs": [
        {
          "output_type": "stream",
          "text": [
            "Epoch 1/100\n",
            "1/1 [==============================] - 1s 1s/step - loss: 0.1844\n",
            "Epoch 2/100\n",
            "1/1 [==============================] - 0s 6ms/step - loss: 0.1296\n",
            "Epoch 3/100\n",
            "1/1 [==============================] - 0s 5ms/step - loss: 0.0991\n",
            "Epoch 4/100\n",
            "1/1 [==============================] - 0s 6ms/step - loss: 0.0781\n",
            "Epoch 5/100\n",
            "1/1 [==============================] - 0s 5ms/step - loss: 0.0626\n",
            "Epoch 6/100\n",
            "1/1 [==============================] - 0s 5ms/step - loss: 0.0505\n",
            "Epoch 7/100\n",
            "1/1 [==============================] - 0s 5ms/step - loss: 0.0410\n",
            "Epoch 8/100\n",
            "1/1 [==============================] - 0s 5ms/step - loss: 0.0334\n",
            "Epoch 9/100\n",
            "1/1 [==============================] - 0s 4ms/step - loss: 0.0273\n",
            "Epoch 10/100\n",
            "1/1 [==============================] - 0s 5ms/step - loss: 0.0223\n",
            "Epoch 11/100\n",
            "1/1 [==============================] - 0s 5ms/step - loss: 0.0184\n",
            "Epoch 12/100\n",
            "1/1 [==============================] - 0s 6ms/step - loss: 0.0152\n",
            "Epoch 13/100\n",
            "1/1 [==============================] - 0s 6ms/step - loss: 0.0126\n",
            "Epoch 14/100\n",
            "1/1 [==============================] - 0s 6ms/step - loss: 0.0106\n",
            "Epoch 15/100\n",
            "1/1 [==============================] - 0s 5ms/step - loss: 0.0090\n",
            "Epoch 16/100\n",
            "1/1 [==============================] - 0s 5ms/step - loss: 0.0078\n",
            "Epoch 17/100\n",
            "1/1 [==============================] - 0s 6ms/step - loss: 0.0068\n",
            "Epoch 18/100\n",
            "1/1 [==============================] - 0s 5ms/step - loss: 0.0061\n",
            "Epoch 19/100\n",
            "1/1 [==============================] - 0s 6ms/step - loss: 0.0055\n",
            "Epoch 20/100\n",
            "1/1 [==============================] - 0s 6ms/step - loss: 0.0051\n",
            "Epoch 21/100\n",
            "1/1 [==============================] - 0s 6ms/step - loss: 0.0047\n",
            "Epoch 22/100\n",
            "1/1 [==============================] - 0s 5ms/step - loss: 0.0044\n",
            "Epoch 23/100\n",
            "1/1 [==============================] - 0s 6ms/step - loss: 0.0042\n",
            "Epoch 24/100\n",
            "1/1 [==============================] - 0s 6ms/step - loss: 0.0040\n",
            "Epoch 25/100\n",
            "1/1 [==============================] - 0s 5ms/step - loss: 0.0038\n",
            "Epoch 26/100\n",
            "1/1 [==============================] - 0s 7ms/step - loss: 0.0037\n",
            "Epoch 27/100\n",
            "1/1 [==============================] - 0s 8ms/step - loss: 0.0035\n",
            "Epoch 28/100\n",
            "1/1 [==============================] - 0s 6ms/step - loss: 0.0034\n",
            "Epoch 29/100\n",
            "1/1 [==============================] - 0s 5ms/step - loss: 0.0033\n",
            "Epoch 30/100\n",
            "1/1 [==============================] - 0s 5ms/step - loss: 0.0031\n",
            "Epoch 31/100\n",
            "1/1 [==============================] - 0s 7ms/step - loss: 0.0030\n",
            "Epoch 32/100\n",
            "1/1 [==============================] - 0s 7ms/step - loss: 0.0028\n",
            "Epoch 33/100\n",
            "1/1 [==============================] - 0s 8ms/step - loss: 0.0027\n",
            "Epoch 34/100\n",
            "1/1 [==============================] - 0s 7ms/step - loss: 0.0026\n",
            "Epoch 35/100\n",
            "1/1 [==============================] - 0s 6ms/step - loss: 0.0024\n",
            "Epoch 36/100\n",
            "1/1 [==============================] - 0s 5ms/step - loss: 0.0023\n",
            "Epoch 37/100\n",
            "1/1 [==============================] - 0s 6ms/step - loss: 0.0022\n",
            "Epoch 38/100\n",
            "1/1 [==============================] - 0s 8ms/step - loss: 0.0021\n",
            "Epoch 39/100\n",
            "1/1 [==============================] - 0s 6ms/step - loss: 0.0019\n",
            "Epoch 40/100\n",
            "1/1 [==============================] - 0s 8ms/step - loss: 0.0018\n",
            "Epoch 41/100\n",
            "1/1 [==============================] - 0s 5ms/step - loss: 0.0017\n",
            "Epoch 42/100\n",
            "1/1 [==============================] - 0s 7ms/step - loss: 0.0016\n",
            "Epoch 43/100\n",
            "1/1 [==============================] - 0s 7ms/step - loss: 0.0015\n",
            "Epoch 44/100\n",
            "1/1 [==============================] - 0s 6ms/step - loss: 0.0014\n",
            "Epoch 45/100\n",
            "1/1 [==============================] - 0s 6ms/step - loss: 0.0013\n",
            "Epoch 46/100\n",
            "1/1 [==============================] - 0s 8ms/step - loss: 0.0012\n",
            "Epoch 47/100\n",
            "1/1 [==============================] - 0s 5ms/step - loss: 0.0011\n",
            "Epoch 48/100\n",
            "1/1 [==============================] - 0s 4ms/step - loss: 9.9023e-04\n",
            "Epoch 49/100\n",
            "1/1 [==============================] - 0s 5ms/step - loss: 9.0638e-04\n",
            "Epoch 50/100\n",
            "1/1 [==============================] - 0s 7ms/step - loss: 8.2750e-04\n",
            "Epoch 51/100\n",
            "1/1 [==============================] - 0s 6ms/step - loss: 7.5365e-04\n",
            "Epoch 52/100\n",
            "1/1 [==============================] - 0s 6ms/step - loss: 6.8490e-04\n",
            "Epoch 53/100\n",
            "1/1 [==============================] - 0s 12ms/step - loss: 6.2125e-04\n",
            "Epoch 54/100\n",
            "1/1 [==============================] - 0s 8ms/step - loss: 5.6268e-04\n",
            "Epoch 55/100\n",
            "1/1 [==============================] - 0s 6ms/step - loss: 5.0913e-04\n",
            "Epoch 56/100\n",
            "1/1 [==============================] - 0s 6ms/step - loss: 4.6050e-04\n",
            "Epoch 57/100\n",
            "1/1 [==============================] - 0s 8ms/step - loss: 4.1666e-04\n",
            "Epoch 58/100\n",
            "1/1 [==============================] - 0s 5ms/step - loss: 3.7742e-04\n",
            "Epoch 59/100\n",
            "1/1 [==============================] - 0s 7ms/step - loss: 3.4259e-04\n",
            "Epoch 60/100\n",
            "1/1 [==============================] - 0s 6ms/step - loss: 3.1193e-04\n",
            "Epoch 61/100\n",
            "1/1 [==============================] - 0s 7ms/step - loss: 2.8517e-04\n",
            "Epoch 62/100\n",
            "1/1 [==============================] - 0s 5ms/step - loss: 2.6203e-04\n",
            "Epoch 63/100\n",
            "1/1 [==============================] - 0s 6ms/step - loss: 2.4222e-04\n",
            "Epoch 64/100\n",
            "1/1 [==============================] - 0s 8ms/step - loss: 2.2541e-04\n",
            "Epoch 65/100\n",
            "1/1 [==============================] - 0s 6ms/step - loss: 2.1129e-04\n",
            "Epoch 66/100\n",
            "1/1 [==============================] - 0s 6ms/step - loss: 1.9953e-04\n",
            "Epoch 67/100\n",
            "1/1 [==============================] - 0s 6ms/step - loss: 1.8984e-04\n",
            "Epoch 68/100\n",
            "1/1 [==============================] - 0s 6ms/step - loss: 1.8190e-04\n",
            "Epoch 69/100\n",
            "1/1 [==============================] - 0s 5ms/step - loss: 1.7545e-04\n",
            "Epoch 70/100\n",
            "1/1 [==============================] - 0s 8ms/step - loss: 1.7021e-04\n",
            "Epoch 71/100\n",
            "1/1 [==============================] - 0s 6ms/step - loss: 1.6595e-04\n",
            "Epoch 72/100\n",
            "1/1 [==============================] - 0s 7ms/step - loss: 1.6247e-04\n",
            "Epoch 73/100\n",
            "1/1 [==============================] - 0s 6ms/step - loss: 1.5957e-04\n",
            "Epoch 74/100\n",
            "1/1 [==============================] - 0s 7ms/step - loss: 1.5712e-04\n",
            "Epoch 75/100\n",
            "1/1 [==============================] - 0s 5ms/step - loss: 1.5499e-04\n",
            "Epoch 76/100\n",
            "1/1 [==============================] - 0s 7ms/step - loss: 1.5307e-04\n",
            "Epoch 77/100\n",
            "1/1 [==============================] - 0s 6ms/step - loss: 1.5129e-04\n",
            "Epoch 78/100\n",
            "1/1 [==============================] - 0s 7ms/step - loss: 1.4959e-04\n",
            "Epoch 79/100\n",
            "1/1 [==============================] - 0s 5ms/step - loss: 1.4792e-04\n",
            "Epoch 80/100\n",
            "1/1 [==============================] - 0s 7ms/step - loss: 1.4629e-04\n",
            "Epoch 81/100\n",
            "1/1 [==============================] - 0s 5ms/step - loss: 1.4504e-04\n",
            "Epoch 82/100\n",
            "1/1 [==============================] - 0s 7ms/step - loss: 1.4850e-04\n",
            "Epoch 83/100\n",
            "1/1 [==============================] - 0s 5ms/step - loss: 2.1367e-04\n",
            "Epoch 84/100\n",
            "1/1 [==============================] - 0s 6ms/step - loss: 8.4002e-04\n",
            "Epoch 85/100\n",
            "1/1 [==============================] - 0s 5ms/step - loss: 0.0012\n",
            "Epoch 86/100\n",
            "1/1 [==============================] - 0s 7ms/step - loss: 5.2078e-04\n",
            "Epoch 87/100\n",
            "1/1 [==============================] - 0s 5ms/step - loss: 2.3977e-04\n",
            "Epoch 88/100\n",
            "1/1 [==============================] - 0s 7ms/step - loss: 1.6934e-04\n",
            "Epoch 89/100\n",
            "1/1 [==============================] - 0s 6ms/step - loss: 1.4955e-04\n",
            "Epoch 90/100\n",
            "1/1 [==============================] - 0s 5ms/step - loss: 1.4267e-04\n",
            "Epoch 91/100\n",
            "1/1 [==============================] - 0s 6ms/step - loss: 1.3964e-04\n",
            "Epoch 92/100\n",
            "1/1 [==============================] - 0s 5ms/step - loss: 1.3804e-04\n",
            "Epoch 93/100\n",
            "1/1 [==============================] - 0s 6ms/step - loss: 1.3715e-04\n",
            "Epoch 94/100\n",
            "1/1 [==============================] - 0s 4ms/step - loss: 1.3691e-04\n",
            "Epoch 95/100\n",
            "1/1 [==============================] - 0s 5ms/step - loss: 1.3770e-04\n",
            "Epoch 96/100\n",
            "1/1 [==============================] - 0s 5ms/step - loss: 1.4077e-04\n",
            "Epoch 97/100\n",
            "1/1 [==============================] - 0s 5ms/step - loss: 1.4969e-04\n",
            "Epoch 98/100\n",
            "1/1 [==============================] - 0s 6ms/step - loss: 1.7470e-04\n",
            "Epoch 99/100\n",
            "1/1 [==============================] - 0s 4ms/step - loss: 2.4234e-04\n",
            "Epoch 100/100\n",
            "1/1 [==============================] - 0s 6ms/step - loss: 3.9123e-04\n"
          ],
          "name": "stdout"
        },
        {
          "output_type": "execute_result",
          "data": {
            "text/plain": [
              "<tensorflow.python.keras.callbacks.History at 0x7fc396df8fd0>"
            ]
          },
          "metadata": {
            "tags": []
          },
          "execution_count": 7
        }
      ]
    },
    {
      "cell_type": "code",
      "metadata": {
        "colab": {
          "base_uri": "https://localhost:8080/"
        },
        "id": "WjAWrMLfo857",
        "outputId": "098ccde5-0744-49de-c94f-574815244bfb"
      },
      "source": [
        "print(model.predict(X))"
      ],
      "execution_count": null,
      "outputs": [
        {
          "output_type": "stream",
          "text": [
            "[[0.3996377 ]\n",
            " [0.51993096]\n",
            " [0.63168836]\n",
            " [0.733853  ]\n",
            " [0.8261145 ]\n",
            " [0.9086981 ]]\n"
          ],
          "name": "stdout"
        }
      ]
    },
    {
      "cell_type": "markdown",
      "metadata": {
        "id": "Ee90cag-mj3j"
      },
      "source": [
        "## LSTM과 GRU"
      ]
    },
    {
      "cell_type": "code",
      "metadata": {
        "id": "lk38zKB52Qx5"
      },
      "source": [
        "# 데이터 생성\r\n",
        "X = []\r\n",
        "y = []\r\n",
        "for i in range(3000):\r\n",
        "  _list = np.random.rand(100)\r\n",
        "  idx = np.random.choice(100,2,replace=False)\r\n",
        "  zeros = np.zeros(100)\r\n",
        "  zeros[idx] = 1\r\n",
        "  X.append(np.array(list(zip(zeros, _list))))\r\n",
        "  y.append(np.prod(_list[idx]))"
      ],
      "execution_count": null,
      "outputs": []
    },
    {
      "cell_type": "code",
      "metadata": {
        "id": "EAwJTQOs2w8r"
      },
      "source": [
        "X = np.array(X)\r\n",
        "y = np.array(y)"
      ],
      "execution_count": null,
      "outputs": []
    },
    {
      "cell_type": "markdown",
      "metadata": {
        "id": "ii9Qisgm7-uC"
      },
      "source": [
        "### SimpleRNN을 사용한 곱셈 예측 문제"
      ]
    },
    {
      "cell_type": "code",
      "metadata": {
        "colab": {
          "base_uri": "https://localhost:8080/"
        },
        "id": "QiF8hkTZ27tJ",
        "outputId": "e150359e-2ad6-4184-b85b-75a3b3f37436"
      },
      "source": [
        "# 마지막 결과만 반영할 때 return_sequences=False\r\n",
        "# 만약에, many-to-many 문제는 return_sequences=True\r\n",
        "model = tf.keras.Sequential([\r\n",
        "  tf.keras.layers.SimpleRNN(units=30, activation='tanh', return_sequences=True, input_shape=[100,2]),\r\n",
        "  tf.keras.layers.SimpleRNN(units=30),\r\n",
        "  tf.keras.layers.Dense(1)\r\n",
        "])\r\n",
        "\r\n",
        "model.compile(loss='mse')\r\n",
        "model.summary()"
      ],
      "execution_count": null,
      "outputs": [
        {
          "output_type": "stream",
          "text": [
            "Model: \"sequential_1\"\n",
            "_________________________________________________________________\n",
            "Layer (type)                 Output Shape              Param #   \n",
            "=================================================================\n",
            "simple_rnn_1 (SimpleRNN)     (None, 100, 30)           990       \n",
            "_________________________________________________________________\n",
            "simple_rnn_2 (SimpleRNN)     (None, 30)                1830      \n",
            "_________________________________________________________________\n",
            "dense_1 (Dense)              (None, 1)                 31        \n",
            "=================================================================\n",
            "Total params: 2,851\n",
            "Trainable params: 2,851\n",
            "Non-trainable params: 0\n",
            "_________________________________________________________________\n"
          ],
          "name": "stdout"
        }
      ]
    },
    {
      "cell_type": "code",
      "metadata": {
        "colab": {
          "base_uri": "https://localhost:8080/"
        },
        "id": "rZu8KCaECaw2",
        "outputId": "0f954c14-90aa-44e4-8654-ff1774db3e7f"
      },
      "source": [
        "history = model.fit(X[:2500], y[:2500], epochs=100, validation_split=0.2)"
      ],
      "execution_count": null,
      "outputs": [
        {
          "output_type": "stream",
          "text": [
            "Epoch 1/100\n",
            "63/63 [==============================] - 4s 38ms/step - loss: 0.0805 - val_loss: 0.0608\n",
            "Epoch 2/100\n",
            "63/63 [==============================] - 2s 30ms/step - loss: 0.0515 - val_loss: 0.0564\n",
            "Epoch 3/100\n",
            "63/63 [==============================] - 2s 30ms/step - loss: 0.0530 - val_loss: 0.0650\n",
            "Epoch 4/100\n",
            "63/63 [==============================] - 2s 32ms/step - loss: 0.0532 - val_loss: 0.0678\n",
            "Epoch 5/100\n",
            "63/63 [==============================] - 2s 30ms/step - loss: 0.0519 - val_loss: 0.0644\n",
            "Epoch 6/100\n",
            "63/63 [==============================] - 2s 30ms/step - loss: 0.0487 - val_loss: 0.0568\n",
            "Epoch 7/100\n",
            "63/63 [==============================] - 2s 30ms/step - loss: 0.0518 - val_loss: 0.0667\n",
            "Epoch 8/100\n",
            "63/63 [==============================] - 2s 30ms/step - loss: 0.0479 - val_loss: 0.0568\n",
            "Epoch 9/100\n",
            "63/63 [==============================] - 2s 29ms/step - loss: 0.0493 - val_loss: 0.0572\n",
            "Epoch 10/100\n",
            "63/63 [==============================] - 2s 29ms/step - loss: 0.0505 - val_loss: 0.0722\n",
            "Epoch 11/100\n",
            "63/63 [==============================] - 2s 29ms/step - loss: 0.0476 - val_loss: 0.0594\n",
            "Epoch 12/100\n",
            "63/63 [==============================] - 2s 28ms/step - loss: 0.0497 - val_loss: 0.0608\n",
            "Epoch 13/100\n",
            "63/63 [==============================] - 2s 29ms/step - loss: 0.0495 - val_loss: 0.0583\n",
            "Epoch 14/100\n",
            "63/63 [==============================] - 2s 30ms/step - loss: 0.0463 - val_loss: 0.0621\n",
            "Epoch 15/100\n",
            "63/63 [==============================] - 2s 29ms/step - loss: 0.0476 - val_loss: 0.0618\n",
            "Epoch 16/100\n",
            "63/63 [==============================] - 2s 28ms/step - loss: 0.0468 - val_loss: 0.0611\n",
            "Epoch 17/100\n",
            "63/63 [==============================] - 2s 27ms/step - loss: 0.0437 - val_loss: 0.0599\n",
            "Epoch 18/100\n",
            "63/63 [==============================] - 2s 27ms/step - loss: 0.0482 - val_loss: 0.0584\n",
            "Epoch 19/100\n",
            "63/63 [==============================] - 2s 27ms/step - loss: 0.0455 - val_loss: 0.0596\n",
            "Epoch 20/100\n",
            "63/63 [==============================] - 2s 27ms/step - loss: 0.0456 - val_loss: 0.0621\n",
            "Epoch 21/100\n",
            "63/63 [==============================] - 2s 28ms/step - loss: 0.0437 - val_loss: 0.0602\n",
            "Epoch 22/100\n",
            "63/63 [==============================] - 2s 28ms/step - loss: 0.0454 - val_loss: 0.0606\n",
            "Epoch 23/100\n",
            "63/63 [==============================] - 2s 27ms/step - loss: 0.0467 - val_loss: 0.0636\n",
            "Epoch 24/100\n",
            "63/63 [==============================] - 2s 28ms/step - loss: 0.0423 - val_loss: 0.0722\n",
            "Epoch 25/100\n",
            "63/63 [==============================] - 2s 27ms/step - loss: 0.0427 - val_loss: 0.0622\n",
            "Epoch 26/100\n",
            "63/63 [==============================] - 2s 27ms/step - loss: 0.0431 - val_loss: 0.0666\n",
            "Epoch 27/100\n",
            "63/63 [==============================] - 2s 28ms/step - loss: 0.0441 - val_loss: 0.0635\n",
            "Epoch 28/100\n",
            "63/63 [==============================] - 2s 27ms/step - loss: 0.0421 - val_loss: 0.0654\n",
            "Epoch 29/100\n",
            "63/63 [==============================] - 2s 28ms/step - loss: 0.0441 - val_loss: 0.0603\n",
            "Epoch 30/100\n",
            "63/63 [==============================] - 2s 28ms/step - loss: 0.0409 - val_loss: 0.0628\n",
            "Epoch 31/100\n",
            "63/63 [==============================] - 2s 28ms/step - loss: 0.0443 - val_loss: 0.0619\n",
            "Epoch 32/100\n",
            "63/63 [==============================] - 2s 29ms/step - loss: 0.0417 - val_loss: 0.0720\n",
            "Epoch 33/100\n",
            "63/63 [==============================] - 2s 29ms/step - loss: 0.0437 - val_loss: 0.0709\n",
            "Epoch 34/100\n",
            "63/63 [==============================] - 2s 29ms/step - loss: 0.0421 - val_loss: 0.0644\n",
            "Epoch 35/100\n",
            "63/63 [==============================] - 2s 29ms/step - loss: 0.0398 - val_loss: 0.0680\n",
            "Epoch 36/100\n",
            "63/63 [==============================] - 2s 28ms/step - loss: 0.0415 - val_loss: 0.0646\n",
            "Epoch 37/100\n",
            "63/63 [==============================] - 2s 27ms/step - loss: 0.0373 - val_loss: 0.0663\n",
            "Epoch 38/100\n",
            "63/63 [==============================] - 2s 28ms/step - loss: 0.0401 - val_loss: 0.0644\n",
            "Epoch 39/100\n",
            "63/63 [==============================] - 2s 28ms/step - loss: 0.0393 - val_loss: 0.0641\n",
            "Epoch 40/100\n",
            "63/63 [==============================] - 2s 28ms/step - loss: 0.0397 - val_loss: 0.0649\n",
            "Epoch 41/100\n",
            "63/63 [==============================] - 2s 28ms/step - loss: 0.0356 - val_loss: 0.0637\n",
            "Epoch 42/100\n",
            "63/63 [==============================] - 2s 27ms/step - loss: 0.0361 - val_loss: 0.0651\n",
            "Epoch 43/100\n",
            "63/63 [==============================] - 2s 28ms/step - loss: 0.0363 - val_loss: 0.0646\n",
            "Epoch 44/100\n",
            "63/63 [==============================] - 2s 29ms/step - loss: 0.0379 - val_loss: 0.0652\n",
            "Epoch 45/100\n",
            "63/63 [==============================] - 2s 28ms/step - loss: 0.0358 - val_loss: 0.0665\n",
            "Epoch 46/100\n",
            "63/63 [==============================] - 2s 28ms/step - loss: 0.0367 - val_loss: 0.0696\n",
            "Epoch 47/100\n",
            "63/63 [==============================] - 2s 29ms/step - loss: 0.0343 - val_loss: 0.0687\n",
            "Epoch 48/100\n",
            "63/63 [==============================] - 2s 28ms/step - loss: 0.0365 - val_loss: 0.0691\n",
            "Epoch 49/100\n",
            "63/63 [==============================] - 2s 28ms/step - loss: 0.0337 - val_loss: 0.0716\n",
            "Epoch 50/100\n",
            "63/63 [==============================] - 2s 29ms/step - loss: 0.0346 - val_loss: 0.0702\n",
            "Epoch 51/100\n",
            "63/63 [==============================] - 2s 28ms/step - loss: 0.0350 - val_loss: 0.0685\n",
            "Epoch 52/100\n",
            "63/63 [==============================] - 2s 30ms/step - loss: 0.0339 - val_loss: 0.0751\n",
            "Epoch 53/100\n",
            "63/63 [==============================] - 2s 28ms/step - loss: 0.0328 - val_loss: 0.0737\n",
            "Epoch 54/100\n",
            "63/63 [==============================] - 2s 28ms/step - loss: 0.0331 - val_loss: 0.0762\n",
            "Epoch 55/100\n",
            "63/63 [==============================] - 2s 30ms/step - loss: 0.0341 - val_loss: 0.0732\n",
            "Epoch 56/100\n",
            "63/63 [==============================] - 2s 28ms/step - loss: 0.0328 - val_loss: 0.0699\n",
            "Epoch 57/100\n",
            "63/63 [==============================] - 2s 29ms/step - loss: 0.0327 - val_loss: 0.0720\n",
            "Epoch 58/100\n",
            "63/63 [==============================] - 2s 29ms/step - loss: 0.0300 - val_loss: 0.0760\n",
            "Epoch 59/100\n",
            "63/63 [==============================] - 2s 29ms/step - loss: 0.0298 - val_loss: 0.0723\n",
            "Epoch 60/100\n",
            "63/63 [==============================] - 2s 29ms/step - loss: 0.0301 - val_loss: 0.0805\n",
            "Epoch 61/100\n",
            "63/63 [==============================] - 2s 28ms/step - loss: 0.0304 - val_loss: 0.0730\n",
            "Epoch 62/100\n",
            "63/63 [==============================] - 2s 28ms/step - loss: 0.0291 - val_loss: 0.0744\n",
            "Epoch 63/100\n",
            "63/63 [==============================] - 2s 28ms/step - loss: 0.0292 - val_loss: 0.0719\n",
            "Epoch 64/100\n",
            "63/63 [==============================] - 2s 28ms/step - loss: 0.0291 - val_loss: 0.0747\n",
            "Epoch 65/100\n",
            "63/63 [==============================] - 2s 28ms/step - loss: 0.0301 - val_loss: 0.0774\n",
            "Epoch 66/100\n",
            "63/63 [==============================] - 2s 28ms/step - loss: 0.0282 - val_loss: 0.0752\n",
            "Epoch 67/100\n",
            "63/63 [==============================] - 2s 29ms/step - loss: 0.0278 - val_loss: 0.0759\n",
            "Epoch 68/100\n",
            "63/63 [==============================] - 2s 28ms/step - loss: 0.0257 - val_loss: 0.0808\n",
            "Epoch 69/100\n",
            "63/63 [==============================] - 2s 28ms/step - loss: 0.0279 - val_loss: 0.0776\n",
            "Epoch 70/100\n",
            "63/63 [==============================] - 2s 30ms/step - loss: 0.0275 - val_loss: 0.0810\n",
            "Epoch 71/100\n",
            "63/63 [==============================] - 2s 29ms/step - loss: 0.0269 - val_loss: 0.0813\n",
            "Epoch 72/100\n",
            "63/63 [==============================] - 2s 29ms/step - loss: 0.0263 - val_loss: 0.0821\n",
            "Epoch 73/100\n",
            "63/63 [==============================] - 2s 29ms/step - loss: 0.0267 - val_loss: 0.0818\n",
            "Epoch 74/100\n",
            "63/63 [==============================] - 2s 28ms/step - loss: 0.0252 - val_loss: 0.0791\n",
            "Epoch 75/100\n",
            "63/63 [==============================] - 2s 28ms/step - loss: 0.0232 - val_loss: 0.0828\n",
            "Epoch 76/100\n",
            "63/63 [==============================] - 2s 28ms/step - loss: 0.0240 - val_loss: 0.0815\n",
            "Epoch 77/100\n",
            "63/63 [==============================] - 2s 29ms/step - loss: 0.0248 - val_loss: 0.0853\n",
            "Epoch 78/100\n",
            "63/63 [==============================] - 2s 29ms/step - loss: 0.0240 - val_loss: 0.0784\n",
            "Epoch 79/100\n",
            "63/63 [==============================] - 2s 29ms/step - loss: 0.0248 - val_loss: 0.0783\n",
            "Epoch 80/100\n",
            "63/63 [==============================] - 2s 28ms/step - loss: 0.0223 - val_loss: 0.0823\n",
            "Epoch 81/100\n",
            "63/63 [==============================] - 2s 30ms/step - loss: 0.0236 - val_loss: 0.0844\n",
            "Epoch 82/100\n",
            "63/63 [==============================] - 2s 29ms/step - loss: 0.0229 - val_loss: 0.0780\n",
            "Epoch 83/100\n",
            "63/63 [==============================] - 2s 31ms/step - loss: 0.0227 - val_loss: 0.0884\n",
            "Epoch 84/100\n",
            "63/63 [==============================] - 2s 29ms/step - loss: 0.0236 - val_loss: 0.0837\n",
            "Epoch 85/100\n",
            "63/63 [==============================] - 2s 28ms/step - loss: 0.0223 - val_loss: 0.0836\n",
            "Epoch 86/100\n",
            "63/63 [==============================] - 2s 28ms/step - loss: 0.0214 - val_loss: 0.0834\n",
            "Epoch 87/100\n",
            "63/63 [==============================] - 2s 29ms/step - loss: 0.0217 - val_loss: 0.0835\n",
            "Epoch 88/100\n",
            "63/63 [==============================] - 2s 28ms/step - loss: 0.0198 - val_loss: 0.0879\n",
            "Epoch 89/100\n",
            "63/63 [==============================] - 2s 28ms/step - loss: 0.0198 - val_loss: 0.0845\n",
            "Epoch 90/100\n",
            "63/63 [==============================] - 2s 28ms/step - loss: 0.0211 - val_loss: 0.0856\n",
            "Epoch 91/100\n",
            "63/63 [==============================] - 2s 29ms/step - loss: 0.0198 - val_loss: 0.0880\n",
            "Epoch 92/100\n",
            "63/63 [==============================] - 2s 28ms/step - loss: 0.0204 - val_loss: 0.0832\n",
            "Epoch 93/100\n",
            "63/63 [==============================] - 2s 29ms/step - loss: 0.0193 - val_loss: 0.0938\n",
            "Epoch 94/100\n",
            "63/63 [==============================] - 2s 28ms/step - loss: 0.0207 - val_loss: 0.0877\n",
            "Epoch 95/100\n",
            "63/63 [==============================] - 2s 30ms/step - loss: 0.0200 - val_loss: 0.0865\n",
            "Epoch 96/100\n",
            "63/63 [==============================] - 2s 28ms/step - loss: 0.0186 - val_loss: 0.0831\n",
            "Epoch 97/100\n",
            "63/63 [==============================] - 2s 29ms/step - loss: 0.0186 - val_loss: 0.0920\n",
            "Epoch 98/100\n",
            "63/63 [==============================] - 2s 28ms/step - loss: 0.0198 - val_loss: 0.0816\n",
            "Epoch 99/100\n",
            "63/63 [==============================] - 2s 28ms/step - loss: 0.0185 - val_loss: 0.0865\n",
            "Epoch 100/100\n",
            "63/63 [==============================] - 2s 29ms/step - loss: 0.0182 - val_loss: 0.0881\n"
          ],
          "name": "stdout"
        }
      ]
    },
    {
      "cell_type": "code",
      "metadata": {
        "colab": {
          "base_uri": "https://localhost:8080/",
          "height": 279
        },
        "id": "gQEYdsRSCY5N",
        "outputId": "76fc1731-61db-42b6-9efc-cd77b2aaff6c"
      },
      "source": [
        "plt.plot(history.history['loss'], 'b-', label='loss')\r\n",
        "plt.plot(history.history['val_loss'], 'r--', label='val_loss')\r\n",
        "plt.xlabel('Epoch')\r\n",
        "plt.legend()\r\n",
        "plt.show()"
      ],
      "execution_count": null,
      "outputs": [
        {
          "output_type": "display_data",
          "data": {
            "image/png": "[encoded data removed]",
            "text/plain": [
              "<Figure size 432x288 with 1 Axes>"
            ]
          },
          "metadata": {
            "tags": [],
            "needs_background": "light"
          }
        }
      ]
    },
    {
      "cell_type": "code",
      "metadata": {
        "colab": {
          "base_uri": "https://localhost:8080/"
        },
        "id": "cmcv2E3vCnj8",
        "outputId": "18c70185-8d02-4dc5-b42b-ce748e428ad0"
      },
      "source": [
        "prediction = model.predict(X[2500:])\r\n",
        "fail = 0\r\n",
        "for i in range(len(prediction)):\r\n",
        "  if abs(prediction[i][0] - y[2500+i]) > 0.05:\r\n",
        "    fail += 1\r\n",
        "print((500-fail) / 500 * 100, '%')"
      ],
      "execution_count": null,
      "outputs": [
        {
          "output_type": "stream",
          "text": [
            "13.0 %\n"
          ],
          "name": "stdout"
        }
      ]
    },
    {
      "cell_type": "markdown",
      "metadata": {
        "id": "0qE_tkmL8G68"
      },
      "source": [
        "### LSTM을 사용한 곱셈 예측 문제"
      ]
    },
    {
      "cell_type": "code",
      "metadata": {
        "colab": {
          "base_uri": "https://localhost:8080/"
        },
        "id": "Ollc61Z88DI3",
        "outputId": "5a6c45cd-af47-414e-b0ef-48d3a011ce22"
      },
      "source": [
        "model = tf.keras.Sequential([\r\n",
        "  tf.keras.layers.LSTM(units=30, activation='tanh', return_sequences=True, input_shape=[100,2]),\r\n",
        "  tf.keras.layers.LSTM(units=30),\r\n",
        "  tf.keras.layers.Dense(1)\r\n",
        "])\r\n",
        "\r\n",
        "model.compile(loss='mse')\r\n",
        "model.summary()"
      ],
      "execution_count": null,
      "outputs": [
        {
          "output_type": "stream",
          "text": [
            "Model: \"sequential_2\"\n",
            "_________________________________________________________________\n",
            "Layer (type)                 Output Shape              Param #   \n",
            "=================================================================\n",
            "lstm (LSTM)                  (None, 100, 30)           3960      \n",
            "_________________________________________________________________\n",
            "lstm_1 (LSTM)                (None, 30)                7320      \n",
            "_________________________________________________________________\n",
            "dense_2 (Dense)              (None, 1)                 31        \n",
            "=================================================================\n",
            "Total params: 11,311\n",
            "Trainable params: 11,311\n",
            "Non-trainable params: 0\n",
            "_________________________________________________________________\n"
          ],
          "name": "stdout"
        }
      ]
    },
    {
      "cell_type": "code",
      "metadata": {
        "colab": {
          "base_uri": "https://localhost:8080/"
        },
        "id": "ufGc5s-ACfIZ",
        "outputId": "84199b25-ecf2-45ce-db64-1984d56d9fe8"
      },
      "source": [
        "history = model.fit(X[:2500], y[:2500], epochs=100, validation_split=0.2)"
      ],
      "execution_count": null,
      "outputs": [
        {
          "output_type": "stream",
          "text": [
            "Epoch 1/100\n",
            "63/63 [==============================] - 8s 80ms/step - loss: 0.0549 - val_loss: 0.0542\n",
            "Epoch 2/100\n",
            "63/63 [==============================] - 4s 71ms/step - loss: 0.0484 - val_loss: 0.0537\n",
            "Epoch 3/100\n",
            "63/63 [==============================] - 4s 70ms/step - loss: 0.0503 - val_loss: 0.0534\n",
            "Epoch 4/100\n",
            "63/63 [==============================] - 5s 73ms/step - loss: 0.0497 - val_loss: 0.0582\n",
            "Epoch 5/100\n",
            "63/63 [==============================] - 4s 70ms/step - loss: 0.0481 - val_loss: 0.0543\n",
            "Epoch 6/100\n",
            "63/63 [==============================] - 4s 71ms/step - loss: 0.0489 - val_loss: 0.0565\n",
            "Epoch 7/100\n",
            "63/63 [==============================] - 4s 70ms/step - loss: 0.0478 - val_loss: 0.0578\n",
            "Epoch 8/100\n",
            "63/63 [==============================] - 4s 70ms/step - loss: 0.0467 - val_loss: 0.0533\n",
            "Epoch 9/100\n",
            "63/63 [==============================] - 4s 71ms/step - loss: 0.0492 - val_loss: 0.0535\n",
            "Epoch 10/100\n",
            "63/63 [==============================] - 4s 71ms/step - loss: 0.0495 - val_loss: 0.0559\n",
            "Epoch 11/100\n",
            "63/63 [==============================] - 4s 71ms/step - loss: 0.0500 - val_loss: 0.0528\n",
            "Epoch 12/100\n",
            "63/63 [==============================] - 4s 71ms/step - loss: 0.0493 - val_loss: 0.0528\n",
            "Epoch 13/100\n",
            "63/63 [==============================] - 4s 71ms/step - loss: 0.0479 - val_loss: 0.0531\n",
            "Epoch 14/100\n",
            "63/63 [==============================] - 4s 71ms/step - loss: 0.0477 - val_loss: 0.0537\n",
            "Epoch 15/100\n",
            "63/63 [==============================] - 4s 71ms/step - loss: 0.0484 - val_loss: 0.0517\n",
            "Epoch 16/100\n",
            "63/63 [==============================] - 4s 71ms/step - loss: 0.0484 - val_loss: 0.0553\n",
            "Epoch 17/100\n",
            "63/63 [==============================] - 5s 72ms/step - loss: 0.0479 - val_loss: 0.0524\n",
            "Epoch 18/100\n",
            "63/63 [==============================] - 5s 72ms/step - loss: 0.0468 - val_loss: 0.0583\n",
            "Epoch 19/100\n",
            "63/63 [==============================] - 4s 71ms/step - loss: 0.0493 - val_loss: 0.0481\n",
            "Epoch 20/100\n",
            "63/63 [==============================] - 5s 72ms/step - loss: 0.0459 - val_loss: 0.0625\n",
            "Epoch 21/100\n",
            "63/63 [==============================] - 4s 71ms/step - loss: 0.0447 - val_loss: 0.0485\n",
            "Epoch 22/100\n",
            "63/63 [==============================] - 5s 72ms/step - loss: 0.0436 - val_loss: 0.0469\n",
            "Epoch 23/100\n",
            "63/63 [==============================] - 5s 72ms/step - loss: 0.0439 - val_loss: 0.0468\n",
            "Epoch 24/100\n",
            "63/63 [==============================] - 5s 72ms/step - loss: 0.0405 - val_loss: 0.0423\n",
            "Epoch 25/100\n",
            "63/63 [==============================] - 5s 73ms/step - loss: 0.0363 - val_loss: 0.0376\n",
            "Epoch 26/100\n",
            "63/63 [==============================] - 5s 73ms/step - loss: 0.0340 - val_loss: 0.0514\n",
            "Epoch 27/100\n",
            "63/63 [==============================] - 5s 72ms/step - loss: 0.0338 - val_loss: 0.0585\n",
            "Epoch 28/100\n",
            "63/63 [==============================] - 5s 72ms/step - loss: 0.0320 - val_loss: 0.0268\n",
            "Epoch 29/100\n",
            "63/63 [==============================] - 5s 75ms/step - loss: 0.0254 - val_loss: 0.0359\n",
            "Epoch 30/100\n",
            "63/63 [==============================] - 4s 71ms/step - loss: 0.0265 - val_loss: 0.0195\n",
            "Epoch 31/100\n",
            "63/63 [==============================] - 5s 75ms/step - loss: 0.0193 - val_loss: 0.0166\n",
            "Epoch 32/100\n",
            "63/63 [==============================] - 5s 76ms/step - loss: 0.0212 - val_loss: 0.0140\n",
            "Epoch 33/100\n",
            "63/63 [==============================] - 5s 73ms/step - loss: 0.0153 - val_loss: 0.0178\n",
            "Epoch 34/100\n",
            "63/63 [==============================] - 5s 72ms/step - loss: 0.0142 - val_loss: 0.0119\n",
            "Epoch 35/100\n",
            "63/63 [==============================] - 5s 73ms/step - loss: 0.0133 - val_loss: 0.0128\n",
            "Epoch 36/100\n",
            "63/63 [==============================] - 5s 73ms/step - loss: 0.0121 - val_loss: 0.0097\n",
            "Epoch 37/100\n",
            "63/63 [==============================] - 5s 72ms/step - loss: 0.0120 - val_loss: 0.0136\n",
            "Epoch 38/100\n",
            "63/63 [==============================] - 5s 72ms/step - loss: 0.0105 - val_loss: 0.0074\n",
            "Epoch 39/100\n",
            "63/63 [==============================] - 4s 71ms/step - loss: 0.0098 - val_loss: 0.0165\n",
            "Epoch 40/100\n",
            "63/63 [==============================] - 5s 72ms/step - loss: 0.0084 - val_loss: 0.0203\n",
            "Epoch 41/100\n",
            "63/63 [==============================] - 5s 76ms/step - loss: 0.0083 - val_loss: 0.0052\n",
            "Epoch 42/100\n",
            "63/63 [==============================] - 4s 71ms/step - loss: 0.0074 - val_loss: 0.0060\n",
            "Epoch 43/100\n",
            "63/63 [==============================] - 5s 72ms/step - loss: 0.0075 - val_loss: 0.0049\n",
            "Epoch 44/100\n",
            "63/63 [==============================] - 5s 72ms/step - loss: 0.0054 - val_loss: 0.0082\n",
            "Epoch 45/100\n",
            "63/63 [==============================] - 4s 71ms/step - loss: 0.0067 - val_loss: 0.0076\n",
            "Epoch 46/100\n",
            "63/63 [==============================] - 5s 73ms/step - loss: 0.0067 - val_loss: 0.0051\n",
            "Epoch 47/100\n",
            "63/63 [==============================] - 4s 71ms/step - loss: 0.0051 - val_loss: 0.0043\n",
            "Epoch 48/100\n",
            "63/63 [==============================] - 4s 71ms/step - loss: 0.0062 - val_loss: 0.0030\n",
            "Epoch 49/100\n",
            "63/63 [==============================] - 4s 71ms/step - loss: 0.0051 - val_loss: 0.0189\n",
            "Epoch 50/100\n",
            "63/63 [==============================] - 5s 72ms/step - loss: 0.0057 - val_loss: 0.0061\n",
            "Epoch 51/100\n",
            "63/63 [==============================] - 5s 73ms/step - loss: 0.0040 - val_loss: 0.0107\n",
            "Epoch 52/100\n",
            "63/63 [==============================] - 4s 71ms/step - loss: 0.0054 - val_loss: 0.0030\n",
            "Epoch 53/100\n",
            "63/63 [==============================] - 4s 71ms/step - loss: 0.0038 - val_loss: 0.0124\n",
            "Epoch 54/100\n",
            "63/63 [==============================] - 4s 70ms/step - loss: 0.0052 - val_loss: 0.0057\n",
            "Epoch 55/100\n",
            "63/63 [==============================] - 5s 72ms/step - loss: 0.0045 - val_loss: 0.0073\n",
            "Epoch 56/100\n",
            "63/63 [==============================] - 5s 72ms/step - loss: 0.0044 - val_loss: 0.0026\n",
            "Epoch 57/100\n",
            "63/63 [==============================] - 4s 71ms/step - loss: 0.0038 - val_loss: 0.0026\n",
            "Epoch 58/100\n",
            "63/63 [==============================] - 4s 71ms/step - loss: 0.0035 - val_loss: 0.0025\n",
            "Epoch 59/100\n",
            "63/63 [==============================] - 5s 72ms/step - loss: 0.0039 - val_loss: 0.0034\n",
            "Epoch 60/100\n",
            "63/63 [==============================] - 4s 71ms/step - loss: 0.0034 - val_loss: 0.0024\n",
            "Epoch 61/100\n",
            "63/63 [==============================] - 4s 71ms/step - loss: 0.0029 - val_loss: 0.0039\n",
            "Epoch 62/100\n",
            "63/63 [==============================] - 4s 71ms/step - loss: 0.0028 - val_loss: 0.0035\n",
            "Epoch 63/100\n",
            "63/63 [==============================] - 4s 71ms/step - loss: 0.0031 - val_loss: 0.0025\n",
            "Epoch 64/100\n",
            "63/63 [==============================] - 5s 72ms/step - loss: 0.0028 - val_loss: 0.0031\n",
            "Epoch 65/100\n",
            "63/63 [==============================] - 4s 71ms/step - loss: 0.0029 - val_loss: 0.0022\n",
            "Epoch 66/100\n",
            "63/63 [==============================] - 4s 71ms/step - loss: 0.0027 - val_loss: 0.0049\n",
            "Epoch 67/100\n",
            "63/63 [==============================] - 5s 79ms/step - loss: 0.0032 - val_loss: 0.0014\n",
            "Epoch 68/100\n",
            "63/63 [==============================] - 7s 110ms/step - loss: 0.0031 - val_loss: 0.0014\n",
            "Epoch 69/100\n",
            "63/63 [==============================] - 6s 88ms/step - loss: 0.0024 - val_loss: 0.0049\n",
            "Epoch 70/100\n",
            "63/63 [==============================] - 5s 73ms/step - loss: 0.0026 - val_loss: 0.0015\n",
            "Epoch 71/100\n",
            "63/63 [==============================] - 5s 72ms/step - loss: 0.0023 - val_loss: 0.0072\n",
            "Epoch 72/100\n",
            "63/63 [==============================] - 5s 72ms/step - loss: 0.0023 - val_loss: 0.0016\n",
            "Epoch 73/100\n",
            "63/63 [==============================] - 5s 72ms/step - loss: 0.0029 - val_loss: 0.0023\n",
            "Epoch 74/100\n",
            "63/63 [==============================] - 4s 71ms/step - loss: 0.0025 - val_loss: 0.0013\n",
            "Epoch 75/100\n",
            "63/63 [==============================] - 5s 72ms/step - loss: 0.0026 - val_loss: 0.0022\n",
            "Epoch 76/100\n",
            "63/63 [==============================] - 5s 72ms/step - loss: 0.0025 - val_loss: 0.0057\n",
            "Epoch 77/100\n",
            "63/63 [==============================] - 5s 72ms/step - loss: 0.0028 - val_loss: 0.0016\n",
            "Epoch 78/100\n",
            "63/63 [==============================] - 5s 72ms/step - loss: 0.0019 - val_loss: 0.0020\n",
            "Epoch 79/100\n",
            "63/63 [==============================] - 5s 72ms/step - loss: 0.0024 - val_loss: 0.0048\n",
            "Epoch 80/100\n",
            "63/63 [==============================] - 5s 72ms/step - loss: 0.0022 - val_loss: 0.0051\n",
            "Epoch 81/100\n",
            "63/63 [==============================] - 5s 73ms/step - loss: 0.0022 - val_loss: 0.0015\n",
            "Epoch 82/100\n",
            "63/63 [==============================] - 5s 73ms/step - loss: 0.0021 - val_loss: 0.0013\n",
            "Epoch 83/100\n",
            "63/63 [==============================] - 5s 73ms/step - loss: 0.0019 - val_loss: 0.0034\n",
            "Epoch 84/100\n",
            "63/63 [==============================] - 5s 72ms/step - loss: 0.0022 - val_loss: 0.0037\n",
            "Epoch 85/100\n",
            "63/63 [==============================] - 5s 74ms/step - loss: 0.0021 - val_loss: 0.0052\n",
            "Epoch 86/100\n",
            "63/63 [==============================] - 4s 71ms/step - loss: 0.0024 - val_loss: 0.0027\n",
            "Epoch 87/100\n",
            "63/63 [==============================] - 4s 71ms/step - loss: 0.0019 - val_loss: 0.0027\n",
            "Epoch 88/100\n",
            "63/63 [==============================] - 4s 71ms/step - loss: 0.0023 - val_loss: 0.0037\n",
            "Epoch 89/100\n",
            "63/63 [==============================] - 5s 72ms/step - loss: 0.0023 - val_loss: 0.0048\n",
            "Epoch 90/100\n",
            "63/63 [==============================] - 4s 71ms/step - loss: 0.0024 - val_loss: 0.0042\n",
            "Epoch 91/100\n",
            "63/63 [==============================] - 4s 71ms/step - loss: 0.0020 - val_loss: 8.5576e-04\n",
            "Epoch 92/100\n",
            "63/63 [==============================] - 4s 71ms/step - loss: 0.0013 - val_loss: 0.0058\n",
            "Epoch 93/100\n",
            "63/63 [==============================] - 4s 71ms/step - loss: 0.0024 - val_loss: 8.4325e-04\n",
            "Epoch 94/100\n",
            "63/63 [==============================] - 5s 73ms/step - loss: 0.0015 - val_loss: 0.0041\n",
            "Epoch 95/100\n",
            "63/63 [==============================] - 5s 72ms/step - loss: 0.0019 - val_loss: 9.5419e-04\n",
            "Epoch 96/100\n",
            "63/63 [==============================] - 5s 72ms/step - loss: 0.0018 - val_loss: 0.0021\n",
            "Epoch 97/100\n",
            "63/63 [==============================] - 5s 73ms/step - loss: 0.0015 - val_loss: 9.9277e-04\n",
            "Epoch 98/100\n",
            "63/63 [==============================] - 5s 72ms/step - loss: 0.0018 - val_loss: 0.0021\n",
            "Epoch 99/100\n",
            "63/63 [==============================] - 5s 73ms/step - loss: 0.0015 - val_loss: 9.6333e-04\n",
            "Epoch 100/100\n",
            "63/63 [==============================] - 5s 74ms/step - loss: 0.0014 - val_loss: 7.9091e-04\n"
          ],
          "name": "stdout"
        }
      ]
    },
    {
      "cell_type": "code",
      "metadata": {
        "colab": {
          "base_uri": "https://localhost:8080/",
          "height": 279
        },
        "id": "PPLDep01CgqU",
        "outputId": "9c3de381-e375-4d7d-8360-3dccfe74f13c"
      },
      "source": [
        "plt.plot(history.history['loss'], 'b-', label='loss')\r\n",
        "plt.plot(history.history['val_loss'], 'r--', label='val_loss')\r\n",
        "plt.xlabel('Epoch')\r\n",
        "plt.legend()\r\n",
        "plt.show()"
      ],
      "execution_count": null,
      "outputs": [
        {
          "output_type": "display_data",
          "data": {
            "image/png": "[encoded data removed]",
            "text/plain": [
              "<Figure size 432x288 with 1 Axes>"
            ]
          },
          "metadata": {
            "tags": [],
            "needs_background": "light"
          }
        }
      ]
    },
    {
      "cell_type": "code",
      "metadata": {
        "colab": {
          "base_uri": "https://localhost:8080/"
        },
        "id": "EAd3QkFDCm97",
        "outputId": "16c21197-2ac0-4508-e156-4767f4bd14f3"
      },
      "source": [
        "prediction = model.predict(X[2500:])\r\n",
        "fail = 0\r\n",
        "for i in range(len(prediction)):\r\n",
        "  if abs(prediction[i][0] - y[2500+i]) > 0.05:\r\n",
        "    fail += 1\r\n",
        "print((500-fail) / 500 * 100, '%')"
      ],
      "execution_count": null,
      "outputs": [
        {
          "output_type": "stream",
          "text": [
            "91.2 %\n"
          ],
          "name": "stdout"
        }
      ]
    },
    {
      "cell_type": "markdown",
      "metadata": {
        "id": "fGIurg-4-rBI"
      },
      "source": [
        "### GRU를 사용한 곱셈 예측 문제"
      ]
    },
    {
      "cell_type": "code",
      "metadata": {
        "colab": {
          "base_uri": "https://localhost:8080/"
        },
        "id": "XRD1b28D-uWq",
        "outputId": "d48b4182-8726-4c90-cc74-8368eede202b"
      },
      "source": [
        "model = tf.keras.Sequential([\r\n",
        "  tf.keras.layers.GRU(units=30, activation='tanh', return_sequences=True, input_shape=[100,2]),\r\n",
        "  tf.keras.layers.GRU(units=30),\r\n",
        "  tf.keras.layers.Dense(1)\r\n",
        "])\r\n",
        "\r\n",
        "model.compile(loss='mse')\r\n",
        "model.summary()"
      ],
      "execution_count": null,
      "outputs": [
        {
          "output_type": "stream",
          "text": [
            "Model: \"sequential_3\"\n",
            "_________________________________________________________________\n",
            "Layer (type)                 Output Shape              Param #   \n",
            "=================================================================\n",
            "gru (GRU)                    (None, 100, 30)           3060      \n",
            "_________________________________________________________________\n",
            "gru_1 (GRU)                  (None, 30)                5580      \n",
            "_________________________________________________________________\n",
            "dense_3 (Dense)              (None, 1)                 31        \n",
            "=================================================================\n",
            "Total params: 8,671\n",
            "Trainable params: 8,671\n",
            "Non-trainable params: 0\n",
            "_________________________________________________________________\n"
          ],
          "name": "stdout"
        }
      ]
    },
    {
      "cell_type": "code",
      "metadata": {
        "colab": {
          "base_uri": "https://localhost:8080/"
        },
        "id": "1Df3n0xKCicE",
        "outputId": "7106514a-9545-4e35-969b-244bd0aad223"
      },
      "source": [
        "history = model.fit(X[:2500], y[:2500], epochs=100, validation_split=0.2)"
      ],
      "execution_count": null,
      "outputs": [
        {
          "output_type": "stream",
          "text": [
            "Epoch 1/100\n",
            "63/63 [==============================] - 9s 90ms/step - loss: 0.0547 - val_loss: 0.0598\n",
            "Epoch 2/100\n",
            "63/63 [==============================] - 5s 74ms/step - loss: 0.0468 - val_loss: 0.0537\n",
            "Epoch 3/100\n",
            "63/63 [==============================] - 5s 76ms/step - loss: 0.0476 - val_loss: 0.0535\n",
            "Epoch 4/100\n",
            "63/63 [==============================] - 5s 75ms/step - loss: 0.0461 - val_loss: 0.0555\n",
            "Epoch 5/100\n",
            "63/63 [==============================] - 5s 75ms/step - loss: 0.0519 - val_loss: 0.0542\n",
            "Epoch 6/100\n",
            "63/63 [==============================] - 5s 74ms/step - loss: 0.0511 - val_loss: 0.0533\n",
            "Epoch 7/100\n",
            "63/63 [==============================] - 5s 75ms/step - loss: 0.0494 - val_loss: 0.0531\n",
            "Epoch 8/100\n",
            "63/63 [==============================] - 5s 75ms/step - loss: 0.0478 - val_loss: 0.0541\n",
            "Epoch 9/100\n",
            "63/63 [==============================] - 5s 75ms/step - loss: 0.0473 - val_loss: 0.0540\n",
            "Epoch 10/100\n",
            "63/63 [==============================] - 5s 76ms/step - loss: 0.0492 - val_loss: 0.0529\n",
            "Epoch 11/100\n",
            "63/63 [==============================] - 5s 74ms/step - loss: 0.0472 - val_loss: 0.0533\n",
            "Epoch 12/100\n",
            "63/63 [==============================] - 5s 75ms/step - loss: 0.0500 - val_loss: 0.0552\n",
            "Epoch 13/100\n",
            "63/63 [==============================] - 5s 74ms/step - loss: 0.0477 - val_loss: 0.0530\n",
            "Epoch 14/100\n",
            "63/63 [==============================] - 5s 76ms/step - loss: 0.0475 - val_loss: 0.0587\n",
            "Epoch 15/100\n",
            "63/63 [==============================] - 5s 74ms/step - loss: 0.0468 - val_loss: 0.0538\n",
            "Epoch 16/100\n",
            "63/63 [==============================] - 5s 74ms/step - loss: 0.0493 - val_loss: 0.0546\n",
            "Epoch 17/100\n",
            "63/63 [==============================] - 5s 74ms/step - loss: 0.0477 - val_loss: 0.0523\n",
            "Epoch 18/100\n",
            "63/63 [==============================] - 5s 74ms/step - loss: 0.0481 - val_loss: 0.0532\n",
            "Epoch 19/100\n",
            "63/63 [==============================] - 5s 74ms/step - loss: 0.0477 - val_loss: 0.0805\n",
            "Epoch 20/100\n",
            "63/63 [==============================] - 5s 75ms/step - loss: 0.0488 - val_loss: 0.0458\n",
            "Epoch 21/100\n",
            "63/63 [==============================] - 5s 74ms/step - loss: 0.0422 - val_loss: 0.0324\n",
            "Epoch 22/100\n",
            "63/63 [==============================] - 5s 74ms/step - loss: 0.0350 - val_loss: 0.0216\n",
            "Epoch 23/100\n",
            "63/63 [==============================] - 5s 74ms/step - loss: 0.0225 - val_loss: 0.0139\n",
            "Epoch 24/100\n",
            "63/63 [==============================] - 5s 74ms/step - loss: 0.0119 - val_loss: 0.0160\n",
            "Epoch 25/100\n",
            "63/63 [==============================] - 5s 74ms/step - loss: 0.0089 - val_loss: 0.0046\n",
            "Epoch 26/100\n",
            "63/63 [==============================] - 5s 73ms/step - loss: 0.0072 - val_loss: 0.0051\n",
            "Epoch 27/100\n",
            "63/63 [==============================] - 5s 73ms/step - loss: 0.0062 - val_loss: 0.0055\n",
            "Epoch 28/100\n",
            "63/63 [==============================] - 5s 73ms/step - loss: 0.0051 - val_loss: 0.0037\n",
            "Epoch 29/100\n",
            "63/63 [==============================] - 5s 74ms/step - loss: 0.0042 - val_loss: 0.0046\n",
            "Epoch 30/100\n",
            "63/63 [==============================] - 5s 74ms/step - loss: 0.0039 - val_loss: 0.0025\n",
            "Epoch 31/100\n",
            "63/63 [==============================] - 5s 75ms/step - loss: 0.0038 - val_loss: 0.0033\n",
            "Epoch 32/100\n",
            "63/63 [==============================] - 5s 74ms/step - loss: 0.0032 - val_loss: 0.0039\n",
            "Epoch 33/100\n",
            "63/63 [==============================] - 5s 73ms/step - loss: 0.0037 - val_loss: 0.0029\n",
            "Epoch 34/100\n",
            "63/63 [==============================] - 5s 73ms/step - loss: 0.0032 - val_loss: 0.0018\n",
            "Epoch 35/100\n",
            "63/63 [==============================] - 5s 73ms/step - loss: 0.0025 - val_loss: 0.0018\n",
            "Epoch 36/100\n",
            "63/63 [==============================] - 5s 74ms/step - loss: 0.0026 - val_loss: 0.0013\n",
            "Epoch 37/100\n",
            "63/63 [==============================] - 5s 74ms/step - loss: 0.0024 - val_loss: 0.0016\n",
            "Epoch 38/100\n",
            "63/63 [==============================] - 5s 74ms/step - loss: 0.0022 - val_loss: 0.0030\n",
            "Epoch 39/100\n",
            "63/63 [==============================] - 5s 76ms/step - loss: 0.0022 - val_loss: 0.0017\n",
            "Epoch 40/100\n",
            "63/63 [==============================] - 5s 74ms/step - loss: 0.0026 - val_loss: 0.0035\n",
            "Epoch 41/100\n",
            "63/63 [==============================] - 5s 74ms/step - loss: 0.0022 - val_loss: 0.0018\n",
            "Epoch 42/100\n",
            "63/63 [==============================] - 5s 75ms/step - loss: 0.0025 - val_loss: 0.0096\n",
            "Epoch 43/100\n",
            "63/63 [==============================] - 5s 74ms/step - loss: 0.0027 - val_loss: 0.0012\n",
            "Epoch 44/100\n",
            "63/63 [==============================] - 5s 74ms/step - loss: 0.0021 - val_loss: 0.0032\n",
            "Epoch 45/100\n",
            "63/63 [==============================] - 5s 75ms/step - loss: 0.0018 - val_loss: 0.0026\n",
            "Epoch 46/100\n",
            "63/63 [==============================] - 5s 74ms/step - loss: 0.0019 - val_loss: 0.0015\n",
            "Epoch 47/100\n",
            "63/63 [==============================] - 5s 74ms/step - loss: 0.0016 - val_loss: 0.0019\n",
            "Epoch 48/100\n",
            "63/63 [==============================] - 5s 75ms/step - loss: 0.0015 - val_loss: 0.0041\n",
            "Epoch 49/100\n",
            "63/63 [==============================] - 5s 76ms/step - loss: 0.0016 - val_loss: 0.0022\n",
            "Epoch 50/100\n",
            "63/63 [==============================] - 5s 74ms/step - loss: 0.0020 - val_loss: 0.0016\n",
            "Epoch 51/100\n",
            "63/63 [==============================] - 5s 76ms/step - loss: 0.0016 - val_loss: 0.0021\n",
            "Epoch 52/100\n",
            "63/63 [==============================] - 5s 78ms/step - loss: 0.0016 - val_loss: 0.0013\n",
            "Epoch 53/100\n",
            "63/63 [==============================] - 5s 73ms/step - loss: 0.0013 - val_loss: 0.0013\n",
            "Epoch 54/100\n",
            "63/63 [==============================] - 5s 76ms/step - loss: 0.0016 - val_loss: 0.0018\n",
            "Epoch 55/100\n",
            "63/63 [==============================] - 5s 73ms/step - loss: 0.0016 - val_loss: 0.0014\n",
            "Epoch 56/100\n",
            "63/63 [==============================] - 5s 73ms/step - loss: 0.0015 - val_loss: 0.0048\n",
            "Epoch 57/100\n",
            "63/63 [==============================] - 5s 76ms/step - loss: 0.0014 - val_loss: 6.5468e-04\n",
            "Epoch 58/100\n",
            "63/63 [==============================] - 5s 76ms/step - loss: 0.0012 - val_loss: 5.5281e-04\n",
            "Epoch 59/100\n",
            "63/63 [==============================] - 5s 76ms/step - loss: 0.0012 - val_loss: 0.0015\n",
            "Epoch 60/100\n",
            "63/63 [==============================] - 5s 78ms/step - loss: 0.0010 - val_loss: 0.0018\n",
            "Epoch 61/100\n",
            "63/63 [==============================] - 5s 77ms/step - loss: 0.0013 - val_loss: 6.9625e-04\n",
            "Epoch 62/100\n",
            "63/63 [==============================] - 5s 75ms/step - loss: 0.0010 - val_loss: 0.0025\n",
            "Epoch 63/100\n",
            "63/63 [==============================] - 5s 78ms/step - loss: 0.0013 - val_loss: 0.0027\n",
            "Epoch 64/100\n",
            "63/63 [==============================] - 5s 75ms/step - loss: 0.0012 - val_loss: 0.0022\n",
            "Epoch 65/100\n",
            "63/63 [==============================] - 5s 74ms/step - loss: 0.0011 - val_loss: 0.0013\n",
            "Epoch 66/100\n",
            "63/63 [==============================] - 5s 72ms/step - loss: 0.0010 - val_loss: 0.0010\n",
            "Epoch 67/100\n",
            "63/63 [==============================] - 5s 75ms/step - loss: 8.2793e-04 - val_loss: 8.3746e-04\n",
            "Epoch 68/100\n",
            "63/63 [==============================] - 5s 75ms/step - loss: 8.6112e-04 - val_loss: 8.2378e-04\n",
            "Epoch 69/100\n",
            "63/63 [==============================] - 5s 74ms/step - loss: 8.4328e-04 - val_loss: 6.9319e-04\n",
            "Epoch 70/100\n",
            "63/63 [==============================] - 5s 77ms/step - loss: 8.3972e-04 - val_loss: 0.0020\n",
            "Epoch 71/100\n",
            "63/63 [==============================] - 5s 76ms/step - loss: 0.0011 - val_loss: 0.0016\n",
            "Epoch 72/100\n",
            "63/63 [==============================] - 5s 76ms/step - loss: 9.9128e-04 - val_loss: 8.5841e-04\n",
            "Epoch 73/100\n",
            "63/63 [==============================] - 5s 75ms/step - loss: 7.9538e-04 - val_loss: 3.2120e-04\n",
            "Epoch 74/100\n",
            "63/63 [==============================] - 5s 75ms/step - loss: 7.6799e-04 - val_loss: 3.2904e-04\n",
            "Epoch 75/100\n",
            "63/63 [==============================] - 5s 74ms/step - loss: 7.2957e-04 - val_loss: 5.5533e-04\n",
            "Epoch 76/100\n",
            "63/63 [==============================] - 5s 75ms/step - loss: 6.8990e-04 - val_loss: 6.7162e-04\n",
            "Epoch 77/100\n",
            "63/63 [==============================] - 5s 74ms/step - loss: 7.7272e-04 - val_loss: 0.0016\n",
            "Epoch 78/100\n",
            "63/63 [==============================] - 5s 75ms/step - loss: 8.0420e-04 - val_loss: 6.7745e-04\n",
            "Epoch 79/100\n",
            "63/63 [==============================] - 5s 74ms/step - loss: 8.3716e-04 - val_loss: 9.5994e-04\n",
            "Epoch 80/100\n",
            "63/63 [==============================] - 5s 73ms/step - loss: 7.6332e-04 - val_loss: 3.7671e-04\n",
            "Epoch 81/100\n",
            "63/63 [==============================] - 5s 75ms/step - loss: 7.2003e-04 - val_loss: 0.0019\n",
            "Epoch 82/100\n",
            "63/63 [==============================] - 5s 75ms/step - loss: 6.4858e-04 - val_loss: 7.5017e-04\n",
            "Epoch 83/100\n",
            "63/63 [==============================] - 5s 77ms/step - loss: 7.4288e-04 - val_loss: 8.6311e-04\n",
            "Epoch 84/100\n",
            "63/63 [==============================] - 5s 76ms/step - loss: 6.0318e-04 - val_loss: 9.3022e-04\n",
            "Epoch 85/100\n",
            "63/63 [==============================] - 5s 76ms/step - loss: 6.6241e-04 - val_loss: 0.0013\n",
            "Epoch 86/100\n",
            "63/63 [==============================] - 5s 75ms/step - loss: 9.4456e-04 - val_loss: 8.3088e-04\n",
            "Epoch 87/100\n",
            "63/63 [==============================] - 5s 76ms/step - loss: 6.4763e-04 - val_loss: 3.3161e-04\n",
            "Epoch 88/100\n",
            "63/63 [==============================] - 5s 75ms/step - loss: 6.0859e-04 - val_loss: 8.3439e-04\n",
            "Epoch 89/100\n",
            "63/63 [==============================] - 5s 76ms/step - loss: 6.5844e-04 - val_loss: 9.8099e-04\n",
            "Epoch 90/100\n",
            "63/63 [==============================] - 5s 76ms/step - loss: 7.6908e-04 - val_loss: 8.5643e-04\n",
            "Epoch 91/100\n",
            "63/63 [==============================] - 5s 75ms/step - loss: 7.3579e-04 - val_loss: 4.1950e-04\n",
            "Epoch 92/100\n",
            "63/63 [==============================] - 5s 75ms/step - loss: 5.3981e-04 - val_loss: 0.0020\n",
            "Epoch 93/100\n",
            "63/63 [==============================] - 5s 74ms/step - loss: 7.2369e-04 - val_loss: 6.1544e-04\n",
            "Epoch 94/100\n",
            "63/63 [==============================] - 5s 74ms/step - loss: 5.9284e-04 - val_loss: 4.7259e-04\n",
            "Epoch 95/100\n",
            "63/63 [==============================] - 5s 75ms/step - loss: 5.6212e-04 - val_loss: 2.6877e-04\n",
            "Epoch 96/100\n",
            "63/63 [==============================] - 5s 75ms/step - loss: 6.8366e-04 - val_loss: 0.0011\n",
            "Epoch 97/100\n",
            "63/63 [==============================] - 5s 75ms/step - loss: 5.7605e-04 - val_loss: 6.1673e-04\n",
            "Epoch 98/100\n",
            "63/63 [==============================] - 5s 76ms/step - loss: 5.9007e-04 - val_loss: 8.1004e-04\n",
            "Epoch 99/100\n",
            "63/63 [==============================] - 5s 75ms/step - loss: 5.5326e-04 - val_loss: 0.0011\n",
            "Epoch 100/100\n",
            "63/63 [==============================] - 5s 76ms/step - loss: 5.2994e-04 - val_loss: 4.5318e-04\n"
          ],
          "name": "stdout"
        }
      ]
    },
    {
      "cell_type": "code",
      "metadata": {
        "colab": {
          "base_uri": "https://localhost:8080/",
          "height": 279
        },
        "id": "HAOCPs9fClHG",
        "outputId": "b0d133b1-1fb3-4c77-9fcc-42a3aca53716"
      },
      "source": [
        "plt.plot(history.history['loss'], 'b-', label='loss')\r\n",
        "plt.plot(history.history['val_loss'], 'r--', label='val_loss')\r\n",
        "plt.xlabel('Epoch')\r\n",
        "plt.legend()\r\n",
        "plt.show()"
      ],
      "execution_count": null,
      "outputs": [
        {
          "output_type": "display_data",
          "data": {
            "image/png": "[encoded data removed]",
            "text/plain": [
              "<Figure size 432x288 with 1 Axes>"
            ]
          },
          "metadata": {
            "tags": [],
            "needs_background": "light"
          }
        }
      ]
    },
    {
      "cell_type": "code",
      "metadata": {
        "colab": {
          "base_uri": "https://localhost:8080/"
        },
        "id": "Yvo6HI634EPa",
        "outputId": "3538aac6-9c3f-43d0-c90d-ddd3c3514180"
      },
      "source": [
        "prediction = model.predict(X[2500:])\r\n",
        "fail = 0\r\n",
        "for i in range(len(prediction)):\r\n",
        "  if abs(prediction[i][0] - y[2500+i]) > 0.05:\r\n",
        "    fail += 1\r\n",
        "print((500-fail) / 500 * 100, '%')"
      ],
      "execution_count": null,
      "outputs": [
        {
          "output_type": "stream",
          "text": [
            "97.8 %\n"
          ],
          "name": "stdout"
        }
      ]
    },
    {
      "cell_type": "code",
      "metadata": {
        "id": "he7uYuz6mwG2"
      },
      "source": [
        ""
      ],
      "execution_count": null,
      "outputs": []
    }
  ]
}