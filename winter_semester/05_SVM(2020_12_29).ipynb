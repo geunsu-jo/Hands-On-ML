{
  "nbformat": 4,
  "nbformat_minor": 0,
  "metadata": {
    "colab": {
      "name": "05_SVM(2020.12.29).ipynb",
      "provenance": [],
      "collapsed_sections": [],
      "include_colab_link": true
    },
    "kernelspec": {
      "name": "python3",
      "display_name": "Python 3"
    }
  },
  "cells": [
    {
      "cell_type": "markdown",
      "metadata": {
        "id": "view-in-github",
        "colab_type": "text"
      },
      "source": [
        "<a href=\"https://colab.research.google.com/github/geunsu-jo/Hands-On-ML/blob/main/winter_semester/05_SVM(2020_12_29).ipynb\" target=\"_parent\"><img src=\"https://colab.research.google.com/assets/colab-badge.svg\" alt=\"Open In Colab\"/></a>"
      ]
    },
    {
      "cell_type": "markdown",
      "metadata": {
        "id": "RlT3AqnnFw63"
      },
      "source": [
        "# SVM"
      ]
    },
    {
      "cell_type": "code",
      "metadata": {
        "id": "84PpATeqGsql"
      },
      "source": [
        "# 우리가 사용할 데이터셋(정리가 끝남)\r\n",
        "from sklearn.datasets import load_boston, load_breast_cancer\r\n",
        "\r\n",
        "# 머신러닝용 데이터\r\n",
        "from sklearn.model_selection import train_test_split\r\n",
        "\r\n",
        "# 우리가 사용할 모델\r\n",
        "from sklearn.svm import SVC, SVR"
      ],
      "execution_count": null,
      "outputs": []
    },
    {
      "cell_type": "markdown",
      "metadata": {
        "id": "Lg-ntl0zFyB_"
      },
      "source": [
        "## 분류(SVC)"
      ]
    },
    {
      "cell_type": "code",
      "metadata": {
        "colab": {
          "base_uri": "https://localhost:8080/"
        },
        "id": "dgGWCqg1HheD",
        "outputId": "51369719-0488-4acc-c2a1-4d386dc58a8e"
      },
      "source": [
        "# 1. 데이터셋을 불러와야 함\r\n",
        "X, y = load_breast_cancer(return_X_y=True)\r\n",
        "\r\n",
        "# 2. train/test로 나눠야 함\r\n",
        "X_train, X_test, y_train, y_test = train_test_split(X, y)\r\n",
        "\r\n",
        "# 3. 학습\r\n",
        "model = SVC(kernel='linear')\r\n",
        "model.fit(X_train, y_train)\r\n",
        "\r\n",
        "# 4. 평가(학습/예측)\r\n",
        "print(f\"학습 : {model.score(X_train, y_train)}\")\r\n",
        "print(f\"예측 : {model.score(X_test, y_test)}\")"
      ],
      "execution_count": null,
      "outputs": [
        {
          "output_type": "execute_result",
          "data": {
            "text/plain": [
              "SVC(C=1.0, break_ties=False, cache_size=200, class_weight=None, coef0=0.0,\n",
              "    decision_function_shape='ovr', degree=3, gamma='scale', kernel='linear',\n",
              "    max_iter=-1, probability=False, random_state=None, shrinking=True,\n",
              "    tol=0.001, verbose=False)"
            ]
          },
          "metadata": {
            "tags": []
          },
          "execution_count": 19
        }
      ]
    },
    {
      "cell_type": "markdown",
      "metadata": {
        "id": "0LlRIVx0FyE3"
      },
      "source": [
        "## 회귀"
      ]
    },
    {
      "cell_type": "code",
      "metadata": {
        "colab": {
          "base_uri": "https://localhost:8080/"
        },
        "id": "9U2_zI8IKU_A",
        "outputId": "79dae0c9-316e-4f2f-f910-e9eb0d69c3e6"
      },
      "source": [
        "# 1. 데이터셋을 불러와야 함\r\n",
        "X, y = load_boston(return_X_y=True)\r\n",
        "\r\n",
        "# 2. train/test로 나눠야 함\r\n",
        "X_train, X_test, y_train, y_test = train_test_split(X, y)\r\n",
        "\r\n",
        "# 3. 학습\r\n",
        "model = SVR(kernel='linear')\r\n",
        "model.fit(X_train, y_train)\r\n",
        "\r\n",
        "# 4. 평가(학습/예측)\r\n",
        "print(f\"학습 : {model.score(X_train, y_train)}\")\r\n",
        "print(f\"예측 : {model.score(X_test, y_test)}\")"
      ],
      "execution_count": null,
      "outputs": [
        {
          "output_type": "stream",
          "text": [
            "학습 : 0.6961867452181705\n",
            "예측 : 0.779981253863031\n"
          ],
          "name": "stdout"
        }
      ]
    },
    {
      "cell_type": "markdown",
      "metadata": {
        "id": "9II2sNVcFyHv"
      },
      "source": [
        "## 비선형 SVM"
      ]
    },
    {
      "cell_type": "markdown",
      "metadata": {
        "id": "An9bsX-CM1Le"
      },
      "source": [
        "## 분류"
      ]
    },
    {
      "cell_type": "code",
      "metadata": {
        "colab": {
          "base_uri": "https://localhost:8080/"
        },
        "id": "4IZ2oFq3M2PO",
        "outputId": "bc688ae8-1a3a-423c-b484-b15303f3686f"
      },
      "source": [
        "# 1. 데이터셋을 불러와야 함\r\n",
        "X, y = load_breast_cancer(return_X_y=True)\r\n",
        "\r\n",
        "# 2. train/test로 나눠야 함\r\n",
        "X_train, X_test, y_train, y_test = train_test_split(X, y)\r\n",
        "\r\n",
        "# 3-1. 다항식 특성 추가\r\n",
        "model = SVC(kernel='poly')\r\n",
        "model.fit(X_train, y_train)\r\n",
        "\r\n",
        "# 3-2. 다항식 특성 추가 평가(학습/예측)\r\n",
        "print(f\"학습 : {model.score(X_train, y_train)}\")\r\n",
        "print(f\"예측 : {model.score(X_test, y_test)}\")\r\n",
        "\r\n",
        "# 4-1. RBF 커널 트릭\r\n",
        "model = SVC(kernel='rbf')\r\n",
        "model.fit(X_train, y_train)\r\n",
        "\r\n",
        "# 4-2. RBF 커널 트릭 평가\r\n",
        "print(f\"학습 : {model.score(X_train, y_train)}\")\r\n",
        "print(f\"예측 : {model.score(X_test, y_test)}\")"
      ],
      "execution_count": null,
      "outputs": [
        {
          "output_type": "stream",
          "text": [
            "학습 : 0.9084507042253521\n",
            "예측 : 0.916083916083916\n",
            "학습 : 0.9131455399061033\n",
            "예측 : 0.9230769230769231\n"
          ],
          "name": "stdout"
        }
      ]
    },
    {
      "cell_type": "markdown",
      "metadata": {
        "id": "kr1weO6ONlQI"
      },
      "source": [
        "## 회귀"
      ]
    },
    {
      "cell_type": "code",
      "metadata": {
        "colab": {
          "base_uri": "https://localhost:8080/"
        },
        "id": "dJkuifn_Nmev",
        "outputId": "9bceae45-e0ac-432d-9360-80270642dd99"
      },
      "source": [
        "# 1. 데이터셋을 불러와야 함\r\n",
        "X, y = load_boston(return_X_y=True)\r\n",
        "\r\n",
        "# 2. train/test로 나눠야 함\r\n",
        "X_train, X_test, y_train, y_test = train_test_split(X, y)\r\n",
        "\r\n",
        "# 3-1. 다항식 특성 추가\r\n",
        "model = SVR(kernel='poly')\r\n",
        "model.fit(X_train, y_train)\r\n",
        "\r\n",
        "# 3-2. 다항식 특성 추가 평가\r\n",
        "print(f\"학습 : {model.score(X_train, y_train)}\")\r\n",
        "print(f\"예측 : {model.score(X_test, y_test)}\")\r\n",
        "\r\n",
        "# 4-1. RBF\r\n",
        "model = SVR(kernel='rbf')\r\n",
        "model.fit(X_train, y_train)\r\n",
        "\r\n",
        "# 4-2. RBF 평가\r\n",
        "print(f\"학습 : {model.score(X_train, y_train)}\")\r\n",
        "print(f\"예측 : {model.score(X_test, y_test)}\")"
      ],
      "execution_count": null,
      "outputs": [
        {
          "output_type": "stream",
          "text": [
            "학습 : 0.19202018485672948\n",
            "예측 : 0.2228600419438319\n",
            "학습 : 0.19536973634954047\n",
            "예측 : 0.2340417559162007\n"
          ],
          "name": "stdout"
        }
      ]
    },
    {
      "cell_type": "markdown",
      "metadata": {
        "id": "48SOa-euPQdj"
      },
      "source": [
        "## 매개변수\r\n",
        "* kernel\r\n",
        "  * poly(degree)\r\n",
        "    * degree는 차수!\r\n",
        "  * rbf(gamma)\r\n",
        "    * gamma(가우시안 함수의 표준편차)\r\n",
        "      * gamma이 클수록 데이터들이 가지는 거리가 짦아짐\r\n",
        "      * gamma이 작을수록 데이터들이 가지는 거리가 넓어짐\r\n",
        "* 하드마진 vs 소프트마진\r\n",
        "  * C\r\n",
        "    * C를 낮게 설정하면 ==> 이상치가 존재함(소프트마진) ==> 너무 낮으면 과소적합\r\n",
        "    * C를 높게 설정하면 ==> 이상치 없음!(하드 마진) ==> 너무 높으면 과대적합"
      ]
    },
    {
      "cell_type": "code",
      "metadata": {
        "colab": {
          "base_uri": "https://localhost:8080/"
        },
        "id": "eZvcLxSAQO3V",
        "outputId": "3721666b-6b02-446e-ebc1-e4ee0630c889"
      },
      "source": [
        "# 1. 데이터셋을 불러와야 함\r\n",
        "X, y = load_breast_cancer(return_X_y=True)\r\n",
        "\r\n",
        "# 2. train/test로 나눠야 함\r\n",
        "X_train, X_test, y_train, y_test = train_test_split(X, y)\r\n",
        "\r\n",
        "# 3-1. 다항식 특성 추가\r\n",
        "model = SVC(kernel='poly', degree=4)\r\n",
        "model.fit(X_train, y_train)\r\n",
        "\r\n",
        "# 3-2. 다항식 특성 추가 평가(학습/예측)\r\n",
        "print(f\"학습 : {model.score(X_train, y_train)}\")\r\n",
        "print(f\"예측 : {model.score(X_test, y_test)}\")\r\n",
        "\r\n",
        "# 4-1. RBF 커널 트릭\r\n",
        "model = SVC(kernel='rbf', gamma='scale')\r\n",
        "model.fit(X_train, y_train)\r\n",
        "\r\n",
        "# 4-2. RBF 커널 트릭 평가\r\n",
        "print(f\"학습 : {model.score(X_train, y_train)}\")\r\n",
        "print(f\"예측 : {model.score(X_test, y_test)}\")\r\n",
        "\r\n",
        "# 5-1. C값 조정\r\n",
        "model = SVC(kernel='linear', C=0.1)\r\n",
        "model.fit(X_train, y_train)\r\n",
        "\r\n",
        "# 5-2. C값 조정\r\n",
        "print(f\"학습 : {model.score(X_train, y_train)}\")\r\n",
        "print(f\"예측 : {model.score(X_test, y_test)}\")"
      ],
      "execution_count": null,
      "outputs": [
        {
          "output_type": "stream",
          "text": [
            "학습 : 0.9014084507042254\n",
            "예측 : 0.9230769230769231\n",
            "학습 : 0.9061032863849765\n",
            "예측 : 0.9230769230769231\n",
            "학습 : 0.9507042253521126\n",
            "예측 : 0.965034965034965\n"
          ],
          "name": "stdout"
        }
      ]
    },
    {
      "cell_type": "code",
      "metadata": {
        "id": "IVm4ns3EX20E"
      },
      "source": [
        ""
      ],
      "execution_count": null,
      "outputs": []
    },
    {
      "cell_type": "code",
      "metadata": {
        "id": "3jrxiwutX3yi"
      },
      "source": [
        ""
      ],
      "execution_count": null,
      "outputs": []
    },
    {
      "cell_type": "code",
      "metadata": {
        "id": "Z0_4YYAOX31F"
      },
      "source": [
        ""
      ],
      "execution_count": null,
      "outputs": []
    },
    {
      "cell_type": "code",
      "metadata": {
        "id": "JPwQA-l3X33k"
      },
      "source": [
        ""
      ],
      "execution_count": null,
      "outputs": []
    },
    {
      "cell_type": "code",
      "metadata": {
        "id": "U8MVu4auX37V"
      },
      "source": [
        "import numpy as np\r\n",
        "from sklearn.datasets import load_boston, load_breast_cancer"
      ],
      "execution_count": 1,
      "outputs": []
    },
    {
      "cell_type": "code",
      "metadata": {
        "id": "2c8gGLQhX_Ee"
      },
      "source": [
        "from sklearn.model_selection import train_test_split\r\n",
        "from sklearn.svm import SVC, SVR"
      ],
      "execution_count": 3,
      "outputs": []
    },
    {
      "cell_type": "code",
      "metadata": {
        "id": "fxPR-XF2YIq0"
      },
      "source": [
        "X, y = load_boston(return_X_y=True)\r\n",
        "X_train, X_test, y_train, y_test = train_test_split(X, y)"
      ],
      "execution_count": 5,
      "outputs": []
    },
    {
      "cell_type": "code",
      "metadata": {
        "id": "R860cxg-YSTL",
        "outputId": "919d9ac7-4c02-45f9-fad1-2fbcf03de103",
        "colab": {
          "base_uri": "https://localhost:8080/"
        }
      },
      "source": [
        "model = SVR(kernel=\"linear\")\r\n",
        "model.fit(X_train, y_train)"
      ],
      "execution_count": 8,
      "outputs": [
        {
          "output_type": "execute_result",
          "data": {
            "text/plain": [
              "SVR(C=1.0, cache_size=200, coef0=0.0, degree=3, epsilon=0.1, gamma='scale',\n",
              "    kernel='linear', max_iter=-1, shrinking=True, tol=0.001, verbose=False)"
            ]
          },
          "metadata": {
            "tags": []
          },
          "execution_count": 8
        }
      ]
    },
    {
      "cell_type": "code",
      "metadata": {
        "id": "LUv7HuD0Yack",
        "outputId": "c623f279-dfbd-4563-a4e1-d7a216dd9817",
        "colab": {
          "base_uri": "https://localhost:8080/"
        }
      },
      "source": [
        "print(f\"학습 : {model.score(X_train, y_train)}\")\r\n",
        "print(f\"학습 : {model.score(X_test, y_test)}\")"
      ],
      "execution_count": 9,
      "outputs": [
        {
          "output_type": "stream",
          "text": [
            "학습 : 0.6942554091977482\n",
            "학습 : 0.7313770174543246\n"
          ],
          "name": "stdout"
        }
      ]
    },
    {
      "cell_type": "code",
      "metadata": {
        "id": "mYMiT4jgYln0",
        "outputId": "6407e27c-cd98-4f96-d31b-03ce761ae434",
        "colab": {
          "base_uri": "https://localhost:8080/"
        }
      },
      "source": [
        "from sklearn.metrics import mean_absolute_error, mean_squared_error\r\n",
        "\r\n",
        "test_predict = model.predict(X_test)\r\n",
        "\r\n",
        "print(mean_absolute_error(y_test, test_predict))\r\n",
        "print(mean_squared_error(y_test, test_predict))\r\n",
        "print(np.sqrt(mean_squared_error(y_test, test_predict)))"
      ],
      "execution_count": 13,
      "outputs": [
        {
          "output_type": "stream",
          "text": [
            "2.9525051254567853\n",
            "21.03275817047323\n",
            "4.586148511602435\n"
          ],
          "name": "stdout"
        }
      ]
    },
    {
      "cell_type": "code",
      "metadata": {
        "id": "iGLrH3NzZA_j"
      },
      "source": [
        "X, y = load_breast_cancer(return_X_y = True)\r\n",
        "X_train, X_test, y_train, y_test = train_test_split(X, y)"
      ],
      "execution_count": 17,
      "outputs": []
    },
    {
      "cell_type": "code",
      "metadata": {
        "id": "RtspvBT2ZcUA"
      },
      "source": [
        "model = SVC(kernel=\"linear\")\r\n",
        "model.fit(X_train, y_train)\r\n",
        "\r\n",
        "predict = model.predict(X_test)"
      ],
      "execution_count": 30,
      "outputs": []
    },
    {
      "cell_type": "code",
      "metadata": {
        "id": "pS4t8BKbZpgU",
        "outputId": "9a537b92-7e76-4968-8971-7d408bb98cf6",
        "colab": {
          "base_uri": "https://localhost:8080/"
        }
      },
      "source": [
        "from sklearn.metrics import confusion_matrix, accuracy_score, f1_score, precision_score, recall_score\r\n",
        "from sklearn.metrics import roc_curve, roc_auc_score\r\n",
        "\r\n",
        "# 1 accuracy\r\n",
        "print(accuracy_score(y_test, predict))\r\n"
      ],
      "execution_count": 37,
      "outputs": [
        {
          "output_type": "stream",
          "text": [
            "0.958041958041958\n"
          ],
          "name": "stdout"
        }
      ]
    },
    {
      "cell_type": "code",
      "metadata": {
        "id": "TD7dErCeZ6df",
        "outputId": "59e5ebc1-21fd-4dd2-f316-93f5c8a3e42e",
        "colab": {
          "base_uri": "https://localhost:8080/"
        }
      },
      "source": [
        "# 2 confusion 왼쪽이 true, 위가 pred\r\n",
        "confusion_matrix(y_test, predict)"
      ],
      "execution_count": 38,
      "outputs": [
        {
          "output_type": "execute_result",
          "data": {
            "text/plain": [
              "array([[54,  4],\n",
              "       [ 2, 83]])"
            ]
          },
          "metadata": {
            "tags": []
          },
          "execution_count": 38
        }
      ]
    },
    {
      "cell_type": "code",
      "metadata": {
        "id": "QhMAYxoiaQ95",
        "outputId": "56b07e34-34f2-421b-a3b1-ed8658e190cc",
        "colab": {
          "base_uri": "https://localhost:8080/"
        }
      },
      "source": [
        "# f1, 정밀도, 재현율\r\n",
        "print(f1_score(y_test, predict))\r\n",
        "print(precision_score(y_test, predict))\r\n",
        "print(recall_score(y_test, predict))"
      ],
      "execution_count": 39,
      "outputs": [
        {
          "output_type": "stream",
          "text": [
            "0.9651162790697674\n",
            "0.9540229885057471\n",
            "0.9764705882352941\n"
          ],
          "name": "stdout"
        }
      ]
    },
    {
      "cell_type": "code",
      "metadata": {
        "id": "2tLAHZZPapyJ"
      },
      "source": [
        ""
      ],
      "execution_count": null,
      "outputs": []
    },
    {
      "cell_type": "code",
      "metadata": {
        "id": "P-m9ORaNbewj"
      },
      "source": [
        ""
      ],
      "execution_count": null,
      "outputs": []
    }
  ]
}