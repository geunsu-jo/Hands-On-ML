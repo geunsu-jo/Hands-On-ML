{
  "nbformat": 4,
  "nbformat_minor": 0,
  "metadata": {
    "colab": {
      "name": "05_SVM(2020.12.29).ipynb",
      "provenance": [],
      "collapsed_sections": [],
      "include_colab_link": true
    },
    "kernelspec": {
      "name": "python3",
      "display_name": "Python 3"
    }
  },
  "cells": [
    {
      "cell_type": "markdown",
      "metadata": {
        "id": "view-in-github",
        "colab_type": "text"
      },
      "source": [
        "<a href=\"https://colab.research.google.com/github/geunsu-jo/Hands-On-ML/blob/main/winter_semester/05_SVM(2020_12_29).ipynb\" target=\"_parent\"><img src=\"https://colab.research.google.com/assets/colab-badge.svg\" alt=\"Open In Colab\"/></a>"
      ]
    },
    {
      "cell_type": "markdown",
      "metadata": {
        "id": "RlT3AqnnFw63"
      },
      "source": [
        "# SVM"
      ]
    },
    {
      "cell_type": "code",
      "metadata": {
        "id": "84PpATeqGsql"
      },
      "source": [
        "# 우리가 사용할 데이터셋(정리가 끝남)\r\n",
        "from sklearn.datasets import load_boston, load_breast_cancer\r\n",
        "\r\n",
        "# 머신러닝용 데이터\r\n",
        "from sklearn.model_selection import train_test_split\r\n",
        "\r\n",
        "# 우리가 사용할 모델\r\n",
        "from sklearn.svm import SVC, SVR"
      ],
      "execution_count": null,
      "outputs": []
    },
    {
      "cell_type": "markdown",
      "metadata": {
        "id": "Lg-ntl0zFyB_"
      },
      "source": [
        "## 분류(SVC)"
      ]
    },
    {
      "cell_type": "code",
      "metadata": {
        "colab": {
          "base_uri": "https://localhost:8080/"
        },
        "id": "dgGWCqg1HheD",
        "outputId": "51369719-0488-4acc-c2a1-4d386dc58a8e"
      },
      "source": [
        "# 1. 데이터셋을 불러와야 함\r\n",
        "X, y = load_breast_cancer(return_X_y=True)\r\n",
        "\r\n",
        "# 2. train/test로 나눠야 함\r\n",
        "X_train, X_test, y_train, y_test = train_test_split(X, y)\r\n",
        "\r\n",
        "# 3. 학습\r\n",
        "model = SVC(kernel='linear')\r\n",
        "model.fit(X_train, y_train)\r\n",
        "\r\n",
        "# 4. 평가(학습/예측)\r\n",
        "print(f\"학습 : {model.score(X_train, y_train)}\")\r\n",
        "print(f\"예측 : {model.score(X_test, y_test)}\")"
      ],
      "execution_count": null,
      "outputs": [
        {
          "output_type": "execute_result",
          "data": {
            "text/plain": [
              "SVC(C=1.0, break_ties=False, cache_size=200, class_weight=None, coef0=0.0,\n",
              "    decision_function_shape='ovr', degree=3, gamma='scale', kernel='linear',\n",
              "    max_iter=-1, probability=False, random_state=None, shrinking=True,\n",
              "    tol=0.001, verbose=False)"
            ]
          },
          "metadata": {
            "tags": []
          },
          "execution_count": 19
        }
      ]
    },
    {
      "cell_type": "markdown",
      "metadata": {
        "id": "0LlRIVx0FyE3"
      },
      "source": [
        "## 회귀"
      ]
    },
    {
      "cell_type": "code",
      "metadata": {
        "colab": {
          "base_uri": "https://localhost:8080/"
        },
        "id": "9U2_zI8IKU_A",
        "outputId": "79dae0c9-316e-4f2f-f910-e9eb0d69c3e6"
      },
      "source": [
        "# 1. 데이터셋을 불러와야 함\r\n",
        "X, y = load_boston(return_X_y=True)\r\n",
        "\r\n",
        "# 2. train/test로 나눠야 함\r\n",
        "X_train, X_test, y_train, y_test = train_test_split(X, y)\r\n",
        "\r\n",
        "# 3. 학습\r\n",
        "model = SVR(kernel='linear')\r\n",
        "model.fit(X_train, y_train)\r\n",
        "\r\n",
        "# 4. 평가(학습/예측)\r\n",
        "print(f\"학습 : {model.score(X_train, y_train)}\")\r\n",
        "print(f\"예측 : {model.score(X_test, y_test)}\")"
      ],
      "execution_count": null,
      "outputs": [
        {
          "output_type": "stream",
          "text": [
            "학습 : 0.6961867452181705\n",
            "예측 : 0.779981253863031\n"
          ],
          "name": "stdout"
        }
      ]
    },
    {
      "cell_type": "markdown",
      "metadata": {
        "id": "9II2sNVcFyHv"
      },
      "source": [
        "## 비선형 SVM"
      ]
    },
    {
      "cell_type": "markdown",
      "metadata": {
        "id": "An9bsX-CM1Le"
      },
      "source": [
        "## 분류"
      ]
    },
    {
      "cell_type": "code",
      "metadata": {
        "colab": {
          "base_uri": "https://localhost:8080/"
        },
        "id": "4IZ2oFq3M2PO",
        "outputId": "bc688ae8-1a3a-423c-b484-b15303f3686f"
      },
      "source": [
        "# 1. 데이터셋을 불러와야 함\r\n",
        "X, y = load_breast_cancer(return_X_y=True)\r\n",
        "\r\n",
        "# 2. train/test로 나눠야 함\r\n",
        "X_train, X_test, y_train, y_test = train_test_split(X, y)\r\n",
        "\r\n",
        "# 3-1. 다항식 특성 추가\r\n",
        "model = SVC(kernel='poly')\r\n",
        "model.fit(X_train, y_train)\r\n",
        "\r\n",
        "# 3-2. 다항식 특성 추가 평가(학습/예측)\r\n",
        "print(f\"학습 : {model.score(X_train, y_train)}\")\r\n",
        "print(f\"예측 : {model.score(X_test, y_test)}\")\r\n",
        "\r\n",
        "# 4-1. RBF 커널 트릭\r\n",
        "model = SVC(kernel='rbf')\r\n",
        "model.fit(X_train, y_train)\r\n",
        "\r\n",
        "# 4-2. RBF 커널 트릭 평가\r\n",
        "print(f\"학습 : {model.score(X_train, y_train)}\")\r\n",
        "print(f\"예측 : {model.score(X_test, y_test)}\")"
      ],
      "execution_count": null,
      "outputs": [
        {
          "output_type": "stream",
          "text": [
            "학습 : 0.9084507042253521\n",
            "예측 : 0.916083916083916\n",
            "학습 : 0.9131455399061033\n",
            "예측 : 0.9230769230769231\n"
          ],
          "name": "stdout"
        }
      ]
    },
    {
      "cell_type": "markdown",
      "metadata": {
        "id": "kr1weO6ONlQI"
      },
      "source": [
        "## 회귀"
      ]
    },
    {
      "cell_type": "code",
      "metadata": {
        "colab": {
          "base_uri": "https://localhost:8080/"
        },
        "id": "dJkuifn_Nmev",
        "outputId": "9bceae45-e0ac-432d-9360-80270642dd99"
      },
      "source": [
        "# 1. 데이터셋을 불러와야 함\r\n",
        "X, y = load_boston(return_X_y=True)\r\n",
        "\r\n",
        "# 2. train/test로 나눠야 함\r\n",
        "X_train, X_test, y_train, y_test = train_test_split(X, y)\r\n",
        "\r\n",
        "# 3-1. 다항식 특성 추가\r\n",
        "model = SVR(kernel='poly')\r\n",
        "model.fit(X_train, y_train)\r\n",
        "\r\n",
        "# 3-2. 다항식 특성 추가 평가\r\n",
        "print(f\"학습 : {model.score(X_train, y_train)}\")\r\n",
        "print(f\"예측 : {model.score(X_test, y_test)}\")\r\n",
        "\r\n",
        "# 4-1. RBF\r\n",
        "model = SVR(kernel='rbf')\r\n",
        "model.fit(X_train, y_train)\r\n",
        "\r\n",
        "# 4-2. RBF 평가\r\n",
        "print(f\"학습 : {model.score(X_train, y_train)}\")\r\n",
        "print(f\"예측 : {model.score(X_test, y_test)}\")"
      ],
      "execution_count": null,
      "outputs": [
        {
          "output_type": "stream",
          "text": [
            "학습 : 0.19202018485672948\n",
            "예측 : 0.2228600419438319\n",
            "학습 : 0.19536973634954047\n",
            "예측 : 0.2340417559162007\n"
          ],
          "name": "stdout"
        }
      ]
    },
    {
      "cell_type": "markdown",
      "metadata": {
        "id": "48SOa-euPQdj"
      },
      "source": [
        "## 매개변수\r\n",
        "* kernel\r\n",
        "  * poly(degree)\r\n",
        "    * degree는 차수!\r\n",
        "  * rbf(gamma)\r\n",
        "    * gamma(가우시안 함수의 표준편차)\r\n",
        "      * gamma이 클수록 데이터들이 가지는 거리가 짦아짐\r\n",
        "      * gamma이 작을수록 데이터들이 가지는 거리가 넓어짐\r\n",
        "* 하드마진 vs 소프트마진\r\n",
        "  * C\r\n",
        "    * C를 낮게 설정하면 ==> 이상치가 존재함(소프트마진) ==> 너무 낮으면 과소적합\r\n",
        "    * C를 높게 설정하면 ==> 이상치 없음!(하드 마진) ==> 너무 높으면 과대적합"
      ]
    },
    {
      "cell_type": "code",
      "metadata": {
        "colab": {
          "base_uri": "https://localhost:8080/"
        },
        "id": "eZvcLxSAQO3V",
        "outputId": "3721666b-6b02-446e-ebc1-e4ee0630c889"
      },
      "source": [
        "# 1. 데이터셋을 불러와야 함\r\n",
        "X, y = load_breast_cancer(return_X_y=True)\r\n",
        "\r\n",
        "# 2. train/test로 나눠야 함\r\n",
        "X_train, X_test, y_train, y_test = train_test_split(X, y)\r\n",
        "\r\n",
        "# 3-1. 다항식 특성 추가\r\n",
        "model = SVC(kernel='poly', degree=4)\r\n",
        "model.fit(X_train, y_train)\r\n",
        "\r\n",
        "# 3-2. 다항식 특성 추가 평가(학습/예측)\r\n",
        "print(f\"학습 : {model.score(X_train, y_train)}\")\r\n",
        "print(f\"예측 : {model.score(X_test, y_test)}\")\r\n",
        "\r\n",
        "# 4-1. RBF 커널 트릭\r\n",
        "model = SVC(kernel='rbf', gamma='scale')\r\n",
        "model.fit(X_train, y_train)\r\n",
        "\r\n",
        "# 4-2. RBF 커널 트릭 평가\r\n",
        "print(f\"학습 : {model.score(X_train, y_train)}\")\r\n",
        "print(f\"예측 : {model.score(X_test, y_test)}\")\r\n",
        "\r\n",
        "# 5-1. C값 조정\r\n",
        "model = SVC(kernel='linear', C=0.1)\r\n",
        "model.fit(X_train, y_train)\r\n",
        "\r\n",
        "# 5-2. C값 조정\r\n",
        "print(f\"학습 : {model.score(X_train, y_train)}\")\r\n",
        "print(f\"예측 : {model.score(X_test, y_test)}\")"
      ],
      "execution_count": null,
      "outputs": [
        {
          "output_type": "stream",
          "text": [
            "학습 : 0.9014084507042254\n",
            "예측 : 0.9230769230769231\n",
            "학습 : 0.9061032863849765\n",
            "예측 : 0.9230769230769231\n",
            "학습 : 0.9507042253521126\n",
            "예측 : 0.965034965034965\n"
          ],
          "name": "stdout"
        }
      ]
    }
  ]
}