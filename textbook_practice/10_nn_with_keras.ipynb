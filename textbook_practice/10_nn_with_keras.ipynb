{
  "nbformat": 4,
  "nbformat_minor": 0,
  "metadata": {
    "colab": {
      "name": "10_nn_with_keras.ipynb",
      "provenance": [],
      "authorship_tag": "ABX9TyPgK/utavn6ffgtgiSvm40e",
      "include_colab_link": true
    },
    "kernelspec": {
      "name": "python3",
      "display_name": "Python 3"
    }
  },
  "cells": [
    {
      "cell_type": "markdown",
      "metadata": {
        "id": "view-in-github",
        "colab_type": "text"
      },
      "source": [
        "<a href=\"https://colab.research.google.com/github/geunsu-jo/Hands-On-ML/blob/main/textbook_practice/10_nn_with_keras.ipynb\" target=\"_parent\"><img src=\"https://colab.research.google.com/assets/colab-badge.svg\" alt=\"Open In Colab\"/></a>"
      ]
    },
    {
      "cell_type": "code",
      "metadata": {
        "colab": {
          "base_uri": "https://localhost:8080/"
        },
        "id": "77r71-1-2lu6",
        "outputId": "f6eeab0e-dce5-4bc4-fd14-6f10d08a7d3a"
      },
      "source": [
        "import numpy as np\r\n",
        "from sklearn.datasets import load_iris\r\n",
        "from sklearn.linear_model import Perceptron\r\n",
        "\r\n",
        "iris = load_iris()\r\n",
        "X = iris.data[:, (2,3)]\r\n",
        "y = (iris.target==0).astype(np.int)\r\n",
        "\r\n",
        "per_clf = Perceptron()\r\n",
        "per_clf.fit(X,y)\r\n",
        "\r\n",
        "y_pred = per_clf.predict([[2, 0.5]])\r\n",
        "y_pred"
      ],
      "execution_count": 8,
      "outputs": [
        {
          "output_type": "execute_result",
          "data": {
            "text/plain": [
              "array([0])"
            ]
          },
          "metadata": {
            "tags": []
          },
          "execution_count": 8
        }
      ]
    },
    {
      "cell_type": "code",
      "metadata": {
        "colab": {
          "base_uri": "https://localhost:8080/"
        },
        "id": "P_KZbApl3TYC",
        "outputId": "a52b22d5-cb3d-41d2-9c84-0a067c1b5433"
      },
      "source": [
        "from sklearn.linear_model import SGDClassifier\r\n",
        "\r\n",
        "sgd_clf = SGDClassifier(loss=\"perceptron\", learning_rate=\"constant\", eta0=1, penalty=None)\r\n",
        "sgd_clf.fit(X,y)\r\n",
        "\r\n",
        "y_pred2 = sgd_clf.predict([[2, 0.5]])\r\n",
        "y_pred2"
      ],
      "execution_count": 9,
      "outputs": [
        {
          "output_type": "execute_result",
          "data": {
            "text/plain": [
              "array([0])"
            ]
          },
          "metadata": {
            "tags": []
          },
          "execution_count": 9
        }
      ]
    },
    {
      "cell_type": "markdown",
      "metadata": {
        "id": "46iBxL-x37Ze"
      },
      "source": [
        "- Perceptron 클래스는 위와 같은 속성을 가진 SGDClassifier와 동일하다."
      ]
    },
    {
      "cell_type": "code",
      "metadata": {
        "colab": {
          "base_uri": "https://localhost:8080/",
          "height": 35
        },
        "id": "IPQ4rR8z2fAJ",
        "outputId": "61409c0f-41c8-4118-8b76-2e7c08c7129e"
      },
      "source": [
        "import tensorflow as tf\r\n",
        "from tensorflow import keras\r\n",
        "\r\n",
        "tf.__version__"
      ],
      "execution_count": 3,
      "outputs": [
        {
          "output_type": "execute_result",
          "data": {
            "application/vnd.google.colaboratory.intrinsic+json": {
              "type": "string"
            },
            "text/plain": [
              "'2.4.0'"
            ]
          },
          "metadata": {
            "tags": []
          },
          "execution_count": 3
        }
      ]
    },
    {
      "cell_type": "markdown",
      "metadata": {
        "id": "1Zm4yEtS4H4I"
      },
      "source": [
        "__케라스를 사용하여 데이터셋 적재하기__"
      ]
    },
    {
      "cell_type": "code",
      "metadata": {
        "colab": {
          "base_uri": "https://localhost:8080/"
        },
        "id": "IYBs0zve4Jyc",
        "outputId": "9c0794bc-0e9e-4d21-bcf0-e8bb52fff05b"
      },
      "source": [
        "fashion_mnist = keras.datasets.fashion_mnist\r\n",
        "(X_train_full, y_train_full), (X_test, y_test) = fashion_mnist.load_data()\r\n",
        "X_train_full.shape, X_train_full.dtype"
      ],
      "execution_count": 13,
      "outputs": [
        {
          "output_type": "execute_result",
          "data": {
            "text/plain": [
              "((60000, 28, 28), dtype('uint8'))"
            ]
          },
          "metadata": {
            "tags": []
          },
          "execution_count": 13
        }
      ]
    },
    {
      "cell_type": "markdown",
      "metadata": {
        "id": "fN-V3kDB4aZ3"
      },
      "source": [
        "- 784크기의 1D배열이 아니라 28X28 크기의 2D배열\r\n",
        "- 픽셀이 정수(0에서 255까지) 표현되어 있음"
      ]
    },
    {
      "cell_type": "markdown",
      "metadata": {
        "id": "nLzd5xlS421Y"
      },
      "source": [
        "valid set 만들기 & 픽셀의 강도를 0~1로 변환(자동으로 실수로 변환됨)"
      ]
    },
    {
      "cell_type": "code",
      "metadata": {
        "id": "bL4qGT_C5GjB"
      },
      "source": [
        "X_valid, X_train = X_train_full[:5000]/255.0, X_train_full[5000:]/255.0\r\n",
        "y_valid, y_train = y_train_full[:5000], y_train_full[5000:]\r\n",
        "X_test = X_test/255.0"
      ],
      "execution_count": 14,
      "outputs": []
    },
    {
      "cell_type": "markdown",
      "metadata": {
        "id": "VAV2kKZk6A_9"
      },
      "source": [
        "이미지 출력"
      ]
    },
    {
      "cell_type": "code",
      "metadata": {
        "colab": {
          "base_uri": "https://localhost:8080/",
          "height": 248
        },
        "id": "Dlarzg4d59Ig",
        "outputId": "cfde023a-b0cf-4e66-fe49-201dbd1eead1"
      },
      "source": [
        "import matplotlib.pyplot as plt\r\n",
        "\r\n",
        "plt.imshow(X_train[0], cmap=\"binary\")\r\n",
        "plt.axis('off')\r\n",
        "plt.show()"
      ],
      "execution_count": 15,
      "outputs": [
        {
          "output_type": "display_data",
          "data": {
            "image/png": "[encoded data removed]",
            "text/plain": [
              "<Figure size 432x288 with 1 Axes>"
            ]
          },
          "metadata": {
            "tags": [],
            "needs_background": "light"
          }
        }
      ]
    },
    {
      "cell_type": "markdown",
      "metadata": {
        "id": "6sx7Lckg5fvE"
      },
      "source": [
        "레이블의 클래스 이름을 리스트로 만들기"
      ]
    },
    {
      "cell_type": "code",
      "metadata": {
        "id": "gSxGdF2O5gI6"
      },
      "source": [
        "class_names = [\"T-shirt/top\", \"Trouser\", \"Pullover\", \"Dress\", \"Coat\",\r\n",
        "               \"Sandal\", \"Shirt\", \"Sneaker\", \"Bag\", \"Ankle boot\"]"
      ],
      "execution_count": null,
      "outputs": []
    }
  ]
}