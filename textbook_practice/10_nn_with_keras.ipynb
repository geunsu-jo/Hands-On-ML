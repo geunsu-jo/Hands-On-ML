{
  "nbformat": 4,
  "nbformat_minor": 0,
  "metadata": {
    "colab": {
      "name": "10_nn_with_keras.ipynb",
      "provenance": [],
      "collapsed_sections": [],
      "authorship_tag": "ABX9TyMYlFlG8FVUYEUPR+TnfmYZ",
      "include_colab_link": true
    },
    "kernelspec": {
      "name": "python3",
      "display_name": "Python 3"
    }
  },
  "cells": [
    {
      "cell_type": "markdown",
      "metadata": {
        "id": "view-in-github",
        "colab_type": "text"
      },
      "source": [
        "<a href=\"https://colab.research.google.com/github/geunsu-jo/Hands-On-ML/blob/main/textbook_practice/10_nn_with_keras.ipynb\" target=\"_parent\"><img src=\"https://colab.research.google.com/assets/colab-badge.svg\" alt=\"Open In Colab\"/></a>"
      ]
    },
    {
      "cell_type": "code",
      "metadata": {
        "colab": {
          "base_uri": "https://localhost:8080/"
        },
        "id": "77r71-1-2lu6",
        "outputId": "f6eeab0e-dce5-4bc4-fd14-6f10d08a7d3a"
      },
      "source": [
        "import numpy as np\r\n",
        "from sklearn.datasets import load_iris\r\n",
        "from sklearn.linear_model import Perceptron\r\n",
        "\r\n",
        "iris = load_iris()\r\n",
        "X = iris.data[:, (2,3)]\r\n",
        "y = (iris.target==0).astype(np.int)\r\n",
        "\r\n",
        "per_clf = Perceptron()\r\n",
        "per_clf.fit(X,y)\r\n",
        "\r\n",
        "y_pred = per_clf.predict([[2, 0.5]])\r\n",
        "y_pred"
      ],
      "execution_count": 8,
      "outputs": [
        {
          "output_type": "execute_result",
          "data": {
            "text/plain": [
              "array([0])"
            ]
          },
          "metadata": {
            "tags": []
          },
          "execution_count": 8
        }
      ]
    },
    {
      "cell_type": "code",
      "metadata": {
        "colab": {
          "base_uri": "https://localhost:8080/"
        },
        "id": "P_KZbApl3TYC",
        "outputId": "a52b22d5-cb3d-41d2-9c84-0a067c1b5433"
      },
      "source": [
        "from sklearn.linear_model import SGDClassifier\r\n",
        "\r\n",
        "sgd_clf = SGDClassifier(loss=\"perceptron\", learning_rate=\"constant\", eta0=1, penalty=None)\r\n",
        "sgd_clf.fit(X,y)\r\n",
        "\r\n",
        "y_pred2 = sgd_clf.predict([[2, 0.5]])\r\n",
        "y_pred2"
      ],
      "execution_count": 9,
      "outputs": [
        {
          "output_type": "execute_result",
          "data": {
            "text/plain": [
              "array([0])"
            ]
          },
          "metadata": {
            "tags": []
          },
          "execution_count": 9
        }
      ]
    },
    {
      "cell_type": "markdown",
      "metadata": {
        "id": "46iBxL-x37Ze"
      },
      "source": [
        "- Perceptron 클래스는 위와 같은 속성을 가진 SGDClassifier와 동일하다."
      ]
    },
    {
      "cell_type": "code",
      "metadata": {
        "colab": {
          "base_uri": "https://localhost:8080/",
          "height": 35
        },
        "id": "IPQ4rR8z2fAJ",
        "outputId": "61409c0f-41c8-4118-8b76-2e7c08c7129e"
      },
      "source": [
        "import tensorflow as tf\r\n",
        "from tensorflow import keras\r\n",
        "\r\n",
        "tf.__version__"
      ],
      "execution_count": 3,
      "outputs": [
        {
          "output_type": "execute_result",
          "data": {
            "application/vnd.google.colaboratory.intrinsic+json": {
              "type": "string"
            },
            "text/plain": [
              "'2.4.0'"
            ]
          },
          "metadata": {
            "tags": []
          },
          "execution_count": 3
        }
      ]
    },
    {
      "cell_type": "markdown",
      "metadata": {
        "id": "1Zm4yEtS4H4I"
      },
      "source": [
        "### __케라스를 사용하여 데이터셋 적재하기__"
      ]
    },
    {
      "cell_type": "code",
      "metadata": {
        "colab": {
          "base_uri": "https://localhost:8080/"
        },
        "id": "IYBs0zve4Jyc",
        "outputId": "9c0794bc-0e9e-4d21-bcf0-e8bb52fff05b"
      },
      "source": [
        "fashion_mnist = keras.datasets.fashion_mnist\r\n",
        "(X_train_full, y_train_full), (X_test, y_test) = fashion_mnist.load_data()\r\n",
        "X_train_full.shape, X_train_full.dtype"
      ],
      "execution_count": 13,
      "outputs": [
        {
          "output_type": "execute_result",
          "data": {
            "text/plain": [
              "((60000, 28, 28), dtype('uint8'))"
            ]
          },
          "metadata": {
            "tags": []
          },
          "execution_count": 13
        }
      ]
    },
    {
      "cell_type": "markdown",
      "metadata": {
        "id": "fN-V3kDB4aZ3"
      },
      "source": [
        "- 784크기의 1D배열이 아니라 28X28 크기의 2D배열\r\n",
        "- 픽셀이 정수(0에서 255까지) 표현되어 있음"
      ]
    },
    {
      "cell_type": "markdown",
      "metadata": {
        "id": "nLzd5xlS421Y"
      },
      "source": [
        "valid set 만들기 & 픽셀의 강도를 0~1로 변환(자동으로 실수로 변환됨)"
      ]
    },
    {
      "cell_type": "code",
      "metadata": {
        "id": "bL4qGT_C5GjB"
      },
      "source": [
        "X_valid, X_train = X_train_full[:5000]/255.0, X_train_full[5000:]/255.0\r\n",
        "y_valid, y_train = y_train_full[:5000], y_train_full[5000:]\r\n",
        "X_test = X_test/255.0"
      ],
      "execution_count": 14,
      "outputs": []
    },
    {
      "cell_type": "markdown",
      "metadata": {
        "id": "6sx7Lckg5fvE"
      },
      "source": [
        "레이블의 클래스 이름을 리스트로 만들기"
      ]
    },
    {
      "cell_type": "code",
      "metadata": {
        "id": "gSxGdF2O5gI6"
      },
      "source": [
        "class_names = [\"T-shirt/top\", \"Trouser\", \"Pullover\", \"Dress\", \"Coat\",\r\n",
        "               \"Sandal\", \"Shirt\", \"Sneaker\", \"Bag\", \"Ankle boot\"]"
      ],
      "execution_count": 18,
      "outputs": []
    },
    {
      "cell_type": "markdown",
      "metadata": {
        "id": "VAV2kKZk6A_9"
      },
      "source": [
        "이미지 출력"
      ]
    },
    {
      "cell_type": "code",
      "metadata": {
        "colab": {
          "base_uri": "https://localhost:8080/",
          "height": 248
        },
        "id": "Dlarzg4d59Ig",
        "outputId": "cfde023a-b0cf-4e66-fe49-201dbd1eead1"
      },
      "source": [
        "import matplotlib.pyplot as plt\r\n",
        "\r\n",
        "plt.imshow(X_train[0], cmap=\"binary\")\r\n",
        "plt.axis('off')\r\n",
        "plt.show()"
      ],
      "execution_count": 15,
      "outputs": [
        {
          "output_type": "display_data",
          "data": {
            "image/png": "[encoded data removed]",
            "text/plain": [
              "<Figure size 432x288 with 1 Axes>"
            ]
          },
          "metadata": {
            "tags": [],
            "needs_background": "light"
          }
        }
      ]
    },
    {
      "cell_type": "code",
      "metadata": {
        "colab": {
          "base_uri": "https://localhost:8080/",
          "height": 35
        },
        "id": "WRb3_EcF7G4b",
        "outputId": "65299251-834b-42b2-be52-e1a42316a308"
      },
      "source": [
        "class_names[y_train[0]]"
      ],
      "execution_count": 19,
      "outputs": [
        {
          "output_type": "execute_result",
          "data": {
            "application/vnd.google.colaboratory.intrinsic+json": {
              "type": "string"
            },
            "text/plain": [
              "'Coat'"
            ]
          },
          "metadata": {
            "tags": []
          },
          "execution_count": 19
        }
      ]
    },
    {
      "cell_type": "markdown",
      "metadata": {
        "id": "_QuXUVD37O-h"
      },
      "source": [
        "여러 이미지 출력"
      ]
    },
    {
      "cell_type": "code",
      "metadata": {
        "colab": {
          "base_uri": "https://localhost:8080/",
          "height": 308
        },
        "id": "yjZ9X2Xb7bof",
        "outputId": "a5bc910b-fd73-4dd6-ec9d-ba5c40d363e3"
      },
      "source": [
        "n_rows = 4\r\n",
        "n_cols = 10\r\n",
        "plt.figure(figsize=(n_cols * 1.2, n_rows * 1.2))\r\n",
        "for row in range(n_rows):\r\n",
        "    for col in range(n_cols):\r\n",
        "        index = n_cols * row + col\r\n",
        "        plt.subplot(n_rows, n_cols, index + 1)\r\n",
        "        plt.imshow(X_train[index], cmap=\"binary\", interpolation=\"nearest\")\r\n",
        "        plt.axis('off')\r\n",
        "        plt.title(class_names[y_train[index]], fontsize=12)\r\n",
        "plt.subplots_adjust(wspace=0.2, hspace=0.5)\r\n",
        "\r\n",
        "plt.show()"
      ],
      "execution_count": 20,
      "outputs": [
        {
          "output_type": "display_data",
          "data": {
            "image/png": "[encoded data removed]",
            "text/plain": [
              "<Figure size 864x345.6 with 40 Axes>"
            ]
          },
          "metadata": {
            "tags": [],
            "needs_background": "light"
          }
        }
      ]
    },
    {
      "cell_type": "markdown",
      "metadata": {
        "id": "61KUTDum7cwi"
      },
      "source": [
        "시퀀셜 API를 사용하여 모델 만들기"
      ]
    },
    {
      "cell_type": "code",
      "metadata": {
        "id": "oQKYIHAJ71he"
      },
      "source": [
        "model = keras.models.Sequential()\r\n",
        "model.add(keras.layers.Flatten(input_shape=[28,28]))\r\n",
        "model.add(keras.layers.Dense(300, activation=\"relu\"))\r\n",
        "model.add(keras.layers.Dense(100, activation=\"relu\"))\r\n",
        "model.add(keras.layers.Dense(10, activation=\"softmax\"))"
      ],
      "execution_count": 22,
      "outputs": []
    },
    {
      "cell_type": "markdown",
      "metadata": {
        "id": "r3_86ZpC8Ghm"
      },
      "source": [
        "- Flatten 층은 입력 이미지(28x28)를 1D 배열로 변환한다.(즉, X를 입력 받으면 X.reshape(-1,1)\r\n",
        "- 출력층의 활성화함수는 __softmax__(다중분류이므로)\r\n",
        "- 만약 이진분류 문제라면 __activation=\"sigmoid\"__"
      ]
    },
    {
      "cell_type": "markdown",
      "metadata": {
        "id": "FLbDgrYg8WjS"
      },
      "source": [
        "Sequential 모델을 만들 때 층의 리스트를 전달(위와 동일)"
      ]
    },
    {
      "cell_type": "code",
      "metadata": {
        "id": "qCadtDML9Bgs"
      },
      "source": [
        "model = keras.models.Sequential([\r\n",
        "                                 keras.layers.Flatten(input_shape=[28,28]),\r\n",
        "                                 keras.layers.Dense(300, activation=\"relu\"),\r\n",
        "                                 keras.layers.Dense(100, activation=\"relu\"),\r\n",
        "                                 keras.layers.Dense(10, activation=\"softmax\")\r\n",
        "])"
      ],
      "execution_count": 24,
      "outputs": []
    },
    {
      "cell_type": "markdown",
      "metadata": {
        "id": "IxQFV0GC9fMp"
      },
      "source": [
        "__summary()__ 메서드는 모델에 있는 모든 층을 출력"
      ]
    },
    {
      "cell_type": "code",
      "metadata": {
        "colab": {
          "base_uri": "https://localhost:8080/"
        },
        "id": "cK9eQYNV9lfu",
        "outputId": "c385cc37-44da-4b68-b368-269696deafdf"
      },
      "source": [
        "model.summary()"
      ],
      "execution_count": 25,
      "outputs": [
        {
          "output_type": "stream",
          "text": [
            "Model: \"sequential_1\"\n",
            "_________________________________________________________________\n",
            "Layer (type)                 Output Shape              Param #   \n",
            "=================================================================\n",
            "flatten_1 (Flatten)          (None, 784)               0         \n",
            "_________________________________________________________________\n",
            "dense_3 (Dense)              (None, 300)               235500    \n",
            "_________________________________________________________________\n",
            "dense_4 (Dense)              (None, 100)               30100     \n",
            "_________________________________________________________________\n",
            "dense_5 (Dense)              (None, 10)                1010      \n",
            "=================================================================\n",
            "Total params: 266,610\n",
            "Trainable params: 266,610\n",
            "Non-trainable params: 0\n",
            "_________________________________________________________________\n"
          ],
          "name": "stdout"
        }
      ]
    },
    {
      "cell_type": "markdown",
      "metadata": {
        "id": "Pc9zTCxR-u88"
      },
      "source": [
        "모델에 있는 층의 리스트를 출력하고, 인덱스로 층을 쉽게 선책 가능"
      ]
    },
    {
      "cell_type": "code",
      "metadata": {
        "id": "fNDq526w9mYC",
        "colab": {
          "base_uri": "https://localhost:8080/"
        },
        "outputId": "0715bc28-202a-4251-aaaa-ac189383a0df"
      },
      "source": [
        "model.layers"
      ],
      "execution_count": 27,
      "outputs": [
        {
          "output_type": "execute_result",
          "data": {
            "text/plain": [
              "[<tensorflow.python.keras.layers.core.Flatten at 0x7ff71288fda0>,\n",
              " <tensorflow.python.keras.layers.core.Dense at 0x7ff718296358>,\n",
              " <tensorflow.python.keras.layers.core.Dense at 0x7ff71288f550>,\n",
              " <tensorflow.python.keras.layers.core.Dense at 0x7ff71289b940>]"
            ]
          },
          "metadata": {
            "tags": []
          },
          "execution_count": 27
        }
      ]
    },
    {
      "cell_type": "code",
      "metadata": {
        "colab": {
          "base_uri": "https://localhost:8080/",
          "height": 35
        },
        "id": "yR7lYc0s-q3B",
        "outputId": "af576239-991a-4c20-cbf0-0254e8933cbd"
      },
      "source": [
        "hidden1 = model.layers[1]\r\n",
        "hidden1.name"
      ],
      "execution_count": 31,
      "outputs": [
        {
          "output_type": "execute_result",
          "data": {
            "application/vnd.google.colaboratory.intrinsic+json": {
              "type": "string"
            },
            "text/plain": [
              "'dense_3'"
            ]
          },
          "metadata": {
            "tags": []
          },
          "execution_count": 31
        }
      ]
    },
    {
      "cell_type": "markdown",
      "metadata": {
        "id": "tXBWX1J7_MKM"
      },
      "source": [
        "이름으로 층을 선택"
      ]
    },
    {
      "cell_type": "code",
      "metadata": {
        "colab": {
          "base_uri": "https://localhost:8080/"
        },
        "id": "uq6c4RlD-6Pz",
        "outputId": "81bf42aa-30f6-4af7-cd9f-084f54dcfdcf"
      },
      "source": [
        "model.get_layer(hidden1.name) is hidden1"
      ],
      "execution_count": 36,
      "outputs": [
        {
          "output_type": "execute_result",
          "data": {
            "text/plain": [
              "True"
            ]
          },
          "metadata": {
            "tags": []
          },
          "execution_count": 36
        }
      ]
    },
    {
      "cell_type": "markdown",
      "metadata": {
        "id": "4bneYEok_HDW"
      },
      "source": [
        "층의 모든 파라미터는 __get_weigths()__ 메서드와 __set_weights()__ 메서드를 사용해 접근 가능"
      ]
    },
    {
      "cell_type": "code",
      "metadata": {
        "colab": {
          "base_uri": "https://localhost:8080/"
        },
        "id": "-VscLTXf_ce7",
        "outputId": "d08b4981-5193-4f2a-f364-60c3ad04c4e3"
      },
      "source": [
        "weights, biases = hidden1.get_weights()\r\n",
        "weights, weights.shape"
      ],
      "execution_count": 39,
      "outputs": [
        {
          "output_type": "execute_result",
          "data": {
            "text/plain": [
              "(array([[-0.06120906, -0.07126912,  0.0223344 , ...,  0.04997908,\n",
              "          0.0234363 , -0.04225201],\n",
              "        [-0.05985545,  0.05610709,  0.02213975, ..., -0.04731663,\n",
              "          0.01163358,  0.06184173],\n",
              "        [-0.01774034, -0.05531598,  0.01017509, ...,  0.06843814,\n",
              "          0.06228094,  0.07223414],\n",
              "        ...,\n",
              "        [-0.0106643 , -0.02768904, -0.06305087, ...,  0.04910477,\n",
              "          0.040013  , -0.05657723],\n",
              "        [ 0.01417659, -0.02698107, -0.05783769, ..., -0.0399774 ,\n",
              "          0.0369929 , -0.00640803],\n",
              "        [-0.00658268, -0.03602301, -0.0176161 , ..., -0.03707862,\n",
              "          0.03773993, -0.03898397]], dtype=float32), (784, 300))"
            ]
          },
          "metadata": {
            "tags": []
          },
          "execution_count": 39
        }
      ]
    },
    {
      "cell_type": "code",
      "metadata": {
        "colab": {
          "base_uri": "https://localhost:8080/"
        },
        "id": "v6HCnvPdAw1b",
        "outputId": "1298ad78-71e0-40f5-ee9a-55d92da51a25"
      },
      "source": [
        "biases, biases.shape"
      ],
      "execution_count": 41,
      "outputs": [
        {
          "output_type": "execute_result",
          "data": {
            "text/plain": [
              "(array([0., 0., 0., 0., 0., 0., 0., 0., 0., 0., 0., 0., 0., 0., 0., 0., 0.,\n",
              "        0., 0., 0., 0., 0., 0., 0., 0., 0., 0., 0., 0., 0., 0., 0., 0., 0.,\n",
              "        0., 0., 0., 0., 0., 0., 0., 0., 0., 0., 0., 0., 0., 0., 0., 0., 0.,\n",
              "        0., 0., 0., 0., 0., 0., 0., 0., 0., 0., 0., 0., 0., 0., 0., 0., 0.,\n",
              "        0., 0., 0., 0., 0., 0., 0., 0., 0., 0., 0., 0., 0., 0., 0., 0., 0.,\n",
              "        0., 0., 0., 0., 0., 0., 0., 0., 0., 0., 0., 0., 0., 0., 0., 0., 0.,\n",
              "        0., 0., 0., 0., 0., 0., 0., 0., 0., 0., 0., 0., 0., 0., 0., 0., 0.,\n",
              "        0., 0., 0., 0., 0., 0., 0., 0., 0., 0., 0., 0., 0., 0., 0., 0., 0.,\n",
              "        0., 0., 0., 0., 0., 0., 0., 0., 0., 0., 0., 0., 0., 0., 0., 0., 0.,\n",
              "        0., 0., 0., 0., 0., 0., 0., 0., 0., 0., 0., 0., 0., 0., 0., 0., 0.,\n",
              "        0., 0., 0., 0., 0., 0., 0., 0., 0., 0., 0., 0., 0., 0., 0., 0., 0.,\n",
              "        0., 0., 0., 0., 0., 0., 0., 0., 0., 0., 0., 0., 0., 0., 0., 0., 0.,\n",
              "        0., 0., 0., 0., 0., 0., 0., 0., 0., 0., 0., 0., 0., 0., 0., 0., 0.,\n",
              "        0., 0., 0., 0., 0., 0., 0., 0., 0., 0., 0., 0., 0., 0., 0., 0., 0.,\n",
              "        0., 0., 0., 0., 0., 0., 0., 0., 0., 0., 0., 0., 0., 0., 0., 0., 0.,\n",
              "        0., 0., 0., 0., 0., 0., 0., 0., 0., 0., 0., 0., 0., 0., 0., 0., 0.,\n",
              "        0., 0., 0., 0., 0., 0., 0., 0., 0., 0., 0., 0., 0., 0., 0., 0., 0.,\n",
              "        0., 0., 0., 0., 0., 0., 0., 0., 0., 0., 0.], dtype=float32), (300,))"
            ]
          },
          "metadata": {
            "tags": []
          },
          "execution_count": 41
        }
      ]
    },
    {
      "cell_type": "markdown",
      "metadata": {
        "id": "gsZyoCrEAyKB"
      },
      "source": [
        "### 모델 컴파일"
      ]
    },
    {
      "cell_type": "markdown",
      "metadata": {
        "id": "NCouhq-RBOa3"
      },
      "source": [
        "__compile()__ 메서드를 호출하여 손실함수와 옵티마이저를 지정"
      ]
    },
    {
      "cell_type": "code",
      "metadata": {
        "id": "83rXzP9sBSkm"
      },
      "source": [
        "model.compile(loss=\"sparse_categorical_crossentropy\",\r\n",
        "              optimizer=\"sgd\",\r\n",
        "              metrics=[\"accuracy\"])"
      ],
      "execution_count": 42,
      "outputs": []
    },
    {
      "cell_type": "markdown",
      "metadata": {
        "id": "vD6xknZ6Brmc"
      },
      "source": [
        "- 레이블이 0에서 9까지 정수이고, 클래스가 배타적이므로 __loss=\"sparse_categorical_crossentropy\"__\r\n",
        "- 만약 레이블이 클래스가 2일 때 [0, 0, 1, ..., 0]과 같이 one-hot 벡터라면, __loss=\"categorical_crossentropy\"__\r\n",
        "- 레이블이 이진분류라면, __loss=\"binary_crossentropy\"__\r\n",
        "- optimizer=\"sgd\"는 확률적 경사하강법"
      ]
    },
    {
      "cell_type": "markdown",
      "metadata": {
        "id": "zp_XdpLwCRaF"
      },
      "source": [
        "SGD 옵티마이저에서 학습률 바꾸기"
      ]
    },
    {
      "cell_type": "code",
      "metadata": {
        "id": "Ii2Wb4WKDRob"
      },
      "source": [
        "model.compile(loss=keras.losses.sparse_categorical_crossentropy,\r\n",
        "              optimizer=keras.optimizers.SGD(lr=0.01),\r\n",
        "              metrics=[keras.metrics.sparse_categorical_accuracy])"
      ],
      "execution_count": 44,
      "outputs": []
    },
    {
      "cell_type": "markdown",
      "metadata": {
        "id": "wl-bmk0ADhqB"
      },
      "source": [
        "### 모델 훈련과 평가\r\n"
      ]
    },
    {
      "cell_type": "code",
      "metadata": {
        "colab": {
          "base_uri": "https://localhost:8080/"
        },
        "id": "mgiiNlTbDoBP",
        "outputId": "04981591-9dc4-464b-fbfa-1ba2e557afd1"
      },
      "source": [
        "history = model.fit(X_train,y_train, epochs=30,\r\n",
        "                    validation_data=(X_valid, y_valid))"
      ],
      "execution_count": 45,
      "outputs": [
        {
          "output_type": "stream",
          "text": [
            "Epoch 1/30\n",
            "1719/1719 [==============================] - 7s 4ms/step - loss: 0.9779 - sparse_categorical_accuracy: 0.6894 - val_loss: 0.5099 - val_sparse_categorical_accuracy: 0.8260\n",
            "Epoch 2/30\n",
            "1719/1719 [==============================] - 6s 3ms/step - loss: 0.5010 - sparse_categorical_accuracy: 0.8273 - val_loss: 0.4569 - val_sparse_categorical_accuracy: 0.8446\n",
            "Epoch 3/30\n",
            "1719/1719 [==============================] - 6s 3ms/step - loss: 0.4452 - sparse_categorical_accuracy: 0.8462 - val_loss: 0.4316 - val_sparse_categorical_accuracy: 0.8574\n",
            "Epoch 4/30\n",
            "1719/1719 [==============================] - 6s 4ms/step - loss: 0.4193 - sparse_categorical_accuracy: 0.8509 - val_loss: 0.3947 - val_sparse_categorical_accuracy: 0.8640\n",
            "Epoch 5/30\n",
            "1719/1719 [==============================] - 6s 3ms/step - loss: 0.3968 - sparse_categorical_accuracy: 0.8607 - val_loss: 0.3806 - val_sparse_categorical_accuracy: 0.8702\n",
            "Epoch 6/30\n",
            "1719/1719 [==============================] - 6s 3ms/step - loss: 0.3804 - sparse_categorical_accuracy: 0.8658 - val_loss: 0.3726 - val_sparse_categorical_accuracy: 0.8722\n",
            "Epoch 7/30\n",
            "1719/1719 [==============================] - 6s 4ms/step - loss: 0.3647 - sparse_categorical_accuracy: 0.8716 - val_loss: 0.3626 - val_sparse_categorical_accuracy: 0.8720\n",
            "Epoch 8/30\n",
            "1719/1719 [==============================] - 6s 4ms/step - loss: 0.3514 - sparse_categorical_accuracy: 0.8764 - val_loss: 0.3778 - val_sparse_categorical_accuracy: 0.8706\n",
            "Epoch 9/30\n",
            "1719/1719 [==============================] - 6s 4ms/step - loss: 0.3369 - sparse_categorical_accuracy: 0.8800 - val_loss: 0.3518 - val_sparse_categorical_accuracy: 0.8794\n",
            "Epoch 10/30\n",
            "1719/1719 [==============================] - 6s 4ms/step - loss: 0.3329 - sparse_categorical_accuracy: 0.8809 - val_loss: 0.3555 - val_sparse_categorical_accuracy: 0.8758\n",
            "Epoch 11/30\n",
            "1719/1719 [==============================] - 6s 4ms/step - loss: 0.3204 - sparse_categorical_accuracy: 0.8871 - val_loss: 0.3300 - val_sparse_categorical_accuracy: 0.8838\n",
            "Epoch 12/30\n",
            "1719/1719 [==============================] - 6s 4ms/step - loss: 0.3131 - sparse_categorical_accuracy: 0.8858 - val_loss: 0.3393 - val_sparse_categorical_accuracy: 0.8770\n",
            "Epoch 13/30\n",
            "1719/1719 [==============================] - 6s 4ms/step - loss: 0.3062 - sparse_categorical_accuracy: 0.8902 - val_loss: 0.3250 - val_sparse_categorical_accuracy: 0.8852\n",
            "Epoch 14/30\n",
            "1719/1719 [==============================] - 6s 4ms/step - loss: 0.2993 - sparse_categorical_accuracy: 0.8934 - val_loss: 0.3483 - val_sparse_categorical_accuracy: 0.8724\n",
            "Epoch 15/30\n",
            "1719/1719 [==============================] - 6s 4ms/step - loss: 0.2930 - sparse_categorical_accuracy: 0.8936 - val_loss: 0.3159 - val_sparse_categorical_accuracy: 0.8856\n",
            "Epoch 16/30\n",
            "1719/1719 [==============================] - 7s 4ms/step - loss: 0.2809 - sparse_categorical_accuracy: 0.8991 - val_loss: 0.3169 - val_sparse_categorical_accuracy: 0.8868\n",
            "Epoch 17/30\n",
            "1719/1719 [==============================] - 7s 4ms/step - loss: 0.2766 - sparse_categorical_accuracy: 0.9021 - val_loss: 0.3348 - val_sparse_categorical_accuracy: 0.8828\n",
            "Epoch 18/30\n",
            "1719/1719 [==============================] - 6s 4ms/step - loss: 0.2758 - sparse_categorical_accuracy: 0.9005 - val_loss: 0.3158 - val_sparse_categorical_accuracy: 0.8864\n",
            "Epoch 19/30\n",
            "1719/1719 [==============================] - 6s 4ms/step - loss: 0.2648 - sparse_categorical_accuracy: 0.9036 - val_loss: 0.3126 - val_sparse_categorical_accuracy: 0.8874\n",
            "Epoch 20/30\n",
            "1719/1719 [==============================] - 6s 3ms/step - loss: 0.2689 - sparse_categorical_accuracy: 0.9018 - val_loss: 0.3123 - val_sparse_categorical_accuracy: 0.8864\n",
            "Epoch 21/30\n",
            "1719/1719 [==============================] - 6s 3ms/step - loss: 0.2631 - sparse_categorical_accuracy: 0.9060 - val_loss: 0.3335 - val_sparse_categorical_accuracy: 0.8778\n",
            "Epoch 22/30\n",
            "1719/1719 [==============================] - 6s 4ms/step - loss: 0.2576 - sparse_categorical_accuracy: 0.9080 - val_loss: 0.3168 - val_sparse_categorical_accuracy: 0.8890\n",
            "Epoch 23/30\n",
            "1719/1719 [==============================] - 6s 4ms/step - loss: 0.2458 - sparse_categorical_accuracy: 0.9113 - val_loss: 0.3045 - val_sparse_categorical_accuracy: 0.8866\n",
            "Epoch 24/30\n",
            "1719/1719 [==============================] - 6s 4ms/step - loss: 0.2447 - sparse_categorical_accuracy: 0.9121 - val_loss: 0.3019 - val_sparse_categorical_accuracy: 0.8902\n",
            "Epoch 25/30\n",
            "1719/1719 [==============================] - 6s 4ms/step - loss: 0.2411 - sparse_categorical_accuracy: 0.9143 - val_loss: 0.3040 - val_sparse_categorical_accuracy: 0.8922\n",
            "Epoch 26/30\n",
            "1719/1719 [==============================] - 6s 4ms/step - loss: 0.2364 - sparse_categorical_accuracy: 0.9150 - val_loss: 0.2963 - val_sparse_categorical_accuracy: 0.8952\n",
            "Epoch 27/30\n",
            "1719/1719 [==============================] - 6s 4ms/step - loss: 0.2271 - sparse_categorical_accuracy: 0.9177 - val_loss: 0.2950 - val_sparse_categorical_accuracy: 0.8934\n",
            "Epoch 28/30\n",
            "1719/1719 [==============================] - 6s 4ms/step - loss: 0.2298 - sparse_categorical_accuracy: 0.9161 - val_loss: 0.2908 - val_sparse_categorical_accuracy: 0.8992\n",
            "Epoch 29/30\n",
            "1719/1719 [==============================] - 7s 4ms/step - loss: 0.2252 - sparse_categorical_accuracy: 0.9196 - val_loss: 0.2972 - val_sparse_categorical_accuracy: 0.8932\n",
            "Epoch 30/30\n",
            "1719/1719 [==============================] - 7s 4ms/step - loss: 0.2252 - sparse_categorical_accuracy: 0.9192 - val_loss: 0.3018 - val_sparse_categorical_accuracy: 0.8938\n"
          ],
          "name": "stdout"
        }
      ]
    },
    {
      "cell_type": "markdown",
      "metadata": {
        "id": "R0SOsVfRDwfQ"
      },
      "source": [
        "- 어떤 클래스는 많고 어떤 클래스는 적은 훈련 데이터라면(imblanced), __fit()__ 메서드를 호출할 때 __class_weight__ 매개변수를 지정하는 것이 좋다.(적게 등장하는 클래스는 높은 가중치, 많이 등장하는 클래스는 낮은 가중치)\r\n",
        "- __sample_weight__ 매개변수를 지정하여 샘플별 가중치 조정 가능"
      ]
    },
    {
      "cell_type": "markdown",
      "metadata": {
        "id": "kldruQoEFJFU"
      },
      "source": [
        "__histroy__ 객체에는 훈련 파라미터(__history.params__), 수행된 에포크 리스트(__history.epoch__)가 포함되어있다. <br>\r\n",
        "또한 훈련 세트와 검정 세트(있다면)에 대한 손실과 측정 지표를 담은 딕셔너리(__history.history__)가 있다. 다음과 같이 그림으로 그릴 수 있다."
      ]
    },
    {
      "cell_type": "code",
      "metadata": {
        "colab": {
          "base_uri": "https://localhost:8080/",
          "height": 324
        },
        "id": "4SLR-2Y4G03q",
        "outputId": "9bdd9009-7ed4-4ca9-c41c-2722e0d7eea9"
      },
      "source": [
        "import pandas as pd\r\n",
        "import matplotlib.pyplot as plt\r\n",
        "\r\n",
        "pd.DataFrame(history.history).plot(figsize=(8,5))\r\n",
        "plt.grid(True)\r\n",
        "plt.gca().set_ylim(0,1)\r\n",
        "plt.show()"
      ],
      "execution_count": 49,
      "outputs": [
        {
          "output_type": "display_data",
          "data": {
            "image/png": "[encoded data removed]",
            "text/plain": [
              "<Figure size 576x360 with 1 Axes>"
            ]
          },
          "metadata": {
            "tags": [],
            "needs_background": "light"
          }
        }
      ]
    },
    {
      "cell_type": "markdown",
      "metadata": {
        "id": "xG1M5Tr-HARQ"
      },
      "source": [
        "- 검증 손실은 에포크가 끝난 후에 계산되고, 훈련 손실은 에포크가 진행되는 동안 계산된다. 따라서 훈련 곡선은 에포크 절반 만큼 왼쪽으로 이동해서 봐야한다.\r\n",
        "- 모델 성능이 만족스럽지 못하면 하이퍼파라미터를 튜닝해보자(학습률 우선으로)"
      ]
    },
    {
      "cell_type": "markdown",
      "metadata": {
        "id": "bNJcW4q6JmHt"
      },
      "source": [
        "상용 환경으로 배포하기 전, 테스트 세트로 모델을 평가하여 일반화 오차를 추정"
      ]
    },
    {
      "cell_type": "code",
      "metadata": {
        "colab": {
          "base_uri": "https://localhost:8080/"
        },
        "id": "qAsBdyBnK0ay",
        "outputId": "72f2adf6-eb0a-4365-907b-f01e2209a3a6"
      },
      "source": [
        "model.evaluate(X_test, y_test)"
      ],
      "execution_count": 51,
      "outputs": [
        {
          "output_type": "stream",
          "text": [
            "313/313 [==============================] - 1s 2ms/step - loss: 0.3278 - sparse_categorical_accuracy: 0.8858\n"
          ],
          "name": "stdout"
        },
        {
          "output_type": "execute_result",
          "data": {
            "text/plain": [
              "[0.32776492834091187, 0.8858000040054321]"
            ]
          },
          "metadata": {
            "tags": []
          },
          "execution_count": 51
        }
      ]
    },
    {
      "cell_type": "markdown",
      "metadata": {
        "id": "4uB7tTopK21o"
      },
      "source": [
        "- 검증 세트에서 하이퍼파라미터 튜닝을 했으므로, 일반적으로 검증 세트보다 테스트 세트에서 성능이 조금 낮은 것이 일반적이다.\r\n",
        "- 이 예제에선 튜닝과정이 없었기 때문에 테스트 세트의 성능이 낮은 것은 우연의 결과다."
      ]
    },
    {
      "cell_type": "code",
      "metadata": {
        "id": "V40BhZ45LVy9"
      },
      "source": [
        ""
      ],
      "execution_count": null,
      "outputs": []
    }
  ]
}