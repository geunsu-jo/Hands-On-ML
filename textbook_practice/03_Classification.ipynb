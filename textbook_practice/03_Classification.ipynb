{
  "nbformat": 4,
  "nbformat_minor": 0,
  "metadata": {
    "colab": {
      "name": "03_Classification.ipynb",
      "provenance": [],
      "collapsed_sections": [],
      "toc_visible": true,
      "authorship_tag": "ABX9TyNLGXJRqmayAMoPReh9zLwu",
      "include_colab_link": true
    },
    "kernelspec": {
      "name": "python3",
      "display_name": "Python 3"
    }
  },
  "cells": [
    {
      "cell_type": "markdown",
      "metadata": {
        "id": "view-in-github",
        "colab_type": "text"
      },
      "source": [
        "<a href=\"https://colab.research.google.com/github/geunsu-jo/Hands-On-ML/blob/main/textbook_practice/03_Classification.ipynb\" target=\"_parent\"><img src=\"https://colab.research.google.com/assets/colab-badge.svg\" alt=\"Open In Colab\"/></a>"
      ]
    },
    {
      "cell_type": "code",
      "metadata": {
        "colab": {
          "base_uri": "https://localhost:8080/"
        },
        "id": "-jfKjcjy-xel",
        "outputId": "6ec77622-a396-4bb4-c72e-bba3f48a37b2"
      },
      "source": [
        "from sklearn.datasets import fetch_openml\r\n",
        "mnist = fetch_openml('mnist_784', version=1)\r\n",
        "mnist.keys()"
      ],
      "execution_count": 1,
      "outputs": [
        {
          "output_type": "execute_result",
          "data": {
            "text/plain": [
              "dict_keys(['data', 'target', 'frame', 'feature_names', 'target_names', 'DESCR', 'details', 'categories', 'url'])"
            ]
          },
          "metadata": {
            "tags": []
          },
          "execution_count": 1
        }
      ]
    },
    {
      "cell_type": "markdown",
      "metadata": {
        "id": "Rcp-V2X6AEzf"
      },
      "source": [
        "사이킷런에서 읽은 데이터셋은 dictionary 구조를 가지고 있다.\r\n",
        "- 데이터셋을 설명하는 DESCR 키\r\n",
        "- 샘플을 행, 특성(feature)를 열로 구성된 배열 data 키\r\n",
        "- 레이블 배열이 있는 target 키"
      ]
    },
    {
      "cell_type": "code",
      "metadata": {
        "colab": {
          "base_uri": "https://localhost:8080/"
        },
        "id": "JJahIVVTAo6a",
        "outputId": "047d8a1d-ad95-4826-81b8-3aa4f9bf999d"
      },
      "source": [
        "X, y = mnist[\"data\"], mnist[\"target\"]\r\n",
        "print(X.shape)\r\n",
        "print(y.shape)\r\n",
        "print(28*28)"
      ],
      "execution_count": 8,
      "outputs": [
        {
          "output_type": "stream",
          "text": [
            "(70000, 784)\n",
            "(70000,)\n",
            "784\n"
          ],
          "name": "stdout"
        }
      ]
    },
    {
      "cell_type": "code",
      "metadata": {
        "colab": {
          "base_uri": "https://localhost:8080/",
          "height": 248
        },
        "id": "8sdNnCJ2AvoU",
        "outputId": "276edfff-f700-4ddd-ca23-fa4e1c29095e"
      },
      "source": [
        "import matplotlib as mpl\r\n",
        "import matplotlib.pyplot as plt\r\n",
        "\r\n",
        "some_digit=X[0]\r\n",
        "some_digit_image = some_digit.reshape(28,28)\r\n",
        "\r\n",
        "plt.imshow(some_digit_image, cmap=\"binary\") # cmp=\"gray\" 하면 높은 값을 밝게 하면서 색이 반전됨\r\n",
        "plt.axis(\"off\")\r\n",
        "plt.show()"
      ],
      "execution_count": 12,
      "outputs": [
        {
          "output_type": "display_data",
          "data": {
            "image/png": "[encoded data removed]",
            "text/plain": [
              "<Figure size 432x288 with 1 Axes>"
            ]
          },
          "metadata": {
            "tags": [],
            "needs_background": "light"
          }
        }
      ]
    },
    {
      "cell_type": "markdown",
      "metadata": {
        "id": "wD2NMXuLChjV"
      },
      "source": [
        "실제 레이블 확인"
      ]
    },
    {
      "cell_type": "code",
      "metadata": {
        "colab": {
          "base_uri": "https://localhost:8080/",
          "height": 35
        },
        "id": "DrxT6JxDGySX",
        "outputId": "f8be0954-217d-4f30-82ed-6b9524c5f357"
      },
      "source": [
        "y[0]"
      ],
      "execution_count": 13,
      "outputs": [
        {
          "output_type": "execute_result",
          "data": {
            "application/vnd.google.colaboratory.intrinsic+json": {
              "type": "string"
            },
            "text/plain": [
              "'5'"
            ]
          },
          "metadata": {
            "tags": []
          },
          "execution_count": 13
        }
      ]
    },
    {
      "cell_type": "markdown",
      "metadata": {
        "id": "pWu3gprsGzE-"
      },
      "source": [
        "정수로 변환"
      ]
    },
    {
      "cell_type": "code",
      "metadata": {
        "colab": {
          "base_uri": "https://localhost:8080/"
        },
        "id": "lcTVM60tG1gL",
        "outputId": "d7c60841-8992-4bd2-e493-6bbf00133077"
      },
      "source": [
        "import numpy as np\r\n",
        "y = y.astype(np.uint8)\r\n",
        "y[0]"
      ],
      "execution_count": 17,
      "outputs": [
        {
          "output_type": "execute_result",
          "data": {
            "text/plain": [
              "5"
            ]
          },
          "metadata": {
            "tags": []
          },
          "execution_count": 17
        }
      ]
    },
    {
      "cell_type": "markdown",
      "metadata": {
        "id": "ljRSAn8PG5Vo"
      },
      "source": [
        "첫 6만개를 train으로, 나머지를 test로 나누기"
      ]
    },
    {
      "cell_type": "code",
      "metadata": {
        "id": "6RYTGafHHJuy"
      },
      "source": [
        "X_train, X_test, y_train, y_test = X[:60000], X[60000:], y[:60000], y[60000:]"
      ],
      "execution_count": 18,
      "outputs": []
    },
    {
      "cell_type": "markdown",
      "metadata": {
        "id": "1Az4_zp2Hb07"
      },
      "source": [
        "## 이진 분류기 훈련\r\n",
        "문제 단순화를 위해, 5만 분류하는 모델"
      ]
    },
    {
      "cell_type": "code",
      "metadata": {
        "colab": {
          "base_uri": "https://localhost:8080/"
        },
        "id": "3iINGZGgHdHq",
        "outputId": "086c1dc8-2af5-485c-ccc2-99377d1ddee6"
      },
      "source": [
        "y_train_5 = (y_train == 5) # 5이면 True, 아니면 False\r\n",
        "y_test_5 = (y_test == 5)\r\n",
        "y_test_5[:3]"
      ],
      "execution_count": 27,
      "outputs": [
        {
          "output_type": "execute_result",
          "data": {
            "text/plain": [
              "array([False, False, False])"
            ]
          },
          "metadata": {
            "tags": []
          },
          "execution_count": 27
        }
      ]
    },
    {
      "cell_type": "markdown",
      "metadata": {
        "id": "Wo7CUHXdJMP5"
      },
      "source": [
        "사이킷런의 __SGDClassifier__ 클래스를 사용해 Stochastic Gradient Descent 적용(하나의 샘플을 독립적으로 처리)"
      ]
    },
    {
      "cell_type": "code",
      "metadata": {
        "colab": {
          "base_uri": "https://localhost:8080/"
        },
        "id": "5HXLwXBiLZMA",
        "outputId": "f8a08b18-762d-4904-d792-66a024c3769d"
      },
      "source": [
        "from sklearn.linear_model import SGDClassifier\r\n",
        "\r\n",
        "sgd_clf = SGDClassifier(max_iter=1000, tol=1e-3, random_state=42) \r\n",
        "sgd_clf.fit(X_train, y_train_5)"
      ],
      "execution_count": 28,
      "outputs": [
        {
          "output_type": "execute_result",
          "data": {
            "text/plain": [
              "SGDClassifier(alpha=0.0001, average=False, class_weight=None,\n",
              "              early_stopping=False, epsilon=0.1, eta0=0.0, fit_intercept=True,\n",
              "              l1_ratio=0.15, learning_rate='optimal', loss='hinge',\n",
              "              max_iter=1000, n_iter_no_change=5, n_jobs=None, penalty='l2',\n",
              "              power_t=0.5, random_state=42, shuffle=True, tol=0.001,\n",
              "              validation_fraction=0.1, verbose=0, warm_start=False)"
            ]
          },
          "metadata": {
            "tags": []
          },
          "execution_count": 28
        }
      ]
    },
    {
      "cell_type": "markdown",
      "metadata": {
        "id": "TAEnuDZOLsjV"
      },
      "source": [
        "- SGDClassifier(혹은 SGDRegressor)는 훈련하는데 무작위성을 가져서 Stocahstic이라 불림 (시계열 데이터엔 비적합)"
      ]
    },
    {
      "cell_type": "code",
      "metadata": {
        "id": "vqcB7TVIM3jP",
        "colab": {
          "base_uri": "https://localhost:8080/"
        },
        "outputId": "d657d97b-91de-4260-b9d6-fdfddb488597"
      },
      "source": [
        "sgd_clf.predict([some_digit])"
      ],
      "execution_count": 35,
      "outputs": [
        {
          "output_type": "execute_result",
          "data": {
            "text/plain": [
              "array([ True])"
            ]
          },
          "metadata": {
            "tags": []
          },
          "execution_count": 35
        }
      ]
    },
    {
      "cell_type": "markdown",
      "metadata": {
        "id": "df50KFBCNSrk"
      },
      "source": [
        "## 성능 측정"
      ]
    },
    {
      "cell_type": "markdown",
      "metadata": {
        "id": "eYVm0Oz-RJuw"
      },
      "source": [
        "### 교차검증을 사용한 방법\r\n"
      ]
    },
    {
      "cell_type": "markdown",
      "metadata": {
        "id": "UkrKYXqKRLcF"
      },
      "source": [
        "#### a. 단순 교차검정"
      ]
    },
    {
      "cell_type": "code",
      "metadata": {
        "colab": {
          "base_uri": "https://localhost:8080/"
        },
        "id": "dsluT5YxRTtT",
        "outputId": "6b42be7f-3051-4a76-81e8-820a6b504980"
      },
      "source": [
        "from sklearn.model_selection import cross_val_score\r\n",
        "cross_val_score(sgd_clf, X_train, y_train_5, cv=3, scoring=\"accuracy\")"
      ],
      "execution_count": 42,
      "outputs": [
        {
          "output_type": "execute_result",
          "data": {
            "text/plain": [
              "array([0.95035, 0.96035, 0.9604 ])"
            ]
          },
          "metadata": {
            "tags": []
          },
          "execution_count": 42
        }
      ]
    },
    {
      "cell_type": "markdown",
      "metadata": {
        "id": "GKFdPdi5Rli6"
      },
      "source": [
        "#### b. 계층적 샘플링 교차검정"
      ]
    },
    {
      "cell_type": "code",
      "metadata": {
        "colab": {
          "base_uri": "https://localhost:8080/"
        },
        "id": "vUhwjygETAW5",
        "outputId": "20675c53-d9bc-426d-ffad-8cab5ae930cb"
      },
      "source": [
        "from sklearn.model_selection import StratifiedKFold\r\n",
        "from sklearn.base import clone\r\n",
        "\r\n",
        "skfolds = StratifiedKFold(n_splits=3, random_state=42, shuffle=True)\r\n",
        "cross_val_score(sgd_clf, X_train, y_train_5, cv=skfolds)"
      ],
      "execution_count": 44,
      "outputs": [
        {
          "output_type": "execute_result",
          "data": {
            "text/plain": [
              "array([0.9669 , 0.91625, 0.96785])"
            ]
          },
          "metadata": {
            "tags": []
          },
          "execution_count": 44
        }
      ]
    },
    {
      "cell_type": "markdown",
      "metadata": {
        "id": "h5ggc6iKTD4E"
      },
      "source": [
        "위의 과정을 수동으로 구현하면 다음과 같다"
      ]
    },
    {
      "cell_type": "code",
      "metadata": {
        "colab": {
          "base_uri": "https://localhost:8080/"
        },
        "id": "VvKqirUyXaio",
        "outputId": "116c4541-c667-4f3c-90e4-9b5fa0445798"
      },
      "source": [
        "from sklearn.base import clone\r\n",
        "\r\n",
        "for train_index, test_index in skfolds.split(X_train, y_train_5):\r\n",
        "    clone_clf = clone(sgd_clf)\r\n",
        "    X_train_folds = X_train[train_index]\r\n",
        "    y_train_folds = y_train_5[train_index]\r\n",
        "    X_test_fold = X_train[test_index]\r\n",
        "    y_test_fold = y_train_5[test_index]\r\n",
        "\r\n",
        "    clone_clf.fit(X_train_folds, y_train_folds)\r\n",
        "    y_pred = clone_clf.predict(X_test_fold)\r\n",
        "    n_correct = sum(y_pred == y_test_fold)\r\n",
        "    print(n_correct / len(y_pred))"
      ],
      "execution_count": 45,
      "outputs": [
        {
          "output_type": "stream",
          "text": [
            "0.9669\n",
            "0.91625\n",
            "0.96785\n"
          ],
          "name": "stdout"
        }
      ]
    },
    {
      "cell_type": "markdown",
      "metadata": {
        "id": "hqWdjxLrXe2R"
      },
      "source": [
        "- 여기서 clone은 데이터까지 복사하는 것이 아니라, 모델만 복사하는 함수다."
      ]
    },
    {
      "cell_type": "markdown",
      "metadata": {
        "id": "IdBT9txgXmXI"
      },
      "source": [
        "#### c. Accuracy 한계\r\n",
        "지금까지의 예시에서 무조건 5가 아니라고 예측한 모델을 만들면 꽤 높은 정확도가 나온다.<br>\r\n",
        "따라서, 정확도만 살펴볼것이 아니라 다양한 metric으로 모델을 바라볼 필요가 있다. (특히 Imbalanced data)"
      ]
    },
    {
      "cell_type": "code",
      "metadata": {
        "id": "K6atf2JtZBMb"
      },
      "source": [
        "from sklearn.base import BaseEstimator\r\n",
        "class Never5Classifier(BaseEstimator): \r\n",
        "    def fit(self, X, y=None):\r\n",
        "        pass\r\n",
        "    def predict(self, X):\r\n",
        "        return np.zeros((len(X), 1), dtype=bool)"
      ],
      "execution_count": 48,
      "outputs": []
    },
    {
      "cell_type": "markdown",
      "metadata": {
        "id": "R6RgTKI8bmLJ"
      },
      "source": [
        "- BaseEstimator는 하이퍼파라미터 튜닝과정이나, 교차검증을 할때 필요한 메소드를 제공해주기 때문에 필수적이로 들어간다고 함"
      ]
    },
    {
      "cell_type": "code",
      "metadata": {
        "colab": {
          "base_uri": "https://localhost:8080/"
        },
        "id": "EGOYkkF4bXUy",
        "outputId": "d2972852-1faa-4756-8444-775c632d43f9"
      },
      "source": [
        "never_5_clf = Never5Classifier()\r\n",
        "cross_val_score(never_5_clf, X_train, y_train_5, cv=3 , scoring=\"accuracy\") #cv=skfolds 넣어도됨"
      ],
      "execution_count": 51,
      "outputs": [
        {
          "output_type": "execute_result",
          "data": {
            "text/plain": [
              "array([0.91125, 0.90855, 0.90915])"
            ]
          },
          "metadata": {
            "tags": []
          },
          "execution_count": 51
        }
      ]
    },
    {
      "cell_type": "markdown",
      "metadata": {
        "id": "tbK4EjcnbY2a"
      },
      "source": [
        "- 전부 5가 아니라고 예측하는, 안좋은 모델을 만들어도 90퍼이상의 성능을 보임\r\n"
      ]
    },
    {
      "cell_type": "markdown",
      "metadata": {
        "id": "6WWZVusacP7G"
      },
      "source": [
        "### 오차 행렬\r\n",
        "__cross_val_predict()__를 이용해 예측값(5인지 아닌지)를 알 수 있다."
      ]
    },
    {
      "cell_type": "code",
      "metadata": {
        "colab": {
          "base_uri": "https://localhost:8080/"
        },
        "id": "IMX132qWfX07",
        "outputId": "2b79dde3-107c-4727-b57e-d4d1d9471449"
      },
      "source": [
        "from sklearn.model_selection import cross_val_predict\r\n",
        "\r\n",
        "y_train_pred = cross_val_predict(sgd_clf, X_train, y_train_5, cv=3)\r\n",
        "y_train_pred[:3]"
      ],
      "execution_count": 100,
      "outputs": [
        {
          "output_type": "execute_result",
          "data": {
            "text/plain": [
              "array([ True, False, False])"
            ]
          },
          "metadata": {
            "tags": []
          },
          "execution_count": 100
        }
      ]
    },
    {
      "cell_type": "markdown",
      "metadata": {
        "id": "eNU5Y_xq5Azu"
      },
      "source": [
        "- 질문 : cross_val_predict()과정에서 threshold는 튜닝과정을 거쳤는가?"
      ]
    },
    {
      "cell_type": "markdown",
      "metadata": {
        "id": "3jGwuq_EfmTG"
      },
      "source": [
        "__confusion_matrix()__ 함수를 사용해 오차행렬을 만든다."
      ]
    },
    {
      "cell_type": "code",
      "metadata": {
        "colab": {
          "base_uri": "https://localhost:8080/"
        },
        "id": "lCL5hxXRhTcW",
        "outputId": "e79846fa-3561-456a-835f-f3fdbe29df9f"
      },
      "source": [
        "from sklearn.metrics import confusion_matrix\r\n",
        "confusion_matrix(y_train_5, y_train_pred) # label이 항상 먼저 와야한다"
      ],
      "execution_count": 62,
      "outputs": [
        {
          "output_type": "execute_result",
          "data": {
            "text/plain": [
              "array([[53892,   687],\n",
              "       [ 1891,  3530]])"
            ]
          },
          "metadata": {
            "tags": []
          },
          "execution_count": 62
        }
      ]
    },
    {
      "cell_type": "markdown",
      "metadata": {
        "id": "NRq9kr3gkc8g"
      },
      "source": [
        "\r\n",
        "||Pred - |Pred + |\r\n",
        "|---|---|---|\r\n",
        "|Real - |TN|FP|\r\n",
        "|Real + |FN|TP|"
      ]
    },
    {
      "cell_type": "markdown",
      "metadata": {
        "id": "skVGpvhNheQV"
      },
      "source": [
        "### 정밀도(Precision)와 재현율(Recall)\r\n",
        "Precision = TP/(TP+FP) <br>\r\n",
        "Recall = TP/(TP+FN)"
      ]
    },
    {
      "cell_type": "code",
      "metadata": {
        "colab": {
          "base_uri": "https://localhost:8080/"
        },
        "id": "gqZB83X9iPgh",
        "outputId": "4f00aa2b-20bc-4fce-b923-ebe1e5e0dc3e"
      },
      "source": [
        "from sklearn.metrics import precision_score, recall_score\r\n",
        "\r\n",
        "precision_score(y_train_5, y_train_pred)"
      ],
      "execution_count": 56,
      "outputs": [
        {
          "output_type": "execute_result",
          "data": {
            "text/plain": [
              "0.8370879772350012"
            ]
          },
          "metadata": {
            "tags": []
          },
          "execution_count": 56
        }
      ]
    },
    {
      "cell_type": "code",
      "metadata": {
        "colab": {
          "base_uri": "https://localhost:8080/"
        },
        "id": "NicgePeujpkW",
        "outputId": "b18b2cbd-f00c-4187-f249-88aa89e24be3"
      },
      "source": [
        "recall_score(y_train_5, y_train_pred)"
      ],
      "execution_count": 61,
      "outputs": [
        {
          "output_type": "execute_result",
          "data": {
            "text/plain": [
              "0.6511713705958311"
            ]
          },
          "metadata": {
            "tags": []
          },
          "execution_count": 61
        }
      ]
    },
    {
      "cell_type": "markdown",
      "metadata": {
        "id": "dubi6Y6jjvNS"
      },
      "source": [
        "추가적으로 Precision과 Recall의 조화 평균인 __F1 Score__도 있음"
      ]
    },
    {
      "cell_type": "code",
      "metadata": {
        "colab": {
          "base_uri": "https://localhost:8080/"
        },
        "id": "ST9PISqEj5Kq",
        "outputId": "c5328078-a654-403d-88e8-42387df64e94"
      },
      "source": [
        "from sklearn.metrics import f1_score\r\n",
        "f1_score(y_train_5, y_train_pred)"
      ],
      "execution_count": 59,
      "outputs": [
        {
          "output_type": "execute_result",
          "data": {
            "text/plain": [
              "0.7325171197343846"
            ]
          },
          "metadata": {
            "tags": []
          },
          "execution_count": 59
        }
      ]
    },
    {
      "cell_type": "markdown",
      "metadata": {
        "id": "2ryjErXEj_7p"
      },
      "source": [
        "#### Tradeoff of precision & recall"
      ]
    },
    {
      "cell_type": "markdown",
      "metadata": {
        "id": "UhfE6EIcmD2F"
      },
      "source": [
        "임계값(threshold)와 비교할 샘플의 점수를 구하려면 __decision_function()__ 메서드를 호출하면 된다."
      ]
    },
    {
      "cell_type": "code",
      "metadata": {
        "colab": {
          "base_uri": "https://localhost:8080/"
        },
        "id": "kTAJfKo5s9zx",
        "outputId": "83f1bf47-1ee2-4675-ddc6-0cccba3d9eb7"
      },
      "source": [
        "y_scores = sgd_clf.decision_function([some_digit])\r\n",
        "#혹은\r\n",
        "y_scores = sgd_clf.decision_function([X[0]])\r\n",
        "y_scores"
      ],
      "execution_count": 64,
      "outputs": [
        {
          "output_type": "execute_result",
          "data": {
            "text/plain": [
              "array([2164.22030239])"
            ]
          },
          "metadata": {
            "tags": []
          },
          "execution_count": 64
        }
      ]
    },
    {
      "cell_type": "code",
      "metadata": {
        "colab": {
          "base_uri": "https://localhost:8080/"
        },
        "id": "4vinTiOXtFih",
        "outputId": "dba50c5f-d690-404e-8bee-299a6bb22d34"
      },
      "source": [
        "threshold = 0\r\n",
        "y_some_digit_pred = (y_scores > threshold)\r\n",
        "y_some_digit_pred"
      ],
      "execution_count": 68,
      "outputs": [
        {
          "output_type": "execute_result",
          "data": {
            "text/plain": [
              "array([ True])"
            ]
          },
          "metadata": {
            "tags": []
          },
          "execution_count": 68
        }
      ]
    },
    {
      "cell_type": "markdown",
      "metadata": {
        "id": "KBmGQy-QtTwR"
      },
      "source": [
        "- 임계값이 작을수록, True 예측 수는 증가한다(False 예측 수는 감소)"
      ]
    },
    {
      "cell_type": "code",
      "metadata": {
        "colab": {
          "base_uri": "https://localhost:8080/"
        },
        "id": "l9VQNVpftnM1",
        "outputId": "7341be94-5c57-48c6-c68d-90470ce86a6e"
      },
      "source": [
        "threshold = 8000\r\n",
        "y_some_digit_pred = (y_scores > threshold)\r\n",
        "y_some_digit_pred"
      ],
      "execution_count": 69,
      "outputs": [
        {
          "output_type": "execute_result",
          "data": {
            "text/plain": [
              "array([False])"
            ]
          },
          "metadata": {
            "tags": []
          },
          "execution_count": 69
        }
      ]
    },
    {
      "cell_type": "markdown",
      "metadata": {
        "id": "3s7NtFggtsZ7"
      },
      "source": [
        "- 임계값이 클수록, True 예측 수가 감소한다.(False 예측 수는 증가)"
      ]
    },
    {
      "cell_type": "markdown",
      "metadata": {
        "id": "-fhl9Aidt2jJ"
      },
      "source": [
        "전체 train data에 대해 k-fold를 적용하여 score를 구하고, threshold에 따른 그래프를 그려본다"
      ]
    },
    {
      "cell_type": "code",
      "metadata": {
        "id": "tA5NOuslvMPG"
      },
      "source": [
        "y_scores = cross_val_predict(sgd_clf, X_train, y_train_5, cv=3,\r\n",
        "                             method=\"decision_function\")"
      ],
      "execution_count": 70,
      "outputs": []
    },
    {
      "cell_type": "code",
      "metadata": {
        "id": "cAr2QPDGxDjt"
      },
      "source": [
        "from sklearn.metrics import precision_recall_curve\r\n",
        "\r\n",
        "precisions, recalls, thresholds = precision_recall_curve(y_train_5, y_scores)"
      ],
      "execution_count": 71,
      "outputs": []
    },
    {
      "cell_type": "markdown",
      "metadata": {
        "id": "Qt7MSbC9xqn6"
      },
      "source": [
        "- threshold의 수는 y_scores 수와 같거나 적다(y_scores에 중복값이 있을 경우 적아짐)\r\n",
        "- precision 과 recall 수는 threshold의 수보다 1개 많다"
      ]
    },
    {
      "cell_type": "markdown",
      "metadata": {
        "id": "fsNJYWFIy4yA"
      },
      "source": [
        "정밀도와 재현율을 그려보자(코드는 이런게 있다 정도만)"
      ]
    },
    {
      "cell_type": "code",
      "metadata": {
        "colab": {
          "base_uri": "https://localhost:8080/",
          "height": 288
        },
        "id": "OMZPtlsNxOt_",
        "outputId": "4176dc38-1dd4-485d-9ddb-5ba77be8c327"
      },
      "source": [
        "def plot_precision_recall_vs_threshold(precisions, recalls, thresholds):\r\n",
        "    plt.plot(thresholds, precisions[:-1], \"b--\", label=\"Precision\", linewidth=2)\r\n",
        "    plt.plot(thresholds, recalls[:-1], \"g-\", label=\"Recall\", linewidth=2)\r\n",
        "    plt.legend(loc=\"center right\", fontsize=16) # Not shown in the book\r\n",
        "    plt.xlabel(\"Threshold\", fontsize=16)        # Not shown\r\n",
        "    plt.grid(True)                              # Not shown\r\n",
        "    plt.axis([-50000, 50000, 0, 1])             # Not shown\r\n",
        "    \r\n",
        "    \r\n",
        "recall_90_precision = recalls[np.argmax(precisions >= 0.90)]\r\n",
        "threshold_90_precision = thresholds[np.argmax(precisions >= 0.90)]\r\n",
        "\r\n",
        "\r\n",
        "plt.figure(figsize=(8, 4))                                                                  # Not shown\r\n",
        "plot_precision_recall_vs_threshold(precisions, recalls, thresholds)\r\n",
        "plt.plot([threshold_90_precision, threshold_90_precision], [0., 0.9], \"r:\")                 # Not shown\r\n",
        "plt.plot([-50000, threshold_90_precision], [0.9, 0.9], \"r:\")                                # Not shown\r\n",
        "plt.plot([-50000, threshold_90_precision], [recall_90_precision, recall_90_precision], \"r:\")# Not shown\r\n",
        "plt.plot([threshold_90_precision], [0.9], \"ro\")                                             # Not shown\r\n",
        "plt.plot([threshold_90_precision], [recall_90_precision], \"ro\")                             # Not shown\r\n",
        "plt.show()"
      ],
      "execution_count": 74,
      "outputs": [
        {
          "output_type": "display_data",
          "data": {
            "image/png": "[encoded data removed]",
            "text/plain": [
              "<Figure size 576x288 with 1 Axes>"
            ]
          },
          "metadata": {
            "tags": [],
            "needs_background": "light"
          }
        }
      ]
    },
    {
      "cell_type": "markdown",
      "metadata": {
        "id": "BwEfXaKAy_7f"
      },
      "source": [
        "- 정밀도(Precision)은 울퉁불퉁한 곡선을 가지는 반면 재현율(Recall)은 완만하다\r\n",
        "- 재현율의 분모는 Truly Positive로, threshold 값에 영향을 받지 않는다.\r\n",
        "- 정밀도의 분모는 Pred Positive로, threshold 값에 영향을 받는다\r\n",
        "- 따라서, 재현율은 반드시 우하향하지만, 정밀도는 반드시 우상향할 필요는 없다.(threshold가 최대일때 정밀도도 최대값 1을 갖긴함)"
      ]
    },
    {
      "cell_type": "markdown",
      "metadata": {
        "id": "dcuLNTYGyaHe"
      },
      "source": [
        "np.argmax()는 최댓값의 색인을 반환해준다. 수치가 아니라 bool형이면 처음 나오는 True의 색인을 반환 <br>\r\n",
        "np.argmin()는 최솟값의 색인을 반환해준다. 수치가 아니라 bool형이면 처음 나오는 False의 색인을 반환"
      ]
    },
    {
      "cell_type": "code",
      "metadata": {
        "colab": {
          "base_uri": "https://localhost:8080/"
        },
        "id": "tpME1F3W0xD8",
        "outputId": "9e1696b1-23c0-4b26-b3d0-45b739294c96"
      },
      "source": [
        "a = np.array([3,2,1,5,8,78,3])\r\n",
        "b = np.array([True,True,False,False,True,False,True,True])\r\n",
        "(np.argmax(a), np.argmin(a)), (np.argmax(b), np.argmin(b))"
      ],
      "execution_count": 98,
      "outputs": [
        {
          "output_type": "execute_result",
          "data": {
            "text/plain": [
              "((5, 2), (0, 2))"
            ]
          },
          "metadata": {
            "tags": []
          },
          "execution_count": 98
        }
      ]
    },
    {
      "cell_type": "markdown",
      "metadata": {
        "id": "WbqcG8Fd1KRy"
      },
      "source": [
        "정밀도가 최소 90%는 달성하는 것이 목표라 가정하고 그때의 임계값을 구해보자 <br>"
      ]
    },
    {
      "cell_type": "code",
      "metadata": {
        "colab": {
          "base_uri": "https://localhost:8080/"
        },
        "id": "RX10lHat03TA",
        "outputId": "d4e302f2-1e34-404e-ca3f-5661a0e5d17d"
      },
      "source": [
        "threshold_90_precision = thresholds[np.argmax(precisions >= 0.90)]\r\n",
        "threshold_90_precision"
      ],
      "execution_count": 99,
      "outputs": [
        {
          "output_type": "execute_result",
          "data": {
            "text/plain": [
              "3370.0194991439557"
            ]
          },
          "metadata": {
            "tags": []
          },
          "execution_count": 99
        }
      ]
    },
    {
      "cell_type": "markdown",
      "metadata": {
        "id": "2U8paGze2fAA"
      },
      "source": [
        "구해진 임계값을 기준으로 예측값을 구해보자"
      ]
    },
    {
      "cell_type": "code",
      "metadata": {
        "colab": {
          "base_uri": "https://localhost:8080/"
        },
        "id": "6lC-CPyV210S",
        "outputId": "fc328dff-ea62-4c94-e5fa-e221dc515cef"
      },
      "source": [
        "y_train_pred_90 = (y_scores >= threshold_90_precision)\r\n",
        "y_train_pred_90[:5]"
      ],
      "execution_count": 103,
      "outputs": [
        {
          "output_type": "execute_result",
          "data": {
            "text/plain": [
              "array([False, False, False, False, False])"
            ]
          },
          "metadata": {
            "tags": []
          },
          "execution_count": 103
        }
      ]
    },
    {
      "cell_type": "markdown",
      "metadata": {
        "id": "yXDbBxfT5xwI"
      },
      "source": [
        "마지막으로 정밀도와 재현율을 구한다"
      ]
    },
    {
      "cell_type": "code",
      "metadata": {
        "colab": {
          "base_uri": "https://localhost:8080/"
        },
        "id": "kTv5yl4Z54d5",
        "outputId": "6ef4051e-e661-4c45-882d-6d6a5529d0ae"
      },
      "source": [
        "precision_90 = precision_score(y_train_5, y_train_pred_90)\r\n",
        "recall_90 = recall_score(y_train_5, y_train_pred_90)\r\n",
        "precision_90, recall_90"
      ],
      "execution_count": 106,
      "outputs": [
        {
          "output_type": "execute_result",
          "data": {
            "text/plain": [
              "(0.9000345901072293, 0.4799852425751706)"
            ]
          },
          "metadata": {
            "tags": []
          },
          "execution_count": 106
        }
      ]
    },
    {
      "cell_type": "markdown",
      "metadata": {
        "id": "1MruCSHv5_C6"
      },
      "source": [
        "- precision 최소 90%가 되는 선에서 recall은 0.4799이다."
      ]
    },
    {
      "cell_type": "code",
      "metadata": {
        "id": "MjHyOfr76Ukl"
      },
      "source": [
        ""
      ],
      "execution_count": null,
      "outputs": []
    }
  ]
}