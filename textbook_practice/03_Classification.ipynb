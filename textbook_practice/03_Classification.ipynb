{
  "nbformat": 4,
  "nbformat_minor": 0,
  "metadata": {
    "colab": {
      "name": "03_Classification.ipynb",
      "provenance": [],
      "collapsed_sections": [],
      "authorship_tag": "ABX9TyNvASkma8Z2jcSC09OfaX3t",
      "include_colab_link": true
    },
    "kernelspec": {
      "name": "python3",
      "display_name": "Python 3"
    }
  },
  "cells": [
    {
      "cell_type": "markdown",
      "metadata": {
        "id": "view-in-github",
        "colab_type": "text"
      },
      "source": [
        "<a href=\"https://colab.research.google.com/github/geunsu-jo/Hands-On-ML/blob/main/textbook_practice/03_Classification.ipynb\" target=\"_parent\"><img src=\"https://colab.research.google.com/assets/colab-badge.svg\" alt=\"Open In Colab\"/></a>"
      ]
    },
    {
      "cell_type": "code",
      "metadata": {
        "colab": {
          "base_uri": "https://localhost:8080/"
        },
        "id": "-jfKjcjy-xel",
        "outputId": "6ec77622-a396-4bb4-c72e-bba3f48a37b2"
      },
      "source": [
        "from sklearn.datasets import fetch_openml\r\n",
        "mnist = fetch_openml('mnist_784', version=1)\r\n",
        "mnist.keys()"
      ],
      "execution_count": 1,
      "outputs": [
        {
          "output_type": "execute_result",
          "data": {
            "text/plain": [
              "dict_keys(['data', 'target', 'frame', 'feature_names', 'target_names', 'DESCR', 'details', 'categories', 'url'])"
            ]
          },
          "metadata": {
            "tags": []
          },
          "execution_count": 1
        }
      ]
    },
    {
      "cell_type": "markdown",
      "metadata": {
        "id": "Rcp-V2X6AEzf"
      },
      "source": [
        "사이킷런에서 읽은 데이터셋은 dictionary 구조를 가지고 있다.\r\n",
        "- 데이터셋을 설명하는 DESCR 키\r\n",
        "- 샘플을 행, 특성(feature)를 열로 구성된 배열 data 키\r\n",
        "- 레이블 배열이 있는 target 키"
      ]
    },
    {
      "cell_type": "code",
      "metadata": {
        "colab": {
          "base_uri": "https://localhost:8080/"
        },
        "id": "JJahIVVTAo6a",
        "outputId": "047d8a1d-ad95-4826-81b8-3aa4f9bf999d"
      },
      "source": [
        "X, y = mnist[\"data\"], mnist[\"target\"]\r\n",
        "print(X.shape)\r\n",
        "print(y.shape)\r\n",
        "print(28*28)"
      ],
      "execution_count": 8,
      "outputs": [
        {
          "output_type": "stream",
          "text": [
            "(70000, 784)\n",
            "(70000,)\n",
            "784\n"
          ],
          "name": "stdout"
        }
      ]
    },
    {
      "cell_type": "code",
      "metadata": {
        "colab": {
          "base_uri": "https://localhost:8080/",
          "height": 248
        },
        "id": "8sdNnCJ2AvoU",
        "outputId": "276edfff-f700-4ddd-ca23-fa4e1c29095e"
      },
      "source": [
        "import matplotlib as mpl\r\n",
        "import matplotlib.pyplot as plt\r\n",
        "\r\n",
        "some_digit=X[0]\r\n",
        "some_digit_image = some_digit.reshape(28,28)\r\n",
        "\r\n",
        "plt.imshow(some_digit_image, cmap=\"binary\") # cmp=\"gray\" 하면 높은 값을 밝게 하면서 색이 반전됨\r\n",
        "plt.axis(\"off\")\r\n",
        "plt.show()"
      ],
      "execution_count": 12,
      "outputs": [
        {
          "output_type": "display_data",
          "data": {
            "image/png": "[encoded data removed]",
            "text/plain": [
              "<Figure size 432x288 with 1 Axes>"
            ]
          },
          "metadata": {
            "tags": [],
            "needs_background": "light"
          }
        }
      ]
    },
    {
      "cell_type": "markdown",
      "metadata": {
        "id": "wD2NMXuLChjV"
      },
      "source": [
        "실제 레이블 확인"
      ]
    },
    {
      "cell_type": "code",
      "metadata": {
        "colab": {
          "base_uri": "https://localhost:8080/",
          "height": 35
        },
        "id": "DrxT6JxDGySX",
        "outputId": "f8be0954-217d-4f30-82ed-6b9524c5f357"
      },
      "source": [
        "y[0]"
      ],
      "execution_count": 13,
      "outputs": [
        {
          "output_type": "execute_result",
          "data": {
            "application/vnd.google.colaboratory.intrinsic+json": {
              "type": "string"
            },
            "text/plain": [
              "'5'"
            ]
          },
          "metadata": {
            "tags": []
          },
          "execution_count": 13
        }
      ]
    },
    {
      "cell_type": "markdown",
      "metadata": {
        "id": "pWu3gprsGzE-"
      },
      "source": [
        "정수로 변환"
      ]
    },
    {
      "cell_type": "code",
      "metadata": {
        "colab": {
          "base_uri": "https://localhost:8080/"
        },
        "id": "lcTVM60tG1gL",
        "outputId": "d7c60841-8992-4bd2-e493-6bbf00133077"
      },
      "source": [
        "import numpy as np\r\n",
        "y = y.astype(np.uint8)\r\n",
        "y[0]"
      ],
      "execution_count": 17,
      "outputs": [
        {
          "output_type": "execute_result",
          "data": {
            "text/plain": [
              "5"
            ]
          },
          "metadata": {
            "tags": []
          },
          "execution_count": 17
        }
      ]
    },
    {
      "cell_type": "markdown",
      "metadata": {
        "id": "ljRSAn8PG5Vo"
      },
      "source": [
        "첫 6만개를 train으로, 나머지를 test로 나누기"
      ]
    },
    {
      "cell_type": "code",
      "metadata": {
        "id": "6RYTGafHHJuy"
      },
      "source": [
        "X_train, X_test, y_train, y_test = X[:60000], X[60000:], y[:60000], y[60000:]"
      ],
      "execution_count": 18,
      "outputs": []
    },
    {
      "cell_type": "markdown",
      "metadata": {
        "id": "1Az4_zp2Hb07"
      },
      "source": [
        "## 이진 분류기 훈련\r\n",
        "문제 단순화를 위해, 5만 분류하는 모델"
      ]
    },
    {
      "cell_type": "code",
      "metadata": {
        "colab": {
          "base_uri": "https://localhost:8080/"
        },
        "id": "3iINGZGgHdHq",
        "outputId": "086c1dc8-2af5-485c-ccc2-99377d1ddee6"
      },
      "source": [
        "y_train_5 = (y_train == 5) # 5이면 True, 아니면 False\r\n",
        "y_test_5 = (y_test == 5)\r\n",
        "y_test_5[:3]"
      ],
      "execution_count": 27,
      "outputs": [
        {
          "output_type": "execute_result",
          "data": {
            "text/plain": [
              "array([False, False, False])"
            ]
          },
          "metadata": {
            "tags": []
          },
          "execution_count": 27
        }
      ]
    },
    {
      "cell_type": "markdown",
      "metadata": {
        "id": "Wo7CUHXdJMP5"
      },
      "source": [
        "사이킷런의 __SGDClassfier__ 클래스를 사용해 Stochastic Gradient Descent 적용(하나의 샘플을 독립적으로 처리)"
      ]
    },
    {
      "cell_type": "code",
      "metadata": {
        "colab": {
          "base_uri": "https://localhost:8080/"
        },
        "id": "5HXLwXBiLZMA",
        "outputId": "f8a08b18-762d-4904-d792-66a024c3769d"
      },
      "source": [
        "from sklearn.linear_model import SGDClassifier\r\n",
        "\r\n",
        "sgd_clf = SGDClassifier(random_state=42)\r\n",
        "sgd_clf.fit(X_train, y_train_5)"
      ],
      "execution_count": 28,
      "outputs": [
        {
          "output_type": "execute_result",
          "data": {
            "text/plain": [
              "SGDClassifier(alpha=0.0001, average=False, class_weight=None,\n",
              "              early_stopping=False, epsilon=0.1, eta0=0.0, fit_intercept=True,\n",
              "              l1_ratio=0.15, learning_rate='optimal', loss='hinge',\n",
              "              max_iter=1000, n_iter_no_change=5, n_jobs=None, penalty='l2',\n",
              "              power_t=0.5, random_state=42, shuffle=True, tol=0.001,\n",
              "              validation_fraction=0.1, verbose=0, warm_start=False)"
            ]
          },
          "metadata": {
            "tags": []
          },
          "execution_count": 28
        }
      ]
    },
    {
      "cell_type": "code",
      "metadata": {
        "id": "TAEnuDZOLsjV"
      },
      "source": [
        ""
      ],
      "execution_count": null,
      "outputs": []
    }
  ]
}