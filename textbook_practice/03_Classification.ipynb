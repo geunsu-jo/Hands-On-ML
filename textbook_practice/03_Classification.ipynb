{
  "nbformat": 4,
  "nbformat_minor": 0,
  "metadata": {
    "colab": {
      "name": "03_Classification.ipynb",
      "provenance": [],
      "collapsed_sections": [],
      "toc_visible": true,
      "authorship_tag": "ABX9TyMzA41Xay3wQTILCtOvrkxJ",
      "include_colab_link": true
    },
    "kernelspec": {
      "name": "python3",
      "display_name": "Python 3"
    }
  },
  "cells": [
    {
      "cell_type": "markdown",
      "metadata": {
        "id": "view-in-github",
        "colab_type": "text"
      },
      "source": [
        "<a href=\"https://colab.research.google.com/github/geunsu-jo/Hands-On-ML/blob/main/textbook_practice/03_Classification.ipynb\" target=\"_parent\"><img src=\"https://colab.research.google.com/assets/colab-badge.svg\" alt=\"Open In Colab\"/></a>"
      ]
    },
    {
      "cell_type": "code",
      "metadata": {
        "colab": {
          "base_uri": "https://localhost:8080/"
        },
        "id": "-jfKjcjy-xel",
        "outputId": "6ec77622-a396-4bb4-c72e-bba3f48a37b2"
      },
      "source": [
        "from sklearn.datasets import fetch_openml\r\n",
        "mnist = fetch_openml('mnist_784', version=1)\r\n",
        "mnist.keys()"
      ],
      "execution_count": 1,
      "outputs": [
        {
          "output_type": "execute_result",
          "data": {
            "text/plain": [
              "dict_keys(['data', 'target', 'frame', 'feature_names', 'target_names', 'DESCR', 'details', 'categories', 'url'])"
            ]
          },
          "metadata": {
            "tags": []
          },
          "execution_count": 1
        }
      ]
    },
    {
      "cell_type": "markdown",
      "metadata": {
        "id": "Rcp-V2X6AEzf"
      },
      "source": [
        "사이킷런에서 읽은 데이터셋은 dictionary 구조를 가지고 있다.\r\n",
        "- 데이터셋을 설명하는 DESCR 키\r\n",
        "- 샘플을 행, 특성(feature)를 열로 구성된 배열 data 키\r\n",
        "- 레이블 배열이 있는 target 키"
      ]
    },
    {
      "cell_type": "code",
      "metadata": {
        "colab": {
          "base_uri": "https://localhost:8080/"
        },
        "id": "JJahIVVTAo6a",
        "outputId": "047d8a1d-ad95-4826-81b8-3aa4f9bf999d"
      },
      "source": [
        "X, y = mnist[\"data\"], mnist[\"target\"]\r\n",
        "print(X.shape)\r\n",
        "print(y.shape)\r\n",
        "print(28*28)"
      ],
      "execution_count": 8,
      "outputs": [
        {
          "output_type": "stream",
          "text": [
            "(70000, 784)\n",
            "(70000,)\n",
            "784\n"
          ],
          "name": "stdout"
        }
      ]
    },
    {
      "cell_type": "code",
      "metadata": {
        "colab": {
          "base_uri": "https://localhost:8080/",
          "height": 248
        },
        "id": "8sdNnCJ2AvoU",
        "outputId": "276edfff-f700-4ddd-ca23-fa4e1c29095e"
      },
      "source": [
        "import matplotlib as mpl\r\n",
        "import matplotlib.pyplot as plt\r\n",
        "\r\n",
        "some_digit=X[0]\r\n",
        "some_digit_image = some_digit.reshape(28,28)\r\n",
        "\r\n",
        "plt.imshow(some_digit_image, cmap=\"binary\") # cmp=\"gray\" 하면 높은 값을 밝게 하면서 색이 반전됨\r\n",
        "plt.axis(\"off\")\r\n",
        "plt.show()"
      ],
      "execution_count": 12,
      "outputs": [
        {
          "output_type": "display_data",
          "data": {
            "image/png": "[encoded data removed]",
            "text/plain": [
              "<Figure size 432x288 with 1 Axes>"
            ]
          },
          "metadata": {
            "tags": [],
            "needs_background": "light"
          }
        }
      ]
    },
    {
      "cell_type": "markdown",
      "metadata": {
        "id": "wD2NMXuLChjV"
      },
      "source": [
        "실제 레이블 확인"
      ]
    },
    {
      "cell_type": "code",
      "metadata": {
        "colab": {
          "base_uri": "https://localhost:8080/",
          "height": 35
        },
        "id": "DrxT6JxDGySX",
        "outputId": "f8be0954-217d-4f30-82ed-6b9524c5f357"
      },
      "source": [
        "y[0]"
      ],
      "execution_count": 13,
      "outputs": [
        {
          "output_type": "execute_result",
          "data": {
            "application/vnd.google.colaboratory.intrinsic+json": {
              "type": "string"
            },
            "text/plain": [
              "'5'"
            ]
          },
          "metadata": {
            "tags": []
          },
          "execution_count": 13
        }
      ]
    },
    {
      "cell_type": "markdown",
      "metadata": {
        "id": "pWu3gprsGzE-"
      },
      "source": [
        "정수로 변환"
      ]
    },
    {
      "cell_type": "code",
      "metadata": {
        "colab": {
          "base_uri": "https://localhost:8080/"
        },
        "id": "lcTVM60tG1gL",
        "outputId": "d7c60841-8992-4bd2-e493-6bbf00133077"
      },
      "source": [
        "import numpy as np\r\n",
        "y = y.astype(np.uint8)\r\n",
        "y[0]"
      ],
      "execution_count": 17,
      "outputs": [
        {
          "output_type": "execute_result",
          "data": {
            "text/plain": [
              "5"
            ]
          },
          "metadata": {
            "tags": []
          },
          "execution_count": 17
        }
      ]
    },
    {
      "cell_type": "markdown",
      "metadata": {
        "id": "ljRSAn8PG5Vo"
      },
      "source": [
        "첫 6만개를 train으로, 나머지를 test로 나누기"
      ]
    },
    {
      "cell_type": "code",
      "metadata": {
        "id": "6RYTGafHHJuy"
      },
      "source": [
        "X_train, X_test, y_train, y_test = X[:60000], X[60000:], y[:60000], y[60000:]"
      ],
      "execution_count": 18,
      "outputs": []
    },
    {
      "cell_type": "markdown",
      "metadata": {
        "id": "1Az4_zp2Hb07"
      },
      "source": [
        "## 이진 분류기 훈련\r\n",
        "문제 단순화를 위해, 5만 분류하는 모델"
      ]
    },
    {
      "cell_type": "code",
      "metadata": {
        "colab": {
          "base_uri": "https://localhost:8080/"
        },
        "id": "3iINGZGgHdHq",
        "outputId": "086c1dc8-2af5-485c-ccc2-99377d1ddee6"
      },
      "source": [
        "y_train_5 = (y_train == 5) # 5이면 True, 아니면 False\r\n",
        "y_test_5 = (y_test == 5)\r\n",
        "y_test_5[:3]"
      ],
      "execution_count": 27,
      "outputs": [
        {
          "output_type": "execute_result",
          "data": {
            "text/plain": [
              "array([False, False, False])"
            ]
          },
          "metadata": {
            "tags": []
          },
          "execution_count": 27
        }
      ]
    },
    {
      "cell_type": "markdown",
      "metadata": {
        "id": "Wo7CUHXdJMP5"
      },
      "source": [
        "사이킷런의 __SGDClassifier__ 클래스를 사용해 Stochastic Gradient Descent 적용(하나의 샘플을 독립적으로 처리)"
      ]
    },
    {
      "cell_type": "code",
      "metadata": {
        "colab": {
          "base_uri": "https://localhost:8080/"
        },
        "id": "5HXLwXBiLZMA",
        "outputId": "f8a08b18-762d-4904-d792-66a024c3769d"
      },
      "source": [
        "from sklearn.linear_model import SGDClassifier\r\n",
        "\r\n",
        "sgd_clf = SGDClassifier(max_iter=1000, tol=1e-3, random_state=42) \r\n",
        "sgd_clf.fit(X_train, y_train_5)"
      ],
      "execution_count": 28,
      "outputs": [
        {
          "output_type": "execute_result",
          "data": {
            "text/plain": [
              "SGDClassifier(alpha=0.0001, average=False, class_weight=None,\n",
              "              early_stopping=False, epsilon=0.1, eta0=0.0, fit_intercept=True,\n",
              "              l1_ratio=0.15, learning_rate='optimal', loss='hinge',\n",
              "              max_iter=1000, n_iter_no_change=5, n_jobs=None, penalty='l2',\n",
              "              power_t=0.5, random_state=42, shuffle=True, tol=0.001,\n",
              "              validation_fraction=0.1, verbose=0, warm_start=False)"
            ]
          },
          "metadata": {
            "tags": []
          },
          "execution_count": 28
        }
      ]
    },
    {
      "cell_type": "markdown",
      "metadata": {
        "id": "TAEnuDZOLsjV"
      },
      "source": [
        "- SGDClassifier(혹은 SGDRegressor)는 훈련하는데 무작위성을 가져서 Stocahstic이라 불림 (시계열 데이터엔 비적합)"
      ]
    },
    {
      "cell_type": "code",
      "metadata": {
        "id": "vqcB7TVIM3jP",
        "colab": {
          "base_uri": "https://localhost:8080/"
        },
        "outputId": "d657d97b-91de-4260-b9d6-fdfddb488597"
      },
      "source": [
        "sgd_clf.predict([some_digit])"
      ],
      "execution_count": 35,
      "outputs": [
        {
          "output_type": "execute_result",
          "data": {
            "text/plain": [
              "array([ True])"
            ]
          },
          "metadata": {
            "tags": []
          },
          "execution_count": 35
        }
      ]
    },
    {
      "cell_type": "markdown",
      "metadata": {
        "id": "df50KFBCNSrk"
      },
      "source": [
        "## 성능 측정"
      ]
    },
    {
      "cell_type": "markdown",
      "metadata": {
        "id": "eYVm0Oz-RJuw"
      },
      "source": [
        "### 교차검증을 사용한 방법\r\n"
      ]
    },
    {
      "cell_type": "markdown",
      "metadata": {
        "id": "UkrKYXqKRLcF"
      },
      "source": [
        "#### a. 단순 교차검정"
      ]
    },
    {
      "cell_type": "code",
      "metadata": {
        "colab": {
          "base_uri": "https://localhost:8080/"
        },
        "id": "dsluT5YxRTtT",
        "outputId": "6b42be7f-3051-4a76-81e8-820a6b504980"
      },
      "source": [
        "from sklearn.model_selection import cross_val_score\r\n",
        "cross_val_score(sgd_clf, X_train, y_train_5, cv=3, scoring=\"accuracy\")"
      ],
      "execution_count": 42,
      "outputs": [
        {
          "output_type": "execute_result",
          "data": {
            "text/plain": [
              "array([0.95035, 0.96035, 0.9604 ])"
            ]
          },
          "metadata": {
            "tags": []
          },
          "execution_count": 42
        }
      ]
    },
    {
      "cell_type": "markdown",
      "metadata": {
        "id": "GKFdPdi5Rli6"
      },
      "source": [
        "#### b. 계층적 샘플링 교차검정"
      ]
    },
    {
      "cell_type": "code",
      "metadata": {
        "colab": {
          "base_uri": "https://localhost:8080/"
        },
        "id": "vUhwjygETAW5",
        "outputId": "20675c53-d9bc-426d-ffad-8cab5ae930cb"
      },
      "source": [
        "from sklearn.model_selection import StratifiedKFold\r\n",
        "from sklearn.base import clone\r\n",
        "\r\n",
        "skfolds = StratifiedKFold(n_splits=3, random_state=42, shuffle=True)\r\n",
        "cross_val_score(sgd_clf, X_train, y_train_5, cv=skfolds)"
      ],
      "execution_count": 44,
      "outputs": [
        {
          "output_type": "execute_result",
          "data": {
            "text/plain": [
              "array([0.9669 , 0.91625, 0.96785])"
            ]
          },
          "metadata": {
            "tags": []
          },
          "execution_count": 44
        }
      ]
    },
    {
      "cell_type": "markdown",
      "metadata": {
        "id": "h5ggc6iKTD4E"
      },
      "source": [
        "위의 과정을 수동으로 구현하면 다음과 같다"
      ]
    },
    {
      "cell_type": "code",
      "metadata": {
        "colab": {
          "base_uri": "https://localhost:8080/"
        },
        "id": "VvKqirUyXaio",
        "outputId": "116c4541-c667-4f3c-90e4-9b5fa0445798"
      },
      "source": [
        "from sklearn.base import clone\r\n",
        "\r\n",
        "for train_index, test_index in skfolds.split(X_train, y_train_5):\r\n",
        "    clone_clf = clone(sgd_clf)\r\n",
        "    X_train_folds = X_train[train_index]\r\n",
        "    y_train_folds = y_train_5[train_index]\r\n",
        "    X_test_fold = X_train[test_index]\r\n",
        "    y_test_fold = y_train_5[test_index]\r\n",
        "\r\n",
        "    clone_clf.fit(X_train_folds, y_train_folds)\r\n",
        "    y_pred = clone_clf.predict(X_test_fold)\r\n",
        "    n_correct = sum(y_pred == y_test_fold)\r\n",
        "    print(n_correct / len(y_pred))"
      ],
      "execution_count": 45,
      "outputs": [
        {
          "output_type": "stream",
          "text": [
            "0.9669\n",
            "0.91625\n",
            "0.96785\n"
          ],
          "name": "stdout"
        }
      ]
    },
    {
      "cell_type": "markdown",
      "metadata": {
        "id": "hqWdjxLrXe2R"
      },
      "source": [
        "- 여기서 clone은 데이터까지 복사하는 것이 아니라, 모델만 복사하는 함수다."
      ]
    },
    {
      "cell_type": "markdown",
      "metadata": {
        "id": "IdBT9txgXmXI"
      },
      "source": [
        "#### c. Accuracy 한계\r\n",
        "지금까지의 예시에서 무조건 5가 아니라고 예측한 모델을 만들면 꽤 높은 정확도가 나온다.<br>\r\n",
        "따라서, 정확도만 살펴볼것이 아니라 다양한 metric으로 모델을 바라볼 필요가 있다. (특히 Imbalanced data)"
      ]
    },
    {
      "cell_type": "code",
      "metadata": {
        "id": "K6atf2JtZBMb"
      },
      "source": [
        "from sklearn.base import BaseEstimator\r\n",
        "class Never5Classifier(BaseEstimator): \r\n",
        "    def fit(self, X, y=None):\r\n",
        "        pass\r\n",
        "    def predict(self, X):\r\n",
        "        return np.zeros((len(X), 1), dtype=bool)"
      ],
      "execution_count": 48,
      "outputs": []
    },
    {
      "cell_type": "markdown",
      "metadata": {
        "id": "R6RgTKI8bmLJ"
      },
      "source": [
        "- BaseEstimator는 하이퍼파라미터 튜닝과정이나, 교차검증을 할때 필요한 메소드를 제공해주기 때문에 필수적이로 들어간다고 함"
      ]
    },
    {
      "cell_type": "code",
      "metadata": {
        "colab": {
          "base_uri": "https://localhost:8080/"
        },
        "id": "EGOYkkF4bXUy",
        "outputId": "d2972852-1faa-4756-8444-775c632d43f9"
      },
      "source": [
        "never_5_clf = Never5Classifier()\r\n",
        "cross_val_score(never_5_clf, X_train, y_train_5, cv=3 , scoring=\"accuracy\") #cv=skfolds 넣어도됨"
      ],
      "execution_count": 51,
      "outputs": [
        {
          "output_type": "execute_result",
          "data": {
            "text/plain": [
              "array([0.91125, 0.90855, 0.90915])"
            ]
          },
          "metadata": {
            "tags": []
          },
          "execution_count": 51
        }
      ]
    },
    {
      "cell_type": "markdown",
      "metadata": {
        "id": "tbK4EjcnbY2a"
      },
      "source": [
        "- 전부 5가 아니라고 예측하는, 안좋은 모델을 만들어도 90퍼이상의 성능을 보임\r\n"
      ]
    },
    {
      "cell_type": "markdown",
      "metadata": {
        "id": "6WWZVusacP7G"
      },
      "source": [
        "### 오차 행렬"
      ]
    }
  ]
}