{
  "nbformat": 4,
  "nbformat_minor": 0,
  "metadata": {
    "colab": {
      "name": "03_Classification.ipynb",
      "provenance": [],
      "collapsed_sections": [],
      "toc_visible": true,
      "authorship_tag": "ABX9TyNZvCjfFLFf9+Qo0mLiQYcx",
      "include_colab_link": true
    },
    "kernelspec": {
      "name": "python3",
      "display_name": "Python 3"
    }
  },
  "cells": [
    {
      "cell_type": "markdown",
      "metadata": {
        "id": "view-in-github",
        "colab_type": "text"
      },
      "source": [
        "<a href=\"https://colab.research.google.com/github/geunsu-jo/Hands-On-ML/blob/main/textbook_practice/03_Classification.ipynb\" target=\"_parent\"><img src=\"https://colab.research.google.com/assets/colab-badge.svg\" alt=\"Open In Colab\"/></a>"
      ]
    },
    {
      "cell_type": "markdown",
      "metadata": {
        "id": "irsIurIapWXU"
      },
      "source": [
        "## 데이터 불러오기"
      ]
    },
    {
      "cell_type": "code",
      "metadata": {
        "colab": {
          "base_uri": "https://localhost:8080/"
        },
        "id": "-jfKjcjy-xel",
        "outputId": "a46bec80-8262-4a01-abbb-da0512c0a393"
      },
      "source": [
        "from sklearn.datasets import fetch_openml\r\n",
        "mnist = fetch_openml('mnist_784', version=1)\r\n",
        "mnist.keys()"
      ],
      "execution_count": 1,
      "outputs": [
        {
          "output_type": "execute_result",
          "data": {
            "text/plain": [
              "dict_keys(['data', 'target', 'frame', 'feature_names', 'target_names', 'DESCR', 'details', 'categories', 'url'])"
            ]
          },
          "metadata": {
            "tags": []
          },
          "execution_count": 1
        }
      ]
    },
    {
      "cell_type": "markdown",
      "metadata": {
        "id": "Rcp-V2X6AEzf"
      },
      "source": [
        "사이킷런에서 읽은 데이터셋은 dictionary 구조를 가지고 있다.\r\n",
        "- 데이터셋을 설명하는 DESCR 키\r\n",
        "- 샘플을 행, 특성(feature)를 열로 구성된 배열 data 키\r\n",
        "- 레이블 배열이 있는 target 키"
      ]
    },
    {
      "cell_type": "code",
      "metadata": {
        "colab": {
          "base_uri": "https://localhost:8080/"
        },
        "id": "JJahIVVTAo6a",
        "outputId": "972e5ee4-eddd-44bb-dfe7-83514f38387b"
      },
      "source": [
        "X, y = mnist[\"data\"], mnist[\"target\"]\r\n",
        "print(X.shape)\r\n",
        "print(y.shape)\r\n",
        "print(28*28)"
      ],
      "execution_count": 2,
      "outputs": [
        {
          "output_type": "stream",
          "text": [
            "(70000, 784)\n",
            "(70000,)\n",
            "784\n"
          ],
          "name": "stdout"
        }
      ]
    },
    {
      "cell_type": "code",
      "metadata": {
        "colab": {
          "base_uri": "https://localhost:8080/",
          "height": 248
        },
        "id": "8sdNnCJ2AvoU",
        "outputId": "c4e2841e-b341-4474-b4b7-70fc7120f6f0"
      },
      "source": [
        "import matplotlib as mpl\r\n",
        "import matplotlib.pyplot as plt\r\n",
        "\r\n",
        "some_digit=X[0]\r\n",
        "some_digit_image = some_digit.reshape(28,28)\r\n",
        "\r\n",
        "plt.imshow(some_digit_image, cmap=\"binary\") # cmp=\"gray\" 하면 높은 값을 밝게 하면서 색이 반전됨\r\n",
        "plt.axis(\"off\")\r\n",
        "plt.show()"
      ],
      "execution_count": 3,
      "outputs": [
        {
          "output_type": "display_data",
          "data": {
            "image/png": "[encoded data removed]",
            "text/plain": [
              "<Figure size 432x288 with 1 Axes>"
            ]
          },
          "metadata": {
            "tags": [],
            "needs_background": "light"
          }
        }
      ]
    },
    {
      "cell_type": "markdown",
      "metadata": {
        "id": "wD2NMXuLChjV"
      },
      "source": [
        "실제 레이블 확인"
      ]
    },
    {
      "cell_type": "code",
      "metadata": {
        "colab": {
          "base_uri": "https://localhost:8080/",
          "height": 35
        },
        "id": "DrxT6JxDGySX",
        "outputId": "3c36bdb7-2452-4a65-d226-4c6f1294474f"
      },
      "source": [
        "y[0]"
      ],
      "execution_count": 4,
      "outputs": [
        {
          "output_type": "execute_result",
          "data": {
            "application/vnd.google.colaboratory.intrinsic+json": {
              "type": "string"
            },
            "text/plain": [
              "'5'"
            ]
          },
          "metadata": {
            "tags": []
          },
          "execution_count": 4
        }
      ]
    },
    {
      "cell_type": "markdown",
      "metadata": {
        "id": "pWu3gprsGzE-"
      },
      "source": [
        "정수로 변환"
      ]
    },
    {
      "cell_type": "code",
      "metadata": {
        "colab": {
          "base_uri": "https://localhost:8080/"
        },
        "id": "lcTVM60tG1gL",
        "outputId": "3e08c965-25ad-4d21-c2a8-f38e5281f455"
      },
      "source": [
        "import numpy as np\r\n",
        "y = y.astype(np.uint8)\r\n",
        "y[0]"
      ],
      "execution_count": 5,
      "outputs": [
        {
          "output_type": "execute_result",
          "data": {
            "text/plain": [
              "5"
            ]
          },
          "metadata": {
            "tags": []
          },
          "execution_count": 5
        }
      ]
    },
    {
      "cell_type": "markdown",
      "metadata": {
        "id": "ljRSAn8PG5Vo"
      },
      "source": [
        "첫 6만개를 train으로, 나머지를 test로 나누기"
      ]
    },
    {
      "cell_type": "code",
      "metadata": {
        "id": "6RYTGafHHJuy"
      },
      "source": [
        "X_train, X_test, y_train, y_test = X[:60000], X[60000:], y[:60000], y[60000:]"
      ],
      "execution_count": 6,
      "outputs": []
    },
    {
      "cell_type": "markdown",
      "metadata": {
        "id": "1Az4_zp2Hb07"
      },
      "source": [
        "## 이진 분류기 훈련\r\n",
        "문제 단순화를 위해, 5만 분류하는 모델"
      ]
    },
    {
      "cell_type": "code",
      "metadata": {
        "colab": {
          "base_uri": "https://localhost:8080/"
        },
        "id": "3iINGZGgHdHq",
        "outputId": "0fccd59b-0768-4e19-a3c8-e212ac339e02"
      },
      "source": [
        "y_train_5 = (y_train == 5) # 5이면 True, 아니면 False\r\n",
        "y_test_5 = (y_test == 5)\r\n",
        "y_test_5[:3]"
      ],
      "execution_count": 7,
      "outputs": [
        {
          "output_type": "execute_result",
          "data": {
            "text/plain": [
              "array([False, False, False])"
            ]
          },
          "metadata": {
            "tags": []
          },
          "execution_count": 7
        }
      ]
    },
    {
      "cell_type": "markdown",
      "metadata": {
        "id": "Wo7CUHXdJMP5"
      },
      "source": [
        "사이킷런의 __SGDClassifier__ 클래스를 사용해 Stochastic Gradient Descent 적용(하나의 샘플을 독립적으로 처리)"
      ]
    },
    {
      "cell_type": "code",
      "metadata": {
        "colab": {
          "base_uri": "https://localhost:8080/"
        },
        "id": "5HXLwXBiLZMA",
        "outputId": "17625d8e-c603-4d73-9a69-db1ea2981cf0"
      },
      "source": [
        "from sklearn.linear_model import SGDClassifier\r\n",
        "\r\n",
        "sgd_clf = SGDClassifier(max_iter=1000, tol=1e-3, random_state=42) \r\n",
        "sgd_clf.fit(X_train, y_train_5)"
      ],
      "execution_count": 8,
      "outputs": [
        {
          "output_type": "execute_result",
          "data": {
            "text/plain": [
              "SGDClassifier(alpha=0.0001, average=False, class_weight=None,\n",
              "              early_stopping=False, epsilon=0.1, eta0=0.0, fit_intercept=True,\n",
              "              l1_ratio=0.15, learning_rate='optimal', loss='hinge',\n",
              "              max_iter=1000, n_iter_no_change=5, n_jobs=None, penalty='l2',\n",
              "              power_t=0.5, random_state=42, shuffle=True, tol=0.001,\n",
              "              validation_fraction=0.1, verbose=0, warm_start=False)"
            ]
          },
          "metadata": {
            "tags": []
          },
          "execution_count": 8
        }
      ]
    },
    {
      "cell_type": "markdown",
      "metadata": {
        "id": "TAEnuDZOLsjV"
      },
      "source": [
        "- SGDClassifier(혹은 SGDRegressor)는 훈련하는데 무작위성을 가져서 Stocahstic이라 불림 (시계열 데이터엔 비적합)"
      ]
    },
    {
      "cell_type": "code",
      "metadata": {
        "id": "vqcB7TVIM3jP",
        "colab": {
          "base_uri": "https://localhost:8080/"
        },
        "outputId": "235ade3f-eddf-4df2-9be3-e0e27f30d7f9"
      },
      "source": [
        "sgd_clf.predict([some_digit])"
      ],
      "execution_count": 9,
      "outputs": [
        {
          "output_type": "execute_result",
          "data": {
            "text/plain": [
              "array([ True])"
            ]
          },
          "metadata": {
            "tags": []
          },
          "execution_count": 9
        }
      ]
    },
    {
      "cell_type": "markdown",
      "metadata": {
        "id": "df50KFBCNSrk"
      },
      "source": [
        "## 성능 측정"
      ]
    },
    {
      "cell_type": "markdown",
      "metadata": {
        "id": "eYVm0Oz-RJuw"
      },
      "source": [
        "### 교차검증을 사용한 방법\r\n"
      ]
    },
    {
      "cell_type": "markdown",
      "metadata": {
        "id": "UkrKYXqKRLcF"
      },
      "source": [
        "#### a. 단순 교차검정"
      ]
    },
    {
      "cell_type": "code",
      "metadata": {
        "colab": {
          "base_uri": "https://localhost:8080/"
        },
        "id": "dsluT5YxRTtT",
        "outputId": "25f11111-43f3-4bf7-9186-3da080199410"
      },
      "source": [
        "from sklearn.model_selection import cross_val_score\r\n",
        "cross_val_score(sgd_clf, X_train, y_train_5, cv=3, scoring=\"accuracy\")"
      ],
      "execution_count": 10,
      "outputs": [
        {
          "output_type": "execute_result",
          "data": {
            "text/plain": [
              "array([0.95035, 0.96035, 0.9604 ])"
            ]
          },
          "metadata": {
            "tags": []
          },
          "execution_count": 10
        }
      ]
    },
    {
      "cell_type": "markdown",
      "metadata": {
        "id": "GKFdPdi5Rli6"
      },
      "source": [
        "#### b. 계층적 샘플링 교차검정"
      ]
    },
    {
      "cell_type": "code",
      "metadata": {
        "colab": {
          "base_uri": "https://localhost:8080/"
        },
        "id": "vUhwjygETAW5",
        "outputId": "af91bb26-600a-4c71-d2cb-5356b5213d11"
      },
      "source": [
        "from sklearn.model_selection import StratifiedKFold\r\n",
        "from sklearn.base import clone\r\n",
        "\r\n",
        "skfolds = StratifiedKFold(n_splits=3, random_state=42, shuffle=True)\r\n",
        "cross_val_score(sgd_clf, X_train, y_train_5, cv=skfolds)"
      ],
      "execution_count": 11,
      "outputs": [
        {
          "output_type": "execute_result",
          "data": {
            "text/plain": [
              "array([0.9669 , 0.91625, 0.96785])"
            ]
          },
          "metadata": {
            "tags": []
          },
          "execution_count": 11
        }
      ]
    },
    {
      "cell_type": "markdown",
      "metadata": {
        "id": "h5ggc6iKTD4E"
      },
      "source": [
        "위의 과정을 수동으로 구현하면 다음과 같다"
      ]
    },
    {
      "cell_type": "code",
      "metadata": {
        "colab": {
          "base_uri": "https://localhost:8080/"
        },
        "id": "VvKqirUyXaio",
        "outputId": "eb4dcb78-3cfb-4c10-9060-6b40dfdb1fdb"
      },
      "source": [
        "from sklearn.base import clone\r\n",
        "\r\n",
        "for train_index, test_index in skfolds.split(X_train, y_train_5):\r\n",
        "    clone_clf = clone(sgd_clf)\r\n",
        "    X_train_folds = X_train[train_index]\r\n",
        "    y_train_folds = y_train_5[train_index]\r\n",
        "    X_test_fold = X_train[test_index]\r\n",
        "    y_test_fold = y_train_5[test_index]\r\n",
        "\r\n",
        "    clone_clf.fit(X_train_folds, y_train_folds)\r\n",
        "    y_pred = clone_clf.predict(X_test_fold)\r\n",
        "    n_correct = sum(y_pred == y_test_fold)\r\n",
        "    print(n_correct / len(y_pred))"
      ],
      "execution_count": 12,
      "outputs": [
        {
          "output_type": "stream",
          "text": [
            "0.9669\n",
            "0.91625\n",
            "0.96785\n"
          ],
          "name": "stdout"
        }
      ]
    },
    {
      "cell_type": "markdown",
      "metadata": {
        "id": "hqWdjxLrXe2R"
      },
      "source": [
        "- 여기서 clone은 데이터까지 복사하는 것이 아니라, 모델만 복사하는 함수다."
      ]
    },
    {
      "cell_type": "markdown",
      "metadata": {
        "id": "IdBT9txgXmXI"
      },
      "source": [
        "#### c. Accuracy 한계\r\n",
        "지금까지의 예시에서 무조건 5가 아니라고 예측한 모델을 만들면 꽤 높은 정확도가 나온다.<br>\r\n",
        "따라서, 정확도만 살펴볼것이 아니라 다양한 metric으로 모델을 바라볼 필요가 있다. (특히 Imbalanced data)"
      ]
    },
    {
      "cell_type": "code",
      "metadata": {
        "id": "K6atf2JtZBMb"
      },
      "source": [
        "from sklearn.base import BaseEstimator\r\n",
        "class Never5Classifier(BaseEstimator): \r\n",
        "    def fit(self, X, y=None):\r\n",
        "        pass\r\n",
        "    def predict(self, X):\r\n",
        "        return np.zeros((len(X), 1), dtype=bool)"
      ],
      "execution_count": 13,
      "outputs": []
    },
    {
      "cell_type": "markdown",
      "metadata": {
        "id": "R6RgTKI8bmLJ"
      },
      "source": [
        "- BaseEstimator는 하이퍼파라미터 튜닝과정이나, 교차검증을 할때 필요한 메소드를 제공해주기 때문에 필수적이로 들어간다고 함"
      ]
    },
    {
      "cell_type": "code",
      "metadata": {
        "colab": {
          "base_uri": "https://localhost:8080/"
        },
        "id": "EGOYkkF4bXUy",
        "outputId": "512577e3-c103-4d17-8651-9dd8deca32fe"
      },
      "source": [
        "never_5_clf = Never5Classifier()\r\n",
        "cross_val_score(never_5_clf, X_train, y_train_5, cv=3 , scoring=\"accuracy\") #cv=skfolds 넣어도됨"
      ],
      "execution_count": 14,
      "outputs": [
        {
          "output_type": "execute_result",
          "data": {
            "text/plain": [
              "array([0.91125, 0.90855, 0.90915])"
            ]
          },
          "metadata": {
            "tags": []
          },
          "execution_count": 14
        }
      ]
    },
    {
      "cell_type": "markdown",
      "metadata": {
        "id": "tbK4EjcnbY2a"
      },
      "source": [
        "- 전부 5가 아니라고 예측하는, 안좋은 모델을 만들어도 90퍼이상의 성능을 보임\r\n"
      ]
    },
    {
      "cell_type": "markdown",
      "metadata": {
        "id": "6WWZVusacP7G"
      },
      "source": [
        "### 오차 행렬\r\n",
        "__cross_val_predict()__를 이용해 예측값(5인지 아닌지)를 알 수 있다."
      ]
    },
    {
      "cell_type": "code",
      "metadata": {
        "colab": {
          "base_uri": "https://localhost:8080/"
        },
        "id": "IMX132qWfX07",
        "outputId": "35d6a724-13f8-4685-a0b2-64229036b198"
      },
      "source": [
        "from sklearn.model_selection import cross_val_predict\r\n",
        "\r\n",
        "y_train_pred = cross_val_predict(sgd_clf, X_train, y_train_5, cv=3)\r\n",
        "y_train_pred[:3]"
      ],
      "execution_count": 15,
      "outputs": [
        {
          "output_type": "execute_result",
          "data": {
            "text/plain": [
              "array([ True, False, False])"
            ]
          },
          "metadata": {
            "tags": []
          },
          "execution_count": 15
        }
      ]
    },
    {
      "cell_type": "markdown",
      "metadata": {
        "id": "eNU5Y_xq5Azu"
      },
      "source": [
        "- 질문 : cross_val_predict()과정에서 threshold는 튜닝과정을 거쳤는가?"
      ]
    },
    {
      "cell_type": "markdown",
      "metadata": {
        "id": "3jGwuq_EfmTG"
      },
      "source": [
        "__confusion_matrix()__ 함수를 사용해 오차행렬을 만든다."
      ]
    },
    {
      "cell_type": "code",
      "metadata": {
        "colab": {
          "base_uri": "https://localhost:8080/"
        },
        "id": "lCL5hxXRhTcW",
        "outputId": "8b9f76c8-3412-4259-d354-15953f8cc018"
      },
      "source": [
        "from sklearn.metrics import confusion_matrix\r\n",
        "confusion_matrix(y_train_5, y_train_pred) # label이 항상 먼저 와야한다"
      ],
      "execution_count": 16,
      "outputs": [
        {
          "output_type": "execute_result",
          "data": {
            "text/plain": [
              "array([[53892,   687],\n",
              "       [ 1891,  3530]])"
            ]
          },
          "metadata": {
            "tags": []
          },
          "execution_count": 16
        }
      ]
    },
    {
      "cell_type": "markdown",
      "metadata": {
        "id": "NRq9kr3gkc8g"
      },
      "source": [
        "\r\n",
        "||Pred - |Pred + |\r\n",
        "|---|---|---|\r\n",
        "|Real - |TN|FP|\r\n",
        "|Real + |FN|TP|"
      ]
    },
    {
      "cell_type": "markdown",
      "metadata": {
        "id": "skVGpvhNheQV"
      },
      "source": [
        "### 정밀도(Precision)와 재현율(Recall)\r\n",
        "Precision = TP/(TP+FP) <br>\r\n",
        "Recall = TP/(TP+FN)"
      ]
    },
    {
      "cell_type": "code",
      "metadata": {
        "colab": {
          "base_uri": "https://localhost:8080/"
        },
        "id": "gqZB83X9iPgh",
        "outputId": "594b03aa-e696-41cc-fa00-2dedadbd23c1"
      },
      "source": [
        "from sklearn.metrics import precision_score, recall_score\r\n",
        "\r\n",
        "precision_score(y_train_5, y_train_pred)"
      ],
      "execution_count": 17,
      "outputs": [
        {
          "output_type": "execute_result",
          "data": {
            "text/plain": [
              "0.8370879772350012"
            ]
          },
          "metadata": {
            "tags": []
          },
          "execution_count": 17
        }
      ]
    },
    {
      "cell_type": "code",
      "metadata": {
        "colab": {
          "base_uri": "https://localhost:8080/"
        },
        "id": "NicgePeujpkW",
        "outputId": "d6105acf-cebf-4228-8124-5a21c784ed3d"
      },
      "source": [
        "recall_score(y_train_5, y_train_pred)"
      ],
      "execution_count": 18,
      "outputs": [
        {
          "output_type": "execute_result",
          "data": {
            "text/plain": [
              "0.6511713705958311"
            ]
          },
          "metadata": {
            "tags": []
          },
          "execution_count": 18
        }
      ]
    },
    {
      "cell_type": "markdown",
      "metadata": {
        "id": "dubi6Y6jjvNS"
      },
      "source": [
        "추가적으로 Precision과 Recall의 조화 평균인 __F1 Score__도 있음"
      ]
    },
    {
      "cell_type": "code",
      "metadata": {
        "colab": {
          "base_uri": "https://localhost:8080/"
        },
        "id": "ST9PISqEj5Kq",
        "outputId": "37d3d776-21ca-4e84-9794-062e655ebd7c"
      },
      "source": [
        "from sklearn.metrics import f1_score\r\n",
        "f1_score(y_train_5, y_train_pred)"
      ],
      "execution_count": 19,
      "outputs": [
        {
          "output_type": "execute_result",
          "data": {
            "text/plain": [
              "0.7325171197343846"
            ]
          },
          "metadata": {
            "tags": []
          },
          "execution_count": 19
        }
      ]
    },
    {
      "cell_type": "markdown",
      "metadata": {
        "id": "2ryjErXEj_7p"
      },
      "source": [
        "### Trade off of precision & recall"
      ]
    },
    {
      "cell_type": "markdown",
      "metadata": {
        "id": "UhfE6EIcmD2F"
      },
      "source": [
        "임계값(threshold)와 비교할 샘플의 점수를 구하려면 __decision_function()__ 메서드를 호출하면 된다."
      ]
    },
    {
      "cell_type": "code",
      "metadata": {
        "colab": {
          "base_uri": "https://localhost:8080/"
        },
        "id": "kTAJfKo5s9zx",
        "outputId": "c248e7e8-b71c-438c-8d24-c7797a8c31ee"
      },
      "source": [
        "y_scores = sgd_clf.decision_function([some_digit])\r\n",
        "#혹은\r\n",
        "y_scores = sgd_clf.decision_function([X[0]])\r\n",
        "y_scores"
      ],
      "execution_count": 20,
      "outputs": [
        {
          "output_type": "execute_result",
          "data": {
            "text/plain": [
              "array([2164.22030239])"
            ]
          },
          "metadata": {
            "tags": []
          },
          "execution_count": 20
        }
      ]
    },
    {
      "cell_type": "code",
      "metadata": {
        "colab": {
          "base_uri": "https://localhost:8080/"
        },
        "id": "4vinTiOXtFih",
        "outputId": "e7eb0752-41df-4f0f-cfcc-2da367d43d5f"
      },
      "source": [
        "threshold = 0\r\n",
        "y_some_digit_pred = (y_scores > threshold)\r\n",
        "y_some_digit_pred"
      ],
      "execution_count": 21,
      "outputs": [
        {
          "output_type": "execute_result",
          "data": {
            "text/plain": [
              "array([ True])"
            ]
          },
          "metadata": {
            "tags": []
          },
          "execution_count": 21
        }
      ]
    },
    {
      "cell_type": "markdown",
      "metadata": {
        "id": "KBmGQy-QtTwR"
      },
      "source": [
        "- 임계값이 작을수록, True 예측 수는 증가한다(False 예측 수는 감소)"
      ]
    },
    {
      "cell_type": "code",
      "metadata": {
        "colab": {
          "base_uri": "https://localhost:8080/"
        },
        "id": "l9VQNVpftnM1",
        "outputId": "4303bf1f-ebe6-4b99-d898-1cdb3f710a8d"
      },
      "source": [
        "threshold = 8000\r\n",
        "y_some_digit_pred = (y_scores > threshold)\r\n",
        "y_some_digit_pred"
      ],
      "execution_count": 22,
      "outputs": [
        {
          "output_type": "execute_result",
          "data": {
            "text/plain": [
              "array([False])"
            ]
          },
          "metadata": {
            "tags": []
          },
          "execution_count": 22
        }
      ]
    },
    {
      "cell_type": "markdown",
      "metadata": {
        "id": "3s7NtFggtsZ7"
      },
      "source": [
        "- 임계값이 클수록, True 예측 수가 감소한다.(False 예측 수는 증가)"
      ]
    },
    {
      "cell_type": "markdown",
      "metadata": {
        "id": "-fhl9Aidt2jJ"
      },
      "source": [
        "전체 train data에 대해 k-fold를 적용하여 score를 구하고, threshold에 따른 그래프를 그려본다"
      ]
    },
    {
      "cell_type": "code",
      "metadata": {
        "id": "tA5NOuslvMPG"
      },
      "source": [
        "y_scores = cross_val_predict(sgd_clf, X_train, y_train_5, cv=3,\r\n",
        "                             method=\"decision_function\")"
      ],
      "execution_count": 23,
      "outputs": []
    },
    {
      "cell_type": "code",
      "metadata": {
        "id": "cAr2QPDGxDjt"
      },
      "source": [
        "from sklearn.metrics import precision_recall_curve\r\n",
        "\r\n",
        "precisions, recalls, thresholds = precision_recall_curve(y_train_5, y_scores)"
      ],
      "execution_count": 24,
      "outputs": []
    },
    {
      "cell_type": "markdown",
      "metadata": {
        "id": "Qt7MSbC9xqn6"
      },
      "source": [
        "- threshold의 수는 y_scores 수와 같거나 적다(y_scores에 중복값이 있을 경우 적아짐)\r\n",
        "- precision 과 recall 수는 threshold의 수보다 1개 많다"
      ]
    },
    {
      "cell_type": "markdown",
      "metadata": {
        "id": "fsNJYWFIy4yA"
      },
      "source": [
        "정밀도와 재현율을 그려보자(코드는 이런게 있다 정도만)"
      ]
    },
    {
      "cell_type": "code",
      "metadata": {
        "colab": {
          "base_uri": "https://localhost:8080/",
          "height": 288
        },
        "id": "OMZPtlsNxOt_",
        "outputId": "69fdd337-a245-4352-a8f0-a1aef36a9c89"
      },
      "source": [
        "def plot_precision_recall_vs_threshold(precisions, recalls, thresholds):\r\n",
        "    plt.plot(thresholds, precisions[:-1], \"b--\", label=\"Precision\", linewidth=2)\r\n",
        "    plt.plot(thresholds, recalls[:-1], \"g-\", label=\"Recall\", linewidth=2)\r\n",
        "    plt.legend(loc=\"center right\", fontsize=16) # Not shown in the book\r\n",
        "    plt.xlabel(\"Threshold\", fontsize=16)        # Not shown\r\n",
        "    plt.grid(True)                              # Not shown\r\n",
        "    plt.axis([-50000, 50000, 0, 1])             # Not shown\r\n",
        "    \r\n",
        "    \r\n",
        "recall_90_precision = recalls[np.argmax(precisions >= 0.90)]\r\n",
        "threshold_90_precision = thresholds[np.argmax(precisions >= 0.90)]\r\n",
        "\r\n",
        "\r\n",
        "plt.figure(figsize=(8, 4))                                                                  # Not shown\r\n",
        "plot_precision_recall_vs_threshold(precisions, recalls, thresholds)\r\n",
        "plt.plot([threshold_90_precision, threshold_90_precision], [0., 0.9], \"r:\")                 # Not shown\r\n",
        "plt.plot([-50000, threshold_90_precision], [0.9, 0.9], \"r:\")                                # Not shown\r\n",
        "plt.plot([-50000, threshold_90_precision], [recall_90_precision, recall_90_precision], \"r:\")# Not shown\r\n",
        "plt.plot([threshold_90_precision], [0.9], \"ro\")                                             # Not shown\r\n",
        "plt.plot([threshold_90_precision], [recall_90_precision], \"ro\")                             # Not shown\r\n",
        "plt.show()"
      ],
      "execution_count": 25,
      "outputs": [
        {
          "output_type": "display_data",
          "data": {
            "image/png": "[encoded data removed]",
            "text/plain": [
              "<Figure size 576x288 with 1 Axes>"
            ]
          },
          "metadata": {
            "tags": [],
            "needs_background": "light"
          }
        }
      ]
    },
    {
      "cell_type": "markdown",
      "metadata": {
        "id": "BwEfXaKAy_7f"
      },
      "source": [
        "- 정밀도(Precision)은 울퉁불퉁한 곡선을 가지는 반면 재현율(Recall)은 완만하다\r\n",
        "- 재현율의 분모는 Truly Positive로, threshold 값에 영향을 받지 않는다.\r\n",
        "- 정밀도의 분모는 Pred Positive로, threshold 값에 영향을 받는다\r\n",
        "- 따라서, 재현율은 반드시 우하향하지만, 정밀도는 반드시 우상향할 필요는 없다.(threshold가 최대일때 정밀도도 최대값 1을 갖긴함)"
      ]
    },
    {
      "cell_type": "markdown",
      "metadata": {
        "id": "dcuLNTYGyaHe"
      },
      "source": [
        "np.argmax()는 최댓값의 색인을 반환해준다. 수치가 아니라 bool형이면 처음 나오는 True의 색인을 반환 <br>\r\n",
        "np.argmin()는 최솟값의 색인을 반환해준다. 수치가 아니라 bool형이면 처음 나오는 False의 색인을 반환"
      ]
    },
    {
      "cell_type": "code",
      "metadata": {
        "colab": {
          "base_uri": "https://localhost:8080/"
        },
        "id": "tpME1F3W0xD8",
        "outputId": "504c2198-6d04-4ade-b749-33eb04388e55"
      },
      "source": [
        "a = np.array([3,2,1,5,8,78,3])\r\n",
        "b = np.array([True,True,False,False,True,False,True,True])\r\n",
        "(np.argmax(a), np.argmin(a)), (np.argmax(b), np.argmin(b))"
      ],
      "execution_count": 26,
      "outputs": [
        {
          "output_type": "execute_result",
          "data": {
            "text/plain": [
              "((5, 2), (0, 2))"
            ]
          },
          "metadata": {
            "tags": []
          },
          "execution_count": 26
        }
      ]
    },
    {
      "cell_type": "markdown",
      "metadata": {
        "id": "WbqcG8Fd1KRy"
      },
      "source": [
        "정밀도가 최소 90%는 달성하는 것이 목표라 가정하고 그때의 임계값을 구해보자 <br>"
      ]
    },
    {
      "cell_type": "code",
      "metadata": {
        "colab": {
          "base_uri": "https://localhost:8080/"
        },
        "id": "RX10lHat03TA",
        "outputId": "5a5b8bf4-87be-4450-cd1c-3e1644bbff0c"
      },
      "source": [
        "threshold_90_precision = thresholds[np.argmax(precisions >= 0.90)]\r\n",
        "threshold_90_precision"
      ],
      "execution_count": 27,
      "outputs": [
        {
          "output_type": "execute_result",
          "data": {
            "text/plain": [
              "3370.0194991439557"
            ]
          },
          "metadata": {
            "tags": []
          },
          "execution_count": 27
        }
      ]
    },
    {
      "cell_type": "markdown",
      "metadata": {
        "id": "2U8paGze2fAA"
      },
      "source": [
        "구해진 임계값을 기준으로 예측값을 구해보자"
      ]
    },
    {
      "cell_type": "code",
      "metadata": {
        "colab": {
          "base_uri": "https://localhost:8080/"
        },
        "id": "6lC-CPyV210S",
        "outputId": "f8bdfb0f-18d2-4564-90be-74444f758922"
      },
      "source": [
        "y_train_pred_90 = (y_scores >= threshold_90_precision)\r\n",
        "y_train_pred_90[:5]"
      ],
      "execution_count": 28,
      "outputs": [
        {
          "output_type": "execute_result",
          "data": {
            "text/plain": [
              "array([False, False, False, False, False])"
            ]
          },
          "metadata": {
            "tags": []
          },
          "execution_count": 28
        }
      ]
    },
    {
      "cell_type": "markdown",
      "metadata": {
        "id": "yXDbBxfT5xwI"
      },
      "source": [
        "마지막으로 정밀도와 재현율을 구한다"
      ]
    },
    {
      "cell_type": "code",
      "metadata": {
        "colab": {
          "base_uri": "https://localhost:8080/"
        },
        "id": "kTv5yl4Z54d5",
        "outputId": "c7bf4c15-30fe-4c7a-86c1-cd8c5afe90de"
      },
      "source": [
        "precision_90 = precision_score(y_train_5, y_train_pred_90)\r\n",
        "recall_90 = recall_score(y_train_5, y_train_pred_90)\r\n",
        "precision_90, recall_90"
      ],
      "execution_count": 29,
      "outputs": [
        {
          "output_type": "execute_result",
          "data": {
            "text/plain": [
              "(0.9000345901072293, 0.4799852425751706)"
            ]
          },
          "metadata": {
            "tags": []
          },
          "execution_count": 29
        }
      ]
    },
    {
      "cell_type": "markdown",
      "metadata": {
        "id": "1MruCSHv5_C6"
      },
      "source": [
        "- precision 최소 90%가 되는 선에서 recall은 0.4799이다."
      ]
    },
    {
      "cell_type": "markdown",
      "metadata": {
        "id": "MjHyOfr76Ukl"
      },
      "source": [
        "### ROC 곡선"
      ]
    },
    {
      "cell_type": "code",
      "metadata": {
        "id": "ad64BkZaZsKF"
      },
      "source": [
        "from sklearn.metrics import roc_curve\r\n",
        "\r\n",
        "fpr, tpr, thresholds = roc_curve(y_train_5, y_scores)"
      ],
      "execution_count": 30,
      "outputs": []
    },
    {
      "cell_type": "code",
      "metadata": {
        "colab": {
          "base_uri": "https://localhost:8080/",
          "height": 397
        },
        "id": "fA39bxFSbQ2o",
        "outputId": "ec7d49ea-8eca-46eb-b949-da2f0095df78"
      },
      "source": [
        "def plot_roc_curve(fpr, tpr, label=None):\r\n",
        "    plt.plot(fpr, tpr, linewidth=2, label=label)\r\n",
        "    plt.plot([0,1], [0,1], 'k--')\r\n",
        "    plt.axis([0, 1, 0, 1])                                    # Not shown in the book\r\n",
        "    plt.xlabel('False Positive Rate', fontsize=16) # Not shown\r\n",
        "    plt.ylabel('True Positive Rate', fontsize=16)    # Not shown\r\n",
        "    plt.grid(True)                                            # Not shown\r\n",
        "\r\n",
        "plt.figure(figsize=(8, 6))                                    # Not shown\r\n",
        "plot_roc_curve(fpr, tpr)\r\n",
        "fpr_90 = fpr[np.argmax(tpr >= recall_90_precision)]           # Not shown\r\n",
        "plt.plot([fpr_90, fpr_90], [0., recall_90_precision], \"r:\")   # Not shown\r\n",
        "plt.plot([0.0, fpr_90], [recall_90_precision, recall_90_precision], \"r:\")  # Not shown\r\n",
        "plt.plot([fpr_90], [recall_90_precision], \"ro\")               # Not shown\r\n",
        "plt.show()"
      ],
      "execution_count": 35,
      "outputs": [
        {
          "output_type": "display_data",
          "data": {
            "image/png": "[encoded data removed]",
            "text/plain": [
              "<Figure size 576x432 with 1 Axes>"
            ]
          },
          "metadata": {
            "tags": [],
            "needs_background": "light"
          }
        }
      ]
    },
    {
      "cell_type": "markdown",
      "metadata": {
        "id": "B_k0XAzPbScs"
      },
      "source": [
        "AUC 구하기"
      ]
    },
    {
      "cell_type": "code",
      "metadata": {
        "colab": {
          "base_uri": "https://localhost:8080/"
        },
        "id": "svzVbXYadbLl",
        "outputId": "ee4c8924-32c2-432b-f2be-21a243e5bfce"
      },
      "source": [
        "from sklearn.metrics import roc_auc_score\r\n",
        "roc_auc_score(y_train_5, y_scores)"
      ],
      "execution_count": 36,
      "outputs": [
        {
          "output_type": "execute_result",
          "data": {
            "text/plain": [
              "0.9604938554008616"
            ]
          },
          "metadata": {
            "tags": []
          },
          "execution_count": 36
        }
      ]
    },
    {
      "cell_type": "markdown",
      "metadata": {
        "id": "gKllcS-xi1-F"
      },
      "source": [
        "randomForest와 SGD의 RCO curve를 비교해보자 <br>\r\n",
        "작동방식의 차이때문에(7장에서) decision_function() 메서드 대신, predict_proba() 메서드가 들어감"
      ]
    },
    {
      "cell_type": "code",
      "metadata": {
        "id": "fVYUkC-ldhqD"
      },
      "source": [
        "from sklearn.ensemble import RandomForestClassifier\r\n",
        "\r\n",
        "forest_clf = RandomForestClassifier(random_state=42)\r\n",
        "y_probas_forest = cross_val_predict(forest_clf, X_train, y_train_5, cv=3,\r\n",
        "                                    method=\"predict_proba\")"
      ],
      "execution_count": 37,
      "outputs": []
    },
    {
      "cell_type": "code",
      "metadata": {
        "id": "vBfAWi32izon"
      },
      "source": [
        "y_scores_forest = y_probas_forest[:,1] # 양성 클래스에 대한 확률을 점수로 사용\r\n",
        "fpr_forest, tpr_forest, thresholds_forest = roc_curve(y_train_5, y_scores_forest)"
      ],
      "execution_count": 42,
      "outputs": []
    },
    {
      "cell_type": "code",
      "metadata": {
        "colab": {
          "base_uri": "https://localhost:8080/",
          "height": 288
        },
        "id": "tAspjWEcj_n8",
        "outputId": "b9d34155-60d6-4ec6-fb11-ffb3b2763691"
      },
      "source": [
        "plt.plot(fpr, tpr, \"b:\", label=\"SGD\")\r\n",
        "plot_roc_curve(fpr_forest, tpr_forest, \"randomForest\")\r\n",
        "plt.legend(loc=\"lower right\")\r\n",
        "plt.show()"
      ],
      "execution_count": 46,
      "outputs": [
        {
          "output_type": "display_data",
          "data": {
            "image/png": "[encoded data removed]",
            "text/plain": [
              "<Figure size 432x288 with 1 Axes>"
            ]
          },
          "metadata": {
            "tags": [],
            "needs_background": "light"
          }
        }
      ]
    },
    {
      "cell_type": "markdown",
      "metadata": {
        "id": "QCmM2kzRkRBc"
      },
      "source": [
        "## 다중 분류"
      ]
    },
    {
      "cell_type": "markdown",
      "metadata": {
        "id": "pU1kYaPOkvsB"
      },
      "source": [
        "SGD, RandomForest, Naive Bayes같은 분류기는 다중 분류가 직접 가능하지만, 로지스틱(다항분포가 아니라 이항분포를 가정한), SVM과 같은 분류는 다음과 같은 방식으로 다중분류를 진행한다. <br>\r\n",
        "- __OVR__(one vs rest) : 1개의 class와 나머지를 구분하는 총 k개(class의 수) 분류기를 만들어, 각 샘플의 결정 점수가 높은 것을 클래스로 선택 <br>\r\n",
        "- __OVO__(one vs one) : 총 $_{k}C_{2}$개의 분류기를 만들어 가장 많이 양성으로 분류된 class를 선택"
      ]
    },
    {
      "cell_type": "markdown",
      "metadata": {
        "id": "0fdZs_bIl2qm"
      },
      "source": [
        "일반적으로 이진 분류 알고리즘에서 OVR이 선호된다. 하지만 SVM과 같이 훈련 셋의 크기에 민감한 모델은 OVO가 선호된다.(OVO는 두 클래스에 해당하는 샘플만 필요하기 때문) <br>\r\n",
        "__sklearn.svm.SVC__ 클래스로 svm 다중분류(OVO)"
      ]
    },
    {
      "cell_type": "code",
      "metadata": {
        "colab": {
          "base_uri": "https://localhost:8080/"
        },
        "id": "TRmZBolSnX9L",
        "outputId": "174a899f-28f9-465c-d38e-dce8ab6e63b1"
      },
      "source": [
        "from sklearn.svm import SVC\r\n",
        "svm_clf = SVC(gamma=\"auto\", random_state=42)\r\n",
        "svm_clf.fit(X_train, y_train)\r\n",
        "svm_clf.predict([some_digit])"
      ],
      "execution_count": 47,
      "outputs": [
        {
          "output_type": "execute_result",
          "data": {
            "text/plain": [
              "array([5], dtype=uint8)"
            ]
          },
          "metadata": {
            "tags": []
          },
          "execution_count": 47
        }
      ]
    },
    {
      "cell_type": "markdown",
      "metadata": {
        "id": "eGMOxfLIq2ut"
      },
      "source": [
        "some_digit 데이터의 class별 점수를 확인해보자"
      ]
    },
    {
      "cell_type": "code",
      "metadata": {
        "colab": {
          "base_uri": "https://localhost:8080/"
        },
        "id": "auTiv5D8n7_9",
        "outputId": "457757d2-d3cd-4c32-a4a9-8a30ff6a150d"
      },
      "source": [
        "some_digit_scores = svm_clf.decision_function([some_digit])\r\n",
        "some_digit_scores"
      ],
      "execution_count": 48,
      "outputs": [
        {
          "output_type": "execute_result",
          "data": {
            "text/plain": [
              "array([[ 1.72501977,  2.72809088,  7.2510018 ,  8.3076379 , -0.31087254,\n",
              "         9.3132482 ,  1.70975103,  2.76765202,  6.23049537,  4.84771048]])"
            ]
          },
          "metadata": {
            "tags": []
          },
          "execution_count": 48
        }
      ]
    },
    {
      "cell_type": "markdown",
      "metadata": {
        "id": "gWaRRP6wqz5_"
      },
      "source": [
        "점수가 가장 높은 class를 확인해보자"
      ]
    },
    {
      "cell_type": "code",
      "metadata": {
        "colab": {
          "base_uri": "https://localhost:8080/"
        },
        "id": "xZTxyYtSrIXX",
        "outputId": "b7bb3333-a065-45b2-8ff3-918f6b386666"
      },
      "source": [
        "idx = np.argmax(some_digit_scores)\r\n",
        "svm_clf.classes_[idx]"
      ],
      "execution_count": 50,
      "outputs": [
        {
          "output_type": "execute_result",
          "data": {
            "text/plain": [
              "5"
            ]
          },
          "metadata": {
            "tags": []
          },
          "execution_count": 50
        }
      ]
    },
    {
      "cell_type": "markdown",
      "metadata": {
        "id": "ZeFYZNw2rO9t"
      },
      "source": [
        "__OneVsOneClassifier__ 또는 __OneVsRestClassifier__ 를 사용하여 OvO나, OvR을 강제할 수 있다.(심지어 이진 분류기일 필요도 없다)"
      ]
    },
    {
      "cell_type": "code",
      "metadata": {
        "colab": {
          "base_uri": "https://localhost:8080/"
        },
        "id": "giiVWTI1sWEP",
        "outputId": "ce1f6a9d-6819-4718-c697-136bf3045b10"
      },
      "source": [
        "from sklearn.multiclass import OneVsRestClassifier\r\n",
        "ovr_clf = OneVsRestClassifier(SVC(gamma=\"auto\", random_state=42))\r\n",
        "ovr_clf.fit(X_train[:1000], y_train[:1000])\r\n",
        "ovr_clf.predict([some_digit])"
      ],
      "execution_count": 51,
      "outputs": [
        {
          "output_type": "execute_result",
          "data": {
            "text/plain": [
              "array([5], dtype=uint8)"
            ]
          },
          "metadata": {
            "tags": []
          },
          "execution_count": 51
        }
      ]
    },
    {
      "cell_type": "code",
      "metadata": {
        "id": "V9QtdYJ_sjux"
      },
      "source": [
        ""
      ],
      "execution_count": null,
      "outputs": []
    }
  ]
}