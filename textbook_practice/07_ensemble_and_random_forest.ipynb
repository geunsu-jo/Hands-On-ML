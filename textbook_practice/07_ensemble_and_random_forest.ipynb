{
  "nbformat": 4,
  "nbformat_minor": 0,
  "metadata": {
    "colab": {
      "name": "07_ensemble_and_random_forest.ipynb",
      "provenance": [],
      "collapsed_sections": [],
      "toc_visible": true,
      "authorship_tag": "ABX9TyNfnKKbJUFr23kHFAcnD11K",
      "include_colab_link": true
    },
    "kernelspec": {
      "name": "python3",
      "display_name": "Python 3"
    }
  },
  "cells": [
    {
      "cell_type": "markdown",
      "metadata": {
        "id": "view-in-github",
        "colab_type": "text"
      },
      "source": [
        "<a href=\"https://colab.research.google.com/github/geunsu-jo/Hands-On-ML/blob/main/textbook_practice/07_ensemble_and_random_forest.ipynb\" target=\"_parent\"><img src=\"https://colab.research.google.com/assets/colab-badge.svg\" alt=\"Open In Colab\"/></a>"
      ]
    },
    {
      "cell_type": "markdown",
      "metadata": {
        "id": "Dppz1pdfgSA5"
      },
      "source": [
        "# 앙상블 학습"
      ]
    },
    {
      "cell_type": "markdown",
      "metadata": {
        "id": "m39sJGC0gVa0"
      },
      "source": [
        "여러 예측기로 부터 예측 결과를 수집하여, 더 좋은 예측을 얻는 방법. <br>\r\n",
        "__배깅__, __부스팅__, __스태킹__ 등이 있다."
      ]
    },
    {
      "cell_type": "markdown",
      "metadata": {
        "id": "ezhsWTaigsyj"
      },
      "source": [
        "샘플 생성"
      ]
    },
    {
      "cell_type": "code",
      "metadata": {
        "id": "7UBG6urcSAoI"
      },
      "source": [
        "from sklearn.model_selection import train_test_split\r\n",
        "from sklearn.datasets import make_moons\r\n",
        "\r\n",
        "X, y = make_moons(n_samples=500, noise=0.30, random_state=42)\r\n",
        "X_train, X_test, y_train, y_test = train_test_split(X, y, random_state=42)"
      ],
      "execution_count": 1,
      "outputs": []
    },
    {
      "cell_type": "markdown",
      "metadata": {
        "id": "haWFiDezT9Uj"
      },
      "source": [
        "## 투표 기반 분류기"
      ]
    },
    {
      "cell_type": "markdown",
      "metadata": {
        "id": "_hAYrK_oP8Ei"
      },
      "source": [
        "__직접 투표기__ : 각 분류기의 다수결 투표로 정해지는 분류기 <br>\r\n",
        "__간접 투표기__ : 개별 분류기의 확률을 예측할 수 있다면(__predcit_proba()__ 메서드가 있으면), 클래스 별 예측 확률을 평균을 내어, 가장 높은 클래스를 선택하는 분류기"
      ]
    },
    {
      "cell_type": "markdown",
      "metadata": {
        "id": "ZpQiOTc9bjTd"
      },
      "source": [
        "__직접 투표__"
      ]
    },
    {
      "cell_type": "code",
      "metadata": {
        "id": "eiwIsEcFP-Wa"
      },
      "source": [
        "from sklearn.ensemble import RandomForestClassifier\r\n",
        "from sklearn.ensemble import VotingClassifier\r\n",
        "from sklearn.linear_model import LogisticRegression\r\n",
        "from sklearn.svm import SVC\r\n",
        "\r\n",
        "log_clf = LogisticRegression(solver=\"newton-cg\", random_state=42) # solver =\"lbfgs\" is default\r\n",
        "rnd_clf = RandomForestClassifier(n_estimators=100, random_state=42)\r\n",
        "svm_clf = SVC(gamma=\"scale\", random_state=42)  # if gamma = \"scale\", 1 / (n_features * X.var()), if gamma = \"auto\", 1 / n_features\r\n",
        "\r\n",
        "voting_clf = VotingClassifier(\r\n",
        "    estimators=[('lr', log_clf), ('rf', rnd_clf), ('svc', svm_clf)],\r\n",
        "    voting='hard')"
      ],
      "execution_count": 2,
      "outputs": []
    },
    {
      "cell_type": "markdown",
      "metadata": {
        "id": "3xGXqzgBW_Eg"
      },
      "source": [
        "- voting='hard'는 직접 투표(default)\r\n",
        "- voting='soft'는 간접 투표"
      ]
    },
    {
      "cell_type": "code",
      "metadata": {
        "colab": {
          "base_uri": "https://localhost:8080/"
        },
        "id": "EVp9N-gpRsoU",
        "outputId": "9b2f4830-5d81-4334-f90e-6a8c3d08fc39"
      },
      "source": [
        "voting_clf.fit(X_train, y_train)"
      ],
      "execution_count": 3,
      "outputs": [
        {
          "output_type": "execute_result",
          "data": {
            "text/plain": [
              "VotingClassifier(estimators=[('lr',\n",
              "                              LogisticRegression(C=1.0, class_weight=None,\n",
              "                                                 dual=False, fit_intercept=True,\n",
              "                                                 intercept_scaling=1,\n",
              "                                                 l1_ratio=None, max_iter=100,\n",
              "                                                 multi_class='auto',\n",
              "                                                 n_jobs=None, penalty='l2',\n",
              "                                                 random_state=42,\n",
              "                                                 solver='newton-cg', tol=0.0001,\n",
              "                                                 verbose=0, warm_start=False)),\n",
              "                             ('rf',\n",
              "                              RandomForestClassifier(bootstrap=True,\n",
              "                                                     ccp_alpha=0.0,\n",
              "                                                     class_weight=None,...\n",
              "                                                     oob_score=False,\n",
              "                                                     random_state=42, verbose=0,\n",
              "                                                     warm_start=False)),\n",
              "                             ('svc',\n",
              "                              SVC(C=1.0, break_ties=False, cache_size=200,\n",
              "                                  class_weight=None, coef0=0.0,\n",
              "                                  decision_function_shape='ovr', degree=3,\n",
              "                                  gamma='scale', kernel='rbf', max_iter=-1,\n",
              "                                  probability=False, random_state=42,\n",
              "                                  shrinking=True, tol=0.001, verbose=False))],\n",
              "                 flatten_transform=True, n_jobs=None, voting='hard',\n",
              "                 weights=None)"
            ]
          },
          "metadata": {
            "tags": []
          },
          "execution_count": 3
        }
      ]
    },
    {
      "cell_type": "code",
      "metadata": {
        "colab": {
          "base_uri": "https://localhost:8080/"
        },
        "id": "Jf67VEAnR5r2",
        "outputId": "2c344b9e-8ae0-4d4d-c13e-627d915f770c"
      },
      "source": [
        "from sklearn.metrics import accuracy_score\r\n",
        "\r\n",
        "for clf in (log_clf, rnd_clf, svm_clf, voting_clf):\r\n",
        "    clf.fit(X_train, y_train)\r\n",
        "    y_pred = clf.predict(X_test)\r\n",
        "    print(clf.__class__.__name__, accuracy_score(y_test, y_pred))"
      ],
      "execution_count": 4,
      "outputs": [
        {
          "output_type": "stream",
          "text": [
            "LogisticRegression 0.864\n",
            "RandomForestClassifier 0.896\n",
            "SVC 0.896\n",
            "VotingClassifier 0.912\n"
          ],
          "name": "stdout"
        }
      ]
    },
    {
      "cell_type": "markdown",
      "metadata": {
        "id": "k-FmSPQVSHvq"
      },
      "source": [
        "- 각 개별 분류기보다 voting 결과가 더 높음을 알 수 있다."
      ]
    },
    {
      "cell_type": "markdown",
      "metadata": {
        "id": "m1se3hgDbY27"
      },
      "source": [
        "__간접 투표__"
      ]
    },
    {
      "cell_type": "code",
      "metadata": {
        "colab": {
          "base_uri": "https://localhost:8080/"
        },
        "id": "Sbqx4amsbaXR",
        "outputId": "ec869d98-6056-49c2-ec08-e2e4cee402b7"
      },
      "source": [
        "log_clf = LogisticRegression(solver=\"lbfgs\", random_state=42)\r\n",
        "rnd_clf = RandomForestClassifier(n_estimators=100, random_state=42)\r\n",
        "svm_clf = SVC(gamma=\"scale\", probability=True, random_state=42)\r\n",
        "\r\n",
        "voting_clf = VotingClassifier(\r\n",
        "    estimators=[('lr', log_clf), ('rf', rnd_clf), ('svc', svm_clf)],\r\n",
        "    voting='soft')\r\n",
        "\r\n",
        "voting_clf.fit(X_train, y_train)\r\n",
        "\r\n",
        "from sklearn.metrics import accuracy_score\r\n",
        "\r\n",
        "for clf in (log_clf, rnd_clf, svm_clf, voting_clf):\r\n",
        "    clf.fit(X_train, y_train)\r\n",
        "    y_pred = clf.predict(X_test)\r\n",
        "    print(clf.__class__.__name__, accuracy_score(y_test, y_pred))"
      ],
      "execution_count": 5,
      "outputs": [
        {
          "output_type": "stream",
          "text": [
            "LogisticRegression 0.864\n",
            "RandomForestClassifier 0.896\n",
            "SVC 0.896\n",
            "VotingClassifier 0.92\n"
          ],
          "name": "stdout"
        }
      ]
    },
    {
      "cell_type": "markdown",
      "metadata": {
        "id": "2ufyCNZvXwpZ"
      },
      "source": [
        "## 배깅과 페이스팅"
      ]
    },
    {
      "cell_type": "markdown",
      "metadata": {
        "id": "Q2U-zST9XyCe"
      },
      "source": [
        "__배깅__ : 중복을 허용하여 리샘플링 후, 샘플마다 같은 알고리즘을 각각 다르게 학습 <br>\r\n",
        "__페이스팅__ : 중복을 허용하지 않고 리샘플링 후, 샘플마다 같은 알고리즘을 각각 다르게 학습\r\n",
        "\r\n",
        "분류 문제에서 배깅과 페이스팅은 통계적 최빈값을 클래스로 예측(직접 투표와 같이)하고, 회귀 문제에서는 평균을 계산\r\n"
      ]
    },
    {
      "cell_type": "markdown",
      "metadata": {
        "id": "o1f-QY7hfKS5"
      },
      "source": [
        "### 사이킷런에서 배깅과 페이스팅"
      ]
    },
    {
      "cell_type": "markdown",
      "metadata": {
        "id": "Faz26ZYSaja1"
      },
      "source": [
        "사이킷런에서 __BaggingClassifier__(회귀는 BaggingRegressor) 클래스를 사용하여 배깅과 페이스팅 구현가능"
      ]
    },
    {
      "cell_type": "code",
      "metadata": {
        "id": "zLotjXBRbJcb"
      },
      "source": [
        "from sklearn.ensemble import BaggingClassifier\r\n",
        "from sklearn.tree import DecisionTreeClassifier\r\n",
        "\r\n",
        "bag_clf = BaggingClassifier(\r\n",
        "    DecisionTreeClassifier(random_state=42), n_estimators=500,\r\n",
        "    max_samples=100, bootstrap=True, random_state=42, n_jobs=-1)\r\n",
        "\r\n",
        "bag_clf.fit(X_train, y_train)\r\n",
        "y_pred = bag_clf.predict(X_test)"
      ],
      "execution_count": 6,
      "outputs": []
    },
    {
      "cell_type": "markdown",
      "metadata": {
        "id": "6X7zLRw3csal"
      },
      "source": [
        "- __n_jobs__ 는 훈련과 예측에 사용할 CPU 코어 수를 지정(-1일 경우 가용한 모든 코어 사용)\r\n",
        "- __bootstrap=True__ 이면 배깅이고, False이면 페이스팅"
      ]
    },
    {
      "cell_type": "code",
      "metadata": {
        "colab": {
          "base_uri": "https://localhost:8080/"
        },
        "id": "6zmXqQiTc0hL",
        "outputId": "d951f159-6caf-4139-a237-511c95c5c237"
      },
      "source": [
        "from sklearn.metrics import accuracy_score\r\n",
        "\r\n",
        "tree_clf = DecisionTreeClassifier(random_state=42)\r\n",
        "tree_clf.fit(X_train, y_train)\r\n",
        "y_pred_tree = tree_clf.predict(X_test)\r\n",
        "\r\n",
        "print(accuracy_score(y_test, y_pred_tree))\r\n",
        "print(accuracy_score(y_test, y_pred))"
      ],
      "execution_count": 7,
      "outputs": [
        {
          "output_type": "stream",
          "text": [
            "0.856\n",
            "0.904\n"
          ],
          "name": "stdout"
        }
      ]
    },
    {
      "cell_type": "markdown",
      "metadata": {
        "id": "OV3TeLOTd0c2"
      },
      "source": [
        "- 개별 트리보다, 트리를 배깅한 것이 더 높은 예측률"
      ]
    },
    {
      "cell_type": "markdown",
      "metadata": {
        "id": "1GrzhrjWd9Ab"
      },
      "source": [
        "훈련 데이터로부터 학습된 개별 트리와, 배깅의 결정경계 시각화"
      ]
    },
    {
      "cell_type": "code",
      "metadata": {
        "id": "k3fZ7odcev2L"
      },
      "source": [
        "from matplotlib.colors import ListedColormap\r\n",
        "\r\n",
        "def plot_decision_boundary(clf, X, y, axes=[-1.5, 2.45, -1, 1.5], alpha=0.5, contour=True):\r\n",
        "    x1s = np.linspace(axes[0], axes[1], 100)\r\n",
        "    x2s = np.linspace(axes[2], axes[3], 100)\r\n",
        "    x1, x2 = np.meshgrid(x1s, x2s)\r\n",
        "    X_new = np.c_[x1.ravel(), x2.ravel()]\r\n",
        "    y_pred = clf.predict(X_new).reshape(x1.shape)\r\n",
        "    custom_cmap = ListedColormap(['#fafab0','#9898ff','#a0faa0'])\r\n",
        "    plt.contourf(x1, x2, y_pred, alpha=0.3, cmap=custom_cmap)\r\n",
        "    if contour:\r\n",
        "        custom_cmap2 = ListedColormap(['#7d7d58','#4c4c7f','#507d50'])\r\n",
        "        plt.contour(x1, x2, y_pred, cmap=custom_cmap2, alpha=0.8)\r\n",
        "    plt.plot(X[:, 0][y==0], X[:, 1][y==0], \"yo\", alpha=alpha)\r\n",
        "    plt.plot(X[:, 0][y==1], X[:, 1][y==1], \"bs\", alpha=alpha)\r\n",
        "    plt.axis(axes)\r\n",
        "    plt.xlabel(r\"$x_1$\", fontsize=18)\r\n",
        "    plt.ylabel(r\"$x_2$\", fontsize=18, rotation=0)"
      ],
      "execution_count": 8,
      "outputs": []
    },
    {
      "cell_type": "code",
      "metadata": {
        "colab": {
          "base_uri": "https://localhost:8080/",
          "height": 304
        },
        "id": "7UTIYZ94ey_v",
        "outputId": "3f0325d0-6430-4110-e09e-4cc6585c24eb"
      },
      "source": [
        "import matplotlib.pyplot as plt\r\n",
        "import numpy as np\r\n",
        "\r\n",
        "fix, axes = plt.subplots(ncols=2, figsize=(10,4), sharey=True)\r\n",
        "plt.sca(axes[0])\r\n",
        "plot_decision_boundary(tree_clf, X, y)\r\n",
        "plt.title(\"Decision Tree\", fontsize=14)\r\n",
        "plt.sca(axes[1])\r\n",
        "plot_decision_boundary(bag_clf, X, y)\r\n",
        "plt.title(\"Decision Trees with Bagging\", fontsize=14)\r\n",
        "plt.ylabel(\"\")\r\n",
        "\r\n",
        "plt.show()"
      ],
      "execution_count": 9,
      "outputs": [
        {
          "output_type": "display_data",
          "data": {
            "image/png": "[encoded data removed]",
            "text/plain": [
              "<Figure size 720x288 with 2 Axes>"
            ]
          },
          "metadata": {
            "tags": [],
            "needs_background": "light"
          }
        }
      ]
    },
    {
      "cell_type": "markdown",
      "metadata": {
        "id": "94Tof9Kme2XC"
      },
      "source": [
        "### OOB 평가"
      ]
    },
    {
      "cell_type": "markdown",
      "metadata": {
        "id": "-5EJDyltfQOA"
      },
      "source": [
        "배깅 방법을 적용할 때, 리샘플링 되지 않은 샘플들로 모델을 평가하는 방법. 중복을 허용하여 리샘플링을 할 때, 대략 63%정도 샘플링되고 남은 37%로 모델을 평가한다. 여기서 나머지 37% 샘플을 oob(out-of-bag) sample이라 부른다."
      ]
    },
    {
      "cell_type": "markdown",
      "metadata": {
        "id": "IVh5mfgtftMo"
      },
      "source": [
        "사이킷런에서 __BaggingClassifer__를 만들때 __oob_score=True__로 지정하면, 자동으로 oob 평가 수행. (개별 분류기의 oob 평가를 평균내어 반환)"
      ]
    },
    {
      "cell_type": "code",
      "metadata": {
        "colab": {
          "base_uri": "https://localhost:8080/"
        },
        "id": "PNfRKi0BhM7Y",
        "outputId": "ff0e7904-61e9-4c9c-9f42-fa8e0d30aceb"
      },
      "source": [
        "bag_clf = BaggingClassifier(\r\n",
        "    DecisionTreeClassifier(random_state=42), n_estimators=500,\r\n",
        "    bootstrap=True, oob_score=True, random_state=40)\r\n",
        "bag_clf.fit(X_train, y_train)\r\n",
        "\r\n",
        "bag_clf.oob_score_"
      ],
      "execution_count": 10,
      "outputs": [
        {
          "output_type": "execute_result",
          "data": {
            "text/plain": [
              "0.9013333333333333"
            ]
          },
          "metadata": {
            "tags": []
          },
          "execution_count": 10
        }
      ]
    },
    {
      "cell_type": "markdown",
      "metadata": {
        "id": "YR65TeWVhell"
      },
      "source": [
        "- oob sample을 통해 검증 결과, 90.1%의 정확도를 보임"
      ]
    },
    {
      "cell_type": "code",
      "metadata": {
        "colab": {
          "base_uri": "https://localhost:8080/"
        },
        "id": "ADV9xyYTjXZp",
        "outputId": "fbf5da09-dda8-47e5-d972-19a122f22e8b"
      },
      "source": [
        "bag_clf.oob_decision_function_[0:10,]"
      ],
      "execution_count": 11,
      "outputs": [
        {
          "output_type": "execute_result",
          "data": {
            "text/plain": [
              "array([[0.31746032, 0.68253968],\n",
              "       [0.34117647, 0.65882353],\n",
              "       [1.        , 0.        ],\n",
              "       [0.        , 1.        ],\n",
              "       [0.        , 1.        ],\n",
              "       [0.08379888, 0.91620112],\n",
              "       [0.31693989, 0.68306011],\n",
              "       [0.02923977, 0.97076023],\n",
              "       [0.97687861, 0.02312139],\n",
              "       [0.97765363, 0.02234637]])"
            ]
          },
          "metadata": {
            "tags": []
          },
          "execution_count": 11
        }
      ]
    },
    {
      "cell_type": "markdown",
      "metadata": {
        "id": "1YxCeiIGjZx0"
      },
      "source": [
        "- 각 훈련 샘플에서 oob 평가를 통해, 클래스의 확률을 반환.\r\n",
        "- 예를 들어 첫 샘플이 oob 평가에 사용될 때, 음성일 클래스 확률은 0.31, 양성일 클래스 확률은 0.68"
      ]
    },
    {
      "cell_type": "markdown",
      "metadata": {
        "id": "wSjxeeV3home"
      },
      "source": [
        "테스트 세트로 평가해보자."
      ]
    },
    {
      "cell_type": "code",
      "metadata": {
        "colab": {
          "base_uri": "https://localhost:8080/"
        },
        "id": "p2YeirP_hrgT",
        "outputId": "95feb12c-08bb-4087-bc28-5ec9beee044e"
      },
      "source": [
        "from sklearn.metrics import accuracy_score\r\n",
        "y_pred = bag_clf.predict(X_test)\r\n",
        "accuracy_score(y_test, y_pred)"
      ],
      "execution_count": 12,
      "outputs": [
        {
          "output_type": "execute_result",
          "data": {
            "text/plain": [
              "0.912"
            ]
          },
          "metadata": {
            "tags": []
          },
          "execution_count": 12
        }
      ]
    },
    {
      "cell_type": "markdown",
      "metadata": {
        "id": "A92uGDTzhyES"
      },
      "source": [
        "## 랜덤 패치와 랜덤 서브스페이스"
      ]
    },
    {
      "cell_type": "markdown",
      "metadata": {
        "id": "jaJpl4n7icYw"
      },
      "source": [
        "__랜덤 패치 방식__ : 훈련 샘플과 훈련 특성(feature)를 모두 사용하는 방식 <br>\r\n",
        "__랜덤 서브 스페이스__ : 훈련 샘플은 모두 사용하고(중복 허용), 훈련 특성은 일부만 뽑아 사용하는 방식 <br>\r\n"
      ]
    },
    {
      "cell_type": "markdown",
      "metadata": {
        "id": "HuJnrp8WlrEg"
      },
      "source": [
        "특성을 서브 샘플링할 경우 분산은 낮추는 대신, 편향은 증가"
      ]
    },
    {
      "cell_type": "markdown",
      "metadata": {
        "id": "EjGZol6qlvWG"
      },
      "source": [
        "## 랜덤 포레스트"
      ]
    },
    {
      "cell_type": "markdown",
      "metadata": {
        "id": "ndnY9WxamS2d"
      },
      "source": [
        "배깅과 거의 유사하나, 각 Decision tree에 사용되는 특성을 random하게 선택한다. 즉, 편향을 높이더라도 분산을 더 낮추는 방법. <br>\r\n",
        "__max_features=\"auto\"__ 면(default), 트리를 만들때 사용되는 특성은 sqrt(n)개"
      ]
    },
    {
      "cell_type": "code",
      "metadata": {
        "id": "xaj_MluBxDI3"
      },
      "source": [
        "from sklearn.ensemble import RandomForestClassifier\r\n",
        "\r\n",
        "rnd_clf = RandomForestClassifier(n_estimators=500, max_leaf_nodes=16, random_state=42)\r\n",
        "rnd_clf.fit(X_train, y_train)\r\n",
        "\r\n",
        "y_pred_rf = rnd_clf.predict(X_test)"
      ],
      "execution_count": 13,
      "outputs": []
    },
    {
      "cell_type": "code",
      "metadata": {
        "colab": {
          "base_uri": "https://localhost:8080/"
        },
        "id": "smaKj4TPzBus",
        "outputId": "c9b15fdf-1da8-479a-db39-e19ac4b1387a"
      },
      "source": [
        "from sklearn.metrics import accuracy_score\r\n",
        "accuracy_score(y_test, y_pred_rf)"
      ],
      "execution_count": 14,
      "outputs": [
        {
          "output_type": "execute_result",
          "data": {
            "text/plain": [
              "0.912"
            ]
          },
          "metadata": {
            "tags": []
          },
          "execution_count": 14
        }
      ]
    },
    {
      "cell_type": "markdown",
      "metadata": {
        "id": "eHZOQ67nzCCk"
      },
      "source": [
        "### 엑스트라 트리"
      ]
    },
    {
      "cell_type": "markdown",
      "metadata": {
        "id": "O4jAWGkUzpCS"
      },
      "source": [
        "랜덤 포레스트보다 분산을 더 낮추는 극단적인 방법. <br>\r\n",
        "각 트리에서 노드를 분할 할 때, 1개의 특성을 무작위적으로 선택한 다음 최적의 임곗값을 구함(랜덤 포레스트는 모든 특성에 대해 최적의 임계값을 구함) <br>\r\n",
        "따라서, 랜덤포레스트에 비해 편향은 높으나 분산을 낮추고 계산비용 또한 효율적이다. 랜덤포레스트와 엑스트라 트리중 더 나은 모델을 선택하는 것은 어려우므로 교차 검증을 통해 비교해보는 것이 유일한 방법."
      ]
    },
    {
      "cell_type": "code",
      "metadata": {
        "id": "_PHCIpGd0RIg"
      },
      "source": [
        "from sklearn.ensemble import ExtraTreesClassifier\r\n",
        "\r\n",
        "ext_clf = ExtraTreesClassifier(n_estimators=500, max_leaf_nodes=16, random_state=42)\r\n",
        "ext_clf.fit(X_train, y_train)\r\n",
        "\r\n",
        "y_pred_ext = ext_clf.predict(X_test)"
      ],
      "execution_count": 15,
      "outputs": []
    },
    {
      "cell_type": "code",
      "metadata": {
        "colab": {
          "base_uri": "https://localhost:8080/"
        },
        "id": "aviFJexr0XX8",
        "outputId": "765eee51-000a-42bb-a987-3c9be58f3376"
      },
      "source": [
        "accuracy_score(y_test, y_pred_ext)"
      ],
      "execution_count": 16,
      "outputs": [
        {
          "output_type": "execute_result",
          "data": {
            "text/plain": [
              "0.912"
            ]
          },
          "metadata": {
            "tags": []
          },
          "execution_count": 16
        }
      ]
    },
    {
      "cell_type": "markdown",
      "metadata": {
        "id": "ORAfuGVc03hH"
      },
      "source": [
        "### 특성 중요도"
      ]
    },
    {
      "cell_type": "markdown",
      "metadata": {
        "id": "fOenUzqw1kC2"
      },
      "source": [
        "랜덤 포레스트에 있는 모든 트리에 걸쳐서 어떤 특성을 사용한 노드가 평균적으로 불순도를 얼마나 감소시키는지 확인하여 특성의 중요도를 측정한다. DecisionTreeClassifier의 특성 중요도는, 일부 특성을 완전히 배제시킬 수 도 있지만, 랜덤포레스트는 개별 모델에서 특성 선택과정에 무작위성이 주입되므로 모든 특성에 대해 평가할 기회가 주어짐."
      ]
    },
    {
      "cell_type": "code",
      "metadata": {
        "colab": {
          "base_uri": "https://localhost:8080/"
        },
        "id": "p9hZ4kWh2L4N",
        "outputId": "80a6b21c-bf63-4d9c-fac2-a63e80d15753"
      },
      "source": [
        "from sklearn.datasets import load_iris\r\n",
        "iris = load_iris()\r\n",
        "rnd_clf = RandomForestClassifier(n_estimators=500, random_state=42)\r\n",
        "rnd_clf.fit(iris[\"data\"], iris[\"target\"])\r\n",
        "for name, score in zip(iris[\"feature_names\"], rnd_clf.feature_importances_):\r\n",
        "    print(name, score)"
      ],
      "execution_count": 17,
      "outputs": [
        {
          "output_type": "stream",
          "text": [
            "sepal length (cm) 0.11249225099876375\n",
            "sepal width (cm) 0.02311928828251033\n",
            "petal length (cm) 0.4410304643639577\n",
            "petal width (cm) 0.4233579963547682\n"
          ],
          "name": "stdout"
        }
      ]
    },
    {
      "cell_type": "markdown",
      "metadata": {
        "id": "bbR47fDY23qw"
      },
      "source": [
        "## 부스팅"
      ]
    },
    {
      "cell_type": "markdown",
      "metadata": {
        "id": "9N0a-Mhl24tC"
      },
      "source": [
        "약한 학습기를 여러 개 연걸하여 강한 학습기를 만드는 앙상블 방법"
      ]
    },
    {
      "cell_type": "markdown",
      "metadata": {
        "id": "3pZqSVNA4f1X"
      },
      "source": [
        "## 에이다부스트"
      ]
    },
    {
      "cell_type": "markdown",
      "metadata": {
        "id": "H-ATFFLW8pGO"
      },
      "source": [
        "이전 모델이 과소적합했던 훈련 샘플의 가중치를 더 높이는 방법"
      ]
    },
    {
      "cell_type": "code",
      "metadata": {
        "id": "0oIpC95E4g_J",
        "outputId": "fe59800c-6432-4685-9626-f40de4f68a23",
        "colab": {
          "base_uri": "https://localhost:8080/"
        }
      },
      "source": [
        "from sklearn.ensemble import AdaBoostClassifier\r\n",
        "\r\n",
        "ada_clf = AdaBoostClassifier(\r\n",
        "    DecisionTreeClassifier(max_depth=1), n_estimators=30,\r\n",
        "    algorithm=\"SAMME.R\", learning_rate=0.5, random_state=42)\r\n",
        "ada_clf.fit(X_train, y_train)"
      ],
      "execution_count": 40,
      "outputs": [
        {
          "output_type": "execute_result",
          "data": {
            "text/plain": [
              "AdaBoostClassifier(algorithm='SAMME.R',\n",
              "                   base_estimator=DecisionTreeClassifier(ccp_alpha=0.0,\n",
              "                                                         class_weight=None,\n",
              "                                                         criterion='gini',\n",
              "                                                         max_depth=1,\n",
              "                                                         max_features=None,\n",
              "                                                         max_leaf_nodes=None,\n",
              "                                                         min_impurity_decrease=0.0,\n",
              "                                                         min_impurity_split=None,\n",
              "                                                         min_samples_leaf=1,\n",
              "                                                         min_samples_split=2,\n",
              "                                                         min_weight_fraction_leaf=0.0,\n",
              "                                                         presort='deprecated',\n",
              "                                                         random_state=None,\n",
              "                                                         splitter='best'),\n",
              "                   learning_rate=0.5, n_estimators=30, random_state=42)"
            ]
          },
          "metadata": {
            "tags": []
          },
          "execution_count": 40
        }
      ]
    },
    {
      "cell_type": "code",
      "metadata": {
        "id": "m15itKpo409p",
        "outputId": "0e137ba3-6416-4b8c-eb54-a1fd8f389c2c",
        "colab": {
          "base_uri": "https://localhost:8080/",
          "height": 291
        }
      },
      "source": [
        "plot_decision_boundary(ada_clf, X, y)"
      ],
      "execution_count": 41,
      "outputs": [
        {
          "output_type": "display_data",
          "data": {
            "image/png": "[encoded data removed]",
            "text/plain": [
              "<Figure size 432x288 with 1 Axes>"
            ]
          },
          "metadata": {
            "tags": [],
            "needs_background": "light"
          }
        }
      ]
    },
    {
      "cell_type": "code",
      "metadata": {
        "id": "YIWNaspv43D_"
      },
      "source": [
        ""
      ],
      "execution_count": null,
      "outputs": []
    }
  ]
}