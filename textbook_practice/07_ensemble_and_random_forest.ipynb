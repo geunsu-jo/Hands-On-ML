{
  "nbformat": 4,
  "nbformat_minor": 0,
  "metadata": {
    "colab": {
      "name": "07_ensemble_and_random_forest.ipynb",
      "provenance": [],
      "authorship_tag": "ABX9TyPwDIcOnL2lURJzYLiEC6Kz",
      "include_colab_link": true
    },
    "kernelspec": {
      "name": "python3",
      "display_name": "Python 3"
    }
  },
  "cells": [
    {
      "cell_type": "markdown",
      "metadata": {
        "id": "view-in-github",
        "colab_type": "text"
      },
      "source": [
        "<a href=\"https://colab.research.google.com/github/geunsu-jo/Hands-On-ML/blob/main/textbook_practice/07_ensemble_and_random_forest.ipynb\" target=\"_parent\"><img src=\"https://colab.research.google.com/assets/colab-badge.svg\" alt=\"Open In Colab\"/></a>"
      ]
    },
    {
      "cell_type": "code",
      "metadata": {
        "id": "7UBG6urcSAoI"
      },
      "source": [
        "from sklearn.model_selection import train_test_split\r\n",
        "from sklearn.datasets import make_moons\r\n",
        "\r\n",
        "X, y = make_moons(n_samples=500, noise=0.30, random_state=42)\r\n",
        "X_train, X_test, y_train, y_test = train_test_split(X, y, random_state=42)"
      ],
      "execution_count": 3,
      "outputs": []
    },
    {
      "cell_type": "markdown",
      "metadata": {
        "id": "haWFiDezT9Uj"
      },
      "source": [
        "## 투표 기반 분류기"
      ]
    },
    {
      "cell_type": "markdown",
      "metadata": {
        "id": "_hAYrK_oP8Ei"
      },
      "source": [
        "__직접 투표기__ : 각 분류기의 다수결 투표로 정해지는 분류기 <br>\r\n",
        "__간접 투표기__ : 개별 분류기의 확률을 예측할 수 있다면(__predcit_proba()__ 메서드가 있으면), 클래스 별 예측 확률을 평균을 내어, 가장 높은 클래스를 선택하는 분류기"
      ]
    },
    {
      "cell_type": "code",
      "metadata": {
        "id": "eiwIsEcFP-Wa"
      },
      "source": [
        "from sklearn.ensemble import RandomForestClassifier\r\n",
        "from sklearn.ensemble import VotingClassifier\r\n",
        "from sklearn.linear_model import LogisticRegression\r\n",
        "from sklearn.svm import SVC\r\n",
        "\r\n",
        "log_clf = LogisticRegression(solver=\"newton-cg\", random_state=42)\r\n",
        "rnd_clf = RandomForestClassifier(n_estimators=100, random_state=42)\r\n",
        "svm_clf = SVC(gamma=\"scale\", random_state=42)\r\n",
        "\r\n",
        "voting_clf = VotingClassifier(\r\n",
        "    estimators=[('lr', log_clf), ('rf', rnd_clf), ('svc', svm_clf)],\r\n",
        "    voting='hard')"
      ],
      "execution_count": 7,
      "outputs": []
    },
    {
      "cell_type": "code",
      "metadata": {
        "colab": {
          "base_uri": "https://localhost:8080/"
        },
        "id": "EVp9N-gpRsoU",
        "outputId": "123629d3-a221-4451-e1ab-a60c82b41f69"
      },
      "source": [
        "voting_clf.fit(X_train, y_train)"
      ],
      "execution_count": 8,
      "outputs": [
        {
          "output_type": "execute_result",
          "data": {
            "text/plain": [
              "VotingClassifier(estimators=[('lr',\n",
              "                              LogisticRegression(C=1.0, class_weight=None,\n",
              "                                                 dual=False, fit_intercept=True,\n",
              "                                                 intercept_scaling=1,\n",
              "                                                 l1_ratio=None, max_iter=100,\n",
              "                                                 multi_class='auto',\n",
              "                                                 n_jobs=None, penalty='l2',\n",
              "                                                 random_state=42,\n",
              "                                                 solver='newton-cg', tol=0.0001,\n",
              "                                                 verbose=0, warm_start=False)),\n",
              "                             ('rf',\n",
              "                              RandomForestClassifier(bootstrap=True,\n",
              "                                                     ccp_alpha=0.0,\n",
              "                                                     class_weight=None,...\n",
              "                                                     oob_score=False,\n",
              "                                                     random_state=42, verbose=0,\n",
              "                                                     warm_start=False)),\n",
              "                             ('svc',\n",
              "                              SVC(C=1.0, break_ties=False, cache_size=200,\n",
              "                                  class_weight=None, coef0=0.0,\n",
              "                                  decision_function_shape='ovr', degree=3,\n",
              "                                  gamma='scale', kernel='rbf', max_iter=-1,\n",
              "                                  probability=False, random_state=42,\n",
              "                                  shrinking=True, tol=0.001, verbose=False))],\n",
              "                 flatten_transform=True, n_jobs=None, voting='hard',\n",
              "                 weights=None)"
            ]
          },
          "metadata": {
            "tags": []
          },
          "execution_count": 8
        }
      ]
    },
    {
      "cell_type": "code",
      "metadata": {
        "colab": {
          "base_uri": "https://localhost:8080/"
        },
        "id": "Jf67VEAnR5r2",
        "outputId": "8a88f7db-5099-44cb-b59f-5ce4e287dc7e"
      },
      "source": [
        "from sklearn.metrics import accuracy_score\r\n",
        "\r\n",
        "for clf in (log_clf, rnd_clf, svm_clf, voting_clf):\r\n",
        "    clf.fit(X_train, y_train)\r\n",
        "    y_pred = clf.predict(X_test)\r\n",
        "    print(clf.__class__.__name__, accuracy_score(y_test, y_pred))"
      ],
      "execution_count": 9,
      "outputs": [
        {
          "output_type": "stream",
          "text": [
            "LogisticRegression 0.864\n",
            "RandomForestClassifier 0.896\n",
            "SVC 0.896\n",
            "VotingClassifier 0.912\n"
          ],
          "name": "stdout"
        }
      ]
    },
    {
      "cell_type": "code",
      "metadata": {
        "id": "k-FmSPQVSHvq"
      },
      "source": [
        ""
      ],
      "execution_count": null,
      "outputs": []
    }
  ]
}