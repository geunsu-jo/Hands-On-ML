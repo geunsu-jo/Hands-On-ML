{
  "nbformat": 4,
  "nbformat_minor": 0,
  "metadata": {
    "colab": {
      "name": "02_1_load_fit_model.ipynb",
      "provenance": [],
      "collapsed_sections": [],
      "authorship_tag": "ABX9TyOkcsptuIezjg7Noo4G79lE",
      "include_colab_link": true
    },
    "kernelspec": {
      "name": "python3",
      "display_name": "Python 3"
    }
  },
  "cells": [
    {
      "cell_type": "markdown",
      "metadata": {
        "id": "view-in-github",
        "colab_type": "text"
      },
      "source": [
        "<a href=\"https://colab.research.google.com/github/geunsu-jo/Hands-On-ML/blob/main/textbook_practice/02_1_load_fit_model.ipynb\" target=\"_parent\"><img src=\"https://colab.research.google.com/assets/colab-badge.svg\" alt=\"Open In Colab\"/></a>"
      ]
    },
    {
      "cell_type": "code",
      "metadata": {
        "colab": {
          "base_uri": "https://localhost:8080/"
        },
        "id": "ZGCgBuFhiZh6",
        "outputId": "8ef6eb44-9aaf-4ea6-f2c0-b3f929924e88"
      },
      "source": [
        "from google.colab import drive\r\n",
        "drive.mount('/content/gdrive')"
      ],
      "execution_count": 1,
      "outputs": [
        {
          "output_type": "stream",
          "text": [
            "Mounted at /content/gdrive\n"
          ],
          "name": "stdout"
        }
      ]
    },
    {
      "cell_type": "markdown",
      "metadata": {
        "id": "iVPRrNZRlJJX"
      },
      "source": [
        "만들어진 최종모델안에 CombinedAttributesAdder 가 있어서 다시 만들어줘야함..."
      ]
    },
    {
      "cell_type": "code",
      "metadata": {
        "id": "ShdK7V3WjoQF"
      },
      "source": [
        "from sklearn.base import BaseEstimator, TransformerMixin\r\n",
        "\r\n",
        "# column index(하드코딩)\r\n",
        "rooms_ix, bedrooms_ix, population_ix, households_ix = 3, 4, 5, 6\r\n",
        "\r\n",
        "class CombinedAttributesAdder(BaseEstimator, TransformerMixin):\r\n",
        "    def __init__(self, add_bedrooms_per_room=True): # no *args or **kargs\r\n",
        "        self.add_bedrooms_per_room = add_bedrooms_per_room\r\n",
        "    def fit(self, X, y=None):\r\n",
        "        return self  # nothing else to do\r\n",
        "    def transform(self, X):\r\n",
        "        rooms_per_household = X[:, rooms_ix] / X[:, households_ix] # numpy 형식이라 index가 들어가야한다고 함\r\n",
        "        population_per_household = X[:, population_ix] / X[:, households_ix]\r\n",
        "        if self.add_bedrooms_per_room:\r\n",
        "            bedrooms_per_room = X[:, bedrooms_ix] / X[:, rooms_ix]\r\n",
        "            return np.c_[X, rooms_per_household, population_per_household,\r\n",
        "                         bedrooms_per_room]\r\n",
        "        else:\r\n",
        "            return np.c_[X, rooms_per_household, population_per_household]"
      ],
      "execution_count": 5,
      "outputs": []
    },
    {
      "cell_type": "markdown",
      "metadata": {
        "id": "JQbfgd8FlTCP"
      },
      "source": [
        "모델 불러오기"
      ]
    },
    {
      "cell_type": "code",
      "metadata": {
        "id": "1oRy-CNWidR3"
      },
      "source": [
        "import joblib\r\n",
        "my_model_loaded = joblib.load(\"/content/gdrive/MyDrive/Hands-On-ML/textbook_practice/my_model.pkl\")"
      ],
      "execution_count": 6,
      "outputs": []
    },
    {
      "cell_type": "markdown",
      "metadata": {
        "id": "T3-1JowqlU28"
      },
      "source": [
        "데이터 불러오기"
      ]
    },
    {
      "cell_type": "code",
      "metadata": {
        "id": "KQwE1K1EirPW"
      },
      "source": [
        "import numpy as np\r\n",
        "import pandas as pd\r\n",
        "housing = pd.read_csv(\"/content/gdrive/MyDrive/Hands-On-ML/textbook_practice/dataset/housing.csv\")"
      ],
      "execution_count": 10,
      "outputs": []
    },
    {
      "cell_type": "markdown",
      "metadata": {
        "id": "MCu-HSCKlWb-"
      },
      "source": [
        "데이터 셋 나누기(train, test는 나누지 않음)"
      ]
    },
    {
      "cell_type": "code",
      "metadata": {
        "id": "Gj1YYDDkj0_p"
      },
      "source": [
        "Data = housing.copy()\r\n",
        "Data_x = Data.drop(\"median_house_value\", axis=1)\r\n",
        "Data_y = Data[\"median_house_value\"]"
      ],
      "execution_count": 11,
      "outputs": []
    },
    {
      "cell_type": "markdown",
      "metadata": {
        "id": "di5litwZlYye"
      },
      "source": [
        "모델 fit & predict"
      ]
    },
    {
      "cell_type": "code",
      "metadata": {
        "colab": {
          "base_uri": "https://localhost:8080/"
        },
        "id": "bnmHUfwlkYn_",
        "outputId": "f35de7d9-4acc-4a2e-b749-3d4754c65e09"
      },
      "source": [
        "my_model_loaded.fit(Data_x, Data_y)\r\n",
        "my_model_loaded.predict(Data_x)"
      ],
      "execution_count": 12,
      "outputs": [
        {
          "output_type": "execute_result",
          "data": {
            "text/plain": [
              "array([406122.44317288, 431667.18043819, 377259.09665099, ...,\n",
              "        37090.24686849,  48311.47794443,  64241.15395988])"
            ]
          },
          "metadata": {
            "tags": []
          },
          "execution_count": 12
        }
      ]
    },
    {
      "cell_type": "code",
      "metadata": {
        "id": "7W0GPtSmkp3D"
      },
      "source": [
        ""
      ],
      "execution_count": null,
      "outputs": []
    }
  ]
}