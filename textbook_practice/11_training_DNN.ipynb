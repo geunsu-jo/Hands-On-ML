{
  "nbformat": 4,
  "nbformat_minor": 0,
  "metadata": {
    "colab": {
      "name": "11_training_DNN.ipynb",
      "provenance": [],
      "toc_visible": true,
      "authorship_tag": "ABX9TyN7AR5JKYVX1782iJL6guEW",
      "include_colab_link": true
    },
    "kernelspec": {
      "name": "python3",
      "display_name": "Python 3"
    }
  },
  "cells": [
    {
      "cell_type": "markdown",
      "metadata": {
        "id": "view-in-github",
        "colab_type": "text"
      },
      "source": [
        "<a href=\"https://colab.research.google.com/github/geunsu-jo/Hands-On-ML/blob/main/textbook_practice/11_training_DNN.ipynb\" target=\"_parent\"><img src=\"https://colab.research.google.com/assets/colab-badge.svg\" alt=\"Open In Colab\"/></a>"
      ]
    },
    {
      "cell_type": "markdown",
      "metadata": {
        "id": "8jtVx4vl_lDO"
      },
      "source": [
        "## 그레디언트 소실과 폭주 문제"
      ]
    },
    {
      "cell_type": "markdown",
      "metadata": {
        "id": "_zJhdv6LAzEU"
      },
      "source": [
        "1. 가중치 초기화 방법에 문제 <br>\r\n",
        "- 평균이 0이고 표준편차가 1인 정규분포로부터 초기 가중치를 구했는데 이를 로지스틱 활성화 함수와 같이 사용할 경우, 출력의 분산이 입력의 분산보다 커져서, 가장 높은 층(마지막 층)에서 활성화 함수가 0이나 1로 수렴\r\n",
        "- 로지스틱 함수의 평균이 0.5이다. 반면 tanh함수는 평균이 0이므로, 가중치 초기화를 정규분포로 사용했을 때 로지스틱 함수보다 조금 더 나은 성능을 보임\r\n",
        "2. 활성화 함수 선택의 문제 <br>\r\n",
        "- 활성화 함수로 로지스틱함수를 사용할 경우, 양 극값에서 미분계수가 0으로 수렴함에 따라 가중치 업데이트가 불가능하게 됨"
      ]
    },
    {
      "cell_type": "code",
      "metadata": {
        "id": "br7n48739xQE"
      },
      "source": [
        "def logit(z):\r\n",
        "    return 1 / (1 + np.exp(-z))"
      ],
      "execution_count": 1,
      "outputs": []
    },
    {
      "cell_type": "code",
      "metadata": {
        "colab": {
          "base_uri": "https://localhost:8080/",
          "height": 300
        },
        "id": "Ff6mZR1A_oao",
        "outputId": "78498b15-2755-42bd-e37a-e8d3cadc9d38"
      },
      "source": [
        "import matplotlib.pyplot as plt\r\n",
        "import numpy as np\r\n",
        "\r\n",
        "z = np.linspace(-5, 5, 200)\r\n",
        "\r\n",
        "plt.plot([-5, 5], [0, 0], 'k-')\r\n",
        "plt.plot([-5, 5], [1, 1], 'k--')\r\n",
        "plt.plot([0, 0], [-0.2, 1.2], 'k-')\r\n",
        "plt.plot([-5, 5], [-3/4, 7/4], 'g--')\r\n",
        "plt.plot(z, logit(z), \"b-\", linewidth=2)\r\n",
        "props = dict(facecolor='black', shrink=0.1)\r\n",
        "plt.annotate('Saturating', xytext=(3.5, 0.7), xy=(5, 1), arrowprops=props, fontsize=14, ha=\"center\")\r\n",
        "plt.annotate('Saturating', xytext=(-3.5, 0.3), xy=(-5, 0), arrowprops=props, fontsize=14, ha=\"center\")\r\n",
        "plt.annotate('Linear', xytext=(2, 0.2), xy=(0, 0.5), arrowprops=props, fontsize=14, ha=\"center\")\r\n",
        "plt.grid(True)\r\n",
        "plt.title(\"Sigmoid activation function\", fontsize=14)\r\n",
        "plt.axis([-5, 5, -0.2, 1.2])"
      ],
      "execution_count": 3,
      "outputs": [
        {
          "output_type": "execute_result",
          "data": {
            "text/plain": [
              "(-5.0, 5.0, -0.2, 1.2)"
            ]
          },
          "metadata": {
            "tags": []
          },
          "execution_count": 3
        },
        {
          "output_type": "display_data",
          "data": {
            "image/png": "[encoded data removed]",
            "text/plain": [
              "<Figure size 432x288 with 1 Axes>"
            ]
          },
          "metadata": {
            "tags": [],
            "needs_background": "light"
          }
        }
      ]
    },
    {
      "cell_type": "markdown",
      "metadata": {
        "id": "i21lYI-F_uCw"
      },
      "source": [
        "### 글로럿(Xavier)초기화와 He 초기화"
      ]
    },
    {
      "cell_type": "markdown",
      "metadata": {
        "id": "bOqKjtM4D_bN"
      },
      "source": [
        "저자들은 적절한 신호가 흐르기위해 각 층의 입,출력 분산이 동일해야 한다고 본단다."
      ]
    },
    {
      "cell_type": "markdown",
      "metadata": {
        "id": "h7iLjNU6EYay"
      },
      "source": [
        "|초기화 전략|활성화 함수| $\\sigma^2$(정규분포) |\r\n",
        "|---|---|---|\r\n",
        "|글로럿|활성화 함수 없음(tanh, logistic, softmax)|$\\frac{1}{fan_{avg}}$|\r\n",
        "|He|ReLU함수와 그 변종들|$\\frac{2}{fan_{in}}$|\r\n",
        "|르쿤|SELU|$\\frac{1}{fan_{in}}$|"
      ]
    },
    {
      "cell_type": "markdown",
      "metadata": {
        "id": "zGxjV2XTGpBo"
      },
      "source": [
        "- fan-in과 fan-out은 입력과 출력의 연결 개수\r\n",
        "- fan-avg = (fan-in + fan-out)/2"
      ]
    },
    {
      "cell_type": "code",
      "metadata": {
        "colab": {
          "base_uri": "https://localhost:8080/"
        },
        "id": "t_Z4zqYoEapk",
        "outputId": "6b409538-13b1-46fd-94fe-9f0852851af7"
      },
      "source": [
        "import keras\r\n",
        "[name for name in dir(keras.initializers) if not name.startswith(\"_\")]"
      ],
      "execution_count": 6,
      "outputs": [
        {
          "output_type": "execute_result",
          "data": {
            "text/plain": [
              "['Constant',\n",
              " 'GlorotNormal',\n",
              " 'GlorotUniform',\n",
              " 'HeNormal',\n",
              " 'HeUniform',\n",
              " 'Identity',\n",
              " 'Initializer',\n",
              " 'LecunNormal',\n",
              " 'LecunUniform',\n",
              " 'Ones',\n",
              " 'Orthogonal',\n",
              " 'RandomNormal',\n",
              " 'RandomUniform',\n",
              " 'TruncatedNormal',\n",
              " 'VarianceScaling',\n",
              " 'Zeros',\n",
              " 'constant',\n",
              " 'deserialize',\n",
              " 'get',\n",
              " 'glorot_normal',\n",
              " 'glorot_uniform',\n",
              " 'he_normal',\n",
              " 'he_uniform',\n",
              " 'identity',\n",
              " 'lecun_normal',\n",
              " 'lecun_uniform',\n",
              " 'ones',\n",
              " 'orthogonal',\n",
              " 'random_normal',\n",
              " 'random_uniform',\n",
              " 'serialize',\n",
              " 'truncated_normal',\n",
              " 'variance_scaling',\n",
              " 'zeros']"
            ]
          },
          "metadata": {
            "tags": []
          },
          "execution_count": 6
        }
      ]
    },
    {
      "cell_type": "code",
      "metadata": {
        "colab": {
          "base_uri": "https://localhost:8080/"
        },
        "id": "GjB_lg1KHJRA",
        "outputId": "f48718ba-c12e-47e5-e2c5-0f0ab60d77c5"
      },
      "source": [
        "keras.layers.Dense(10, activation=\"relu\", kernel_initializer=\"he_normal\")"
      ],
      "execution_count": 7,
      "outputs": [
        {
          "output_type": "execute_result",
          "data": {
            "text/plain": [
              "<tensorflow.python.keras.layers.core.Dense at 0x7ff2a9c47358>"
            ]
          },
          "metadata": {
            "tags": []
          },
          "execution_count": 7
        }
      ]
    },
    {
      "cell_type": "code",
      "metadata": {
        "colab": {
          "base_uri": "https://localhost:8080/"
        },
        "id": "dV22TygSHXZJ",
        "outputId": "963fe348-05f8-476b-bc89-8f7505edc7f9"
      },
      "source": [
        "init = keras.initializers.VarianceScaling(scale=2., mode='fan_avg',\r\n",
        "                                          distribution='uniform')\r\n",
        "keras.layers.Dense(10, activation=\"relu\", kernel_initializer=init)"
      ],
      "execution_count": 8,
      "outputs": [
        {
          "output_type": "execute_result",
          "data": {
            "text/plain": [
              "<tensorflow.python.keras.layers.core.Dense at 0x7ff2a9c43978>"
            ]
          },
          "metadata": {
            "tags": []
          },
          "execution_count": 8
        }
      ]
    },
    {
      "cell_type": "code",
      "metadata": {
        "id": "ieKGRU93HZ2p"
      },
      "source": [
        ""
      ],
      "execution_count": null,
      "outputs": []
    }
  ]
}