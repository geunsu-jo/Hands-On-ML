{
  "nbformat": 4,
  "nbformat_minor": 0,
  "metadata": {
    "colab": {
      "name": "11_training_DNN.ipynb",
      "provenance": [],
      "toc_visible": true,
      "authorship_tag": "ABX9TyO4YSWd608c6CvVMJwhg9D4",
      "include_colab_link": true
    },
    "kernelspec": {
      "name": "python3",
      "display_name": "Python 3"
    }
  },
  "cells": [
    {
      "cell_type": "markdown",
      "metadata": {
        "id": "view-in-github",
        "colab_type": "text"
      },
      "source": [
        "<a href=\"https://colab.research.google.com/github/geunsu-jo/Hands-On-ML/blob/main/textbook_practice/11_training_DNN.ipynb\" target=\"_parent\"><img src=\"https://colab.research.google.com/assets/colab-badge.svg\" alt=\"Open In Colab\"/></a>"
      ]
    },
    {
      "cell_type": "markdown",
      "metadata": {
        "id": "8jtVx4vl_lDO"
      },
      "source": [
        "## 그레디언트 소실과 폭주 문제"
      ]
    },
    {
      "cell_type": "markdown",
      "metadata": {
        "id": "_zJhdv6LAzEU"
      },
      "source": [
        "1 가중치 초기화 방법에 문제 <br>\r\n",
        "- 평균이 0이고 표준편차가 1인 정규분포로부터 초기 가중치를 구했는데 이를 로지스틱 활성화 함수와 같이 사용할 경우, 출력의 분산이 입력의 분산보다 커져서, 가장 높은 층(마지막 층)에서 활성화 함수가 0이나 1로 수렴\r\n",
        "- 로지스틱 함수의 평균이 0.5이다. 반면 tanh함수는 평균이 0이므로, 가중치 초기화를 정규분포로 사용했을 때 로지스틱 함수보다 조금 더 나은 성능을 보임\r\n"
      ]
    },
    {
      "cell_type": "markdown",
      "metadata": {
        "id": "8VsCsulJN_5T"
      },
      "source": [
        "2 활성화 함수 선택의 문제 <br>\r\n",
        "- 활성화 함수로 로지스틱함수를 사용할 경우, 양 극값에서 미분계수가 0으로 수렴함에 따라 가중치 업데이트가 불가능하게 됨"
      ]
    },
    {
      "cell_type": "code",
      "metadata": {
        "id": "br7n48739xQE"
      },
      "source": [
        "def logit(z):\r\n",
        "    return 1 / (1 + np.exp(-z))"
      ],
      "execution_count": 1,
      "outputs": []
    },
    {
      "cell_type": "code",
      "metadata": {
        "colab": {
          "base_uri": "https://localhost:8080/",
          "height": 300
        },
        "id": "Ff6mZR1A_oao",
        "outputId": "78498b15-2755-42bd-e37a-e8d3cadc9d38"
      },
      "source": [
        "import matplotlib.pyplot as plt\r\n",
        "import numpy as np\r\n",
        "\r\n",
        "z = np.linspace(-5, 5, 200)\r\n",
        "\r\n",
        "plt.plot([-5, 5], [0, 0], 'k-')\r\n",
        "plt.plot([-5, 5], [1, 1], 'k--')\r\n",
        "plt.plot([0, 0], [-0.2, 1.2], 'k-')\r\n",
        "plt.plot([-5, 5], [-3/4, 7/4], 'g--')\r\n",
        "plt.plot(z, logit(z), \"b-\", linewidth=2)\r\n",
        "props = dict(facecolor='black', shrink=0.1)\r\n",
        "plt.annotate('Saturating', xytext=(3.5, 0.7), xy=(5, 1), arrowprops=props, fontsize=14, ha=\"center\")\r\n",
        "plt.annotate('Saturating', xytext=(-3.5, 0.3), xy=(-5, 0), arrowprops=props, fontsize=14, ha=\"center\")\r\n",
        "plt.annotate('Linear', xytext=(2, 0.2), xy=(0, 0.5), arrowprops=props, fontsize=14, ha=\"center\")\r\n",
        "plt.grid(True)\r\n",
        "plt.title(\"Sigmoid activation function\", fontsize=14)\r\n",
        "plt.axis([-5, 5, -0.2, 1.2])"
      ],
      "execution_count": 3,
      "outputs": [
        {
          "output_type": "execute_result",
          "data": {
            "text/plain": [
              "(-5.0, 5.0, -0.2, 1.2)"
            ]
          },
          "metadata": {
            "tags": []
          },
          "execution_count": 3
        },
        {
          "output_type": "display_data",
          "data": {
            "image/png": "[encoded data removed]",
            "text/plain": [
              "<Figure size 432x288 with 1 Axes>"
            ]
          },
          "metadata": {
            "tags": [],
            "needs_background": "light"
          }
        }
      ]
    },
    {
      "cell_type": "markdown",
      "metadata": {
        "id": "i21lYI-F_uCw"
      },
      "source": [
        "### 글로럿(Xavier)초기화와 He 초기화"
      ]
    },
    {
      "cell_type": "markdown",
      "metadata": {
        "id": "bOqKjtM4D_bN"
      },
      "source": [
        "저자들은 적절한 신호가 흐르기위해 각 층의 입,출력 분산이 동일해야 한다고 본단다."
      ]
    },
    {
      "cell_type": "markdown",
      "metadata": {
        "id": "h7iLjNU6EYay"
      },
      "source": [
        "|초기화 전략|활성화 함수| $\\sigma^2$(정규분포) |\r\n",
        "|---|---|---|\r\n",
        "|글로럿|활성화 함수 없음(tanh, logistic, softmax)|$\\frac{1}{fan_{avg}}$|\r\n",
        "|He|ReLU함수와 그 변종들|$\\frac{2}{fan_{in}}$|\r\n",
        "|르쿤|SELU|$\\frac{1}{fan_{in}}$|"
      ]
    },
    {
      "cell_type": "markdown",
      "metadata": {
        "id": "zGxjV2XTGpBo"
      },
      "source": [
        "- fan-in과 fan-out은 입력과 출력의 연결 개수\r\n",
        "- fan-avg = (fan-in + fan-out)/2"
      ]
    },
    {
      "cell_type": "code",
      "metadata": {
        "colab": {
          "base_uri": "https://localhost:8080/"
        },
        "id": "t_Z4zqYoEapk",
        "outputId": "6b409538-13b1-46fd-94fe-9f0852851af7"
      },
      "source": [
        "import keras\r\n",
        "[name for name in dir(keras.initializers) if not name.startswith(\"_\")]"
      ],
      "execution_count": 6,
      "outputs": [
        {
          "output_type": "execute_result",
          "data": {
            "text/plain": [
              "['Constant',\n",
              " 'GlorotNormal',\n",
              " 'GlorotUniform',\n",
              " 'HeNormal',\n",
              " 'HeUniform',\n",
              " 'Identity',\n",
              " 'Initializer',\n",
              " 'LecunNormal',\n",
              " 'LecunUniform',\n",
              " 'Ones',\n",
              " 'Orthogonal',\n",
              " 'RandomNormal',\n",
              " 'RandomUniform',\n",
              " 'TruncatedNormal',\n",
              " 'VarianceScaling',\n",
              " 'Zeros',\n",
              " 'constant',\n",
              " 'deserialize',\n",
              " 'get',\n",
              " 'glorot_normal',\n",
              " 'glorot_uniform',\n",
              " 'he_normal',\n",
              " 'he_uniform',\n",
              " 'identity',\n",
              " 'lecun_normal',\n",
              " 'lecun_uniform',\n",
              " 'ones',\n",
              " 'orthogonal',\n",
              " 'random_normal',\n",
              " 'random_uniform',\n",
              " 'serialize',\n",
              " 'truncated_normal',\n",
              " 'variance_scaling',\n",
              " 'zeros']"
            ]
          },
          "metadata": {
            "tags": []
          },
          "execution_count": 6
        }
      ]
    },
    {
      "cell_type": "code",
      "metadata": {
        "colab": {
          "base_uri": "https://localhost:8080/"
        },
        "id": "GjB_lg1KHJRA",
        "outputId": "f48718ba-c12e-47e5-e2c5-0f0ab60d77c5"
      },
      "source": [
        "keras.layers.Dense(10, activation=\"relu\", kernel_initializer=\"he_normal\")"
      ],
      "execution_count": 7,
      "outputs": [
        {
          "output_type": "execute_result",
          "data": {
            "text/plain": [
              "<tensorflow.python.keras.layers.core.Dense at 0x7ff2a9c47358>"
            ]
          },
          "metadata": {
            "tags": []
          },
          "execution_count": 7
        }
      ]
    },
    {
      "cell_type": "markdown",
      "metadata": {
        "id": "Fc7hxvZHIQiy"
      },
      "source": [
        "균등분포 He 초기화를 사용한다면, 다음과 같이 __VarianceScaling__사용 가능(variance transformation인듯)"
      ]
    },
    {
      "cell_type": "code",
      "metadata": {
        "colab": {
          "base_uri": "https://localhost:8080/"
        },
        "id": "dV22TygSHXZJ",
        "outputId": "963fe348-05f8-476b-bc89-8f7505edc7f9"
      },
      "source": [
        "init = keras.initializers.VarianceScaling(scale=2., mode='fan_avg',\r\n",
        "                                          distribution='uniform')\r\n",
        "keras.layers.Dense(10, activation=\"relu\", kernel_initializer=init)"
      ],
      "execution_count": 8,
      "outputs": [
        {
          "output_type": "execute_result",
          "data": {
            "text/plain": [
              "<tensorflow.python.keras.layers.core.Dense at 0x7ff2a9c43978>"
            ]
          },
          "metadata": {
            "tags": []
          },
          "execution_count": 8
        }
      ]
    },
    {
      "cell_type": "markdown",
      "metadata": {
        "id": "ieKGRU93HZ2p"
      },
      "source": [
        "### 수렴하지 않는 활성화 함수"
      ]
    },
    {
      "cell_type": "markdown",
      "metadata": {
        "id": "rBHRNlY8IyZ9"
      },
      "source": [
        "#### __LeakyReLU__"
      ]
    },
    {
      "cell_type": "markdown",
      "metadata": {
        "id": "QCm9FyH1NAat"
      },
      "source": [
        "- ReLU 함수의 경우 양수값에서 수렴하지 않는다는 큰 장점을 가지지만 dying ReLU 문제가 있음 <br>\r\n",
        "- 이를 해결하기 위해 활성화 함수에서 z<0일 때 기울기를 부여하여, 죽은 뉴런의 깨어날 가능성을 줄 수 있다. <br>\r\n",
        "- $LeakyReLu_{\\alpha}(z)=max(\\alpha z, z)$ <br>\r\n",
        "- 일반적으로 $\\alpha=0.01$를 많이 사용"
      ]
    },
    {
      "cell_type": "code",
      "metadata": {
        "colab": {
          "base_uri": "https://localhost:8080/",
          "height": 300
        },
        "id": "WiixpcVZM_4a",
        "outputId": "fed6f1d1-bdee-4a86-b9e1-6051ad399732"
      },
      "source": [
        "def leaky_relu(z, alpha=0.01):\r\n",
        "    return np.maximum(alpha*z, z)\r\n",
        "\r\n",
        "plt.plot(z, leaky_relu(z, 0.05), \"b-\", linewidth=2)\r\n",
        "plt.plot([-5, 5], [0, 0], 'k-')\r\n",
        "plt.plot([0, 0], [-0.5, 4.2], 'k-')\r\n",
        "plt.grid(True)\r\n",
        "props = dict(facecolor='black', shrink=0.1)\r\n",
        "plt.annotate('Leak', xytext=(-3.5, 0.5), xy=(-5, -0.2), arrowprops=props, fontsize=14, ha=\"center\")\r\n",
        "plt.title(\"Leaky ReLU activation function\", fontsize=14)\r\n",
        "plt.axis([-5, 5, -0.5, 4.2])\r\n",
        "plt.show"
      ],
      "execution_count": 11,
      "outputs": [
        {
          "output_type": "execute_result",
          "data": {
            "text/plain": [
              "<function matplotlib.pyplot.show>"
            ]
          },
          "metadata": {
            "tags": []
          },
          "execution_count": 11
        },
        {
          "output_type": "display_data",
          "data": {
            "image/png": "[encoded data removed]",
            "text/plain": [
              "<Figure size 432x288 with 1 Axes>"
            ]
          },
          "metadata": {
            "tags": [],
            "needs_background": "light"
          }
        }
      ]
    },
    {
      "cell_type": "code",
      "metadata": {
        "colab": {
          "base_uri": "https://localhost:8080/"
        },
        "id": "7SgLpIdvOYjf",
        "outputId": "af5a83bf-0a82-40b9-a8ab-53a9af33de3f"
      },
      "source": [
        "[m for m in dir(keras.activations) if not m.startswith(\"_\")]"
      ],
      "execution_count": 12,
      "outputs": [
        {
          "output_type": "execute_result",
          "data": {
            "text/plain": [
              "['deserialize',\n",
              " 'elu',\n",
              " 'exponential',\n",
              " 'get',\n",
              " 'hard_sigmoid',\n",
              " 'linear',\n",
              " 'relu',\n",
              " 'selu',\n",
              " 'serialize',\n",
              " 'sigmoid',\n",
              " 'softmax',\n",
              " 'softplus',\n",
              " 'softsign',\n",
              " 'tanh']"
            ]
          },
          "metadata": {
            "tags": []
          },
          "execution_count": 12
        }
      ]
    },
    {
      "cell_type": "code",
      "metadata": {
        "colab": {
          "base_uri": "https://localhost:8080/"
        },
        "id": "DYivR4l1OpNi",
        "outputId": "b8b57460-a621-446f-9be6-af6ad0d3b5d5"
      },
      "source": [
        "[m for m in dir(keras.layers) if \"relu\" in m.lower()]"
      ],
      "execution_count": 16,
      "outputs": [
        {
          "output_type": "execute_result",
          "data": {
            "text/plain": [
              "['LeakyReLU', 'PReLU', 'ReLU', 'ThresholdedReLU']"
            ]
          },
          "metadata": {
            "tags": []
          },
          "execution_count": 16
        }
      ]
    },
    {
      "cell_type": "markdown",
      "metadata": {
        "id": "zU3kiiZmO4Gd"
      },
      "source": [
        "LeakyReLU를 사용해 패션 MNIST 신경망 훈련"
      ]
    },
    {
      "cell_type": "code",
      "metadata": {
        "colab": {
          "base_uri": "https://localhost:8080/"
        },
        "id": "Gn1WZasRO3PB",
        "outputId": "efd5c719-92ee-4cee-c2d9-8e63964f1e96"
      },
      "source": [
        "(X_train_full, y_train_full), (X_test, y_test) = keras.datasets.fashion_mnist.load_data()\r\n",
        "X_train_full = X_train_full / 255.0\r\n",
        "X_test = X_test / 255.0\r\n",
        "X_valid, X_train = X_train_full[:5000], X_train_full[5000:]\r\n",
        "y_valid, y_train = y_train_full[:5000], y_train_full[5000:]"
      ],
      "execution_count": 17,
      "outputs": [
        {
          "output_type": "stream",
          "text": [
            "Downloading data from https://storage.googleapis.com/tensorflow/tf-keras-datasets/train-labels-idx1-ubyte.gz\n",
            "32768/29515 [=================================] - 0s 0us/step\n",
            "Downloading data from https://storage.googleapis.com/tensorflow/tf-keras-datasets/train-images-idx3-ubyte.gz\n",
            "26427392/26421880 [==============================] - 0s 0us/step\n",
            "Downloading data from https://storage.googleapis.com/tensorflow/tf-keras-datasets/t10k-labels-idx1-ubyte.gz\n",
            "8192/5148 [===============================================] - 0s 0us/step\n",
            "Downloading data from https://storage.googleapis.com/tensorflow/tf-keras-datasets/t10k-images-idx3-ubyte.gz\n",
            "4423680/4422102 [==============================] - 0s 0us/step\n"
          ],
          "name": "stdout"
        }
      ]
    },
    {
      "cell_type": "code",
      "metadata": {
        "id": "exeChr9rO_zn"
      },
      "source": [
        "import tensorflow as tf\r\n",
        "tf.random.set_seed(42)\r\n",
        "np.random.seed(42)\r\n",
        "\r\n",
        "model = keras.models.Sequential([\r\n",
        "    keras.layers.Flatten(input_shape=[28, 28]),\r\n",
        "    keras.layers.Dense(300, kernel_initializer=\"he_normal\"),\r\n",
        "    keras.layers.LeakyReLU(),\r\n",
        "    keras.layers.Dense(100, kernel_initializer=\"he_normal\"),\r\n",
        "    keras.layers.LeakyReLU(),\r\n",
        "    keras.layers.Dense(10, activation=\"softmax\")\r\n",
        "])"
      ],
      "execution_count": 18,
      "outputs": []
    },
    {
      "cell_type": "code",
      "metadata": {
        "id": "tLTOCMIyPExH"
      },
      "source": [
        "model.compile(loss=\"sparse_categorical_crossentropy\",\r\n",
        "              optimizer=keras.optimizers.SGD(lr=1e-3),\r\n",
        "              metrics=[\"accuracy\"])"
      ],
      "execution_count": 19,
      "outputs": []
    },
    {
      "cell_type": "code",
      "metadata": {
        "colab": {
          "base_uri": "https://localhost:8080/"
        },
        "id": "9xo_Ayg3PHI2",
        "outputId": "5ad51525-2ab1-4c43-8675-6426cc7a21c1"
      },
      "source": [
        "history = model.fit(X_train, y_train, epochs=10,\r\n",
        "                    validation_data=(X_valid, y_valid))"
      ],
      "execution_count": 20,
      "outputs": [
        {
          "output_type": "stream",
          "text": [
            "Epoch 1/10\n",
            "1719/1719 [==============================] - 7s 4ms/step - loss: 1.6314 - accuracy: 0.5054 - val_loss: 0.8886 - val_accuracy: 0.7160\n",
            "Epoch 2/10\n",
            "1719/1719 [==============================] - 5s 3ms/step - loss: 0.8416 - accuracy: 0.7247 - val_loss: 0.7130 - val_accuracy: 0.7656\n",
            "Epoch 3/10\n",
            "1719/1719 [==============================] - 5s 3ms/step - loss: 0.7053 - accuracy: 0.7637 - val_loss: 0.6427 - val_accuracy: 0.7898\n",
            "Epoch 4/10\n",
            "1719/1719 [==============================] - 6s 3ms/step - loss: 0.6325 - accuracy: 0.7908 - val_loss: 0.5900 - val_accuracy: 0.8066\n",
            "Epoch 5/10\n",
            "1719/1719 [==============================] - 6s 3ms/step - loss: 0.5992 - accuracy: 0.8021 - val_loss: 0.5582 - val_accuracy: 0.8200\n",
            "Epoch 6/10\n",
            "1719/1719 [==============================] - 6s 3ms/step - loss: 0.5624 - accuracy: 0.8142 - val_loss: 0.5350 - val_accuracy: 0.8236\n",
            "Epoch 7/10\n",
            "1719/1719 [==============================] - 5s 3ms/step - loss: 0.5379 - accuracy: 0.8218 - val_loss: 0.5157 - val_accuracy: 0.8304\n",
            "Epoch 8/10\n",
            "1719/1719 [==============================] - 5s 3ms/step - loss: 0.5152 - accuracy: 0.8296 - val_loss: 0.5079 - val_accuracy: 0.8286\n",
            "Epoch 9/10\n",
            "1719/1719 [==============================] - 5s 3ms/step - loss: 0.5099 - accuracy: 0.8268 - val_loss: 0.4895 - val_accuracy: 0.8390\n",
            "Epoch 10/10\n",
            "1719/1719 [==============================] - 5s 3ms/step - loss: 0.4918 - accuracy: 0.8339 - val_loss: 0.4816 - val_accuracy: 0.8394\n"
          ],
          "name": "stdout"
        }
      ]
    },
    {
      "cell_type": "markdown",
      "metadata": {
        "id": "3IjqupixQDwH"
      },
      "source": [
        "#### __RReLU__와 __PReLU__"
      ]
    },
    {
      "cell_type": "markdown",
      "metadata": {
        "id": "NetjOtWhQHs3"
      },
      "source": [
        "- RReLU(Randomized leaky ReLU) : $\\alpha$를 무작위 선택하고 테스트시에는 평균을 사용(랜포에서 과적합을 줄이기위한 투표형식과 유사한듯)\r\n",
        "PReLU(Parametric leaky ReLU) : $\\alpha$를 학습 과정에 포함(즉, Hyperparameter가 아니라 모델 내의 가중치같은 파라미터)"
      ]
    },
    {
      "cell_type": "markdown",
      "metadata": {
        "id": "F5PQxcNGRFDe"
      },
      "source": [
        "PReLU 사용해보자(RReLU는 아직 없다)"
      ]
    },
    {
      "cell_type": "code",
      "metadata": {
        "id": "fF7hHlDWQsWT"
      },
      "source": [
        "tf.random.set_seed(42)\r\n",
        "np.random.seed(42)\r\n",
        "\r\n",
        "model = keras.models.Sequential([\r\n",
        "    keras.layers.Flatten(input_shape=[28, 28]),\r\n",
        "    keras.layers.Dense(300, kernel_initializer=\"he_normal\"),\r\n",
        "    keras.layers.PReLU(),\r\n",
        "    keras.layers.Dense(100, kernel_initializer=\"he_normal\"),\r\n",
        "    keras.layers.PReLU(),\r\n",
        "    keras.layers.Dense(10, activation=\"softmax\")\r\n",
        "])\r\n",
        "model.compile(loss=\"sparse_categorical_crossentropy\",\r\n",
        "              optimizer=keras.optimizers.SGD(lr=1e-3),\r\n",
        "              metrics=[\"accuracy\"])"
      ],
      "execution_count": 23,
      "outputs": []
    },
    {
      "cell_type": "code",
      "metadata": {
        "colab": {
          "base_uri": "https://localhost:8080/"
        },
        "id": "4WDPAQeCQyVe",
        "outputId": "adf781eb-8471-4508-ff87-e4c3b3aa4cef"
      },
      "source": [
        "history = model.fit(X_train, y_train, epochs=10,\r\n",
        "                    validation_data=(X_valid, y_valid))"
      ],
      "execution_count": 24,
      "outputs": [
        {
          "output_type": "stream",
          "text": [
            "Epoch 1/10\n",
            "1719/1719 [==============================] - 7s 4ms/step - loss: 1.6969 - accuracy: 0.4974 - val_loss: 0.9255 - val_accuracy: 0.7186\n",
            "Epoch 2/10\n",
            "1719/1719 [==============================] - 6s 3ms/step - loss: 0.8706 - accuracy: 0.7247 - val_loss: 0.7305 - val_accuracy: 0.7630\n",
            "Epoch 3/10\n",
            "1719/1719 [==============================] - 6s 4ms/step - loss: 0.7211 - accuracy: 0.7619 - val_loss: 0.6565 - val_accuracy: 0.7878\n",
            "Epoch 4/10\n",
            "1719/1719 [==============================] - 6s 3ms/step - loss: 0.6448 - accuracy: 0.7881 - val_loss: 0.6003 - val_accuracy: 0.8046\n",
            "Epoch 5/10\n",
            "1719/1719 [==============================] - 6s 4ms/step - loss: 0.6078 - accuracy: 0.8004 - val_loss: 0.5656 - val_accuracy: 0.8182\n",
            "Epoch 6/10\n",
            "1719/1719 [==============================] - 6s 4ms/step - loss: 0.5693 - accuracy: 0.8119 - val_loss: 0.5406 - val_accuracy: 0.8238\n",
            "Epoch 7/10\n",
            "1719/1719 [==============================] - 6s 3ms/step - loss: 0.5428 - accuracy: 0.8194 - val_loss: 0.5196 - val_accuracy: 0.8314\n",
            "Epoch 8/10\n",
            "1719/1719 [==============================] - 6s 4ms/step - loss: 0.5194 - accuracy: 0.8285 - val_loss: 0.5114 - val_accuracy: 0.8316\n",
            "Epoch 9/10\n",
            "1719/1719 [==============================] - 7s 4ms/step - loss: 0.5129 - accuracy: 0.8272 - val_loss: 0.4916 - val_accuracy: 0.8376\n",
            "Epoch 10/10\n",
            "1719/1719 [==============================] - 6s 4ms/step - loss: 0.4941 - accuracy: 0.8314 - val_loss: 0.4827 - val_accuracy: 0.8398\n"
          ],
          "name": "stdout"
        }
      ]
    },
    {
      "cell_type": "markdown",
      "metadata": {
        "id": "HB8EIq0tOLd_"
      },
      "source": [
        "#### __ELU 함수__"
      ]
    },
    {
      "cell_type": "markdown",
      "metadata": {
        "id": "IirVE65iRVJM"
      },
      "source": [
        "2015년에 등장한 활성화 함수로, 다른 모든 ReLU 변종의 성능을 앞질럿음"
      ]
    },
    {
      "cell_type": "markdown",
      "metadata": {
        "id": "b1FDrLKgSahT"
      },
      "source": [
        "$\r\n",
        "ELU_{\\alpha}(z) =\r\n",
        "\\begin{cases}\r\n",
        "  \\alpha(exp(z)-1) &  z<0 \\\\\r\n",
        "  z & z>0\r\n",
        "\\end{cases}\r\n",
        "$"
      ]
    },
    {
      "cell_type": "code",
      "metadata": {
        "id": "enOh68HHOQAy"
      },
      "source": [
        "def elu(z, alpha=1):\r\n",
        "    return np.where(z < 0, alpha * (np.exp(z) - 1), z)"
      ],
      "execution_count": 25,
      "outputs": []
    },
    {
      "cell_type": "code",
      "metadata": {
        "colab": {
          "base_uri": "https://localhost:8080/",
          "height": 284
        },
        "id": "B846WSzLRtlT",
        "outputId": "ea87d416-0c71-4e9d-a21c-825cfc05f2ff"
      },
      "source": [
        "plt.plot(z, elu(z), \"b-\", linewidth=2)\r\n",
        "plt.plot([-5, 5], [0, 0], 'k-')\r\n",
        "plt.plot([-5, 5], [-1, -1], 'k--')\r\n",
        "plt.plot([0, 0], [-2.2, 3.2], 'k-')\r\n",
        "plt.grid(True)\r\n",
        "plt.title(r\"ELU activation function ($\\alpha=1$)\", fontsize=14)\r\n",
        "plt.axis([-5, 5, -2.2, 3.2])\r\n",
        "\r\n",
        "plt.show()"
      ],
      "execution_count": 26,
      "outputs": [
        {
          "output_type": "display_data",
          "data": {
            "image/png": "[encoded data removed]",
            "text/plain": [
              "<Figure size 432x288 with 1 Axes>"
            ]
          },
          "metadata": {
            "tags": [],
            "needs_background": "light"
          }
        }
      ]
    },
    {
      "cell_type": "markdown",
      "metadata": {
        "id": "DuzR1X7Bbs4F"
      },
      "source": [
        "- z<0 이어도 죽은 뉴런을 만들지 않음\r\n",
        "- 모든 구간에서 미분 가능하므로(매끄러우므로) 경사하강법의 속도를 높여줌\r\n",
        "- 지수 함수를 사용하기에 계산 속도는 상대적으로 느림"
      ]
    },
    {
      "cell_type": "markdown",
      "metadata": {
        "id": "KI9YhTDuRv1b"
      },
      "source": [
        "텐서플로에서 쉽게 ELU적용 가능"
      ]
    },
    {
      "cell_type": "code",
      "metadata": {
        "colab": {
          "base_uri": "https://localhost:8080/"
        },
        "id": "V9EAGzz-X93L",
        "outputId": "291fde0a-b84c-4331-cbb7-34ad2aa18c2e"
      },
      "source": [
        "keras.layers.Dense(10, activation=\"elu\")"
      ],
      "execution_count": 27,
      "outputs": [
        {
          "output_type": "execute_result",
          "data": {
            "text/plain": [
              "<tensorflow.python.keras.layers.core.Dense at 0x7ff26375a2e8>"
            ]
          },
          "metadata": {
            "tags": []
          },
          "execution_count": 27
        }
      ]
    },
    {
      "cell_type": "markdown",
      "metadata": {
        "id": "8u5Ege0wX-re"
      },
      "source": [
        "#### __SeLU__ 함수"
      ]
    },
    {
      "cell_type": "markdown",
      "metadata": {
        "id": "dTfbiaMuYMLw"
      },
      "source": [
        "- 완전 연결 층만 쌓아서 신경망을 만들고 모든 은닉층이 SELU활성화 함수 사용, 르쿤 초기화를 사용한다면 자기 정규화(self-normalize)된다.\r\n",
        "- 훈련하는 동안 각 층의 출력의 평균은 0, 표준편차는 1로 유지하는 경향을 가짐\r\n",
        "- 이는 그레디언트 소실과 폭주 문제를 해결함으로써 더 좋은 성능을 내기도 함\r\n",
        "- 완전 연결 층일 때만, 자기 정규화가 보장되기 때문에, 10장에서 다뤗던 와이드 &딥 연결 혹은 순환신경망에서는 자기 정규화가 보장되지 않는다. 따라서 SELU가 다른 활성화 함수보다 성능이 뛰어나지 않을 수도 있다."
      ]
    },
    {
      "cell_type": "code",
      "metadata": {
        "id": "YBVOOXx2YpGR"
      },
      "source": [
        "from scipy.special import erfc\r\n",
        "\r\n",
        "# alpha와 scale은 평균 0과 표준 편차 1로 자기 정규화합니다\r\n",
        "\r\n",
        "# 논문에 있는 식으로 그냥 넘어가자\r\n",
        "alpha_0_1 = -np.sqrt(2 / np.pi) / (erfc(1/np.sqrt(2)) * np.exp(1/2) - 1)\r\n",
        "scale_0_1 = (1 - erfc(1 / np.sqrt(2)) * np.sqrt(np.e)) * np.sqrt(2 * np.pi) * (2 * erfc(np.sqrt(2))*np.e**2 + np.pi*erfc(1/np.sqrt(2))**2*np.e - 2*(2+np.pi)*erfc(1/np.sqrt(2))*np.sqrt(np.e)+np.pi+2)**(-1/2)\r\n"
      ],
      "execution_count": 28,
      "outputs": []
    },
    {
      "cell_type": "code",
      "metadata": {
        "id": "Ngg5nPVaZ-FS"
      },
      "source": [
        "def selu(z, scale=scale_0_1, alpha=alpha_0_1):\r\n",
        "    return scale * elu(z, alpha)"
      ],
      "execution_count": 29,
      "outputs": []
    },
    {
      "cell_type": "code",
      "metadata": {
        "colab": {
          "base_uri": "https://localhost:8080/",
          "height": 282
        },
        "id": "-cOPrhYQaARy",
        "outputId": "4890dd03-1e59-4540-f1e2-4f001ea21a17"
      },
      "source": [
        "plt.plot(z, selu(z), \"b-\", linewidth=2)\r\n",
        "plt.plot([-5, 5], [0, 0], 'k-')\r\n",
        "plt.plot([-5, 5], [-1.758, -1.758], 'k--')\r\n",
        "plt.plot([0, 0], [-2.2, 3.2], 'k-')\r\n",
        "plt.grid(True)\r\n",
        "plt.title(\"SELU activation function\", fontsize=14)\r\n",
        "plt.axis([-5, 5, -2.2, 3.2])\r\n",
        "\r\n",
        "plt.show()"
      ],
      "execution_count": 30,
      "outputs": [
        {
          "output_type": "display_data",
          "data": {
            "image/png": "[encoded data removed]",
            "text/plain": [
              "<Figure size 432x288 with 1 Axes>"
            ]
          },
          "metadata": {
            "tags": [],
            "needs_background": "light"
          }
        }
      ]
    },
    {
      "cell_type": "markdown",
      "metadata": {
        "id": "13DsjoVraCsC"
      },
      "source": [
        "다음과 같이 1,000개의 층이 있는 심층 신경망도 모든 층에 걸쳐 평균이 0이고 표준 편차를 1로 유지한다."
      ]
    },
    {
      "cell_type": "code",
      "metadata": {
        "colab": {
          "base_uri": "https://localhost:8080/"
        },
        "id": "UoQHMUBeaOVs",
        "outputId": "338095a8-17ef-493f-deb4-7cd6095c7cd8"
      },
      "source": [
        "np.random.seed(42)\r\n",
        "Z = np.random.normal(size=(500, 100)) # 표준화된 입력\r\n",
        "for layer in range(1000):\r\n",
        "    W = np.random.normal(size=(100, 100), scale=np.sqrt(1 / 100)) # LeCun 초기화\r\n",
        "    Z = selu(np.dot(Z, W))\r\n",
        "    means = np.mean(Z, axis=0).mean()\r\n",
        "    stds = np.std(Z, axis=0).mean()\r\n",
        "    if layer % 100 == 0:\r\n",
        "        print(\"Layer {}: mean {:.2f}, std deviation {:.2f}\".format(layer, means, stds))"
      ],
      "execution_count": 31,
      "outputs": [
        {
          "output_type": "stream",
          "text": [
            "Layer 0: mean -0.00, std deviation 1.00\n",
            "Layer 100: mean 0.02, std deviation 0.96\n",
            "Layer 200: mean 0.01, std deviation 0.90\n",
            "Layer 300: mean -0.02, std deviation 0.92\n",
            "Layer 400: mean 0.05, std deviation 0.89\n",
            "Layer 500: mean 0.01, std deviation 0.93\n",
            "Layer 600: mean 0.02, std deviation 0.92\n",
            "Layer 700: mean -0.02, std deviation 0.90\n",
            "Layer 800: mean 0.05, std deviation 0.83\n",
            "Layer 900: mean 0.02, std deviation 1.00\n"
          ],
          "name": "stdout"
        }
      ]
    },
    {
      "cell_type": "markdown",
      "metadata": {
        "id": "t54vSjvMaYpb"
      },
      "source": [
        "다음과 같이 쉽게 selu 적용 가능(반드시 르쿤 초기화 사용하자)"
      ]
    },
    {
      "cell_type": "code",
      "metadata": {
        "colab": {
          "base_uri": "https://localhost:8080/"
        },
        "id": "ryC_egF9adsH",
        "outputId": "0cf189f0-25c7-41ab-b3a7-01c26f73b526"
      },
      "source": [
        "keras.layers.Dense(10, activation=\"selu\",\r\n",
        "                   kernel_initializer=\"lecun_normal\")"
      ],
      "execution_count": 32,
      "outputs": [
        {
          "output_type": "execute_result",
          "data": {
            "text/plain": [
              "<tensorflow.python.keras.layers.core.Dense at 0x7ff263067c88>"
            ]
          },
          "metadata": {
            "tags": []
          },
          "execution_count": 32
        }
      ]
    },
    {
      "cell_type": "markdown",
      "metadata": {
        "id": "MhZornO2ajvb"
      },
      "source": [
        "SeLU 함수를 사용한 패션 MNIST 신경망 만들기"
      ]
    },
    {
      "cell_type": "code",
      "metadata": {
        "id": "oIA-fERcatCs"
      },
      "source": [
        "model = keras.models.Sequential()\r\n",
        "model.add(keras.layers.Flatten(input_shape=[28, 28]))\r\n",
        "model.add(keras.layers.Dense(300, activation=\"selu\",\r\n",
        "                             kernel_initializer=\"lecun_normal\"))\r\n",
        "for layer in range(99):\r\n",
        "    model.add(keras.layers.Dense(100, activation=\"selu\",\r\n",
        "                                 kernel_initializer=\"lecun_normal\"))\r\n",
        "model.add(keras.layers.Dense(10, activation=\"softmax\"))"
      ],
      "execution_count": 46,
      "outputs": []
    },
    {
      "cell_type": "code",
      "metadata": {
        "id": "ISqYstf6au_f"
      },
      "source": [
        "model.compile(loss=\"sparse_categorical_crossentropy\",\r\n",
        "              optimizer=keras.optimizers.SGD(lr=1e-3),\r\n",
        "              metrics=[\"accuracy\"])"
      ],
      "execution_count": 47,
      "outputs": []
    },
    {
      "cell_type": "markdown",
      "metadata": {
        "id": "EoURjvhSa1w6"
      },
      "source": [
        "스케일링은 반드시 표준화를 사용할 것(평균0 분산1)"
      ]
    },
    {
      "cell_type": "code",
      "metadata": {
        "id": "_VSQDtViaxN5"
      },
      "source": [
        "pixel_means = X_train.mean(axis=0, keepdims=True)\r\n",
        "pixel_stds = X_train.std(axis=0, keepdims=True)\r\n",
        "X_train_scaled = (X_train - pixel_means) / pixel_stds\r\n",
        "X_valid_scaled = (X_valid - pixel_means) / pixel_stds\r\n",
        "X_test_scaled = (X_test - pixel_means) / pixel_stds"
      ],
      "execution_count": 48,
      "outputs": []
    },
    {
      "cell_type": "code",
      "metadata": {
        "colab": {
          "base_uri": "https://localhost:8080/"
        },
        "id": "ICy11mbca74E",
        "outputId": "f231581e-4856-47de-bd89-7d36a01271f5"
      },
      "source": [
        "history = model.fit(X_train_scaled, y_train, epochs=5,\r\n",
        "                    validation_data=(X_valid_scaled, y_valid))"
      ],
      "execution_count": 49,
      "outputs": [
        {
          "output_type": "stream",
          "text": [
            "Epoch 1/5\n",
            "1719/1719 [==============================] - 33s 18ms/step - loss: 1.4090 - accuracy: 0.4657 - val_loss: 0.7515 - val_accuracy: 0.7506\n",
            "Epoch 2/5\n",
            "1719/1719 [==============================] - 30s 17ms/step - loss: 0.7768 - accuracy: 0.7265 - val_loss: 0.6729 - val_accuracy: 0.7734\n",
            "Epoch 3/5\n",
            "1719/1719 [==============================] - 30s 17ms/step - loss: 0.7589 - accuracy: 0.7303 - val_loss: 0.6795 - val_accuracy: 0.7494\n",
            "Epoch 4/5\n",
            "1719/1719 [==============================] - 30s 17ms/step - loss: 0.6197 - accuracy: 0.7784 - val_loss: 0.5395 - val_accuracy: 0.8146\n",
            "Epoch 5/5\n",
            "1719/1719 [==============================] - 29s 17ms/step - loss: 0.5752 - accuracy: 0.7925 - val_loss: 0.5405 - val_accuracy: 0.8128\n"
          ],
          "name": "stdout"
        }
      ]
    },
    {
      "cell_type": "markdown",
      "metadata": {
        "id": "jK4sKP-HcZE5"
      },
      "source": [
        "Relu를 사용했을 때와 비교"
      ]
    },
    {
      "cell_type": "code",
      "metadata": {
        "colab": {
          "base_uri": "https://localhost:8080/"
        },
        "id": "dIco2LqPa-bL",
        "outputId": "e0a816eb-e696-4f35-8e04-d4d939a1fa72"
      },
      "source": [
        "np.random.seed(42)\r\n",
        "tf.random.set_seed(42)\r\n",
        "\r\n",
        "model = keras.models.Sequential()\r\n",
        "model.add(keras.layers.Flatten(input_shape=[28, 28]))\r\n",
        "model.add(keras.layers.Dense(300, activation=\"relu\", kernel_initializer=\"he_normal\"))\r\n",
        "for layer in range(99):\r\n",
        "    model.add(keras.layers.Dense(100, activation=\"relu\", kernel_initializer=\"he_normal\"))\r\n",
        "model.add(keras.layers.Dense(10, activation=\"softmax\"))\r\n",
        "\r\n",
        "model.compile(loss=\"sparse_categorical_crossentropy\",\r\n",
        "              optimizer=keras.optimizers.SGD(lr=1e-3),\r\n",
        "              metrics=[\"accuracy\"])\r\n",
        "\r\n",
        "history = model.fit(X_train_scaled, y_train, epochs=5,\r\n",
        "                    validation_data=(X_valid_scaled, y_valid))"
      ],
      "execution_count": 50,
      "outputs": [
        {
          "output_type": "stream",
          "text": [
            "Epoch 1/5\n",
            "1719/1719 [==============================] - 31s 17ms/step - loss: 2.0619 - accuracy: 0.1858 - val_loss: 1.7172 - val_accuracy: 0.3566\n",
            "Epoch 2/5\n",
            "1719/1719 [==============================] - 26s 15ms/step - loss: 1.2170 - accuracy: 0.4840 - val_loss: 0.9678 - val_accuracy: 0.5622\n",
            "Epoch 3/5\n",
            "1719/1719 [==============================] - 26s 15ms/step - loss: 1.0483 - accuracy: 0.5694 - val_loss: 0.9552 - val_accuracy: 0.6096\n",
            "Epoch 4/5\n",
            "1719/1719 [==============================] - 27s 15ms/step - loss: 0.8951 - accuracy: 0.6481 - val_loss: 0.7766 - val_accuracy: 0.7068\n",
            "Epoch 5/5\n",
            "1719/1719 [==============================] - 28s 16ms/step - loss: 0.7726 - accuracy: 0.7072 - val_loss: 0.6867 - val_accuracy: 0.7444\n"
          ],
          "name": "stdout"
        }
      ]
    },
    {
      "cell_type": "markdown",
      "metadata": {
        "id": "bBGgjN2FcRd7"
      },
      "source": [
        "### 배치 정규화"
      ]
    },
    {
      "cell_type": "code",
      "metadata": {
        "id": "pyG9fnkkktAV"
      },
      "source": [
        "model = keras.models.Sequential([\r\n",
        "    keras.layers.Flatten(input_shape=[28, 28]),\r\n",
        "    keras.layers.BatchNormalization(),\r\n",
        "    keras.layers.Dense(300, activation=\"relu\"),\r\n",
        "    keras.layers.BatchNormalization(),\r\n",
        "    keras.layers.Dense(100, activation=\"relu\"),\r\n",
        "    keras.layers.BatchNormalization(),\r\n",
        "    keras.layers.Dense(10, activation=\"softmax\")\r\n",
        "])"
      ],
      "execution_count": 51,
      "outputs": []
    },
    {
      "cell_type": "code",
      "metadata": {
        "colab": {
          "base_uri": "https://localhost:8080/"
        },
        "id": "l-F9gkwWkv4e",
        "outputId": "14158fac-4421-4f79-cb8c-6bcc007daae0"
      },
      "source": [
        "model.summary()"
      ],
      "execution_count": 52,
      "outputs": [
        {
          "output_type": "stream",
          "text": [
            "Model: \"sequential_9\"\n",
            "_________________________________________________________________\n",
            "Layer (type)                 Output Shape              Param #   \n",
            "=================================================================\n",
            "flatten_9 (Flatten)          (None, 784)               0         \n",
            "_________________________________________________________________\n",
            "batch_normalization (BatchNo (None, 784)               3136      \n",
            "_________________________________________________________________\n",
            "dense_499 (Dense)            (None, 300)               235500    \n",
            "_________________________________________________________________\n",
            "batch_normalization_1 (Batch (None, 300)               1200      \n",
            "_________________________________________________________________\n",
            "dense_500 (Dense)            (None, 100)               30100     \n",
            "_________________________________________________________________\n",
            "batch_normalization_2 (Batch (None, 100)               400       \n",
            "_________________________________________________________________\n",
            "dense_501 (Dense)            (None, 10)                1010      \n",
            "=================================================================\n",
            "Total params: 271,346\n",
            "Trainable params: 268,978\n",
            "Non-trainable params: 2,368\n",
            "_________________________________________________________________\n"
          ],
          "name": "stdout"
        }
      ]
    },
    {
      "cell_type": "code",
      "metadata": {
        "id": "Q-6en3bmkyyz"
      },
      "source": [
        ""
      ],
      "execution_count": null,
      "outputs": []
    }
  ]
}