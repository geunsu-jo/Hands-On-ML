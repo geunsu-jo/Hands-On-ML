{
  "nbformat": 4,
  "nbformat_minor": 0,
  "metadata": {
    "colab": {
      "name": "04_training_linear_model.ipynb",
      "provenance": [],
      "collapsed_sections": [],
      "authorship_tag": "ABX9TyO6igNGqepkVX8BDJOkanJ8",
      "include_colab_link": true
    },
    "kernelspec": {
      "name": "python3",
      "display_name": "Python 3"
    }
  },
  "cells": [
    {
      "cell_type": "markdown",
      "metadata": {
        "id": "view-in-github",
        "colab_type": "text"
      },
      "source": [
        "<a href=\"https://colab.research.google.com/github/geunsu-jo/Hands-On-ML/blob/main/textbook_practice/04_training_linear_model.ipynb\" target=\"_parent\"><img src=\"https://colab.research.google.com/assets/colab-badge.svg\" alt=\"Open In Colab\"/></a>"
      ]
    },
    {
      "cell_type": "markdown",
      "metadata": {
        "id": "NUs8yRzOfgrB"
      },
      "source": [
        "# 선형 모델 훈련"
      ]
    },
    {
      "cell_type": "markdown",
      "metadata": {
        "id": "p3AGp1-jgH2x"
      },
      "source": [
        "선형 회귀 모델을 훈련하는 방법에는 크게 2가지가 있다.\r\n",
        "- 직접 계산할 수 있는 공식을 사용해 훈련세트에 가장 잘맞는 모델을 __해석적__으로 구한다.\r\n",
        "- __경사하강법(GD)__으로 모델 파라미터를 수정하여 훈련세트의 비용함수를 최소하하여 구한다."
      ]
    },
    {
      "cell_type": "markdown",
      "metadata": {
        "id": "hfOnX7k8ggbm"
      },
      "source": [
        "## 선형 회귀"
      ]
    },
    {
      "cell_type": "markdown",
      "metadata": {
        "id": "0hDPKQXhg6AA"
      },
      "source": [
        "앞 장에서, RMSE(Root MSE)를 최소하하는 $\\theta$를 찾았지만, MSE를 최소화 하는 $\\theta$를 찾는 방법과 같다. <br>\r\n",
        "실제로 비용함수(Cost function)로 MSE를 사용해야 미분 특성상 계산이 단순하고, 규제(Regularization)적용이 가능하다.\r\n"
      ]
    },
    {
      "cell_type": "markdown",
      "metadata": {
        "id": "Qs41uMS_g85e"
      },
      "source": [
        "### 정규 방정식"
      ]
    },
    {
      "cell_type": "markdown",
      "metadata": {
        "id": "dqVIOWJjhwCY"
      },
      "source": [
        "normal equation이라고 불리고, 식은 다음과 같다. <br>\r\n",
        "<center> $\\hat{\\theta} = (X^{t}X)^{-1}X^{t}y$ </center> "
      ]
    },
    {
      "cell_type": "markdown",
      "metadata": {
        "id": "-F0FDiTRitIM"
      },
      "source": [
        "데이터를 무작위로 추출하여 정규방정식으로 계산 결과를 살펴보자"
      ]
    },
    {
      "cell_type": "code",
      "metadata": {
        "id": "RyoLtUnlh5ip"
      },
      "source": [
        "# 데이터 생성\r\n",
        "import numpy as np\r\n",
        "X = 2* np.random.rand(100, 1) # 임의의 x를 추출하여\r\n",
        "y = 4 + 3 * X + np.random.randn(100, 1) # noise 추가"
      ],
      "execution_count": 22,
      "outputs": []
    },
    {
      "cell_type": "code",
      "metadata": {
        "colab": {
          "base_uri": "https://localhost:8080/"
        },
        "id": "ffpdw2EpibT1",
        "outputId": "803f8972-c670-40eb-910b-505dd67a1c65"
      },
      "source": [
        "# summing vector 추가\r\n",
        "X_b = np.c_[np.ones((100, 1)), X]\r\n",
        "# theta 계산\r\n",
        "theta_best = np.linalg.inv(X_b.T.dot(X_b)).dot(X_b.T).dot(y)\r\n",
        "theta_best"
      ],
      "execution_count": 23,
      "outputs": [
        {
          "output_type": "execute_result",
          "data": {
            "text/plain": [
              "array([[4.10384137],\n",
              "       [2.82572272]])"
            ]
          },
          "metadata": {
            "tags": []
          },
          "execution_count": 23
        }
      ]
    },
    {
      "cell_type": "markdown",
      "metadata": {
        "id": "z2KjuAv-jwI7"
      },
      "source": [
        "임의의 새로운 데이터 $x_{0}=(0,2)^{t}$에 대한 $\\hat{y}_{0}$ 계산"
      ]
    },
    {
      "cell_type": "code",
      "metadata": {
        "colab": {
          "base_uri": "https://localhost:8080/"
        },
        "id": "XkW_kIsWjWJX",
        "outputId": "ccef7279-5169-46da-db4e-1d12036bee28"
      },
      "source": [
        "X_new = np.array([[0], [2]])\r\n",
        "X_new_b = np.c_[np.ones((2, 1)), X_new]\r\n",
        "y_predict = X_new_b.dot(theta_best)\r\n",
        "y_predict"
      ],
      "execution_count": 24,
      "outputs": [
        {
          "output_type": "execute_result",
          "data": {
            "text/plain": [
              "array([[4.10384137],\n",
              "       [9.75528681]])"
            ]
          },
          "metadata": {
            "tags": []
          },
          "execution_count": 24
        }
      ]
    },
    {
      "cell_type": "code",
      "metadata": {
        "colab": {
          "base_uri": "https://localhost:8080/",
          "height": 265
        },
        "id": "XyUoIZD3jjIF",
        "outputId": "cac00945-d567-4748-f748-2c899f83934c"
      },
      "source": [
        "import matplotlib.pyplot as plt\r\n",
        "\r\n",
        "plt.plot(X_new, y_predict, \"r-\")\r\n",
        "plt.plot(X, y, \"b.\")\r\n",
        "plt.axis([0, 2, 0, 15])\r\n",
        "plt.show()"
      ],
      "execution_count": 25,
      "outputs": [
        {
          "output_type": "display_data",
          "data": {
            "image/png": "[encoded data removed]",
            "text/plain": [
              "<Figure size 432x288 with 1 Axes>"
            ]
          },
          "metadata": {
            "tags": [],
            "needs_background": "light"
          }
        }
      ]
    },
    {
      "cell_type": "markdown",
      "metadata": {
        "id": "TwXzgxHHjkO9"
      },
      "source": [
        "사이킷런에서 선형 회귀"
      ]
    },
    {
      "cell_type": "code",
      "metadata": {
        "colab": {
          "base_uri": "https://localhost:8080/"
        },
        "id": "kx4thDkqlIYY",
        "outputId": "5a8e03be-219e-4085-b8a9-cb1e402dff4e"
      },
      "source": [
        "from sklearn.linear_model import LinearRegression\r\n",
        "lin_reg = LinearRegression()\r\n",
        "lin_reg.fit(X, y)"
      ],
      "execution_count": 26,
      "outputs": [
        {
          "output_type": "execute_result",
          "data": {
            "text/plain": [
              "LinearRegression(copy_X=True, fit_intercept=True, n_jobs=None, normalize=False)"
            ]
          },
          "metadata": {
            "tags": []
          },
          "execution_count": 26
        }
      ]
    },
    {
      "cell_type": "code",
      "metadata": {
        "colab": {
          "base_uri": "https://localhost:8080/"
        },
        "id": "w3mPfpznlShZ",
        "outputId": "c6287ba1-14ec-4d31-9eae-15256560086a"
      },
      "source": [
        "lin_reg.intercept_, lin_reg.coef_, lin_reg.predict(X_new)"
      ],
      "execution_count": 29,
      "outputs": [
        {
          "output_type": "execute_result",
          "data": {
            "text/plain": [
              "(array([4.10384137]), array([[2.82572272]]), array([[4.10384137],\n",
              "        [9.75528681]]))"
            ]
          },
          "metadata": {
            "tags": []
          },
          "execution_count": 29
        }
      ]
    },
    {
      "cell_type": "markdown",
      "metadata": {
        "id": "sN7Ft3SrleQX"
      },
      "source": [
        "- 사이킷런을 사용한 결과와 완전히 동일"
      ]
    },
    {
      "cell_type": "markdown",
      "metadata": {
        "id": "tjo9tmCbluts"
      },
      "source": [
        "특성(feature)의 수가 샘플의 수보다 많아 $(X^{t}X)^{-1}$를 구할 수 없는 경우, __일반화 역행렬(Generalized inverse)__을 이용한다. <br>\r\n",
        "특히, "
      ]
    },
    {
      "cell_type": "code",
      "metadata": {
        "id": "_Xbbe_oSmy3X"
      },
      "source": [
        ""
      ],
      "execution_count": null,
      "outputs": []
    }
  ]
}