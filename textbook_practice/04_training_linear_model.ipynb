{
  "nbformat": 4,
  "nbformat_minor": 0,
  "metadata": {
    "colab": {
      "name": "04_training_linear_model.ipynb",
      "provenance": [],
      "collapsed_sections": [],
      "toc_visible": true,
      "authorship_tag": "ABX9TyMaHyA7fAZYvfHH4qnfOCZ1",
      "include_colab_link": true
    },
    "kernelspec": {
      "name": "python3",
      "display_name": "Python 3"
    }
  },
  "cells": [
    {
      "cell_type": "markdown",
      "metadata": {
        "id": "view-in-github",
        "colab_type": "text"
      },
      "source": [
        "<a href=\"https://colab.research.google.com/github/geunsu-jo/Hands-On-ML/blob/main/textbook_practice/04_training_linear_model.ipynb\" target=\"_parent\"><img src=\"https://colab.research.google.com/assets/colab-badge.svg\" alt=\"Open In Colab\"/></a>"
      ]
    },
    {
      "cell_type": "markdown",
      "metadata": {
        "id": "NUs8yRzOfgrB"
      },
      "source": [
        "# 선형 모델 훈련"
      ]
    },
    {
      "cell_type": "markdown",
      "metadata": {
        "id": "p3AGp1-jgH2x"
      },
      "source": [
        "선형 회귀 모델을 훈련하는 방법에는 크게 2가지가 있다.\r\n",
        "- 직접 계산할 수 있는 공식을 사용해 훈련세트에 가장 잘맞는 모델을 __해석적__으로 구한다.\r\n",
        "- __경사하강법(GD)__으로 모델 파라미터를 수정하여 훈련세트의 비용함수를 최소하하여 구한다."
      ]
    },
    {
      "cell_type": "markdown",
      "metadata": {
        "id": "hfOnX7k8ggbm"
      },
      "source": [
        "## 선형 회귀"
      ]
    },
    {
      "cell_type": "markdown",
      "metadata": {
        "id": "0hDPKQXhg6AA"
      },
      "source": [
        "앞 장에서, RMSE(Root MSE)를 최소하하는 $\\theta$를 찾았지만, MSE를 최소화 하는 $\\theta$를 찾는 방법과 같다. <br>\r\n",
        "실제로 비용함수(Cost function)로 MSE를 사용해야 미분 특성상 계산이 단순하고, 규제(Regularization)적용이 가능하다.\r\n"
      ]
    },
    {
      "cell_type": "markdown",
      "metadata": {
        "id": "Qs41uMS_g85e"
      },
      "source": [
        "### 정규 방정식"
      ]
    },
    {
      "cell_type": "markdown",
      "metadata": {
        "id": "dqVIOWJjhwCY"
      },
      "source": [
        "normal equation이라고 불리고, 식은 다음과 같다. <br>\r\n",
        "$\\hat{\\theta} = (X^{t}X)^{-1}X^{t}y$ "
      ]
    },
    {
      "cell_type": "markdown",
      "metadata": {
        "id": "-F0FDiTRitIM"
      },
      "source": [
        "데이터를 무작위로 추출하여 정규방정식으로 계산 결과를 살펴보자"
      ]
    },
    {
      "cell_type": "code",
      "metadata": {
        "id": "RyoLtUnlh5ip"
      },
      "source": [
        "# 데이터 생성\r\n",
        "import numpy as np\r\n",
        "X = 2* np.random.rand(100, 1) # 임의의 x를 추출하여\r\n",
        "y = 4 + 3 * X + np.random.randn(100, 1) # noise 추가"
      ],
      "execution_count": null,
      "outputs": []
    },
    {
      "cell_type": "code",
      "metadata": {
        "colab": {
          "base_uri": "https://localhost:8080/"
        },
        "id": "ffpdw2EpibT1",
        "outputId": "4a4df63f-b032-46b0-e97d-1930d6690b97"
      },
      "source": [
        "# summing vector 추가\r\n",
        "X_b = np.c_[np.ones((100, 1)), X]\r\n",
        "# theta 계산\r\n",
        "theta_best = np.linalg.inv(X_b.T.dot(X_b)).dot(X_b.T).dot(y)\r\n",
        "theta_best"
      ],
      "execution_count": null,
      "outputs": [
        {
          "output_type": "execute_result",
          "data": {
            "text/plain": [
              "array([[4.08602319],\n",
              "       [3.03030591]])"
            ]
          },
          "metadata": {
            "tags": []
          },
          "execution_count": 3
        }
      ]
    },
    {
      "cell_type": "markdown",
      "metadata": {
        "id": "z2KjuAv-jwI7"
      },
      "source": [
        "임의의 새로운 데이터 $x_{0}=(0,2)^{t}$에 대한 $\\hat{y}_{0}$ 계산"
      ]
    },
    {
      "cell_type": "code",
      "metadata": {
        "colab": {
          "base_uri": "https://localhost:8080/"
        },
        "id": "XkW_kIsWjWJX",
        "outputId": "03ae4a8c-c389-4b71-b13a-724fe1200b61"
      },
      "source": [
        "X_new = np.array([[0], [2]])\r\n",
        "X_new_b = np.c_[np.ones((2, 1)), X_new]\r\n",
        "y_predict = X_new_b.dot(theta_best)\r\n",
        "y_predict"
      ],
      "execution_count": null,
      "outputs": [
        {
          "output_type": "execute_result",
          "data": {
            "text/plain": [
              "array([[ 4.08602319],\n",
              "       [10.14663501]])"
            ]
          },
          "metadata": {
            "tags": []
          },
          "execution_count": 4
        }
      ]
    },
    {
      "cell_type": "code",
      "metadata": {
        "colab": {
          "base_uri": "https://localhost:8080/",
          "height": 265
        },
        "id": "XyUoIZD3jjIF",
        "outputId": "5898ceca-bf41-4b51-94f8-9279a5bccf8b"
      },
      "source": [
        "import matplotlib.pyplot as plt\r\n",
        "\r\n",
        "plt.plot(X_new, y_predict, \"r-\")\r\n",
        "plt.plot(X, y, \"b.\")\r\n",
        "plt.axis([0, 2, 0, 15])\r\n",
        "plt.show()"
      ],
      "execution_count": null,
      "outputs": [
        {
          "output_type": "display_data",
          "data": {
            "image/png": "[encoded data removed]",
            "text/plain": [
              "<Figure size 432x288 with 1 Axes>"
            ]
          },
          "metadata": {
            "tags": [],
            "needs_background": "light"
          }
        }
      ]
    },
    {
      "cell_type": "markdown",
      "metadata": {
        "id": "TwXzgxHHjkO9"
      },
      "source": [
        "사이킷런에서 선형 회귀"
      ]
    },
    {
      "cell_type": "code",
      "metadata": {
        "colab": {
          "base_uri": "https://localhost:8080/"
        },
        "id": "kx4thDkqlIYY",
        "outputId": "3fbc0508-670e-4d55-f5d2-398ca33fd0d6"
      },
      "source": [
        "from sklearn.linear_model import LinearRegression\r\n",
        "lin_reg = LinearRegression()\r\n",
        "lin_reg.fit(X, y)"
      ],
      "execution_count": null,
      "outputs": [
        {
          "output_type": "execute_result",
          "data": {
            "text/plain": [
              "LinearRegression(copy_X=True, fit_intercept=True, n_jobs=None, normalize=False)"
            ]
          },
          "metadata": {
            "tags": []
          },
          "execution_count": 6
        }
      ]
    },
    {
      "cell_type": "code",
      "metadata": {
        "colab": {
          "base_uri": "https://localhost:8080/"
        },
        "id": "w3mPfpznlShZ",
        "outputId": "8a6d539f-3f84-422e-90a5-af49ca888a1a"
      },
      "source": [
        "lin_reg.intercept_, lin_reg.coef_, lin_reg.predict(X_new)"
      ],
      "execution_count": null,
      "outputs": [
        {
          "output_type": "execute_result",
          "data": {
            "text/plain": [
              "(array([4.08602319]), array([[3.03030591]]), array([[ 4.08602319],\n",
              "        [10.14663501]]))"
            ]
          },
          "metadata": {
            "tags": []
          },
          "execution_count": 7
        }
      ]
    },
    {
      "cell_type": "markdown",
      "metadata": {
        "id": "sN7Ft3SrleQX"
      },
      "source": [
        "- 사이킷런을 사용하지 않은 결과와 완전히 동일"
      ]
    },
    {
      "cell_type": "markdown",
      "metadata": {
        "id": "tjo9tmCbluts"
      },
      "source": [
        "특성(feature)의 수가 샘플보다 많거나 Linear dependent여서 $(X^{t}X)^{-1}$를 구할 수 없는 경우, __일반화 역행렬(Generalized inverse)__을 이용한다. <br>\r\n",
        "특히, 특이값 분해(Singular Value Decomposition)으로부터 나온 __Moor-Penrose Inverse__($X^{+}$)을 이용한다. <br>\r\n",
        "$\\hat{\\theta} = X^{+}y$"
      ]
    },
    {
      "cell_type": "code",
      "metadata": {
        "id": "_Xbbe_oSmy3X",
        "colab": {
          "base_uri": "https://localhost:8080/"
        },
        "outputId": "81eda6b2-5c30-4f8e-f643-51a88d390b58"
      },
      "source": [
        "theta_best_svd, residuals, rank, s = np.linalg.lstsq(X_b, y, rcond=1e-6)\r\n",
        "theta_best_svd"
      ],
      "execution_count": null,
      "outputs": [
        {
          "output_type": "execute_result",
          "data": {
            "text/plain": [
              "array([[4.08602319],\n",
              "       [3.03030591]])"
            ]
          },
          "metadata": {
            "tags": []
          },
          "execution_count": 9
        }
      ]
    },
    {
      "cell_type": "markdown",
      "metadata": {
        "id": "8NWscymzDP6u"
      },
      "source": [
        "- SVD로부터 $X=UDT^{t}$를 구한 후, D의 diagonal component가 rcond보다 작으면 0으로 바꾼 다음,  $X^{t}=TD^{+}U^{t}$를 구한다"
      ]
    },
    {
      "cell_type": "markdown",
      "metadata": {
        "id": "3GiZ_1pMEUjE"
      },
      "source": [
        "numpy의 __np.linalg.pinv()__ 함수를 사용해도 Moor-Penrose inverse를 구할 수 있다."
      ]
    },
    {
      "cell_type": "code",
      "metadata": {
        "colab": {
          "base_uri": "https://localhost:8080/"
        },
        "id": "XAKvUMhlD7kx",
        "outputId": "bca9a556-7a88-404e-de57-add3962594cf"
      },
      "source": [
        "np.linalg.pinv(X_b).dot(y)"
      ],
      "execution_count": null,
      "outputs": [
        {
          "output_type": "execute_result",
          "data": {
            "text/plain": [
              "array([[4.08602319],\n",
              "       [3.03030591]])"
            ]
          },
          "metadata": {
            "tags": []
          },
          "execution_count": 10
        }
      ]
    },
    {
      "cell_type": "markdown",
      "metadata": {
        "id": "uaamVdO1FYOT"
      },
      "source": [
        "### 계산 복잡도"
      ]
    },
    {
      "cell_type": "markdown",
      "metadata": {
        "id": "ljFr8DXeFjau"
      },
      "source": [
        "$n$을 특성(feature)의 수라 할때, $X^{t}X$의 역행렬 크기는 $(n+1)*(n+1)$이고, 정규방정식의 __계산 복잡도__(Computational complexity)는 일반적으로 $O(n^{2.4})$에서 $O(n^{3})$ 사이다. 즉, 특성의 수가 2배로 늘어나면 약 5.3~8배로 증가한다. <br>하지만 사이킷런의 __LinearRegression__ 클래스가 사용하는 SVD 방법은 계산 복잡도가 $O(n^{2})$이다. 특성의 수가 2배로 늘어나면 계산 시간은 4배가 된다. <br>\r\n",
        "$m$을 샘플의 수라 할때, 정규방정식과 SVD 모두 $O(m)$으로, 샘플이 두배가 되면 계산 시간도 선형적으로 2배가 된다."
      ]
    },
    {
      "cell_type": "markdown",
      "metadata": {
        "id": "3kF4jWlgGIcx"
      },
      "source": [
        "## 경사 하강법"
      ]
    },
    {
      "cell_type": "markdown",
      "metadata": {
        "id": "B1n745L_H-vS"
      },
      "source": [
        "해석적으로 최적의 해법을 찾을 수 없을 경우, 일반적인 최적의 해를 찾는 알고리즘이다. <br>\r\n",
        "$\\theta$을 __무작위 초기화__(random initialization)시켜 비용함수(MSE 등)을 감소하는 방향으로 $\\theta$를 업데이트 시킨다. <br>\r\n",
        "__학습률__(learning rate)은 하이퍼파라미터로 적절이 튜닝되야한다."
      ]
    },
    {
      "cell_type": "markdown",
      "metadata": {
        "id": "u0poRC9SI_l1"
      },
      "source": [
        "![image.png](data:image/png;base64,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)"
      ]
    },
    {
      "cell_type": "code",
      "metadata": {
        "id": "D6g6LBaCKmGs"
      },
      "source": [
        ""
      ],
      "execution_count": null,
      "outputs": []
    }
  ]
}